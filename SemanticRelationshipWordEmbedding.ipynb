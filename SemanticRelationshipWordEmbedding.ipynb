{
  "nbformat": 4,
  "nbformat_minor": 0,
  "metadata": {
    "colab": {
      "provenance": []
    },
    "kernelspec": {
      "name": "python3",
      "display_name": "Python 3"
    },
    "language_info": {
      "name": "python"
    }
  },
  "cells": [
    {
      "cell_type": "code",
      "execution_count": 11,
      "metadata": {
        "id": "tOsg7mnke-SG"
      },
      "outputs": [],
      "source": [
        "# From Chapter 10 in Blueprints, Text Analytics\n",
        "# Jens Albrecht, Sidharth Ramachandran, Christian Winkler\n",
        "# Ml NLP analytics\n",
        "# \n",
        "# This a modified version of the code in the chapter (chapter 10). \n",
        "# This version, modified:\n",
        "# Nov 20, 2022.\n",
        "# Sila. "
      ]
    },
    {
      "cell_type": "code",
      "source": [
        "# pandas number format\n",
        "import pandas as pd\n",
        "pd.options.display.float_format = '{:.0f}'.format"
      ],
      "metadata": {
        "id": "irI_QzHtf6ON"
      },
      "execution_count": 3,
      "outputs": []
    },
    {
      "cell_type": "code",
      "source": [
        "# pandas number format\n",
        "pd.options.display.float_format = '{:.0f}'.format"
      ],
      "metadata": {
        "id": "IEECYVwEgN5T"
      },
      "execution_count": 4,
      "outputs": []
    },
    {
      "cell_type": "code",
      "source": [
        "import gensim.downloader as api\n",
        "\n",
        "info_df = pd.DataFrame.from_dict(api.info()['models'], orient='index')\n",
        "info_df[['file_size', 'base_dataset', 'parameters']].head(5)"
      ],
      "metadata": {
        "colab": {
          "base_uri": "https://localhost:8080/",
          "height": 250
        },
        "id": "yD1QAq8agX3m",
        "outputId": "05987607-7754-4b8d-d180-804933382aa1"
      },
      "execution_count": 5,
      "outputs": [
        {
          "output_type": "execute_result",
          "data": {
            "text/plain": [
              "                                  file_size  \\\n",
              "fasttext-wiki-news-subwords-300  1005007116   \n",
              "conceptnet-numberbatch-17-06-300 1225497562   \n",
              "word2vec-ruscorpora-300           208427381   \n",
              "word2vec-google-news-300         1743563840   \n",
              "glove-wiki-gigaword-50             69182535   \n",
              "\n",
              "                                                                       base_dataset  \\\n",
              "fasttext-wiki-news-subwords-300   Wikipedia 2017, UMBC webbase corpus and statmt...   \n",
              "conceptnet-numberbatch-17-06-300  ConceptNet, word2vec, GloVe, and OpenSubtitles...   \n",
              "word2vec-ruscorpora-300                  Russian National Corpus (about 250M words)   \n",
              "word2vec-google-news-300                      Google News (about 100 billion words)   \n",
              "glove-wiki-gigaword-50             Wikipedia 2014 + Gigaword 5 (6B tokens, uncased)   \n",
              "\n",
              "                                                             parameters  \n",
              "fasttext-wiki-news-subwords-300                      {'dimension': 300}  \n",
              "conceptnet-numberbatch-17-06-300                     {'dimension': 300}  \n",
              "word2vec-ruscorpora-300           {'dimension': 300, 'window_size': 10}  \n",
              "word2vec-google-news-300                             {'dimension': 300}  \n",
              "glove-wiki-gigaword-50                                {'dimension': 50}  "
            ],
            "text/html": [
              "\n",
              "  <div id=\"df-28c734ff-f07e-45d1-b658-ff2dd2331fc5\">\n",
              "    <div class=\"colab-df-container\">\n",
              "      <div>\n",
              "<style scoped>\n",
              "    .dataframe tbody tr th:only-of-type {\n",
              "        vertical-align: middle;\n",
              "    }\n",
              "\n",
              "    .dataframe tbody tr th {\n",
              "        vertical-align: top;\n",
              "    }\n",
              "\n",
              "    .dataframe thead th {\n",
              "        text-align: right;\n",
              "    }\n",
              "</style>\n",
              "<table border=\"1\" class=\"dataframe\">\n",
              "  <thead>\n",
              "    <tr style=\"text-align: right;\">\n",
              "      <th></th>\n",
              "      <th>file_size</th>\n",
              "      <th>base_dataset</th>\n",
              "      <th>parameters</th>\n",
              "    </tr>\n",
              "  </thead>\n",
              "  <tbody>\n",
              "    <tr>\n",
              "      <th>fasttext-wiki-news-subwords-300</th>\n",
              "      <td>1005007116</td>\n",
              "      <td>Wikipedia 2017, UMBC webbase corpus and statmt...</td>\n",
              "      <td>{'dimension': 300}</td>\n",
              "    </tr>\n",
              "    <tr>\n",
              "      <th>conceptnet-numberbatch-17-06-300</th>\n",
              "      <td>1225497562</td>\n",
              "      <td>ConceptNet, word2vec, GloVe, and OpenSubtitles...</td>\n",
              "      <td>{'dimension': 300}</td>\n",
              "    </tr>\n",
              "    <tr>\n",
              "      <th>word2vec-ruscorpora-300</th>\n",
              "      <td>208427381</td>\n",
              "      <td>Russian National Corpus (about 250M words)</td>\n",
              "      <td>{'dimension': 300, 'window_size': 10}</td>\n",
              "    </tr>\n",
              "    <tr>\n",
              "      <th>word2vec-google-news-300</th>\n",
              "      <td>1743563840</td>\n",
              "      <td>Google News (about 100 billion words)</td>\n",
              "      <td>{'dimension': 300}</td>\n",
              "    </tr>\n",
              "    <tr>\n",
              "      <th>glove-wiki-gigaword-50</th>\n",
              "      <td>69182535</td>\n",
              "      <td>Wikipedia 2014 + Gigaword 5 (6B tokens, uncased)</td>\n",
              "      <td>{'dimension': 50}</td>\n",
              "    </tr>\n",
              "  </tbody>\n",
              "</table>\n",
              "</div>\n",
              "      <button class=\"colab-df-convert\" onclick=\"convertToInteractive('df-28c734ff-f07e-45d1-b658-ff2dd2331fc5')\"\n",
              "              title=\"Convert this dataframe to an interactive table.\"\n",
              "              style=\"display:none;\">\n",
              "        \n",
              "  <svg xmlns=\"http://www.w3.org/2000/svg\" height=\"24px\"viewBox=\"0 0 24 24\"\n",
              "       width=\"24px\">\n",
              "    <path d=\"M0 0h24v24H0V0z\" fill=\"none\"/>\n",
              "    <path d=\"M18.56 5.44l.94 2.06.94-2.06 2.06-.94-2.06-.94-.94-2.06-.94 2.06-2.06.94zm-11 1L8.5 8.5l.94-2.06 2.06-.94-2.06-.94L8.5 2.5l-.94 2.06-2.06.94zm10 10l.94 2.06.94-2.06 2.06-.94-2.06-.94-.94-2.06-.94 2.06-2.06.94z\"/><path d=\"M17.41 7.96l-1.37-1.37c-.4-.4-.92-.59-1.43-.59-.52 0-1.04.2-1.43.59L10.3 9.45l-7.72 7.72c-.78.78-.78 2.05 0 2.83L4 21.41c.39.39.9.59 1.41.59.51 0 1.02-.2 1.41-.59l7.78-7.78 2.81-2.81c.8-.78.8-2.07 0-2.86zM5.41 20L4 18.59l7.72-7.72 1.47 1.35L5.41 20z\"/>\n",
              "  </svg>\n",
              "      </button>\n",
              "      \n",
              "  <style>\n",
              "    .colab-df-container {\n",
              "      display:flex;\n",
              "      flex-wrap:wrap;\n",
              "      gap: 12px;\n",
              "    }\n",
              "\n",
              "    .colab-df-convert {\n",
              "      background-color: #E8F0FE;\n",
              "      border: none;\n",
              "      border-radius: 50%;\n",
              "      cursor: pointer;\n",
              "      display: none;\n",
              "      fill: #1967D2;\n",
              "      height: 32px;\n",
              "      padding: 0 0 0 0;\n",
              "      width: 32px;\n",
              "    }\n",
              "\n",
              "    .colab-df-convert:hover {\n",
              "      background-color: #E2EBFA;\n",
              "      box-shadow: 0px 1px 2px rgba(60, 64, 67, 0.3), 0px 1px 3px 1px rgba(60, 64, 67, 0.15);\n",
              "      fill: #174EA6;\n",
              "    }\n",
              "\n",
              "    [theme=dark] .colab-df-convert {\n",
              "      background-color: #3B4455;\n",
              "      fill: #D2E3FC;\n",
              "    }\n",
              "\n",
              "    [theme=dark] .colab-df-convert:hover {\n",
              "      background-color: #434B5C;\n",
              "      box-shadow: 0px 1px 3px 1px rgba(0, 0, 0, 0.15);\n",
              "      filter: drop-shadow(0px 1px 2px rgba(0, 0, 0, 0.3));\n",
              "      fill: #FFFFFF;\n",
              "    }\n",
              "  </style>\n",
              "\n",
              "      <script>\n",
              "        const buttonEl =\n",
              "          document.querySelector('#df-28c734ff-f07e-45d1-b658-ff2dd2331fc5 button.colab-df-convert');\n",
              "        buttonEl.style.display =\n",
              "          google.colab.kernel.accessAllowed ? 'block' : 'none';\n",
              "\n",
              "        async function convertToInteractive(key) {\n",
              "          const element = document.querySelector('#df-28c734ff-f07e-45d1-b658-ff2dd2331fc5');\n",
              "          const dataTable =\n",
              "            await google.colab.kernel.invokeFunction('convertToInteractive',\n",
              "                                                     [key], {});\n",
              "          if (!dataTable) return;\n",
              "\n",
              "          const docLinkHtml = 'Like what you see? Visit the ' +\n",
              "            '<a target=\"_blank\" href=https://colab.research.google.com/notebooks/data_table.ipynb>data table notebook</a>'\n",
              "            + ' to learn more about interactive tables.';\n",
              "          element.innerHTML = '';\n",
              "          dataTable['output_type'] = 'display_data';\n",
              "          await google.colab.output.renderOutput(dataTable, element);\n",
              "          const docLink = document.createElement('div');\n",
              "          docLink.innerHTML = docLinkHtml;\n",
              "          element.appendChild(docLink);\n",
              "        }\n",
              "      </script>\n",
              "    </div>\n",
              "  </div>\n",
              "  "
            ]
          },
          "metadata": {},
          "execution_count": 5
        }
      ]
    },
    {
      "cell_type": "code",
      "source": [
        "# full list of columns\n",
        "info_df.head(3)"
      ],
      "metadata": {
        "colab": {
          "base_uri": "https://localhost:8080/",
          "height": 399
        },
        "id": "To_NPsZbgkbv",
        "outputId": "1ebce7f2-84be-4d46-9380-28a055405bf6"
      },
      "execution_count": 6,
      "outputs": [
        {
          "output_type": "execute_result",
          "data": {
            "text/plain": [
              "                                  num_records  file_size  \\\n",
              "fasttext-wiki-news-subwords-300        999999 1005007116   \n",
              "conceptnet-numberbatch-17-06-300      1917247 1225497562   \n",
              "word2vec-ruscorpora-300                184973  208427381   \n",
              "\n",
              "                                                                       base_dataset  \\\n",
              "fasttext-wiki-news-subwords-300   Wikipedia 2017, UMBC webbase corpus and statmt...   \n",
              "conceptnet-numberbatch-17-06-300  ConceptNet, word2vec, GloVe, and OpenSubtitles...   \n",
              "word2vec-ruscorpora-300                  Russian National Corpus (about 250M words)   \n",
              "\n",
              "                                                                        reader_code  \\\n",
              "fasttext-wiki-news-subwords-300   https://github.com/RaRe-Technologies/gensim-da...   \n",
              "conceptnet-numberbatch-17-06-300  https://github.com/RaRe-Technologies/gensim-da...   \n",
              "word2vec-ruscorpora-300           https://github.com/RaRe-Technologies/gensim-da...   \n",
              "\n",
              "                                                                            license  \\\n",
              "fasttext-wiki-news-subwords-300     https://creativecommons.org/licenses/by-sa/3.0/   \n",
              "conceptnet-numberbatch-17-06-300  https://github.com/commonsense/conceptnet-numb...   \n",
              "word2vec-ruscorpora-300           https://creativecommons.org/licenses/by/4.0/de...   \n",
              "\n",
              "                                                             parameters  \\\n",
              "fasttext-wiki-news-subwords-300                      {'dimension': 300}   \n",
              "conceptnet-numberbatch-17-06-300                     {'dimension': 300}   \n",
              "word2vec-ruscorpora-300           {'dimension': 300, 'window_size': 10}   \n",
              "\n",
              "                                                                        description  \\\n",
              "fasttext-wiki-news-subwords-300   1 million word vectors trained on Wikipedia 20...   \n",
              "conceptnet-numberbatch-17-06-300  ConceptNet Numberbatch consists of state-of-th...   \n",
              "word2vec-ruscorpora-300           Word2vec Continuous Skipgram vectors trained o...   \n",
              "\n",
              "                                                                          read_more  \\\n",
              "fasttext-wiki-news-subwords-300   [https://fasttext.cc/docs/en/english-vectors.h...   \n",
              "conceptnet-numberbatch-17-06-300  [http://aaai.org/ocs/index.php/AAAI/AAAI17/pap...   \n",
              "word2vec-ruscorpora-300           [https://www.academia.edu/24306935/WebVectors_...   \n",
              "\n",
              "                                                          checksum  \\\n",
              "fasttext-wiki-news-subwords-300   de2bb3a20c46ce65c9c131e1ad9a77af   \n",
              "conceptnet-numberbatch-17-06-300  fd642d457adcd0ea94da0cd21b150847   \n",
              "word2vec-ruscorpora-300           9bdebdc8ae6d17d20839dd9b5af10bc4   \n",
              "\n",
              "                                                            file_name  parts  \\\n",
              "fasttext-wiki-news-subwords-300    fasttext-wiki-news-subwords-300.gz      1   \n",
              "conceptnet-numberbatch-17-06-300  conceptnet-numberbatch-17-06-300.gz      1   \n",
              "word2vec-ruscorpora-300                    word2vec-ruscorpora-300.gz      1   \n",
              "\n",
              "                                                                      preprocessing  \n",
              "fasttext-wiki-news-subwords-300                                                 NaN  \n",
              "conceptnet-numberbatch-17-06-300                                                NaN  \n",
              "word2vec-ruscorpora-300           The corpus was lemmatized and tagged with Univ...  "
            ],
            "text/html": [
              "\n",
              "  <div id=\"df-ad1ef525-82cc-41fe-be57-40be0588cd49\">\n",
              "    <div class=\"colab-df-container\">\n",
              "      <div>\n",
              "<style scoped>\n",
              "    .dataframe tbody tr th:only-of-type {\n",
              "        vertical-align: middle;\n",
              "    }\n",
              "\n",
              "    .dataframe tbody tr th {\n",
              "        vertical-align: top;\n",
              "    }\n",
              "\n",
              "    .dataframe thead th {\n",
              "        text-align: right;\n",
              "    }\n",
              "</style>\n",
              "<table border=\"1\" class=\"dataframe\">\n",
              "  <thead>\n",
              "    <tr style=\"text-align: right;\">\n",
              "      <th></th>\n",
              "      <th>num_records</th>\n",
              "      <th>file_size</th>\n",
              "      <th>base_dataset</th>\n",
              "      <th>reader_code</th>\n",
              "      <th>license</th>\n",
              "      <th>parameters</th>\n",
              "      <th>description</th>\n",
              "      <th>read_more</th>\n",
              "      <th>checksum</th>\n",
              "      <th>file_name</th>\n",
              "      <th>parts</th>\n",
              "      <th>preprocessing</th>\n",
              "    </tr>\n",
              "  </thead>\n",
              "  <tbody>\n",
              "    <tr>\n",
              "      <th>fasttext-wiki-news-subwords-300</th>\n",
              "      <td>999999</td>\n",
              "      <td>1005007116</td>\n",
              "      <td>Wikipedia 2017, UMBC webbase corpus and statmt...</td>\n",
              "      <td>https://github.com/RaRe-Technologies/gensim-da...</td>\n",
              "      <td>https://creativecommons.org/licenses/by-sa/3.0/</td>\n",
              "      <td>{'dimension': 300}</td>\n",
              "      <td>1 million word vectors trained on Wikipedia 20...</td>\n",
              "      <td>[https://fasttext.cc/docs/en/english-vectors.h...</td>\n",
              "      <td>de2bb3a20c46ce65c9c131e1ad9a77af</td>\n",
              "      <td>fasttext-wiki-news-subwords-300.gz</td>\n",
              "      <td>1</td>\n",
              "      <td>NaN</td>\n",
              "    </tr>\n",
              "    <tr>\n",
              "      <th>conceptnet-numberbatch-17-06-300</th>\n",
              "      <td>1917247</td>\n",
              "      <td>1225497562</td>\n",
              "      <td>ConceptNet, word2vec, GloVe, and OpenSubtitles...</td>\n",
              "      <td>https://github.com/RaRe-Technologies/gensim-da...</td>\n",
              "      <td>https://github.com/commonsense/conceptnet-numb...</td>\n",
              "      <td>{'dimension': 300}</td>\n",
              "      <td>ConceptNet Numberbatch consists of state-of-th...</td>\n",
              "      <td>[http://aaai.org/ocs/index.php/AAAI/AAAI17/pap...</td>\n",
              "      <td>fd642d457adcd0ea94da0cd21b150847</td>\n",
              "      <td>conceptnet-numberbatch-17-06-300.gz</td>\n",
              "      <td>1</td>\n",
              "      <td>NaN</td>\n",
              "    </tr>\n",
              "    <tr>\n",
              "      <th>word2vec-ruscorpora-300</th>\n",
              "      <td>184973</td>\n",
              "      <td>208427381</td>\n",
              "      <td>Russian National Corpus (about 250M words)</td>\n",
              "      <td>https://github.com/RaRe-Technologies/gensim-da...</td>\n",
              "      <td>https://creativecommons.org/licenses/by/4.0/de...</td>\n",
              "      <td>{'dimension': 300, 'window_size': 10}</td>\n",
              "      <td>Word2vec Continuous Skipgram vectors trained o...</td>\n",
              "      <td>[https://www.academia.edu/24306935/WebVectors_...</td>\n",
              "      <td>9bdebdc8ae6d17d20839dd9b5af10bc4</td>\n",
              "      <td>word2vec-ruscorpora-300.gz</td>\n",
              "      <td>1</td>\n",
              "      <td>The corpus was lemmatized and tagged with Univ...</td>\n",
              "    </tr>\n",
              "  </tbody>\n",
              "</table>\n",
              "</div>\n",
              "      <button class=\"colab-df-convert\" onclick=\"convertToInteractive('df-ad1ef525-82cc-41fe-be57-40be0588cd49')\"\n",
              "              title=\"Convert this dataframe to an interactive table.\"\n",
              "              style=\"display:none;\">\n",
              "        \n",
              "  <svg xmlns=\"http://www.w3.org/2000/svg\" height=\"24px\"viewBox=\"0 0 24 24\"\n",
              "       width=\"24px\">\n",
              "    <path d=\"M0 0h24v24H0V0z\" fill=\"none\"/>\n",
              "    <path d=\"M18.56 5.44l.94 2.06.94-2.06 2.06-.94-2.06-.94-.94-2.06-.94 2.06-2.06.94zm-11 1L8.5 8.5l.94-2.06 2.06-.94-2.06-.94L8.5 2.5l-.94 2.06-2.06.94zm10 10l.94 2.06.94-2.06 2.06-.94-2.06-.94-.94-2.06-.94 2.06-2.06.94z\"/><path d=\"M17.41 7.96l-1.37-1.37c-.4-.4-.92-.59-1.43-.59-.52 0-1.04.2-1.43.59L10.3 9.45l-7.72 7.72c-.78.78-.78 2.05 0 2.83L4 21.41c.39.39.9.59 1.41.59.51 0 1.02-.2 1.41-.59l7.78-7.78 2.81-2.81c.8-.78.8-2.07 0-2.86zM5.41 20L4 18.59l7.72-7.72 1.47 1.35L5.41 20z\"/>\n",
              "  </svg>\n",
              "      </button>\n",
              "      \n",
              "  <style>\n",
              "    .colab-df-container {\n",
              "      display:flex;\n",
              "      flex-wrap:wrap;\n",
              "      gap: 12px;\n",
              "    }\n",
              "\n",
              "    .colab-df-convert {\n",
              "      background-color: #E8F0FE;\n",
              "      border: none;\n",
              "      border-radius: 50%;\n",
              "      cursor: pointer;\n",
              "      display: none;\n",
              "      fill: #1967D2;\n",
              "      height: 32px;\n",
              "      padding: 0 0 0 0;\n",
              "      width: 32px;\n",
              "    }\n",
              "\n",
              "    .colab-df-convert:hover {\n",
              "      background-color: #E2EBFA;\n",
              "      box-shadow: 0px 1px 2px rgba(60, 64, 67, 0.3), 0px 1px 3px 1px rgba(60, 64, 67, 0.15);\n",
              "      fill: #174EA6;\n",
              "    }\n",
              "\n",
              "    [theme=dark] .colab-df-convert {\n",
              "      background-color: #3B4455;\n",
              "      fill: #D2E3FC;\n",
              "    }\n",
              "\n",
              "    [theme=dark] .colab-df-convert:hover {\n",
              "      background-color: #434B5C;\n",
              "      box-shadow: 0px 1px 3px 1px rgba(0, 0, 0, 0.15);\n",
              "      filter: drop-shadow(0px 1px 2px rgba(0, 0, 0, 0.3));\n",
              "      fill: #FFFFFF;\n",
              "    }\n",
              "  </style>\n",
              "\n",
              "      <script>\n",
              "        const buttonEl =\n",
              "          document.querySelector('#df-ad1ef525-82cc-41fe-be57-40be0588cd49 button.colab-df-convert');\n",
              "        buttonEl.style.display =\n",
              "          google.colab.kernel.accessAllowed ? 'block' : 'none';\n",
              "\n",
              "        async function convertToInteractive(key) {\n",
              "          const element = document.querySelector('#df-ad1ef525-82cc-41fe-be57-40be0588cd49');\n",
              "          const dataTable =\n",
              "            await google.colab.kernel.invokeFunction('convertToInteractive',\n",
              "                                                     [key], {});\n",
              "          if (!dataTable) return;\n",
              "\n",
              "          const docLinkHtml = 'Like what you see? Visit the ' +\n",
              "            '<a target=\"_blank\" href=https://colab.research.google.com/notebooks/data_table.ipynb>data table notebook</a>'\n",
              "            + ' to learn more about interactive tables.';\n",
              "          element.innerHTML = '';\n",
              "          dataTable['output_type'] = 'display_data';\n",
              "          await google.colab.output.renderOutput(dataTable, element);\n",
              "          const docLink = document.createElement('div');\n",
              "          docLink.innerHTML = docLinkHtml;\n",
              "          element.appendChild(docLink);\n",
              "        }\n",
              "      </script>\n",
              "    </div>\n",
              "  </div>\n",
              "  "
            ]
          },
          "metadata": {},
          "execution_count": 6
        }
      ]
    },
    {
      "cell_type": "code",
      "source": [
        "pd.options.display.float_format = '{:.2f}'.format"
      ],
      "metadata": {
        "id": "q-RWMB95gqB1"
      },
      "execution_count": 7,
      "outputs": []
    },
    {
      "cell_type": "code",
      "source": [
        "model = api.load(\"glove-wiki-gigaword-50\")"
      ],
      "metadata": {
        "colab": {
          "base_uri": "https://localhost:8080/"
        },
        "id": "JLEppO-Rgujs",
        "outputId": "97dda121-b989-4676-9075-6b36a73e4773"
      },
      "execution_count": 8,
      "outputs": [
        {
          "output_type": "stream",
          "name": "stdout",
          "text": [
            "[==================================================] 100.0% 66.0/66.0MB downloaded\n"
          ]
        }
      ]
    },
    {
      "cell_type": "code",
      "source": [
        "# See e.g.\n",
        "# https://resources.wolframcloud.com/NeuralNetRepository/resources/GloVe-300-Dimensional-Word-Vectors-Trained-on-Wikipedia-and-Gigaword-5-Data"
      ],
      "metadata": {
        "id": "NZKUNvKChbMf"
      },
      "execution_count": 9,
      "outputs": []
    },
    {
      "cell_type": "code",
      "source": [
        "# Represent words as vectors\n",
        "# Released in 2014 by the computer science department at Stanford University, this representation is trained using an original method called Global Vectors (GloVe). It encodes 400,000 tokens as unique vectors, \n",
        "# with all tokens outside the vocabulary encoded as the zero-vector. Token case is ignored."
      ],
      "metadata": {
        "id": "70m_GuXshhrA"
      },
      "execution_count": 10,
      "outputs": []
    },
    {
      "cell_type": "code",
      "source": [
        "%precision 2"
      ],
      "metadata": {
        "colab": {
          "base_uri": "https://localhost:8080/",
          "height": 35
        },
        "id": "RW9kCc4Ih_MH",
        "outputId": "ec741924-ed94-495c-9f69-53eae9a4b118"
      },
      "execution_count": 12,
      "outputs": [
        {
          "output_type": "execute_result",
          "data": {
            "text/plain": [
              "'%.2f'"
            ],
            "application/vnd.google.colaboratory.intrinsic+json": {
              "type": "string"
            }
          },
          "metadata": {},
          "execution_count": 12
        }
      ]
    },
    {
      "cell_type": "code",
      "source": [
        "model.most_similar('king', topn=3)"
      ],
      "metadata": {
        "colab": {
          "base_uri": "https://localhost:8080/"
        },
        "id": "L64DM9N_iDyS",
        "outputId": "068e109a-73e5-46ab-a86b-b552c810270f"
      },
      "execution_count": 13,
      "outputs": [
        {
          "output_type": "execute_result",
          "data": {
            "text/plain": [
              "[('prince', 0.82), ('queen', 0.78), ('ii', 0.77)]"
            ]
          },
          "metadata": {},
          "execution_count": 13
        }
      ]
    },
    {
      "cell_type": "code",
      "source": [
        "v_king = model['king']\n",
        "v_queen = model['queen']\n",
        "\n",
        "print(\"Vector size:\", model.vector_size)\n",
        "print(\"v_king  =\", v_king[:10])\n",
        "print(\"v_queen =\", v_queen[:10])\n",
        "print(\"similarity:\", model.similarity('king', 'queen'))"
      ],
      "metadata": {
        "colab": {
          "base_uri": "https://localhost:8080/"
        },
        "id": "trjbVJxPiSFb",
        "outputId": "cfa9b429-0e7b-4f74-bcf0-0e1f4aae0029"
      },
      "execution_count": 14,
      "outputs": [
        {
          "output_type": "stream",
          "name": "stdout",
          "text": [
            "Vector size: 50\n",
            "v_king  = [ 0.5   0.69 -0.6  -0.02  0.6  -0.13 -0.09  0.47 -0.62 -0.31]\n",
            "v_queen = [ 0.38  1.82 -1.26 -0.1   0.36  0.6  -0.18  0.84 -0.06 -0.76]\n",
            "similarity: 0.7839043\n"
          ]
        }
      ]
    },
    {
      "cell_type": "code",
      "source": [
        "v_lion = model['lion']\n",
        "v_nano = model['nanotechnology']\n",
        "\n",
        "model.cosine_similarities(v_king, [v_queen, v_lion, v_nano])"
      ],
      "metadata": {
        "colab": {
          "base_uri": "https://localhost:8080/"
        },
        "id": "T0qhZvsKiJGa",
        "outputId": "47ce9313-d50f-4ecd-c61d-32ab9d6ebdf0"
      },
      "execution_count": 15,
      "outputs": [
        {
          "output_type": "execute_result",
          "data": {
            "text/plain": [
              "array([ 0.78,  0.48, -0.25], dtype=float32)"
            ]
          },
          "metadata": {},
          "execution_count": 15
        }
      ]
    },
    {
      "cell_type": "code",
      "source": [
        "model.most_similar(positive=['woman', 'king'], negative=['man'], topn=3)"
      ],
      "metadata": {
        "colab": {
          "base_uri": "https://localhost:8080/"
        },
        "id": "nqLF-GM6ibMh",
        "outputId": "d594ff59-7523-460e-e19e-19b7382af881"
      },
      "execution_count": 16,
      "outputs": [
        {
          "output_type": "execute_result",
          "data": {
            "text/plain": [
              "[('queen', 0.85), ('throne', 0.77), ('prince', 0.76)]"
            ]
          },
          "metadata": {},
          "execution_count": 16
        }
      ]
    },
    {
      "cell_type": "code",
      "source": [
        "model.most_similar(positive=['paris', 'germany'], negative=['france'], topn=3)"
      ],
      "metadata": {
        "colab": {
          "base_uri": "https://localhost:8080/"
        },
        "id": "qum2zHQbipN1",
        "outputId": "4967c8ca-6afe-4eae-b4c8-2d04e4090ad6"
      },
      "execution_count": 17,
      "outputs": [
        {
          "output_type": "execute_result",
          "data": {
            "text/plain": [
              "[('berlin', 0.92), ('frankfurt', 0.82), ('vienna', 0.82)]"
            ]
          },
          "metadata": {},
          "execution_count": 17
        }
      ]
    },
    {
      "cell_type": "code",
      "source": [
        "model.most_similar(positive=['france', 'capital'], topn=1)"
      ],
      "metadata": {
        "colab": {
          "base_uri": "https://localhost:8080/"
        },
        "id": "S6WRBqQ-jSn0",
        "outputId": "6556472a-31c0-4984-81b5-9a510a93ab7b"
      },
      "execution_count": 18,
      "outputs": [
        {
          "output_type": "execute_result",
          "data": {
            "text/plain": [
              "[('paris', 0.78)]"
            ]
          },
          "metadata": {},
          "execution_count": 18
        }
      ]
    },
    {
      "cell_type": "code",
      "source": [
        "model.most_similar(positive=['greece', 'capital'], topn=3)"
      ],
      "metadata": {
        "colab": {
          "base_uri": "https://localhost:8080/"
        },
        "id": "ff4iSAYcjX87",
        "outputId": "5505eab2-2395-4ca0-aa18-5ef0f1f606bc"
      },
      "execution_count": 19,
      "outputs": [
        {
          "output_type": "execute_result",
          "data": {
            "text/plain": [
              "[('central', 0.80), ('western', 0.76), ('region', 0.75)]"
            ]
          },
          "metadata": {},
          "execution_count": 19
        }
      ]
    }
  ]
}