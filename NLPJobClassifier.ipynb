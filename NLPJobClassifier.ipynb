{
  "cells": [
    {
      "cell_type": "code",
      "source": [
        "# NLP Job classifier - based on \"IT job classifier on Armenian data, Kaggle\" "
      ],
      "metadata": {
        "id": "3TwanjahknRd"
      },
      "execution_count": 2,
      "outputs": []
    },
    {
      "cell_type": "code",
      "source": [
        "# This version, last modified \n",
        "# Nov 21st 2022\n",
        "# Sila"
      ],
      "metadata": {
        "id": "ZxRSG-hXkpM8"
      },
      "execution_count": 4,
      "outputs": []
    },
    {
      "metadata": {
        "trusted": true,
        "id": "oLKu01nvkYvQ"
      },
      "cell_type": "code",
      "source": [
        "import numpy as np\n",
        "import pandas as pd\n",
        "\n",
        "#for charts\n",
        "import matplotlib.pyplot as plt\n",
        "%matplotlib inline\n",
        "import seaborn as sns\n",
        "from wordcloud import WordCloud      #need to install wordcloud package"
      ],
      "execution_count": 5,
      "outputs": []
    },
    {
      "metadata": {
        "trusted": true,
        "id": "HGLztWagkYvS"
      },
      "cell_type": "code",
      "source": [
        "#for text processing\n",
        "import string\n",
        "import re\n",
        "import nltk\n",
        "from textblob import TextBlob"
      ],
      "execution_count": 6,
      "outputs": []
    },
    {
      "metadata": {
        "trusted": true,
        "id": "TNiIIry_kYvU"
      },
      "cell_type": "code",
      "source": [
        "#for tokenization\n",
        "from sklearn.feature_extraction.text import CountVectorizer, TfidfVectorizer\n",
        "\n",
        "#for feature selection\n",
        "from sklearn import decomposition\n",
        "\n",
        "#for model building\n",
        "from sklearn.model_selection import train_test_split\n",
        "from sklearn import metrics\n",
        "from sklearn.metrics import classification_report"
      ],
      "execution_count": 7,
      "outputs": []
    },
    {
      "cell_type": "code",
      "source": [
        "from google.colab import files\n",
        "uploaded = files.upload()"
      ],
      "metadata": {
        "colab": {
          "base_uri": "https://localhost:8080/",
          "height": 74
        },
        "id": "aYrUIajBl4N0",
        "outputId": "c53d24eb-bb1b-404b-cd93-eb700cc3d214"
      },
      "execution_count": 9,
      "outputs": [
        {
          "output_type": "display_data",
          "data": {
            "text/plain": [
              "<IPython.core.display.HTML object>"
            ],
            "text/html": [
              "\n",
              "     <input type=\"file\" id=\"files-4324a577-67a9-4a5d-b190-7556141e9fba\" name=\"files[]\" multiple disabled\n",
              "        style=\"border:none\" />\n",
              "     <output id=\"result-4324a577-67a9-4a5d-b190-7556141e9fba\">\n",
              "      Upload widget is only available when the cell has been executed in the\n",
              "      current browser session. Please rerun this cell to enable.\n",
              "      </output>\n",
              "      <script>// Copyright 2017 Google LLC\n",
              "//\n",
              "// Licensed under the Apache License, Version 2.0 (the \"License\");\n",
              "// you may not use this file except in compliance with the License.\n",
              "// You may obtain a copy of the License at\n",
              "//\n",
              "//      http://www.apache.org/licenses/LICENSE-2.0\n",
              "//\n",
              "// Unless required by applicable law or agreed to in writing, software\n",
              "// distributed under the License is distributed on an \"AS IS\" BASIS,\n",
              "// WITHOUT WARRANTIES OR CONDITIONS OF ANY KIND, either express or implied.\n",
              "// See the License for the specific language governing permissions and\n",
              "// limitations under the License.\n",
              "\n",
              "/**\n",
              " * @fileoverview Helpers for google.colab Python module.\n",
              " */\n",
              "(function(scope) {\n",
              "function span(text, styleAttributes = {}) {\n",
              "  const element = document.createElement('span');\n",
              "  element.textContent = text;\n",
              "  for (const key of Object.keys(styleAttributes)) {\n",
              "    element.style[key] = styleAttributes[key];\n",
              "  }\n",
              "  return element;\n",
              "}\n",
              "\n",
              "// Max number of bytes which will be uploaded at a time.\n",
              "const MAX_PAYLOAD_SIZE = 100 * 1024;\n",
              "\n",
              "function _uploadFiles(inputId, outputId) {\n",
              "  const steps = uploadFilesStep(inputId, outputId);\n",
              "  const outputElement = document.getElementById(outputId);\n",
              "  // Cache steps on the outputElement to make it available for the next call\n",
              "  // to uploadFilesContinue from Python.\n",
              "  outputElement.steps = steps;\n",
              "\n",
              "  return _uploadFilesContinue(outputId);\n",
              "}\n",
              "\n",
              "// This is roughly an async generator (not supported in the browser yet),\n",
              "// where there are multiple asynchronous steps and the Python side is going\n",
              "// to poll for completion of each step.\n",
              "// This uses a Promise to block the python side on completion of each step,\n",
              "// then passes the result of the previous step as the input to the next step.\n",
              "function _uploadFilesContinue(outputId) {\n",
              "  const outputElement = document.getElementById(outputId);\n",
              "  const steps = outputElement.steps;\n",
              "\n",
              "  const next = steps.next(outputElement.lastPromiseValue);\n",
              "  return Promise.resolve(next.value.promise).then((value) => {\n",
              "    // Cache the last promise value to make it available to the next\n",
              "    // step of the generator.\n",
              "    outputElement.lastPromiseValue = value;\n",
              "    return next.value.response;\n",
              "  });\n",
              "}\n",
              "\n",
              "/**\n",
              " * Generator function which is called between each async step of the upload\n",
              " * process.\n",
              " * @param {string} inputId Element ID of the input file picker element.\n",
              " * @param {string} outputId Element ID of the output display.\n",
              " * @return {!Iterable<!Object>} Iterable of next steps.\n",
              " */\n",
              "function* uploadFilesStep(inputId, outputId) {\n",
              "  const inputElement = document.getElementById(inputId);\n",
              "  inputElement.disabled = false;\n",
              "\n",
              "  const outputElement = document.getElementById(outputId);\n",
              "  outputElement.innerHTML = '';\n",
              "\n",
              "  const pickedPromise = new Promise((resolve) => {\n",
              "    inputElement.addEventListener('change', (e) => {\n",
              "      resolve(e.target.files);\n",
              "    });\n",
              "  });\n",
              "\n",
              "  const cancel = document.createElement('button');\n",
              "  inputElement.parentElement.appendChild(cancel);\n",
              "  cancel.textContent = 'Cancel upload';\n",
              "  const cancelPromise = new Promise((resolve) => {\n",
              "    cancel.onclick = () => {\n",
              "      resolve(null);\n",
              "    };\n",
              "  });\n",
              "\n",
              "  // Wait for the user to pick the files.\n",
              "  const files = yield {\n",
              "    promise: Promise.race([pickedPromise, cancelPromise]),\n",
              "    response: {\n",
              "      action: 'starting',\n",
              "    }\n",
              "  };\n",
              "\n",
              "  cancel.remove();\n",
              "\n",
              "  // Disable the input element since further picks are not allowed.\n",
              "  inputElement.disabled = true;\n",
              "\n",
              "  if (!files) {\n",
              "    return {\n",
              "      response: {\n",
              "        action: 'complete',\n",
              "      }\n",
              "    };\n",
              "  }\n",
              "\n",
              "  for (const file of files) {\n",
              "    const li = document.createElement('li');\n",
              "    li.append(span(file.name, {fontWeight: 'bold'}));\n",
              "    li.append(span(\n",
              "        `(${file.type || 'n/a'}) - ${file.size} bytes, ` +\n",
              "        `last modified: ${\n",
              "            file.lastModifiedDate ? file.lastModifiedDate.toLocaleDateString() :\n",
              "                                    'n/a'} - `));\n",
              "    const percent = span('0% done');\n",
              "    li.appendChild(percent);\n",
              "\n",
              "    outputElement.appendChild(li);\n",
              "\n",
              "    const fileDataPromise = new Promise((resolve) => {\n",
              "      const reader = new FileReader();\n",
              "      reader.onload = (e) => {\n",
              "        resolve(e.target.result);\n",
              "      };\n",
              "      reader.readAsArrayBuffer(file);\n",
              "    });\n",
              "    // Wait for the data to be ready.\n",
              "    let fileData = yield {\n",
              "      promise: fileDataPromise,\n",
              "      response: {\n",
              "        action: 'continue',\n",
              "      }\n",
              "    };\n",
              "\n",
              "    // Use a chunked sending to avoid message size limits. See b/62115660.\n",
              "    let position = 0;\n",
              "    do {\n",
              "      const length = Math.min(fileData.byteLength - position, MAX_PAYLOAD_SIZE);\n",
              "      const chunk = new Uint8Array(fileData, position, length);\n",
              "      position += length;\n",
              "\n",
              "      const base64 = btoa(String.fromCharCode.apply(null, chunk));\n",
              "      yield {\n",
              "        response: {\n",
              "          action: 'append',\n",
              "          file: file.name,\n",
              "          data: base64,\n",
              "        },\n",
              "      };\n",
              "\n",
              "      let percentDone = fileData.byteLength === 0 ?\n",
              "          100 :\n",
              "          Math.round((position / fileData.byteLength) * 100);\n",
              "      percent.textContent = `${percentDone}% done`;\n",
              "\n",
              "    } while (position < fileData.byteLength);\n",
              "  }\n",
              "\n",
              "  // All done.\n",
              "  yield {\n",
              "    response: {\n",
              "      action: 'complete',\n",
              "    }\n",
              "  };\n",
              "}\n",
              "\n",
              "scope.google = scope.google || {};\n",
              "scope.google.colab = scope.google.colab || {};\n",
              "scope.google.colab._files = {\n",
              "  _uploadFiles,\n",
              "  _uploadFilesContinue,\n",
              "};\n",
              "})(self);\n",
              "</script> "
            ]
          },
          "metadata": {}
        },
        {
          "output_type": "stream",
          "name": "stdout",
          "text": [
            "Saving datajobposts.csv to datajobposts.csv\n"
          ]
        }
      ]
    },
    {
      "metadata": {
        "id": "YAwmmCGGkYvU"
      },
      "cell_type": "markdown",
      "source": [
        "### Import data"
      ]
    },
    {
      "metadata": {
        "trusted": true,
        "colab": {
          "base_uri": "https://localhost:8080/"
        },
        "id": "r6IPSc7ykYvW",
        "outputId": "14272f8c-d132-464a-9c49-8114661af458"
      },
      "cell_type": "code",
      "source": [
        "# The file datajobposts is 95 MB, took 2 min to upload to colab...\n",
        "!ls"
      ],
      "execution_count": 10,
      "outputs": [
        {
          "output_type": "stream",
          "name": "stdout",
          "text": [
            "datajobposts.csv  sample_data\n"
          ]
        }
      ]
    },
    {
      "cell_type": "code",
      "source": [
        "jobs = pd.read_csv('datajobposts.csv')"
      ],
      "metadata": {
        "id": "6DWCGZajl3F8"
      },
      "execution_count": 11,
      "outputs": []
    },
    {
      "metadata": {
        "scrolled": true,
        "trusted": true,
        "colab": {
          "base_uri": "https://localhost:8080/",
          "height": 1000
        },
        "id": "CaiIbfDBkYvW",
        "outputId": "ca7fe0dc-f55f-407b-aab1-e41b7d2fc2cb"
      },
      "cell_type": "code",
      "source": [
        "jobs.head().T"
      ],
      "execution_count": 12,
      "outputs": [
        {
          "output_type": "execute_result",
          "data": {
            "text/plain": [
              "                                                                  0  \\\n",
              "jobpost           AMERIA Investment Consulting Company\\r\\nJOB TI...   \n",
              "date                                                    Jan 5, 2004   \n",
              "Title                                       Chief Financial Officer   \n",
              "Company                        AMERIA Investment Consulting Company   \n",
              "AnnouncementCode                                                NaN   \n",
              "Term                                                            NaN   \n",
              "Eligibility                                                     NaN   \n",
              "Audience                                                        NaN   \n",
              "StartDate                                                       NaN   \n",
              "Duration                                                        NaN   \n",
              "Location                                           Yerevan, Armenia   \n",
              "JobDescription    AMERIA Investment Consulting Company is seekin...   \n",
              "JobRequirment     - Supervises financial management and administ...   \n",
              "RequiredQual      To perform this job successfully, an\\r\\nindivi...   \n",
              "Salary                                                          NaN   \n",
              "ApplicationP      To apply for this position, please submit a\\r\\...   \n",
              "OpeningDate                                                     NaN   \n",
              "Deadline                                            26 January 2004   \n",
              "Notes                                                           NaN   \n",
              "AboutC                                                          NaN   \n",
              "Attach                                                          NaN   \n",
              "Year                                                           2004   \n",
              "Month                                                             1   \n",
              "IT                                                            False   \n",
              "\n",
              "                                                                  1  \\\n",
              "jobpost           International Research & Exchanges Board (IREX...   \n",
              "date                                                    Jan 7, 2004   \n",
              "Title             Full-time Community Connections Intern (paid i...   \n",
              "Company             International Research & Exchanges Board (IREX)   \n",
              "AnnouncementCode                                                NaN   \n",
              "Term                                                            NaN   \n",
              "Eligibility                                                     NaN   \n",
              "Audience                                                        NaN   \n",
              "StartDate                                                       NaN   \n",
              "Duration                                                   3 months   \n",
              "Location          IREX Armenia Main Office; Yerevan, Armenia \\r\\...   \n",
              "JobDescription                                                  NaN   \n",
              "JobRequirment                                                   NaN   \n",
              "RequiredQual      - Bachelor's Degree; Master's is preferred;\\r\\...   \n",
              "Salary                                                          NaN   \n",
              "ApplicationP      Please submit a cover letter and resume to:\\r\\...   \n",
              "OpeningDate                                                     NaN   \n",
              "Deadline                                            12 January 2004   \n",
              "Notes                                                           NaN   \n",
              "AboutC            The International Research & Exchanges Board (...   \n",
              "Attach                                                          NaN   \n",
              "Year                                                           2004   \n",
              "Month                                                             1   \n",
              "IT                                                            False   \n",
              "\n",
              "                                                                  2  \\\n",
              "jobpost           Caucasus Environmental NGO Network (CENN)\\r\\nJ...   \n",
              "date                                                    Jan 7, 2004   \n",
              "Title                                           Country Coordinator   \n",
              "Company                   Caucasus Environmental NGO Network (CENN)   \n",
              "AnnouncementCode                                                NaN   \n",
              "Term                                                            NaN   \n",
              "Eligibility                                                     NaN   \n",
              "Audience                                                        NaN   \n",
              "StartDate                                                       NaN   \n",
              "Duration                      Renewable annual contract\\r\\nPOSITION   \n",
              "Location                                           Yerevan, Armenia   \n",
              "JobDescription    Public outreach and strengthening of a growing...   \n",
              "JobRequirment     - Working with the Country Director to provide...   \n",
              "RequiredQual      - Degree in environmentally related field, or ...   \n",
              "Salary                                                          NaN   \n",
              "ApplicationP      Please send resume or CV toursula.kazarian@......   \n",
              "OpeningDate                                                     NaN   \n",
              "Deadline              20 January 2004\\r\\nSTART DATE:  February 2004   \n",
              "Notes                                                           NaN   \n",
              "AboutC            The Caucasus Environmental NGO Network is a\\r\\...   \n",
              "Attach                                                          NaN   \n",
              "Year                                                           2004   \n",
              "Month                                                             1   \n",
              "IT                                                            False   \n",
              "\n",
              "                                                                  3  \\\n",
              "jobpost           Manoff Group\\r\\nJOB TITLE:  BCC Specialist\\r\\n...   \n",
              "date                                                    Jan 7, 2004   \n",
              "Title                                                BCC Specialist   \n",
              "Company                                                Manoff Group   \n",
              "AnnouncementCode                                                NaN   \n",
              "Term                                                            NaN   \n",
              "Eligibility                                                     NaN   \n",
              "Audience                                                        NaN   \n",
              "StartDate                                                       NaN   \n",
              "Duration                                                        NaN   \n",
              "Location                                        Manila, Philippines   \n",
              "JobDescription    The LEAD (Local Enhancement and Development fo...   \n",
              "JobRequirment     - Identify gaps in knowledge and overseeing in...   \n",
              "RequiredQual      - Advanced degree in public health, social sci...   \n",
              "Salary                                                          NaN   \n",
              "ApplicationP      Please send cover letter and resume to Amy\\r\\n...   \n",
              "OpeningDate                                                     NaN   \n",
              "Deadline                  23 January 2004\\r\\nSTART DATE:  Immediate   \n",
              "Notes                                                           NaN   \n",
              "AboutC                                                          NaN   \n",
              "Attach                                                          NaN   \n",
              "Year                                                           2004   \n",
              "Month                                                             1   \n",
              "IT                                                            False   \n",
              "\n",
              "                                                                  4  \n",
              "jobpost           Yerevan Brandy Company\\r\\nJOB TITLE:  Software...  \n",
              "date                                                   Jan 10, 2004  \n",
              "Title                                            Software Developer  \n",
              "Company                                      Yerevan Brandy Company  \n",
              "AnnouncementCode                                                NaN  \n",
              "Term                                                            NaN  \n",
              "Eligibility                                                     NaN  \n",
              "Audience                                                        NaN  \n",
              "StartDate                                                       NaN  \n",
              "Duration                                                        NaN  \n",
              "Location                                           Yerevan, Armenia  \n",
              "JobDescription                                                  NaN  \n",
              "JobRequirment     - Rendering technical assistance to Database M...  \n",
              "RequiredQual      - University degree; economical background is ...  \n",
              "Salary                                                          NaN  \n",
              "ApplicationP      Successful candidates should submit\\r\\n- CV; \\...  \n",
              "OpeningDate                                                     NaN  \n",
              "Deadline                                     20 January 2004, 18:00  \n",
              "Notes                                                           NaN  \n",
              "AboutC                                                          NaN  \n",
              "Attach                                                          NaN  \n",
              "Year                                                           2004  \n",
              "Month                                                             1  \n",
              "IT                                                             True  "
            ],
            "text/html": [
              "\n",
              "  <div id=\"df-e77e9eae-37bc-4fff-86c7-bc3ba1455d99\">\n",
              "    <div class=\"colab-df-container\">\n",
              "      <div>\n",
              "<style scoped>\n",
              "    .dataframe tbody tr th:only-of-type {\n",
              "        vertical-align: middle;\n",
              "    }\n",
              "\n",
              "    .dataframe tbody tr th {\n",
              "        vertical-align: top;\n",
              "    }\n",
              "\n",
              "    .dataframe thead th {\n",
              "        text-align: right;\n",
              "    }\n",
              "</style>\n",
              "<table border=\"1\" class=\"dataframe\">\n",
              "  <thead>\n",
              "    <tr style=\"text-align: right;\">\n",
              "      <th></th>\n",
              "      <th>0</th>\n",
              "      <th>1</th>\n",
              "      <th>2</th>\n",
              "      <th>3</th>\n",
              "      <th>4</th>\n",
              "    </tr>\n",
              "  </thead>\n",
              "  <tbody>\n",
              "    <tr>\n",
              "      <th>jobpost</th>\n",
              "      <td>AMERIA Investment Consulting Company\\r\\nJOB TI...</td>\n",
              "      <td>International Research &amp; Exchanges Board (IREX...</td>\n",
              "      <td>Caucasus Environmental NGO Network (CENN)\\r\\nJ...</td>\n",
              "      <td>Manoff Group\\r\\nJOB TITLE:  BCC Specialist\\r\\n...</td>\n",
              "      <td>Yerevan Brandy Company\\r\\nJOB TITLE:  Software...</td>\n",
              "    </tr>\n",
              "    <tr>\n",
              "      <th>date</th>\n",
              "      <td>Jan 5, 2004</td>\n",
              "      <td>Jan 7, 2004</td>\n",
              "      <td>Jan 7, 2004</td>\n",
              "      <td>Jan 7, 2004</td>\n",
              "      <td>Jan 10, 2004</td>\n",
              "    </tr>\n",
              "    <tr>\n",
              "      <th>Title</th>\n",
              "      <td>Chief Financial Officer</td>\n",
              "      <td>Full-time Community Connections Intern (paid i...</td>\n",
              "      <td>Country Coordinator</td>\n",
              "      <td>BCC Specialist</td>\n",
              "      <td>Software Developer</td>\n",
              "    </tr>\n",
              "    <tr>\n",
              "      <th>Company</th>\n",
              "      <td>AMERIA Investment Consulting Company</td>\n",
              "      <td>International Research &amp; Exchanges Board (IREX)</td>\n",
              "      <td>Caucasus Environmental NGO Network (CENN)</td>\n",
              "      <td>Manoff Group</td>\n",
              "      <td>Yerevan Brandy Company</td>\n",
              "    </tr>\n",
              "    <tr>\n",
              "      <th>AnnouncementCode</th>\n",
              "      <td>NaN</td>\n",
              "      <td>NaN</td>\n",
              "      <td>NaN</td>\n",
              "      <td>NaN</td>\n",
              "      <td>NaN</td>\n",
              "    </tr>\n",
              "    <tr>\n",
              "      <th>Term</th>\n",
              "      <td>NaN</td>\n",
              "      <td>NaN</td>\n",
              "      <td>NaN</td>\n",
              "      <td>NaN</td>\n",
              "      <td>NaN</td>\n",
              "    </tr>\n",
              "    <tr>\n",
              "      <th>Eligibility</th>\n",
              "      <td>NaN</td>\n",
              "      <td>NaN</td>\n",
              "      <td>NaN</td>\n",
              "      <td>NaN</td>\n",
              "      <td>NaN</td>\n",
              "    </tr>\n",
              "    <tr>\n",
              "      <th>Audience</th>\n",
              "      <td>NaN</td>\n",
              "      <td>NaN</td>\n",
              "      <td>NaN</td>\n",
              "      <td>NaN</td>\n",
              "      <td>NaN</td>\n",
              "    </tr>\n",
              "    <tr>\n",
              "      <th>StartDate</th>\n",
              "      <td>NaN</td>\n",
              "      <td>NaN</td>\n",
              "      <td>NaN</td>\n",
              "      <td>NaN</td>\n",
              "      <td>NaN</td>\n",
              "    </tr>\n",
              "    <tr>\n",
              "      <th>Duration</th>\n",
              "      <td>NaN</td>\n",
              "      <td>3 months</td>\n",
              "      <td>Renewable annual contract\\r\\nPOSITION</td>\n",
              "      <td>NaN</td>\n",
              "      <td>NaN</td>\n",
              "    </tr>\n",
              "    <tr>\n",
              "      <th>Location</th>\n",
              "      <td>Yerevan, Armenia</td>\n",
              "      <td>IREX Armenia Main Office; Yerevan, Armenia \\r\\...</td>\n",
              "      <td>Yerevan, Armenia</td>\n",
              "      <td>Manila, Philippines</td>\n",
              "      <td>Yerevan, Armenia</td>\n",
              "    </tr>\n",
              "    <tr>\n",
              "      <th>JobDescription</th>\n",
              "      <td>AMERIA Investment Consulting Company is seekin...</td>\n",
              "      <td>NaN</td>\n",
              "      <td>Public outreach and strengthening of a growing...</td>\n",
              "      <td>The LEAD (Local Enhancement and Development fo...</td>\n",
              "      <td>NaN</td>\n",
              "    </tr>\n",
              "    <tr>\n",
              "      <th>JobRequirment</th>\n",
              "      <td>- Supervises financial management and administ...</td>\n",
              "      <td>NaN</td>\n",
              "      <td>- Working with the Country Director to provide...</td>\n",
              "      <td>- Identify gaps in knowledge and overseeing in...</td>\n",
              "      <td>- Rendering technical assistance to Database M...</td>\n",
              "    </tr>\n",
              "    <tr>\n",
              "      <th>RequiredQual</th>\n",
              "      <td>To perform this job successfully, an\\r\\nindivi...</td>\n",
              "      <td>- Bachelor's Degree; Master's is preferred;\\r\\...</td>\n",
              "      <td>- Degree in environmentally related field, or ...</td>\n",
              "      <td>- Advanced degree in public health, social sci...</td>\n",
              "      <td>- University degree; economical background is ...</td>\n",
              "    </tr>\n",
              "    <tr>\n",
              "      <th>Salary</th>\n",
              "      <td>NaN</td>\n",
              "      <td>NaN</td>\n",
              "      <td>NaN</td>\n",
              "      <td>NaN</td>\n",
              "      <td>NaN</td>\n",
              "    </tr>\n",
              "    <tr>\n",
              "      <th>ApplicationP</th>\n",
              "      <td>To apply for this position, please submit a\\r\\...</td>\n",
              "      <td>Please submit a cover letter and resume to:\\r\\...</td>\n",
              "      <td>Please send resume or CV toursula.kazarian@......</td>\n",
              "      <td>Please send cover letter and resume to Amy\\r\\n...</td>\n",
              "      <td>Successful candidates should submit\\r\\n- CV; \\...</td>\n",
              "    </tr>\n",
              "    <tr>\n",
              "      <th>OpeningDate</th>\n",
              "      <td>NaN</td>\n",
              "      <td>NaN</td>\n",
              "      <td>NaN</td>\n",
              "      <td>NaN</td>\n",
              "      <td>NaN</td>\n",
              "    </tr>\n",
              "    <tr>\n",
              "      <th>Deadline</th>\n",
              "      <td>26 January 2004</td>\n",
              "      <td>12 January 2004</td>\n",
              "      <td>20 January 2004\\r\\nSTART DATE:  February 2004</td>\n",
              "      <td>23 January 2004\\r\\nSTART DATE:  Immediate</td>\n",
              "      <td>20 January 2004, 18:00</td>\n",
              "    </tr>\n",
              "    <tr>\n",
              "      <th>Notes</th>\n",
              "      <td>NaN</td>\n",
              "      <td>NaN</td>\n",
              "      <td>NaN</td>\n",
              "      <td>NaN</td>\n",
              "      <td>NaN</td>\n",
              "    </tr>\n",
              "    <tr>\n",
              "      <th>AboutC</th>\n",
              "      <td>NaN</td>\n",
              "      <td>The International Research &amp; Exchanges Board (...</td>\n",
              "      <td>The Caucasus Environmental NGO Network is a\\r\\...</td>\n",
              "      <td>NaN</td>\n",
              "      <td>NaN</td>\n",
              "    </tr>\n",
              "    <tr>\n",
              "      <th>Attach</th>\n",
              "      <td>NaN</td>\n",
              "      <td>NaN</td>\n",
              "      <td>NaN</td>\n",
              "      <td>NaN</td>\n",
              "      <td>NaN</td>\n",
              "    </tr>\n",
              "    <tr>\n",
              "      <th>Year</th>\n",
              "      <td>2004</td>\n",
              "      <td>2004</td>\n",
              "      <td>2004</td>\n",
              "      <td>2004</td>\n",
              "      <td>2004</td>\n",
              "    </tr>\n",
              "    <tr>\n",
              "      <th>Month</th>\n",
              "      <td>1</td>\n",
              "      <td>1</td>\n",
              "      <td>1</td>\n",
              "      <td>1</td>\n",
              "      <td>1</td>\n",
              "    </tr>\n",
              "    <tr>\n",
              "      <th>IT</th>\n",
              "      <td>False</td>\n",
              "      <td>False</td>\n",
              "      <td>False</td>\n",
              "      <td>False</td>\n",
              "      <td>True</td>\n",
              "    </tr>\n",
              "  </tbody>\n",
              "</table>\n",
              "</div>\n",
              "      <button class=\"colab-df-convert\" onclick=\"convertToInteractive('df-e77e9eae-37bc-4fff-86c7-bc3ba1455d99')\"\n",
              "              title=\"Convert this dataframe to an interactive table.\"\n",
              "              style=\"display:none;\">\n",
              "        \n",
              "  <svg xmlns=\"http://www.w3.org/2000/svg\" height=\"24px\"viewBox=\"0 0 24 24\"\n",
              "       width=\"24px\">\n",
              "    <path d=\"M0 0h24v24H0V0z\" fill=\"none\"/>\n",
              "    <path d=\"M18.56 5.44l.94 2.06.94-2.06 2.06-.94-2.06-.94-.94-2.06-.94 2.06-2.06.94zm-11 1L8.5 8.5l.94-2.06 2.06-.94-2.06-.94L8.5 2.5l-.94 2.06-2.06.94zm10 10l.94 2.06.94-2.06 2.06-.94-2.06-.94-.94-2.06-.94 2.06-2.06.94z\"/><path d=\"M17.41 7.96l-1.37-1.37c-.4-.4-.92-.59-1.43-.59-.52 0-1.04.2-1.43.59L10.3 9.45l-7.72 7.72c-.78.78-.78 2.05 0 2.83L4 21.41c.39.39.9.59 1.41.59.51 0 1.02-.2 1.41-.59l7.78-7.78 2.81-2.81c.8-.78.8-2.07 0-2.86zM5.41 20L4 18.59l7.72-7.72 1.47 1.35L5.41 20z\"/>\n",
              "  </svg>\n",
              "      </button>\n",
              "      \n",
              "  <style>\n",
              "    .colab-df-container {\n",
              "      display:flex;\n",
              "      flex-wrap:wrap;\n",
              "      gap: 12px;\n",
              "    }\n",
              "\n",
              "    .colab-df-convert {\n",
              "      background-color: #E8F0FE;\n",
              "      border: none;\n",
              "      border-radius: 50%;\n",
              "      cursor: pointer;\n",
              "      display: none;\n",
              "      fill: #1967D2;\n",
              "      height: 32px;\n",
              "      padding: 0 0 0 0;\n",
              "      width: 32px;\n",
              "    }\n",
              "\n",
              "    .colab-df-convert:hover {\n",
              "      background-color: #E2EBFA;\n",
              "      box-shadow: 0px 1px 2px rgba(60, 64, 67, 0.3), 0px 1px 3px 1px rgba(60, 64, 67, 0.15);\n",
              "      fill: #174EA6;\n",
              "    }\n",
              "\n",
              "    [theme=dark] .colab-df-convert {\n",
              "      background-color: #3B4455;\n",
              "      fill: #D2E3FC;\n",
              "    }\n",
              "\n",
              "    [theme=dark] .colab-df-convert:hover {\n",
              "      background-color: #434B5C;\n",
              "      box-shadow: 0px 1px 3px 1px rgba(0, 0, 0, 0.15);\n",
              "      filter: drop-shadow(0px 1px 2px rgba(0, 0, 0, 0.3));\n",
              "      fill: #FFFFFF;\n",
              "    }\n",
              "  </style>\n",
              "\n",
              "      <script>\n",
              "        const buttonEl =\n",
              "          document.querySelector('#df-e77e9eae-37bc-4fff-86c7-bc3ba1455d99 button.colab-df-convert');\n",
              "        buttonEl.style.display =\n",
              "          google.colab.kernel.accessAllowed ? 'block' : 'none';\n",
              "\n",
              "        async function convertToInteractive(key) {\n",
              "          const element = document.querySelector('#df-e77e9eae-37bc-4fff-86c7-bc3ba1455d99');\n",
              "          const dataTable =\n",
              "            await google.colab.kernel.invokeFunction('convertToInteractive',\n",
              "                                                     [key], {});\n",
              "          if (!dataTable) return;\n",
              "\n",
              "          const docLinkHtml = 'Like what you see? Visit the ' +\n",
              "            '<a target=\"_blank\" href=https://colab.research.google.com/notebooks/data_table.ipynb>data table notebook</a>'\n",
              "            + ' to learn more about interactive tables.';\n",
              "          element.innerHTML = '';\n",
              "          dataTable['output_type'] = 'display_data';\n",
              "          await google.colab.output.renderOutput(dataTable, element);\n",
              "          const docLink = document.createElement('div');\n",
              "          docLink.innerHTML = docLinkHtml;\n",
              "          element.appendChild(docLink);\n",
              "        }\n",
              "      </script>\n",
              "    </div>\n",
              "  </div>\n",
              "  "
            ]
          },
          "metadata": {},
          "execution_count": 12
        }
      ]
    },
    {
      "metadata": {
        "trusted": true,
        "colab": {
          "base_uri": "https://localhost:8080/"
        },
        "id": "eyvpL5jIkYvY",
        "outputId": "5b9f30f4-f9a9-4af3-8b0b-8e13835525ff"
      },
      "cell_type": "code",
      "source": [
        "jobs.shape"
      ],
      "execution_count": 13,
      "outputs": [
        {
          "output_type": "execute_result",
          "data": {
            "text/plain": [
              "(19001, 24)"
            ]
          },
          "metadata": {},
          "execution_count": 13
        }
      ]
    },
    {
      "metadata": {
        "trusted": true,
        "colab": {
          "base_uri": "https://localhost:8080/"
        },
        "id": "nZdNlkpvkYvZ",
        "outputId": "634eb8bc-31f0-4682-d109-555c9a27adea"
      },
      "cell_type": "code",
      "source": [
        "jobs.info()"
      ],
      "execution_count": 14,
      "outputs": [
        {
          "output_type": "stream",
          "name": "stdout",
          "text": [
            "<class 'pandas.core.frame.DataFrame'>\n",
            "RangeIndex: 19001 entries, 0 to 19000\n",
            "Data columns (total 24 columns):\n",
            " #   Column            Non-Null Count  Dtype \n",
            "---  ------            --------------  ----- \n",
            " 0   jobpost           19001 non-null  object\n",
            " 1   date              19001 non-null  object\n",
            " 2   Title             18973 non-null  object\n",
            " 3   Company           18994 non-null  object\n",
            " 4   AnnouncementCode  1208 non-null   object\n",
            " 5   Term              7676 non-null   object\n",
            " 6   Eligibility       4930 non-null   object\n",
            " 7   Audience          640 non-null    object\n",
            " 8   StartDate         9675 non-null   object\n",
            " 9   Duration          10798 non-null  object\n",
            " 10  Location          18969 non-null  object\n",
            " 11  JobDescription    15109 non-null  object\n",
            " 12  JobRequirment     16479 non-null  object\n",
            " 13  RequiredQual      18517 non-null  object\n",
            " 14  Salary            9622 non-null   object\n",
            " 15  ApplicationP      18941 non-null  object\n",
            " 16  OpeningDate       18295 non-null  object\n",
            " 17  Deadline          18936 non-null  object\n",
            " 18  Notes             2211 non-null   object\n",
            " 19  AboutC            12470 non-null  object\n",
            " 20  Attach            1559 non-null   object\n",
            " 21  Year              19001 non-null  int64 \n",
            " 22  Month             19001 non-null  int64 \n",
            " 23  IT                19001 non-null  bool  \n",
            "dtypes: bool(1), int64(2), object(21)\n",
            "memory usage: 3.4+ MB\n"
          ]
        }
      ]
    },
    {
      "metadata": {
        "trusted": true,
        "id": "B5lEF949kYvb"
      },
      "cell_type": "code",
      "source": [
        "#lowercase the column names\n",
        "jobs.columns = jobs.columns.str.lower()"
      ],
      "execution_count": 15,
      "outputs": []
    },
    {
      "metadata": {
        "trusted": true,
        "colab": {
          "base_uri": "https://localhost:8080/"
        },
        "id": "LCEmbXyKkYvc",
        "outputId": "bbfdebd5-f0b3-4cc0-8a65-d4ded7325822"
      },
      "cell_type": "code",
      "source": [
        "jobs.columns"
      ],
      "execution_count": 16,
      "outputs": [
        {
          "output_type": "execute_result",
          "data": {
            "text/plain": [
              "Index(['jobpost', 'date', 'title', 'company', 'announcementcode', 'term',\n",
              "       'eligibility', 'audience', 'startdate', 'duration', 'location',\n",
              "       'jobdescription', 'jobrequirment', 'requiredqual', 'salary',\n",
              "       'applicationp', 'openingdate', 'deadline', 'notes', 'aboutc', 'attach',\n",
              "       'year', 'month', 'it'],\n",
              "      dtype='object')"
            ]
          },
          "metadata": {},
          "execution_count": 16
        }
      ]
    },
    {
      "metadata": {
        "id": "dXcFo6m7kYvc"
      },
      "cell_type": "markdown",
      "source": [
        "# Data Cleaning"
      ]
    },
    {
      "metadata": {
        "trusted": true,
        "id": "bMcG0er3kYvd"
      },
      "cell_type": "code",
      "source": [
        "#removing duplicate jobposts based on title and post\n",
        "jobs = jobs.drop_duplicates(['jobpost', 'title'])"
      ],
      "execution_count": 17,
      "outputs": []
    },
    {
      "metadata": {
        "trusted": true,
        "colab": {
          "base_uri": "https://localhost:8080/"
        },
        "id": "yrxJPHmSkYvd",
        "outputId": "5693af87-946d-41d2-adfd-3b34f894b04c"
      },
      "cell_type": "code",
      "source": [
        "jobs.shape"
      ],
      "execution_count": 18,
      "outputs": [
        {
          "output_type": "execute_result",
          "data": {
            "text/plain": [
              "(18892, 24)"
            ]
          },
          "metadata": {},
          "execution_count": 18
        }
      ]
    },
    {
      "metadata": {
        "trusted": true,
        "id": "zAyAeiLhkYve"
      },
      "cell_type": "code",
      "source": [
        "#removing records with null title\n",
        "#jobs = jobs[jobs.title.notna()]\n",
        "#jobs.shape"
      ],
      "execution_count": 19,
      "outputs": []
    },
    {
      "metadata": {
        "id": "z4cX1bjdkYvf"
      },
      "cell_type": "markdown",
      "source": [
        "# Type of demanding jobs in Armenia"
      ]
    },
    {
      "metadata": {
        "id": "Oqm2HBHJkYvg"
      },
      "cell_type": "markdown",
      "source": [
        "**1. Preprocessing the text data**"
      ]
    },
    {
      "metadata": {
        "trusted": true,
        "id": "Y6ZAjpRJkYvg"
      },
      "cell_type": "code",
      "source": [
        "jobs['title'] = jobs['title'].astype('str')"
      ],
      "execution_count": 20,
      "outputs": []
    },
    {
      "metadata": {
        "trusted": true,
        "colab": {
          "base_uri": "https://localhost:8080/",
          "height": 35
        },
        "id": "XqfVBp9YkYvh",
        "outputId": "0d46262d-8259-46fa-c299-acd78cbc48c4"
      },
      "cell_type": "code",
      "source": [
        "string.punctuation"
      ],
      "execution_count": 21,
      "outputs": [
        {
          "output_type": "execute_result",
          "data": {
            "text/plain": [
              "'!\"#$%&\\'()*+,-./:;<=>?@[\\\\]^_`{|}~'"
            ],
            "application/vnd.google.colaboratory.intrinsic+json": {
              "type": "string"
            }
          },
          "metadata": {},
          "execution_count": 21
        }
      ]
    },
    {
      "metadata": {
        "trusted": true,
        "id": "GQ9nlE1QkYvh"
      },
      "cell_type": "code",
      "source": [
        "#UDF to do basic cleaning of title column to understand type of jobs\n",
        "def clean_data(text):\n",
        "    text = text.lower()  # convert all the text into lowercase\n",
        "    text = text.strip()  #remove starting and trailing whitespaces\n",
        "    #special_chars = re.compile('[@!#$%^&*()<>?/\\|}{~:;]')\n",
        "    #text = re.sub(special_chars,'', text)\n",
        "    special_char_reg = '([a-zA-Z0-9]+)' + '[!\"#$%&\\'()*+,-./:;<=>?@\\\\^_`{|}~]' + '([a-zA-Z0-9]+)'\n",
        "    text = re.sub(special_char_reg, ' ', text)\n",
        "    text = re.sub(r'\\s+', ' ', text) #remove all line formattings\n",
        "    text = re.sub(r'\\d+', '', text) #remove digits\n",
        "    text = ''.join(c for c in text if c not in string.punctuation)   #remove pecial symbols from job titles\n",
        "    return text"
      ],
      "execution_count": 22,
      "outputs": []
    },
    {
      "metadata": {
        "trusted": true,
        "colab": {
          "base_uri": "https://localhost:8080/",
          "height": 35
        },
        "id": "AFqj4xevkYvi",
        "outputId": "4076ff66-dcbc-43f3-fcd4-6c150f33d2a4"
      },
      "cell_type": "code",
      "source": [
        "a = 'Ful8l-ti9me Community Connections f09:053yy'\n",
        "special_char_reg = '([a-zA-Z0-9]+)' + '[!\"#$%&\\'()*+,-./:;<=>?@\\\\^_`{|}~]' + '([a-zA-Z0-9]+)'\n",
        "re.sub(special_char_reg, ' ', a).strip()"
      ],
      "execution_count": 23,
      "outputs": [
        {
          "output_type": "execute_result",
          "data": {
            "text/plain": [
              "'Community Connections'"
            ],
            "application/vnd.google.colaboratory.intrinsic+json": {
              "type": "string"
            }
          },
          "metadata": {},
          "execution_count": 23
        }
      ]
    },
    {
      "metadata": {
        "trusted": true,
        "colab": {
          "base_uri": "https://localhost:8080/"
        },
        "id": "bAqfdDgakYvi",
        "outputId": "e712d660-fdbe-40de-c377-49b6d3d72e0d"
      },
      "cell_type": "code",
      "source": [
        "jobs.title.head(6)"
      ],
      "execution_count": 24,
      "outputs": [
        {
          "output_type": "execute_result",
          "data": {
            "text/plain": [
              "0                              Chief Financial Officer\n",
              "1    Full-time Community Connections Intern (paid i...\n",
              "2                                  Country Coordinator\n",
              "3                                       BCC Specialist\n",
              "4                                   Software Developer\n",
              "5                                           Saleswoman\n",
              "Name: title, dtype: object"
            ]
          },
          "metadata": {},
          "execution_count": 24
        }
      ]
    },
    {
      "metadata": {
        "trusted": true,
        "colab": {
          "base_uri": "https://localhost:8080/"
        },
        "id": "c01AMX2mkYvk",
        "outputId": "7be35e21-f0bb-4e1c-ddd1-63265d8ada61"
      },
      "cell_type": "code",
      "source": [
        "title_df = jobs.title.apply(lambda x : clean_data(x))\n",
        "title_df.head()"
      ],
      "execution_count": 25,
      "outputs": [
        {
          "output_type": "execute_result",
          "data": {
            "text/plain": [
              "0                          chief financial officer\n",
              "1     community connections intern paid internship\n",
              "2                              country coordinator\n",
              "3                                   bcc specialist\n",
              "4                               software developer\n",
              "Name: title, dtype: object"
            ]
          },
          "metadata": {},
          "execution_count": 25
        }
      ]
    },
    {
      "metadata": {
        "trusted": true,
        "id": "lAZ_9FjlkYvk"
      },
      "cell_type": "code",
      "source": [
        "from nltk import WordNetLemmatizer\n",
        "#nltk.download('punkt')"
      ],
      "execution_count": 26,
      "outputs": []
    },
    {
      "metadata": {
        "trusted": true,
        "id": "JnXK5QW-kYvl"
      },
      "cell_type": "code",
      "source": [
        "#nltk.download('wordnet')"
      ],
      "execution_count": 27,
      "outputs": []
    },
    {
      "metadata": {
        "trusted": true,
        "id": "rMyrjXq1kYvl"
      },
      "cell_type": "code",
      "source": [
        "def lemma(text):\n",
        "    word_list = nltk.word_tokenize(text) #tokenize beofre lemmatization\n",
        "    lemma_output = ' '.join(WordNetLemmatizer().lemmatize(word) for word in word_list)\n",
        "    return lemma_output"
      ],
      "execution_count": 28,
      "outputs": []
    },
    {
      "metadata": {
        "trusted": true,
        "colab": {
          "base_uri": "https://localhost:8080/",
          "height": 35
        },
        "id": "Rd_Rhg9LkYvn",
        "outputId": "c600106c-c36f-4dc8-e644-1f20f754dba7"
      },
      "cell_type": "code",
      "source": [
        "##Lematization\n",
        "import spacy\n",
        "#neccesary to download the english model using \"python -m spacy download en\"\n",
        "nlp = spacy.load('en_core_web_sm')\n",
        "# Parse the sentence using the loaded 'en' model object `nlp`\n",
        "doc = nlp(sentence)\n",
        "\n",
        "# Extract the lemma for each token and join\n",
        "\" \".join([token.lemma_ for token in doc])"
      ],
      "execution_count": 30,
      "outputs": [
        {
          "output_type": "execute_result",
          "data": {
            "text/plain": [
              "'the stripe bat be hang on their foot for good'"
            ],
            "application/vnd.google.colaboratory.intrinsic+json": {
              "type": "string"
            }
          },
          "metadata": {},
          "execution_count": 30
        }
      ]
    },
    {
      "cell_type": "code",
      "source": [
        "import nltk\n",
        "nltk.download('punkt')"
      ],
      "metadata": {
        "colab": {
          "base_uri": "https://localhost:8080/"
        },
        "id": "lzYVv8HxqsHD",
        "outputId": "2d8f9630-46a0-4d45-bf82-fca7dd0c5e7a"
      },
      "execution_count": 32,
      "outputs": [
        {
          "output_type": "stream",
          "name": "stderr",
          "text": [
            "[nltk_data] Downloading package punkt to /root/nltk_data...\n",
            "[nltk_data]   Unzipping tokenizers/punkt.zip.\n"
          ]
        },
        {
          "output_type": "execute_result",
          "data": {
            "text/plain": [
              "True"
            ]
          },
          "metadata": {},
          "execution_count": 32
        }
      ]
    },
    {
      "cell_type": "code",
      "source": [
        "nltk.download('wordnet')"
      ],
      "metadata": {
        "colab": {
          "base_uri": "https://localhost:8080/"
        },
        "id": "EbD9bsmZq3Uq",
        "outputId": "f19a79be-a7f9-44d2-edd4-17bc709e7646"
      },
      "execution_count": 34,
      "outputs": [
        {
          "output_type": "stream",
          "name": "stderr",
          "text": [
            "[nltk_data] Downloading package wordnet to /root/nltk_data...\n"
          ]
        },
        {
          "output_type": "execute_result",
          "data": {
            "text/plain": [
              "True"
            ]
          },
          "metadata": {},
          "execution_count": 34
        }
      ]
    },
    {
      "cell_type": "code",
      "source": [
        "nltk.download('omw-1.4')"
      ],
      "metadata": {
        "colab": {
          "base_uri": "https://localhost:8080/"
        },
        "id": "jtBAuTkUq9Ty",
        "outputId": "e550dfbe-a06c-4199-ca1e-574ef0cb3675"
      },
      "execution_count": 36,
      "outputs": [
        {
          "output_type": "stream",
          "name": "stderr",
          "text": [
            "[nltk_data] Downloading package omw-1.4 to /root/nltk_data...\n"
          ]
        },
        {
          "output_type": "execute_result",
          "data": {
            "text/plain": [
              "True"
            ]
          },
          "metadata": {},
          "execution_count": 36
        }
      ]
    },
    {
      "metadata": {
        "trusted": true,
        "id": "5hY4DtyFkYvn"
      },
      "cell_type": "code",
      "source": [
        "title_df_1 = title_df.apply(lambda x : lemma(x))"
      ],
      "execution_count": 37,
      "outputs": []
    },
    {
      "metadata": {
        "trusted": true,
        "colab": {
          "base_uri": "https://localhost:8080/"
        },
        "id": "is35Nq-YkYvo",
        "outputId": "0b2aee0a-645f-415d-e444-2098a5449ce5"
      },
      "cell_type": "code",
      "source": [
        "title_df_1.head()"
      ],
      "execution_count": 38,
      "outputs": [
        {
          "output_type": "execute_result",
          "data": {
            "text/plain": [
              "0                        chief financial officer\n",
              "1    community connection intern paid internship\n",
              "2                            country coordinator\n",
              "3                                 bcc specialist\n",
              "4                             software developer\n",
              "Name: title, dtype: object"
            ]
          },
          "metadata": {},
          "execution_count": 38
        }
      ]
    },
    {
      "cell_type": "code",
      "source": [
        "nltk.download('stopwords')"
      ],
      "metadata": {
        "colab": {
          "base_uri": "https://localhost:8080/"
        },
        "id": "N2NNccK8rG2D",
        "outputId": "ac2d7c40-a488-4dee-c50b-3d659a3e5f92"
      },
      "execution_count": 40,
      "outputs": [
        {
          "output_type": "stream",
          "name": "stderr",
          "text": [
            "[nltk_data] Downloading package stopwords to /root/nltk_data...\n",
            "[nltk_data]   Unzipping corpora/stopwords.zip.\n"
          ]
        },
        {
          "output_type": "execute_result",
          "data": {
            "text/plain": [
              "True"
            ]
          },
          "metadata": {},
          "execution_count": 40
        }
      ]
    },
    {
      "metadata": {
        "trusted": true,
        "id": "L-VPj7fIkYvo"
      },
      "cell_type": "code",
      "source": [
        "#Stop words removal\n",
        "stop = nltk.corpus.stopwords.words('english')\n",
        "#stop.extend(['armenian', 'armenia', 'job', 'title', 'position', 'location', 'responsibilities', 'application',\n",
        "#                  'procedures', 'deadline', 'required','qualifications', 'renumeration', 'salary', 'date', 'company', 'llc'])"
      ],
      "execution_count": 41,
      "outputs": []
    },
    {
      "metadata": {
        "trusted": true,
        "id": "7xOaBRvdkYvo"
      },
      "cell_type": "code",
      "source": [
        "title_df_1 = title_df_1.apply(lambda x : ' '.join(x for x in x.split() if x not in stop))"
      ],
      "execution_count": 42,
      "outputs": []
    },
    {
      "metadata": {
        "trusted": true,
        "colab": {
          "base_uri": "https://localhost:8080/"
        },
        "id": "TzRkvw0XkYvp",
        "outputId": "d8c73c2f-4415-48f4-f3ae-b69a2404e709"
      },
      "cell_type": "code",
      "source": [
        "title_df_1.head()"
      ],
      "execution_count": 43,
      "outputs": [
        {
          "output_type": "execute_result",
          "data": {
            "text/plain": [
              "0                        chief financial officer\n",
              "1    community connection intern paid internship\n",
              "2                            country coordinator\n",
              "3                                 bcc specialist\n",
              "4                             software developer\n",
              "Name: title, dtype: object"
            ]
          },
          "metadata": {},
          "execution_count": 43
        }
      ]
    },
    {
      "metadata": {
        "id": "zYeQHgt9kYvp"
      },
      "cell_type": "markdown",
      "source": [
        "Now to undertand the most demanding jobs in armenia we can create a **bi/tri gram DTM** on the job titles and find the most occuring token to be the most demanding job"
      ]
    },
    {
      "metadata": {
        "trusted": true,
        "id": "WyYZtFVtkYvq"
      },
      "cell_type": "code",
      "source": [
        "#Tokenization using count vectorizer\n",
        "count_vect = CountVectorizer(ngram_range=(1,1))\n",
        "token = count_vect.fit_transform(title_df_1)"
      ],
      "execution_count": 44,
      "outputs": []
    },
    {
      "metadata": {
        "trusted": true,
        "colab": {
          "base_uri": "https://localhost:8080/"
        },
        "id": "iz_1hRFakYvq",
        "outputId": "6bbd6feb-2887-489a-9a54-34b6df7d9061"
      },
      "cell_type": "code",
      "source": [
        "token"
      ],
      "execution_count": 45,
      "outputs": [
        {
          "output_type": "execute_result",
          "data": {
            "text/plain": [
              "<18892x2542 sparse matrix of type '<class 'numpy.int64'>'\n",
              "\twith 53675 stored elements in Compressed Sparse Row format>"
            ]
          },
          "metadata": {},
          "execution_count": 45
        }
      ]
    },
    {
      "metadata": {
        "trusted": true,
        "colab": {
          "base_uri": "https://localhost:8080/"
        },
        "id": "j81VI9ktkYvq",
        "outputId": "91e8bc2c-b075-472a-ab1e-7eb8a4fc6667"
      },
      "cell_type": "code",
      "source": [
        "print(count_vect.get_feature_names())"
      ],
      "execution_count": 46,
      "outputs": [
        {
          "output_type": "stream",
          "name": "stdout",
          "text": [
            "['aacas', 'abap', 'abatement', 'abattoir', 'abkhazia', 'abovyan', 'abuse', 'academy', 'acca', 'access', 'accident', 'account', 'accountability', 'accountancy', 'accountant', 'accounting', 'achajour', 'acquiring', 'acquisition', 'act', 'action', 'actionscript', 'activation', 'active', 'activity', 'actuarial', 'actuary', 'ad', 'adaptation', 'adb', 'added', 'addition', 'address', 'adherence', 'adjuster', 'adjustor', 'admin', 'administration', 'administrative', 'administrator', 'adminsitrative', 'adminstration', 'adminstrative', 'adminstrator', 'admission', 'adobe', 'adolescent', 'adp', 'advanced', 'adventure', 'advertisement', 'advertising', 'advertizing', 'adviser', 'advising', 'advisor', 'advisory', 'advocacy', 'advocate', 'aerobics', 'affair', 'affiliate', 'affluent', 'agency', 'agent', 'agile', 'agreement', 'agribusiness', 'agricultural', 'agriculture', 'agriculturist', 'agro', 'agronomist', 'agroprocessing', 'aid', 'aide', 'aided', 'aiming', 'air', 'aircraft', 'airline', 'airport', 'airticket', 'airticketing', 'ajax', 'alaverdi', 'alcatel', 'algorithm', 'alleviation', 'alpinist', 'alternative', 'alumnus', 'amadeus', 'amasia', 'ambassador', 'ambulatory', 'amended', 'amendment', 'ameriagroup', 'america', 'american', 'aml', 'among', 'amp', 'amsg', 'analist', 'analog', 'analyse', 'analysis', 'analyst', 'analytic', 'analytical', 'analytics', 'analyze', 'analyzer', 'analyzes', 'android', 'anesthesiology', 'angular', 'angularjs', 'animal', 'animation', 'animator', 'announcement', 'annual', 'anthropology', 'anticorruption', 'aparan', 'app', 'apparel', 'appeal', 'appliance', 'application', 'applied', 'appraisal', 'appraiser', 'apprentice', 'approach', 'apps', 'april', 'aquaculture', 'aquatic', 'arabic', 'aragatsotn', 'ararat', 'archaeologist', 'archhitect', 'architect', 'architectural', 'architecture', 'archive', 'archiving', 'ardi', 'area', 'aregak', 'arm', 'armavir', 'armenia', 'armeniainformation', 'armenian', 'army', 'art', 'artashat', 'artik', 'artist', 'artsakh', 'asco', 'ashtarak', 'asia', 'asic', 'asp', 'aspect', 'aspn', 'assembly', 'assessment', 'assessor', 'asset', 'assist', 'assistance', 'assistant', 'assistat', 'assisting', 'assitant', 'associate', 'association', 'assuarance', 'assurance', 'asterisk', 'astp', 'atcredit', 'atg', 'athgo', 'atl', 'atlas', 'atm', 'attendant', 'attestation', 'attn', 'attorney', 'attraction', 'aua', 'audio', 'audiovisual', 'audit', 'auditing', 'auditor', 'audtior', 'authenticator', 'auto', 'autocad', 'automated', 'automatic', 'automation', 'automotive', 'autumn', 'auxiliary', 'avan', 'avet', 'award', 'awareness', 'awp', 'ax', 'aygavan', 'azerbaijan', 'ba', 'baby', 'babysitter', 'back', 'backend', 'background', 'backhaul', 'backhoe', 'baker', 'bakery', 'baldinini', 'bank', 'banker', 'banking', 'bankmail', 'bankruptcy', 'bar', 'barista', 'barman', 'bartender', 'base', 'based', 'baseline', 'basic', 'basin', 'basis', 'bb', 'bc', 'bcc', 'bd', 'beauty', 'becd', 'bed', 'belgium', 'bell', 'bellman', 'ben', 'benefit', 'beverage', 'bi', 'bid', 'bilateral', 'biling', 'billing', 'biochemist', 'biodiversity', 'biological', 'biologist', 'biomedicine', 'biotechnology', 'bird', 'bitrix', 'blackberry', 'block', 'blog', 'board', 'body', 'boiler', 'booking', 'bookkeeper', 'bookkepeer', 'border', 'bottling', 'boutique', 'boy', 'branch', 'brand', 'branding', 'bread', 'breakfast', 'breathing', 'breeder', 'breeding', 'brewery', 'bridge', 'broadband', 'broadcasting', 'broker', 'brokerage', 'brsc', 'brucellosis', 'brussels', 'bs', 'bsibm', 'bsp', 'btl', 'btrp', 'budget', 'budgeting', 'buffet', 'build', 'builder', 'building', 'bulletin', 'bursar', 'busines', 'business', 'buyer', 'buying', 'cabinet', 'cad', 'cadastre', 'cae', 'caf', 'cafe', 'calculation', 'calibration', 'call', 'calling', 'cam', 'campaign', 'campaigning', 'canada', 'cancelled', 'canned', 'canning', 'capability', 'capacity', 'capex', 'capital', 'car', 'card', 'cardholder', 'cardiologist', 'cardiology', 'cardiologyst', 'care', 'caretaker', 'carfleet', 'cargo', 'caring', 'caritas', 'carrier', 'cartoon', 'case', 'cash', 'cashier', 'catalogue', 'category', 'catering', 'caucasus', 'cba', 'cbd', 'cc', 'ccg', 'ccm', 'cct', 'cedc', 'ceed', 'center', 'central', 'centralized', 'centre', 'century', 'ceo', 'certificate', 'certification', 'certified', 'ceu', 'cf', 'cfa', 'cfo', 'cgi', 'chain', 'chair', 'chairman', 'challenge', 'chambarak', 'championship', 'change', 'changed', 'channel', 'chap', 'charentsavan', 'charge', 'chargeback', 'charging', 'chat', 'chauffeur', 'che', 'check', 'cheef', 'cheese', 'chef', 'cheif', 'chemical', 'chemist', 'chief', 'child', 'childhood', 'childrens', 'chinese', 'chocolate', 'christian', 'ci', 'cif', 'cinema', 'circuit', 'circulation', 'cisco', 'cist', 'citizen', 'civic', 'civil', 'claim', 'class', 'classification', 'clean', 'cleaner', 'cleaning', 'clearance', 'clerk', 'client', 'climate', 'climber', 'clinic', 'clinical', 'clip', 'cloud', 'club', 'cluster', 'cm', 'cnet', 'co', 'coach', 'code', 'coder', 'coding', 'coffee', 'collaboration', 'collateral', 'collection', 'collector', 'college', 'collegial', 'combat', 'combating', 'combining', 'command', 'commerce', 'commercial', 'commissary', 'commission', 'commitment', 'committee', 'commodity', 'communcation', 'communication', 'communicator', 'community', 'company', 'comparative', 'comparison', 'compensation', 'competitive', 'competitiveness', 'compiler', 'complaint', 'complex', 'compliance', 'component', 'computer', 'computing', 'concept', 'concierge', 'conditioning', 'conduct', 'conducting', 'conductor', 'confectioner', 'confectionery', 'conference', 'configuration', 'conflict', 'congenital', 'congress', 'connection', 'connectivity', 'conservation', 'consolidated', 'constraint', 'construction', 'constructor', 'consulant', 'consultancy', 'consultant', 'consultation', 'consulting', 'consumer', 'contact', 'container', 'content', 'context', 'contract', 'contractor', 'contractual', 'control', 'controler', 'controller', 'controlling', 'convention', 'convergent', 'conversation', 'conveyer', 'coo', 'cook', 'cooling', 'coop', 'cooperation', 'cooperative', 'coordiantor', 'coordinating', 'coordination', 'coordinatior', 'coordinator', 'cop', 'copper', 'copy', 'copywriter', 'core', 'corner', 'corp', 'corporate', 'corporation', 'corporative', 'correspondence', 'correspondent', 'corridor', 'corruption', 'cosmetic', 'cosmetologist', 'cost', 'costing', 'council', 'counsel', 'counselling', 'counsellor', 'counselor', 'country', 'courier', 'course', 'court', 'cover', 'covering', 'cp', 'craft', 'crane', 'cre', 'creative', 'creator', 'credit', 'crediting', 'creditor', 'crime', 'criminal', 'crisis', 'critical', 'crm', 'crusher', 'crystal', 'cs', 'csc', 'cso', 'csql', 'csr', 'cto', 'cube', 'cuisine', 'cultural', 'culture', 'cum', 'curator', 'currency', 'current', 'curriculum', 'custodian', 'custom', 'customer', 'cybercrime', 'cyclotron', 'cyd', 'czech', 'dafi', 'daily', 'dairy', 'damage', 'dance', 'data', 'database', 'date', 'day', 'db', 'dba', 'dceo', 'dcfta', 'dcop', 'deadline', 'deal', 'dealer', 'dealing', 'dean', 'debate', 'debt', 'debtor', 'decentralization', 'decision', 'decor', 'decorator', 'deep', 'deepening', 'defence', 'defender', 'defense', 'delegate', 'delinquency', 'delinquent', 'delivering', 'delivery', 'delphi', 'democracy', 'democratic', 'democratisation', 'democratization', 'demographic', 'dentist', 'department', 'deposit', 'deputy', 'description', 'design', 'designer', 'desk', 'desktop', 'detection', 'deterring', 'develop', 'develope', 'developer', 'developing', 'developmant', 'development', 'device', 'devision', 'devops', 'dhtml', 'diagnostic', 'diagnostics', 'dialogue', 'diaspora', 'diesel', 'dietitian', 'digital', 'digitization', 'diligence', 'dilijan', 'diplomacy', 'direct', 'direction', 'director', 'directorate', 'directory', 'disability', 'disaster', 'discourse', 'discussion', 'disease', 'dispatcher', 'dispetcher', 'display', 'dispute', 'dissemination', 'distance', 'distant', 'distributed', 'distribution', 'distributor', 'district', 'diversity', 'division', 'dl', 'dme', 'dns', 'doctor', 'document', 'documentary', 'documentation', 'documenter', 'doka', 'domain', 'domestic', 'done', 'donor', 'doorman', 'dotcom', 'downscaling', 'dr', 'drafting', 'draftsman', 'drainage', 'dried', 'drink', 'driver', 'drr', 'drug', 'drupal', 'dsp', 'dubbing', 'duct', 'due', 'duty', 'dynamic', 'dzor', 'eac', 'early', 'earthmoving', 'earthwork', 'eastern', 'eca', 'echmiadzin', 'ecologist', 'ecommerce', 'econometric', 'econometrics', 'economic', 'economical', 'economics', 'economist', 'economy', 'ed', 'eda', 'edition', 'editor', 'editorial', 'education', 'educational', 'educationusa', 'educator', 'ee', 'effectiveness', 'efficiency', 'efficient', 'egar', 'egineer', 'egovernance', 'eia', 'eiti', 'elaboration', 'election', 'electrical', 'electrician', 'electricity', 'electromechanical', 'electronic', 'electronics', 'elementary', 'elt', 'email', 'emarketing', 'embedded', 'emergency', 'emission', 'employee', 'employment', 'empowerment', 'enabled', 'enabling', 'end', 'endocrinologist', 'energy', 'enforcement', 'eng', 'engagement', 'engine', 'engineer', 'engineering', 'english', 'enpard', 'enpi', 'enrichment', 'enrollment', 'ensuring', 'enterprise', 'entertainment', 'entrepreneur', 'entrepreneurship', 'entry', 'environment', 'environmental', 'epidemiologist', 'epidemiology', 'equal', 'equality', 'equipment', 'equity', 'equivalent', 'erlang', 'erosion', 'erp', 'error', 'escort', 'escrow', 'essential', 'establishing', 'establishment', 'estate', 'estimation', 'estimator', 'etchmiadzin', 'ethic', 'etiquette', 'etl', 'ett', 'ettl', 'eu', 'euag', 'eurasia', 'eurasian', 'european', 'evaluation', 'evaluator', 'evangelist', 'evening', 'event', 'exact', 'exam', 'examination', 'examiner', 'excellence', 'exchange', 'execution', 'executive', 'exercise', 'expansion', 'expatriate', 'expediter', 'experience', 'experienced', 'expert', 'expertise', 'exploration', 'export', 'exposure', 'express', 'expression', 'extended', 'extension', 'exterior', 'external', 'externship', 'extractive', 'eye', 'fa', 'facebook', 'facilitation', 'facilitator', 'facility', 'facing', 'factoring', 'factory', 'factsheet', 'faculty', 'fair', 'fairwild', 'faith', 'family', 'fao', 'farm', 'farmer', 'farsi', 'fashion', 'fast', 'fastfood', 'fdi', 'fea', 'federation', 'feedback', 'feldsher', 'fellow', 'fianance', 'fiber', 'field', 'fieldwork', 'file', 'filler', 'filling', 'film', 'final', 'finance', 'financial', 'financier', 'financing', 'fire', 'fireman', 'firm', 'firmware', 'first', 'fiscal', 'fish', 'fishfarm', 'fitness', 'fitter', 'fix', 'fixed', 'flagship', 'flash', 'flasher', 'flavour', 'fleet', 'flesh', 'flex', 'floor', 'flotation', 'flotator', 'flow', 'fm', 'fmcg', 'food', 'force', 'forced', 'forecast', 'forecasting', 'foreign', 'foreman', 'forest', 'forex', 'formalization', 'forming', 'forum', 'forward', 'forwarding', 'fostering', 'foundation', 'founder', 'fpga', 'framework', 'franchise', 'franchisee', 'fraud', 'free', 'freebsd', 'freedom', 'freehand', 'freelance', 'freelancer', 'freight', 'french', 'frequency', 'front', 'frontend', 'fruit', 'fsdp', 'fsn', 'ftf', 'full', 'function', 'functional', 'fund', 'funded', 'funding', 'fundraiser', 'fundraising', 'furniture', 'future', 'ga', 'gaap', 'game', 'gap', 'garage', 'gardener', 'garment', 'gas', 'gavar', 'gegharkunik', 'gegharqunik', 'gem', 'gemstone', 'gender', 'general', 'generalist', 'generation', 'genetic', 'genocide', 'geologist', 'geomarketing', 'georgia', 'georgian', 'german', 'germany', 'gharabagh', 'ghg', 'gi', 'giz', 'global', 'gm', 'gnoseological', 'goldsmith', 'good', 'goris', 'gortsaranain', 'governance', 'governess', 'government', 'grade', 'graduate', 'graduation', 'grafik', 'grail', 'grant', 'grape', 'graphic', 'graphical', 'greater', 'green', 'greenhouse', 'groovie', 'ground', 'groundwater', 'group', 'growth', 'gsgp', 'gtc', 'guarantee', 'guaranty', 'guard', 'guest', 'gui', 'guide', 'guideline', 'guru', 'gynaecologist', 'gyumri', 'ha', 'hachn', 'hai', 'hairdresser', 'hall', 'handbag', 'handler', 'handling', 'handyman', 'hapnk', 'hardware', 'head', 'headmaster', 'health', 'healthcare', 'healthy', 'heart', 'heating', 'heavy', 'help', 'helpdesk', 'helper', 'herb', 'herbal', 'hexagon', 'hfh', 'high', 'higher', 'highway', 'hilti', 'hiv', 'home', 'horeca', 'hospital', 'hostess', 'hosting', 'hot', 'hotel', 'hotline', 'house', 'household', 'housekeeper', 'housekeeping', 'houseman', 'housing', 'hp', 'hpc', 'hplc', 'hr', 'hrazdan', 'hrci', 'hrm', 'html', 'hub', 'human', 'humanitarian', 'hunan', 'hvac', 'hw', 'hydraulic', 'hydro', 'hydrobiologist', 'hydrologist', 'hygiene', 'iatp', 'ibt', 'ic', 'ict', 'icwb', 'id', 'identical', 'identification', 'iec', 'ielts', 'ifi', 'ifrs', 'ihl', 'ii', 'iii', 'ijevan', 'illustrator', 'image', 'imaging', 'immigrant', 'immigration', 'immunization', 'impact', 'implementation', 'implementer', 'import', 'important', 'improved', 'improvement', 'improving', 'income', 'incoming', 'incorporation', 'increasing', 'independent', 'indexer', 'indicator', 'indirect', 'individual', 'industrial', 'industry', 'informatica', 'informatics', 'information', 'informational', 'infrastructure', 'initiative', 'inl', 'innovation', 'innovative', 'input', 'inspection', 'inspector', 'inspectorate', 'installation', 'installer', 'institute', 'institution', 'institutional', 'instructional', 'instructor', 'instrument', 'instrumentation', 'instumintation', 'insurance', 'integrated', 'integration', 'integrity', 'inteligence', 'intelligence', 'intensive', 'intensivist', 'interaction', 'interconnect', 'interconnection', 'intercultural', 'interface', 'interior', 'intermediate', 'intermediation', 'intern', 'internal', 'international', 'internatioonal', 'internet', 'internship', 'interpreter', 'intervention', 'interview', 'interviewer', 'introducing', 'introduction', 'inventory', 'investigating', 'investigative', 'investment', 'investor', 'invitro', 'invoicing', 'involvement', 'involver', 'involving', 'io', 'ip', 'ipad', 'iphone', 'iqa', 'irm', 'irregular', 'irrigation', 'isp', 'isr', 'issuance', 'issue', 'issuing', 'italian', 'iwrm', 'java', 'javascript', 'jee', 'jeweler', 'jeweller', 'jewellery', 'jewelry', 'jfdp', 'job', 'journal', 'journalism', 'journalist', 'judicial', 'judiciary', 'juice', 'junior', 'justice', 'kad', 'kajaran', 'kam', 'kamo', 'kapan', 'karabakh', 'keeper', 'keeping', 'kernel', 'key', 'kid', 'kindergarten', 'kitchen', 'knowledge', 'komitas', 'korean', 'kotayk', 'kotayq', 'kpi', 'kumayri', 'kurdish', 'kurt', 'lab', 'label', 'labor', 'laboratory', 'labour', 'labview', 'lamp', 'lan', 'land', 'landmine', 'landscape', 'landscaper', 'language', 'languagetranslator', 'large', 'laser', 'latin', 'laundering', 'laundry', 'law', 'lawer', 'lawyer', 'layer', 'layout', 'lcf', 'lcs', 'lead', 'leader', 'leadership', 'leading', 'learned', 'learner', 'learning', 'leasing', 'leather', 'lecture', 'lecturer', 'led', 'leed', 'legal', 'legislation', 'legislative', 'lending', 'lesson', 'level', 'lfp', 'lg', 'lgbt', 'liability', 'liaison', 'librarian', 'library', 'licensed', 'life', 'lighting', 'limit', 'limitation', 'line', 'linguist', 'linguistic', 'link', 'linkage', 'linux', 'lionbridge', 'liquidity', 'list', 'literacy', 'litigation', 'livelihood', 'loader', 'loan', 'lobby', 'local', 'locksmith', 'logic', 'logistic', 'logistician', 'logistics', 'lori', 'loss', 'lot', 'low', 'loyalty', 'lycos', 'maac', 'mab', 'machine', 'machinery', 'macintosh', 'macroeconomic', 'macroeconomics', 'macroeconomist', 'macrophytes', 'made', 'magento', 'mail', 'main', 'mainstreaming', 'maintaining', 'maintenance', 'make', 'maker', 'making', 'malatia', 'mall', 'man', 'management', 'manager', 'managerial', 'managing', 'managment', 'mangaer', 'manger', 'manual', 'manufacture', 'manufacturing', 'mapping', 'marag', 'market', 'marketer', 'marketing', 'marketologist', 'marketplace', 'martuni', 'marz', 'marzes', 'masis', 'mass', 'master', 'material', 'materiological', 'maternal', 'maternity', 'math', 'mathematician', 'mathematics', 'max', 'mba', 'mbbg', 'mca', 'mch', 'mdgr', 'mdr', 'measure', 'meat', 'mechanic', 'mechanical', 'mechanism', 'mechanist', 'mediaplanning', 'medical', 'medicine', 'medium', 'meeting', 'meghri', 'meh', 'member', 'membership', 'memory', 'mental', 'mentor', 'merchandise', 'merchandiser', 'merchandising', 'merchandize', 'merchandizing', 'merchant', 'merger', 'messaging', 'messenger', 'meter', 'method', 'methodological', 'methodologist', 'methodology', 'metric', 'metsamor', 'mfc', 'mi', 'mic', 'micro', 'microbiologist', 'microeconomic', 'microfinance', 'microlending', 'microloan', 'microsoft', 'mid', 'midwife', 'migrant', 'migration', 'mild', 'mill', 'millennium', 'mine', 'miner', 'mining', 'minister', 'ministry', 'minority', 'mission', 'mitigation', 'mmeghri', 'mmt', 'mobile', 'mobilization', 'mobilizer', 'mobilizing', 'model', 'modeler', 'modeling', 'modeller', 'modelling', 'modelmaker', 'moderator', 'modern', 'modified', 'module', 'moes', 'monetary', 'money', 'monitor', 'monitoring', 'mortgage', 'moscow', 'moskovyan', 'motion', 'mountainous', 'mounted', 'mounter', 'mp', 'mri', 'mse', 'msf', 'msme', 'multimedia', 'multisectoral', 'municipal', 'museum', 'music', 'mutual', 'mvc', 'mysql', 'mystery', 'na', 'nac', 'nagorno', 'nan', 'nanny', 'nanometer', 'nation', 'national', 'nationality', 'native', 'natural', 'nature', 'nav', 'ncd', 'ncvetd', 'near', 'negotiation', 'negotiatior', 'negotiator', 'net', 'netherlands', 'network', 'networking', 'new', 'news', 'newscast', 'newsfeed', 'newsletter', 'newsroom', 'newswriter', 'ngo', 'ni', 'night', 'nima', 'nob', 'noc', 'noise', 'non', 'nork', 'normative', 'north', 'notary', 'note', 'notice', 'nova', 'noyemberyan', 'np', 'npc', 'npl', 'npo', 'nuclear', 'numerator', 'nurse', 'nursery', 'nushikyan', 'nutrition', 'objective', 'observer', 'obtain', 'occupational', 'ocd', 'od', 'offer', 'office', 'officer', 'official', 'offier', 'oil', 'ojsc', 'olympiad', 'ombudsman', 'oncologist', 'online', 'oop', 'open', 'opengl', 'operating', 'operation', 'operational', 'operative', 'operator', 'opportunity', 'ops', 'optic', 'optical', 'optimization', 'optimum', 'option', 'oracle', 'orchard', 'order', 'ordinary', 'ordinator', 'organic', 'organisational', 'organization', 'organizational', 'organizer', 'oriented', 'os', 'osh', 'otc', 'outdoor', 'outgoing', 'outreach', 'outreacher', 'outsourcearmenia', 'outsourcing', 'overcoming', 'oversight', 'owner', 'pa', 'packet', 'paediatric', 'page', 'pagemaker', 'paid', 'painter', 'panel', 'paper', 'paralegal', 'parliamentary', 'part', 'participation', 'participatory', 'partner', 'partnership', 'party', 'passive', 'pastry', 'patent', 'patient', 'patrol', 'pay', 'payable', 'payment', 'payroll', 'pb', 'pbx', 'pc', 'pcb', 'pcu', 'pd', 'peace', 'peacebuilding', 'peacemaker', 'pedagogic', 'pedagogical', 'pedagogue', 'pediatric', 'peer', 'penetration', 'penitentiary', 'pension', 'performance', 'performing', 'perfume', 'perl', 'permit', 'persian', 'person', 'personal', 'personnel', 'perspective', 'peugeot', 'pfm', 'pfp', 'pfs', 'pharmaceutical', 'pharmacist', 'pharmacologist', 'pharmacovigilance', 'pharmacy', 'phd', 'philanthropy', 'philately', 'phlebotomist', 'phone', 'photo', 'photographer', 'photojournalism', 'photoshop', 'php', 'physical', 'physician', 'physicist', 'phytobenthos', 'phytoplankton', 'pia', 'pilate', 'pilot', 'piu', 'pl', 'place', 'plan', 'planner', 'planning', 'plant', 'planted', 'plastic', 'platform', 'playground', 'plc', 'pledge', 'plus', 'pm', 'pmdi', 'pmo', 'pmu', 'po', 'point', 'policy', 'poligrapher', 'political', 'politics', 'pollution', 'polymer', 'polyvalent', 'pool', 'poor', 'portal', 'portfolio', 'position', 'possessing', 'post', 'postal', 'postbank', 'postbanking', 'postman', 'postpaid', 'potential', 'poverty', 'power', 'ppc', 'ppp', 'pr', 'practical', 'practice', 'practicing', 'practitioner', 'pre', 'precision', 'preliminary', 'premium', 'preparation', 'preparator', 'preparatory', 'preparedness', 'presales', 'preschool', 'preseller', 'presentation', 'president', 'press', 'preventable', 'prevention', 'prfessional', 'pricing', 'primary', 'prime', 'principal', 'principle', 'print', 'printed', 'printer', 'printing', 'prip', 'priu', 'private', 'privatization', 'privileged', 'prize', 'proactive', 'problem', 'proccesing', 'procedural', 'procedure', 'process', 'processing', 'processor', 'procredit', 'procurement', 'producer', 'product', 'production', 'productivity', 'professional', 'professor', 'profile', 'profit', 'progam', 'prognoss', 'program', 'programe', 'programmatic', 'programme', 'programmer', 'programming', 'progress', 'project', 'projection', 'projectionist', 'promoter', 'promoting', 'promotion', 'property', 'proposal', 'prosperity', 'protected', 'protecting', 'protection', 'protocol', 'provider', 'providing', 'provision', 'psd', 'psr', 'pssr', 'psychologist', 'psychosocial', 'pt', 'pub', 'public', 'publicity', 'publishing', 'pump', 'puppet', 'purchase', 'purchasing', 'python', 'qa', 'qc', 'qe', 'qt', 'qualification', 'qualified', 'qualitative', 'quality', 'quantitative', 'quantity', 'quarry', 'quarterly', 'questionnaire', 'ra', 'radio', 'radiologist', 'radiotechnology', 'rail', 'raising', 'rapid', 'rate', 'rating', 'raw', 'rbd', 'rbwm', 'rd', 'rdc', 'reader', 'readiness', 'ready', 'real', 'reality', 'realtor', 'reanimatology', 'rec', 'receivable', 'receivables', 'recent', 'reception', 'receptionist', 'recipient', 'record', 'recording', 'recourse', 'recovery', 'recruiter', 'recruitment', 'rector', 'redesign', 'reduced', 'reducing', 'reduction', 'reference', 'referendum', 'referent', 'reform', 'refrigeration', 'refugee', 'refurbish', 'region', 'regional', 'registrar', 'registration', 'registry', 'regoinal', 'regulating', 'regulation', 'regulator', 'regulatory', 'rehabilitation', 'related', 'relation', 'relationship', 'release', 'religion', 'remote', 'remuneration', 'rendering', 'renewable', 'rental', 'repair', 'replacement', 'replacing', 'replenishment', 'report', 'reporter', 'reporting', 'represenative', 'representation', 'representative', 'representing', 'reproductive', 'republic', 'request', 'required', 'research', 'researcher', 'reseller', 'reservation', 'resettlement', 'residence', 'resident', 'residential', 'resistant', 'resource', 'response', 'responsibility', 'responsible', 'restaurant', 'restoration', 'restructuring', 'result', 'retail', 'retailer', 'retention', 'returning', 'revenue', 'review', 'reviewing', 'revision', 'revival', 'rf', 'rff', 'rh', 'rhiycauc', 'ria', 'right', 'rim', 'risk', 'river', 'rmd', 'road', 'roaming', 'robotics', 'rockstar', 'role', 'room', 'ropeway', 'route', 'rsd', 'rta', 'rtl', 'ru', 'ruby', 'rule', 'running', 'rural', 'russia', 'russian', 'rx', 'sa', 'safeguard', 'safety', 'salary', 'sale', 'salesman', 'salesperson', 'saleswoman', 'salon', 'sample', 'sampling', 'sandoz', 'sanitary', 'sanitation', 'sanoshops', 'sap', 'sayat', 'scada', 'scale', 'scheduling', 'schematic', 'scheme', 'school', 'schork', 'scibm', 'science', 'scientific', 'scientist', 'scm', 'scoring', 'scr', 'scram', 'scratch', 'screening', 'scripting', 'scriptwriter', 'scrum', 'search', 'second', 'secondary', 'secretarial', 'secretariat', 'secretary', 'section', 'sector', 'security', 'seed', 'seg', 'segment', 'self', 'seller', 'selling', 'sem', 'seminar', 'senior', 'seo', 'server', 'service', 'servicing', 'session', 'set', 'setting', 'settlement', 'setup', 'sevan', 'several', 'sewerage', 'sex', 'sfo', 'sg', 'share', 'sharepoint', 'sharing', 'shed', 'shelter', 'shen', 'shengavit', 'shift', 'shipping', 'shirak', 'shock', 'shoe', 'shop', 'shopper', 'shopping', 'short', 'shot', 'show', 'showroom', 'side', 'sign', 'signal', 'silicon', 'silverlight', 'simultaneous', 'sio', 'sip', 'sisian', 'site', 'sixt', 'skid', 'skill', 'sm', 'small', 'smart', 'smb', 'sme', 'smm', 'sncos', 'social', 'socialization', 'society', 'sociological', 'sociologist', 'sociology', 'softphone', 'software', 'soho', 'soil', 'solaris', 'solution', 'sorting', 'sou', 'sound', 'source', 'south', 'southern', 'sox', 'spa', 'spanish', 'spare', 'spcp', 'speaker', 'speaking', 'special', 'specialist', 'specialty', 'specification', 'specilalist', 'speech', 'spesialist', 'sphere', 'spitak', 'sponsorship', 'sport', 'sposnsorship', 'spring', 'sqa', 'sql', 'sr', 'srecialist', 'srh', 'srsg', 'srtuctural', 'stability', 'stack', 'staff', 'staffer', 'staffing', 'standard', 'standardization', 'standing', 'startegies', 'starting', 'startup', 'state', 'statement', 'static', 'station', 'statistic', 'statistical', 'statistician', 'stay', 'stc', 'steer', 'step', 'stepanakert', 'stepanavan', 'steward', 'stewardess', 'stg', 'stock', 'stockman', 'stone', 'storage', 'store', 'storekeeper', 'storeman', 'storeroom', 'story', 'strand', 'strategic', 'strategist', 'strategy', 'strength', 'strengthen', 'strengthening', 'structural', 'structure', 'structuring', 'stt', 'stta', 'student', 'studio', 'study', 'sub', 'subcomponent', 'subdivision', 'submicron', 'submitting', 'subproject', 'subscribtion', 'subscription', 'subsystem', 'suitably', 'summer', 'summit', 'sun', 'superintendent', 'supermarket', 'superviser', 'supervision', 'supervisor', 'supplement', 'supplementary', 'supplied', 'supplier', 'supply', 'support', 'supporter', 'supporting', 'surface', 'surveillance', 'survey', 'surveyor', 'sustainability', 'sustainable', 'sw', 'swatch', 'swedish', 'swift', 'switching', 'symbian', 'symposium', 'synthesis', 'syrian', 'sysadmin', 'system', 'sysytems', 'syunik', 'ta', 'tactic', 'taiex', 'talent', 'talin', 'targeted', 'tariff', 'task', 'tavush', 'tax', 'taxation', 'taxpayer', 'tb', 'tbd', 'tc', 'tchambarak', 'tdf', 'teacher', 'teaching', 'team', 'tech', 'techincal', 'technic', 'technical', 'technician', 'technics', 'technological', 'technologist', 'technology', 'technopark', 'tecnical', 'teenager', 'tefl', 'telecom', 'telecommunication', 'telemarketer', 'telephone', 'telephony', 'telesales', 'teller', 'temporary', 'tender', 'term', 'terminal', 'territorial', 'territory', 'terrorism', 'test', 'tester', 'testing', 'textile', 'texture', 'th', 'theatre', 'theory', 'therapist', 'thinking', 'thought', 'threat', 'ticket', 'ticketing', 'time', 'tims', 'tire', 'tirm', 'title', 'toefl', 'tolerance', 'tool', 'top', 'topographer', 'toshiba', 'tour', 'tourism', 'tournament', 'toward', 'tower', 'trace', 'tracing', 'track', 'tracking', 'trade', 'trader', 'trading', 'traffic', 'trafficking', 'trainee', 'traineeship', 'trainer', 'training', 'transaction', 'transactional', 'transactons', 'transboundary', 'transfer', 'transformation', 'transformational', 'transition', 'translation', 'translator', 'transmission', 'transparency', 'transport', 'transportation', 'travel', 'trdp', 'treasurer', 'treasury', 'trial', 'troika', 'troubleshooting', 'truck', 'trust', 'trustee', 'truthing', 'tsaghkahovit', 'tsapatagh', 'tse', 'tshambarak', 'tuberculosis', 'tumo', 'turkish', 'turpanjian', 'tutor', 'tv', 'twe', 'twinning', 'two', 'type', 'ubuntu', 'uco', 'ugrad', 'ui', 'ultrasound', 'un', 'unct', 'undaf', 'undergraduate', 'underground', 'underwriter', 'underwriting', 'undp', 'unicef', 'unified', 'union', 'unit', 'united', 'university', 'unix', 'unrc', 'unv', 'update', 'upgrading', 'uplistsikhe', 'upper', 'urban', 'usa', 'usarmenia', 'use', 'used', 'user', 'usg', 'usgaap', 'utility', 'utopian', 'uv', 'ux', 'va', 'vacancy', 'vaccine', 'vacuum', 'validation', 'valuation', 'value', 'valuer', 'van', 'vanadzor', 'vardenis', 'variation', 'vayk', 'vayots', 'vb', 'vba', 'vbscript', 'vct', 'vedi', 'vegetable', 'vehicle', 'ventilation', 'verification', 'veterinarian', 'veterinary', 'vhdl', 'vibration', 'vice', 'video', 'viewbook', 'village', 'violin', 'vip', 'virage', 'virtual', 'visa', 'visibility', 'vision', 'visit', 'visitarm', 'visitor', 'visual', 'visualizer', 'vizualizator', 'vlac', 'vlsi', 'vmd', 'vocational', 'voice', 'voip', 'voltage', 'voluntary', 'volunteer', 'volunteering', 'voter', 'vpn', 'vsa', 'vsr', 'vulnerability', 'waiter', 'waitress', 'warehouse', 'warehouseman', 'warranty', 'wash', 'wastewater', 'watchdog', 'watchmaker', 'watchman', 'water', 'watershed', 'wathab', 'wb', 'wealth', 'web', 'webmaster', 'website', 'welcome', 'welding', 'welfare', 'wholesale', 'window', 'winemaker', 'wink', 'winning', 'wireless', 'within', 'wms', 'woman', 'wood', 'wordpress', 'work', 'worker', 'workforce', 'working', 'workplace', 'workplan', 'workshop', 'world', 'worthiness', 'wostayn', 'wpf', 'write', 'writer', 'writing', 'written', 'wsa', 'wtm', 'wto', 'ya', 'year', 'yearly', 'yeghegnadzor', 'yeravan', 'yerevan', 'yexvard', 'yield', 'yoga', 'young', 'youth', 'zang', 'zend', 'zonal', 'zone', 'zooplankton', 'zvartnots']\n"
          ]
        },
        {
          "output_type": "stream",
          "name": "stderr",
          "text": [
            "/usr/local/lib/python3.7/dist-packages/sklearn/utils/deprecation.py:87: FutureWarning: Function get_feature_names is deprecated; get_feature_names is deprecated in 1.0 and will be removed in 1.2. Please use get_feature_names_out instead.\n",
            "  warnings.warn(msg, category=FutureWarning)\n"
          ]
        }
      ]
    },
    {
      "metadata": {
        "trusted": true,
        "colab": {
          "base_uri": "https://localhost:8080/"
        },
        "id": "UkpbiM-zkYvs",
        "outputId": "13728314-46b5-485e-bb00-972ed417fb4a"
      },
      "cell_type": "code",
      "source": [
        "print('Total number of tokens/words in all the job titles - ', len(count_vect.get_feature_names()))"
      ],
      "execution_count": 47,
      "outputs": [
        {
          "output_type": "stream",
          "name": "stdout",
          "text": [
            "Total number of tokens/words in all the job titles -  2542\n"
          ]
        }
      ]
    },
    {
      "metadata": {
        "trusted": true,
        "colab": {
          "base_uri": "https://localhost:8080/",
          "height": 300
        },
        "id": "xr4wZmLIkYvs",
        "outputId": "99ac7d0f-98b0-443c-ca52-e35c0b4ff19a"
      },
      "cell_type": "code",
      "source": [
        "temp_df =  pd.DataFrame(token.toarray(), columns=count_vect.get_feature_names())\n",
        "temp_df.tail()"
      ],
      "execution_count": 48,
      "outputs": [
        {
          "output_type": "execute_result",
          "data": {
            "text/plain": [
              "       aacas  abap  abatement  abattoir  abkhazia  abovyan  abuse  academy  \\\n",
              "18887      0     0          0         0         0        0      0        0   \n",
              "18888      0     0          0         0         0        0      0        0   \n",
              "18889      0     0          0         0         0        0      0        0   \n",
              "18890      0     0          0         0         0        0      0        0   \n",
              "18891      0     0          0         0         0        0      0        0   \n",
              "\n",
              "       acca  access  ...  yield  yoga  young  youth  zang  zend  zonal  zone  \\\n",
              "18887     0       0  ...      0     0      0      0     0     0      0     0   \n",
              "18888     0       0  ...      0     0      0      0     0     0      0     0   \n",
              "18889     0       0  ...      0     0      0      0     0     0      0     0   \n",
              "18890     0       0  ...      0     0      0      0     0     0      0     0   \n",
              "18891     0       0  ...      0     0      0      0     0     0      0     0   \n",
              "\n",
              "       zooplankton  zvartnots  \n",
              "18887            0          0  \n",
              "18888            0          0  \n",
              "18889            0          0  \n",
              "18890            0          0  \n",
              "18891            0          0  \n",
              "\n",
              "[5 rows x 2542 columns]"
            ],
            "text/html": [
              "\n",
              "  <div id=\"df-eddfa31c-2f85-4844-9dfa-4d05fbb9d97c\">\n",
              "    <div class=\"colab-df-container\">\n",
              "      <div>\n",
              "<style scoped>\n",
              "    .dataframe tbody tr th:only-of-type {\n",
              "        vertical-align: middle;\n",
              "    }\n",
              "\n",
              "    .dataframe tbody tr th {\n",
              "        vertical-align: top;\n",
              "    }\n",
              "\n",
              "    .dataframe thead th {\n",
              "        text-align: right;\n",
              "    }\n",
              "</style>\n",
              "<table border=\"1\" class=\"dataframe\">\n",
              "  <thead>\n",
              "    <tr style=\"text-align: right;\">\n",
              "      <th></th>\n",
              "      <th>aacas</th>\n",
              "      <th>abap</th>\n",
              "      <th>abatement</th>\n",
              "      <th>abattoir</th>\n",
              "      <th>abkhazia</th>\n",
              "      <th>abovyan</th>\n",
              "      <th>abuse</th>\n",
              "      <th>academy</th>\n",
              "      <th>acca</th>\n",
              "      <th>access</th>\n",
              "      <th>...</th>\n",
              "      <th>yield</th>\n",
              "      <th>yoga</th>\n",
              "      <th>young</th>\n",
              "      <th>youth</th>\n",
              "      <th>zang</th>\n",
              "      <th>zend</th>\n",
              "      <th>zonal</th>\n",
              "      <th>zone</th>\n",
              "      <th>zooplankton</th>\n",
              "      <th>zvartnots</th>\n",
              "    </tr>\n",
              "  </thead>\n",
              "  <tbody>\n",
              "    <tr>\n",
              "      <th>18887</th>\n",
              "      <td>0</td>\n",
              "      <td>0</td>\n",
              "      <td>0</td>\n",
              "      <td>0</td>\n",
              "      <td>0</td>\n",
              "      <td>0</td>\n",
              "      <td>0</td>\n",
              "      <td>0</td>\n",
              "      <td>0</td>\n",
              "      <td>0</td>\n",
              "      <td>...</td>\n",
              "      <td>0</td>\n",
              "      <td>0</td>\n",
              "      <td>0</td>\n",
              "      <td>0</td>\n",
              "      <td>0</td>\n",
              "      <td>0</td>\n",
              "      <td>0</td>\n",
              "      <td>0</td>\n",
              "      <td>0</td>\n",
              "      <td>0</td>\n",
              "    </tr>\n",
              "    <tr>\n",
              "      <th>18888</th>\n",
              "      <td>0</td>\n",
              "      <td>0</td>\n",
              "      <td>0</td>\n",
              "      <td>0</td>\n",
              "      <td>0</td>\n",
              "      <td>0</td>\n",
              "      <td>0</td>\n",
              "      <td>0</td>\n",
              "      <td>0</td>\n",
              "      <td>0</td>\n",
              "      <td>...</td>\n",
              "      <td>0</td>\n",
              "      <td>0</td>\n",
              "      <td>0</td>\n",
              "      <td>0</td>\n",
              "      <td>0</td>\n",
              "      <td>0</td>\n",
              "      <td>0</td>\n",
              "      <td>0</td>\n",
              "      <td>0</td>\n",
              "      <td>0</td>\n",
              "    </tr>\n",
              "    <tr>\n",
              "      <th>18889</th>\n",
              "      <td>0</td>\n",
              "      <td>0</td>\n",
              "      <td>0</td>\n",
              "      <td>0</td>\n",
              "      <td>0</td>\n",
              "      <td>0</td>\n",
              "      <td>0</td>\n",
              "      <td>0</td>\n",
              "      <td>0</td>\n",
              "      <td>0</td>\n",
              "      <td>...</td>\n",
              "      <td>0</td>\n",
              "      <td>0</td>\n",
              "      <td>0</td>\n",
              "      <td>0</td>\n",
              "      <td>0</td>\n",
              "      <td>0</td>\n",
              "      <td>0</td>\n",
              "      <td>0</td>\n",
              "      <td>0</td>\n",
              "      <td>0</td>\n",
              "    </tr>\n",
              "    <tr>\n",
              "      <th>18890</th>\n",
              "      <td>0</td>\n",
              "      <td>0</td>\n",
              "      <td>0</td>\n",
              "      <td>0</td>\n",
              "      <td>0</td>\n",
              "      <td>0</td>\n",
              "      <td>0</td>\n",
              "      <td>0</td>\n",
              "      <td>0</td>\n",
              "      <td>0</td>\n",
              "      <td>...</td>\n",
              "      <td>0</td>\n",
              "      <td>0</td>\n",
              "      <td>0</td>\n",
              "      <td>0</td>\n",
              "      <td>0</td>\n",
              "      <td>0</td>\n",
              "      <td>0</td>\n",
              "      <td>0</td>\n",
              "      <td>0</td>\n",
              "      <td>0</td>\n",
              "    </tr>\n",
              "    <tr>\n",
              "      <th>18891</th>\n",
              "      <td>0</td>\n",
              "      <td>0</td>\n",
              "      <td>0</td>\n",
              "      <td>0</td>\n",
              "      <td>0</td>\n",
              "      <td>0</td>\n",
              "      <td>0</td>\n",
              "      <td>0</td>\n",
              "      <td>0</td>\n",
              "      <td>0</td>\n",
              "      <td>...</td>\n",
              "      <td>0</td>\n",
              "      <td>0</td>\n",
              "      <td>0</td>\n",
              "      <td>0</td>\n",
              "      <td>0</td>\n",
              "      <td>0</td>\n",
              "      <td>0</td>\n",
              "      <td>0</td>\n",
              "      <td>0</td>\n",
              "      <td>0</td>\n",
              "    </tr>\n",
              "  </tbody>\n",
              "</table>\n",
              "<p>5 rows × 2542 columns</p>\n",
              "</div>\n",
              "      <button class=\"colab-df-convert\" onclick=\"convertToInteractive('df-eddfa31c-2f85-4844-9dfa-4d05fbb9d97c')\"\n",
              "              title=\"Convert this dataframe to an interactive table.\"\n",
              "              style=\"display:none;\">\n",
              "        \n",
              "  <svg xmlns=\"http://www.w3.org/2000/svg\" height=\"24px\"viewBox=\"0 0 24 24\"\n",
              "       width=\"24px\">\n",
              "    <path d=\"M0 0h24v24H0V0z\" fill=\"none\"/>\n",
              "    <path d=\"M18.56 5.44l.94 2.06.94-2.06 2.06-.94-2.06-.94-.94-2.06-.94 2.06-2.06.94zm-11 1L8.5 8.5l.94-2.06 2.06-.94-2.06-.94L8.5 2.5l-.94 2.06-2.06.94zm10 10l.94 2.06.94-2.06 2.06-.94-2.06-.94-.94-2.06-.94 2.06-2.06.94z\"/><path d=\"M17.41 7.96l-1.37-1.37c-.4-.4-.92-.59-1.43-.59-.52 0-1.04.2-1.43.59L10.3 9.45l-7.72 7.72c-.78.78-.78 2.05 0 2.83L4 21.41c.39.39.9.59 1.41.59.51 0 1.02-.2 1.41-.59l7.78-7.78 2.81-2.81c.8-.78.8-2.07 0-2.86zM5.41 20L4 18.59l7.72-7.72 1.47 1.35L5.41 20z\"/>\n",
              "  </svg>\n",
              "      </button>\n",
              "      \n",
              "  <style>\n",
              "    .colab-df-container {\n",
              "      display:flex;\n",
              "      flex-wrap:wrap;\n",
              "      gap: 12px;\n",
              "    }\n",
              "\n",
              "    .colab-df-convert {\n",
              "      background-color: #E8F0FE;\n",
              "      border: none;\n",
              "      border-radius: 50%;\n",
              "      cursor: pointer;\n",
              "      display: none;\n",
              "      fill: #1967D2;\n",
              "      height: 32px;\n",
              "      padding: 0 0 0 0;\n",
              "      width: 32px;\n",
              "    }\n",
              "\n",
              "    .colab-df-convert:hover {\n",
              "      background-color: #E2EBFA;\n",
              "      box-shadow: 0px 1px 2px rgba(60, 64, 67, 0.3), 0px 1px 3px 1px rgba(60, 64, 67, 0.15);\n",
              "      fill: #174EA6;\n",
              "    }\n",
              "\n",
              "    [theme=dark] .colab-df-convert {\n",
              "      background-color: #3B4455;\n",
              "      fill: #D2E3FC;\n",
              "    }\n",
              "\n",
              "    [theme=dark] .colab-df-convert:hover {\n",
              "      background-color: #434B5C;\n",
              "      box-shadow: 0px 1px 3px 1px rgba(0, 0, 0, 0.15);\n",
              "      filter: drop-shadow(0px 1px 2px rgba(0, 0, 0, 0.3));\n",
              "      fill: #FFFFFF;\n",
              "    }\n",
              "  </style>\n",
              "\n",
              "      <script>\n",
              "        const buttonEl =\n",
              "          document.querySelector('#df-eddfa31c-2f85-4844-9dfa-4d05fbb9d97c button.colab-df-convert');\n",
              "        buttonEl.style.display =\n",
              "          google.colab.kernel.accessAllowed ? 'block' : 'none';\n",
              "\n",
              "        async function convertToInteractive(key) {\n",
              "          const element = document.querySelector('#df-eddfa31c-2f85-4844-9dfa-4d05fbb9d97c');\n",
              "          const dataTable =\n",
              "            await google.colab.kernel.invokeFunction('convertToInteractive',\n",
              "                                                     [key], {});\n",
              "          if (!dataTable) return;\n",
              "\n",
              "          const docLinkHtml = 'Like what you see? Visit the ' +\n",
              "            '<a target=\"_blank\" href=https://colab.research.google.com/notebooks/data_table.ipynb>data table notebook</a>'\n",
              "            + ' to learn more about interactive tables.';\n",
              "          element.innerHTML = '';\n",
              "          dataTable['output_type'] = 'display_data';\n",
              "          await google.colab.output.renderOutput(dataTable, element);\n",
              "          const docLink = document.createElement('div');\n",
              "          docLink.innerHTML = docLinkHtml;\n",
              "          element.appendChild(docLink);\n",
              "        }\n",
              "      </script>\n",
              "    </div>\n",
              "  </div>\n",
              "  "
            ]
          },
          "metadata": {},
          "execution_count": 48
        }
      ]
    },
    {
      "metadata": {
        "trusted": true,
        "id": "0BJhktPFkYvs"
      },
      "cell_type": "code",
      "source": [
        "#count the accurence of each token in entire corpus\n",
        "count_df = temp_df.apply(lambda x : x.sum())"
      ],
      "execution_count": 49,
      "outputs": []
    },
    {
      "metadata": {
        "trusted": true,
        "id": "NYKMIsE2kYvt"
      },
      "cell_type": "code",
      "source": [
        "count_df = pd.DataFrame(count_df).reset_index()"
      ],
      "execution_count": 50,
      "outputs": []
    },
    {
      "metadata": {
        "trusted": true,
        "id": "5MEHDBipkYvt"
      },
      "cell_type": "code",
      "source": [
        "count_df.columns = ['Word', 'Count']"
      ],
      "execution_count": 51,
      "outputs": []
    },
    {
      "metadata": {
        "trusted": true,
        "id": "yAHZxDRwkYvt"
      },
      "cell_type": "code",
      "source": [
        "top_jobs = count_df.sort_values(by= 'Count', ascending=False)"
      ],
      "execution_count": 52,
      "outputs": []
    },
    {
      "metadata": {
        "trusted": true,
        "colab": {
          "base_uri": "https://localhost:8080/",
          "height": 363
        },
        "id": "Bl7GETO0kYvu",
        "outputId": "a8cc894a-c297-448a-e2f1-a0caf0f87eef"
      },
      "cell_type": "code",
      "source": [
        "top_jobs[:10]"
      ],
      "execution_count": 53,
      "outputs": [
        {
          "output_type": "execute_result",
          "data": {
            "text/plain": [
              "            Word  Count\n",
              "1382     manager   2587\n",
              "2134  specialist   2067\n",
              "661    developer   1942\n",
              "797     engineer   1601\n",
              "2053      senior   1490\n",
              "179    assistant   1234\n",
              "2115    software   1099\n",
              "2003        sale    855\n",
              "14    accountant    779\n",
              "649   department    742"
            ],
            "text/html": [
              "\n",
              "  <div id=\"df-e79dac9c-4033-4d5c-9cb3-1fd4dc6b9ed9\">\n",
              "    <div class=\"colab-df-container\">\n",
              "      <div>\n",
              "<style scoped>\n",
              "    .dataframe tbody tr th:only-of-type {\n",
              "        vertical-align: middle;\n",
              "    }\n",
              "\n",
              "    .dataframe tbody tr th {\n",
              "        vertical-align: top;\n",
              "    }\n",
              "\n",
              "    .dataframe thead th {\n",
              "        text-align: right;\n",
              "    }\n",
              "</style>\n",
              "<table border=\"1\" class=\"dataframe\">\n",
              "  <thead>\n",
              "    <tr style=\"text-align: right;\">\n",
              "      <th></th>\n",
              "      <th>Word</th>\n",
              "      <th>Count</th>\n",
              "    </tr>\n",
              "  </thead>\n",
              "  <tbody>\n",
              "    <tr>\n",
              "      <th>1382</th>\n",
              "      <td>manager</td>\n",
              "      <td>2587</td>\n",
              "    </tr>\n",
              "    <tr>\n",
              "      <th>2134</th>\n",
              "      <td>specialist</td>\n",
              "      <td>2067</td>\n",
              "    </tr>\n",
              "    <tr>\n",
              "      <th>661</th>\n",
              "      <td>developer</td>\n",
              "      <td>1942</td>\n",
              "    </tr>\n",
              "    <tr>\n",
              "      <th>797</th>\n",
              "      <td>engineer</td>\n",
              "      <td>1601</td>\n",
              "    </tr>\n",
              "    <tr>\n",
              "      <th>2053</th>\n",
              "      <td>senior</td>\n",
              "      <td>1490</td>\n",
              "    </tr>\n",
              "    <tr>\n",
              "      <th>179</th>\n",
              "      <td>assistant</td>\n",
              "      <td>1234</td>\n",
              "    </tr>\n",
              "    <tr>\n",
              "      <th>2115</th>\n",
              "      <td>software</td>\n",
              "      <td>1099</td>\n",
              "    </tr>\n",
              "    <tr>\n",
              "      <th>2003</th>\n",
              "      <td>sale</td>\n",
              "      <td>855</td>\n",
              "    </tr>\n",
              "    <tr>\n",
              "      <th>14</th>\n",
              "      <td>accountant</td>\n",
              "      <td>779</td>\n",
              "    </tr>\n",
              "    <tr>\n",
              "      <th>649</th>\n",
              "      <td>department</td>\n",
              "      <td>742</td>\n",
              "    </tr>\n",
              "  </tbody>\n",
              "</table>\n",
              "</div>\n",
              "      <button class=\"colab-df-convert\" onclick=\"convertToInteractive('df-e79dac9c-4033-4d5c-9cb3-1fd4dc6b9ed9')\"\n",
              "              title=\"Convert this dataframe to an interactive table.\"\n",
              "              style=\"display:none;\">\n",
              "        \n",
              "  <svg xmlns=\"http://www.w3.org/2000/svg\" height=\"24px\"viewBox=\"0 0 24 24\"\n",
              "       width=\"24px\">\n",
              "    <path d=\"M0 0h24v24H0V0z\" fill=\"none\"/>\n",
              "    <path d=\"M18.56 5.44l.94 2.06.94-2.06 2.06-.94-2.06-.94-.94-2.06-.94 2.06-2.06.94zm-11 1L8.5 8.5l.94-2.06 2.06-.94-2.06-.94L8.5 2.5l-.94 2.06-2.06.94zm10 10l.94 2.06.94-2.06 2.06-.94-2.06-.94-.94-2.06-.94 2.06-2.06.94z\"/><path d=\"M17.41 7.96l-1.37-1.37c-.4-.4-.92-.59-1.43-.59-.52 0-1.04.2-1.43.59L10.3 9.45l-7.72 7.72c-.78.78-.78 2.05 0 2.83L4 21.41c.39.39.9.59 1.41.59.51 0 1.02-.2 1.41-.59l7.78-7.78 2.81-2.81c.8-.78.8-2.07 0-2.86zM5.41 20L4 18.59l7.72-7.72 1.47 1.35L5.41 20z\"/>\n",
              "  </svg>\n",
              "      </button>\n",
              "      \n",
              "  <style>\n",
              "    .colab-df-container {\n",
              "      display:flex;\n",
              "      flex-wrap:wrap;\n",
              "      gap: 12px;\n",
              "    }\n",
              "\n",
              "    .colab-df-convert {\n",
              "      background-color: #E8F0FE;\n",
              "      border: none;\n",
              "      border-radius: 50%;\n",
              "      cursor: pointer;\n",
              "      display: none;\n",
              "      fill: #1967D2;\n",
              "      height: 32px;\n",
              "      padding: 0 0 0 0;\n",
              "      width: 32px;\n",
              "    }\n",
              "\n",
              "    .colab-df-convert:hover {\n",
              "      background-color: #E2EBFA;\n",
              "      box-shadow: 0px 1px 2px rgba(60, 64, 67, 0.3), 0px 1px 3px 1px rgba(60, 64, 67, 0.15);\n",
              "      fill: #174EA6;\n",
              "    }\n",
              "\n",
              "    [theme=dark] .colab-df-convert {\n",
              "      background-color: #3B4455;\n",
              "      fill: #D2E3FC;\n",
              "    }\n",
              "\n",
              "    [theme=dark] .colab-df-convert:hover {\n",
              "      background-color: #434B5C;\n",
              "      box-shadow: 0px 1px 3px 1px rgba(0, 0, 0, 0.15);\n",
              "      filter: drop-shadow(0px 1px 2px rgba(0, 0, 0, 0.3));\n",
              "      fill: #FFFFFF;\n",
              "    }\n",
              "  </style>\n",
              "\n",
              "      <script>\n",
              "        const buttonEl =\n",
              "          document.querySelector('#df-e79dac9c-4033-4d5c-9cb3-1fd4dc6b9ed9 button.colab-df-convert');\n",
              "        buttonEl.style.display =\n",
              "          google.colab.kernel.accessAllowed ? 'block' : 'none';\n",
              "\n",
              "        async function convertToInteractive(key) {\n",
              "          const element = document.querySelector('#df-e79dac9c-4033-4d5c-9cb3-1fd4dc6b9ed9');\n",
              "          const dataTable =\n",
              "            await google.colab.kernel.invokeFunction('convertToInteractive',\n",
              "                                                     [key], {});\n",
              "          if (!dataTable) return;\n",
              "\n",
              "          const docLinkHtml = 'Like what you see? Visit the ' +\n",
              "            '<a target=\"_blank\" href=https://colab.research.google.com/notebooks/data_table.ipynb>data table notebook</a>'\n",
              "            + ' to learn more about interactive tables.';\n",
              "          element.innerHTML = '';\n",
              "          dataTable['output_type'] = 'display_data';\n",
              "          await google.colab.output.renderOutput(dataTable, element);\n",
              "          const docLink = document.createElement('div');\n",
              "          docLink.innerHTML = docLinkHtml;\n",
              "          element.appendChild(docLink);\n",
              "        }\n",
              "      </script>\n",
              "    </div>\n",
              "  </div>\n",
              "  "
            ]
          },
          "metadata": {},
          "execution_count": 53
        }
      ]
    },
    {
      "metadata": {
        "trusted": true,
        "colab": {
          "base_uri": "https://localhost:8080/",
          "height": 319
        },
        "id": "Cfnk5-c_kYvu",
        "outputId": "f0631115-7d34-4fb2-8b65-96862992f5fc"
      },
      "cell_type": "code",
      "source": [
        "# plot the WordCloud image to show top 50 type of demanding jobs in armenia     \n",
        "wordcloud = WordCloud(width = 1000, height = 500).generate(' '.join(top_jobs[:50].Word))\n",
        "plt.figure(figsize = (8, 8), facecolor = None) \n",
        "plt.imshow(wordcloud) \n",
        "plt.axis(\"off\") \n",
        "plt.tight_layout(pad = 0) \n",
        "  \n",
        "plt.show()"
      ],
      "execution_count": 54,
      "outputs": [
        {
          "output_type": "display_data",
          "data": {
            "text/plain": [
              "<Figure size 576x576 with 1 Axes>"
            ],
            "image/png": "[encoded data removed]"
          },
          "metadata": {
            "needs_background": "light"
          }
        }
      ]
    },
    {
      "metadata": {
        "id": "QXP3UFlukYwg"
      },
      "cell_type": "markdown",
      "source": [
        "# IT Job Classification"
      ]
    },
    {
      "metadata": {
        "trusted": true,
        "id": "58Ot7xBEkYwg"
      },
      "cell_type": "code",
      "source": [
        "class_data = jobs[(jobs.title.isna() == False) & (jobs.jobrequirment.isna() == False) & (jobs.requiredqual.isna() == False) &\n",
        "                 (jobs.jobdescription.isna() == False) & (jobs.aboutc.isna() == False) & (jobs.company.isna() == False)]"
      ],
      "execution_count": 55,
      "outputs": []
    },
    {
      "metadata": {
        "trusted": true,
        "colab": {
          "base_uri": "https://localhost:8080/"
        },
        "id": "VIgZnmsqkYwg",
        "outputId": "ccb94d6d-c125-4b8d-bf20-d5669ab6c98b"
      },
      "cell_type": "code",
      "source": [
        "class_data.shape"
      ],
      "execution_count": 56,
      "outputs": [
        {
          "output_type": "execute_result",
          "data": {
            "text/plain": [
              "(8993, 24)"
            ]
          },
          "metadata": {},
          "execution_count": 56
        }
      ]
    },
    {
      "metadata": {
        "trusted": true,
        "colab": {
          "base_uri": "https://localhost:8080/"
        },
        "id": "3WxkrCLZkYwh",
        "outputId": "4e91b8cf-b505-431d-9393-ac041c6ff47c"
      },
      "cell_type": "code",
      "source": [
        "class_data.isna().sum()"
      ],
      "execution_count": 57,
      "outputs": [
        {
          "output_type": "execute_result",
          "data": {
            "text/plain": [
              "jobpost                0\n",
              "date                   0\n",
              "title                  0\n",
              "company                0\n",
              "announcementcode    8379\n",
              "term                4359\n",
              "eligibility         6619\n",
              "audience            8648\n",
              "startdate           3830\n",
              "duration            2860\n",
              "location               1\n",
              "jobdescription         0\n",
              "jobrequirment          0\n",
              "requiredqual           0\n",
              "salary              3549\n",
              "applicationp           0\n",
              "openingdate          125\n",
              "deadline               4\n",
              "notes               8036\n",
              "aboutc                 0\n",
              "attach              8528\n",
              "year                   0\n",
              "month                  0\n",
              "it                     0\n",
              "dtype: int64"
            ]
          },
          "metadata": {},
          "execution_count": 57
        }
      ]
    },
    {
      "metadata": {
        "trusted": true,
        "colab": {
          "base_uri": "https://localhost:8080/"
        },
        "id": "7opupqZ6kYwh",
        "outputId": "5d57d8ef-1eb1-4619-e094-6418e754141a"
      },
      "cell_type": "code",
      "source": [
        "#identify Y variable\n",
        "class_data['it'] = class_data.it.apply(lambda x : 0 if (x is False) else 1)\n",
        "y=class_data['it']"
      ],
      "execution_count": 58,
      "outputs": [
        {
          "output_type": "stream",
          "name": "stderr",
          "text": [
            "/usr/local/lib/python3.7/dist-packages/ipykernel_launcher.py:2: SettingWithCopyWarning: \n",
            "A value is trying to be set on a copy of a slice from a DataFrame.\n",
            "Try using .loc[row_indexer,col_indexer] = value instead\n",
            "\n",
            "See the caveats in the documentation: https://pandas.pydata.org/pandas-docs/stable/user_guide/indexing.html#returning-a-view-versus-a-copy\n",
            "  \n"
          ]
        }
      ]
    },
    {
      "metadata": {
        "trusted": true,
        "colab": {
          "base_uri": "https://localhost:8080/"
        },
        "id": "1DvlwZ3rkYwi",
        "outputId": "c879f74b-0bac-4ffc-d969-04661a070a02"
      },
      "cell_type": "code",
      "source": [
        "y.value_counts()"
      ],
      "execution_count": 59,
      "outputs": [
        {
          "output_type": "execute_result",
          "data": {
            "text/plain": [
              "0    6780\n",
              "1    2213\n",
              "Name: it, dtype: int64"
            ]
          },
          "metadata": {},
          "execution_count": 59
        }
      ]
    },
    {
      "metadata": {
        "trusted": true,
        "colab": {
          "base_uri": "https://localhost:8080/",
          "height": 354
        },
        "id": "rv-X7_oWkYwi",
        "outputId": "ca00cbd6-2e69-40ba-987a-416df6639f7e"
      },
      "cell_type": "code",
      "source": [
        "sns.countplot(y)"
      ],
      "execution_count": 60,
      "outputs": [
        {
          "output_type": "stream",
          "name": "stderr",
          "text": [
            "/usr/local/lib/python3.7/dist-packages/seaborn/_decorators.py:43: FutureWarning: Pass the following variable as a keyword arg: x. From version 0.12, the only valid positional argument will be `data`, and passing other arguments without an explicit keyword will result in an error or misinterpretation.\n",
            "  FutureWarning\n"
          ]
        },
        {
          "output_type": "execute_result",
          "data": {
            "text/plain": [
              "<matplotlib.axes._subplots.AxesSubplot at 0x7f8be1983150>"
            ]
          },
          "metadata": {},
          "execution_count": 60
        },
        {
          "output_type": "display_data",
          "data": {
            "text/plain": [
              "<Figure size 432x288 with 1 Axes>"
            ],
            "image/png": "[encoded data removed]"
          },
          "metadata": {
            "needs_background": "light"
          }
        }
      ]
    },
    {
      "metadata": {
        "trusted": true,
        "id": "1j40Gsy8kYwi"
      },
      "cell_type": "code",
      "source": [
        "class_data = class_data['title'].str.cat(class_data['jobrequirment'], sep =\" \").str.cat(class_data['requiredqual'], sep =\" \").str.cat(\n",
        "    class_data['jobdescription'], sep =\" \").str.cat(class_data['aboutc'], sep =\" \").str.cat(class_data['company'], sep =\" \")\n",
        "class_df = class_data"
      ],
      "execution_count": 61,
      "outputs": []
    },
    {
      "metadata": {
        "scrolled": true,
        "trusted": true,
        "colab": {
          "base_uri": "https://localhost:8080/"
        },
        "id": "fQS3VtSSkYwk",
        "outputId": "5406d85c-1625-4926-92d9-f7b52fd56beb"
      },
      "cell_type": "code",
      "source": [
        "class_df.head()"
      ],
      "execution_count": 62,
      "outputs": [
        {
          "output_type": "execute_result",
          "data": {
            "text/plain": [
              "2     Country Coordinator - Working with the Country...\n",
              "22    Marketing Advisor - Lead the effort to identif...\n",
              "56    Manufacturing Chief - To manage all manufactur...\n",
              "64    Administrative Assistant/ Secretary - To welco...\n",
              "67    Salesman / Trade agent - To distribute and dis...\n",
              "Name: title, dtype: object"
            ]
          },
          "metadata": {},
          "execution_count": 62
        }
      ]
    },
    {
      "metadata": {
        "id": "WzO4tvzfkYwk"
      },
      "cell_type": "markdown",
      "source": [
        "### Text pre-processing"
      ]
    },
    {
      "metadata": {
        "trusted": true,
        "colab": {
          "base_uri": "https://localhost:8080/"
        },
        "id": "629oMNvckYwk",
        "outputId": "73431816-bde6-4912-e4dc-6a5f8d925bd9"
      },
      "cell_type": "code",
      "source": [
        "class_df = class_df.apply(lambda x : clean_data(str(x)))\n",
        "class_df.head()"
      ],
      "execution_count": 63,
      "outputs": [
        {
          "output_type": "execute_result",
          "data": {
            "text/plain": [
              "2     country coordinator  working with the country ...\n",
              "22    marketing advisor  lead the effort to identify...\n",
              "56    manufacturing chief  to manage all manufacturi...\n",
              "64    administrative assistant secretary  to welcome...\n",
              "67    salesman  trade agent  to distribute and displ...\n",
              "Name: title, dtype: object"
            ]
          },
          "metadata": {},
          "execution_count": 63
        }
      ]
    },
    {
      "metadata": {
        "scrolled": true,
        "trusted": true,
        "id": "dpf27KBUkYwk"
      },
      "cell_type": "code",
      "source": [
        "#Lemmatization\n",
        "class_df_1 = class_df.apply(lambda x : lemma(x))"
      ],
      "execution_count": 64,
      "outputs": []
    },
    {
      "metadata": {
        "trusted": true,
        "colab": {
          "base_uri": "https://localhost:8080/"
        },
        "id": "EV6tTwvakYwk",
        "outputId": "511c49e3-7df5-4cba-d39b-22a53bc8f6bf"
      },
      "cell_type": "code",
      "source": [
        "class_df_1.head()"
      ],
      "execution_count": 65,
      "outputs": [
        {
          "output_type": "execute_result",
          "data": {
            "text/plain": [
              "2     country coordinator working with the country d...\n",
              "22    marketing advisor lead the effort to identify ...\n",
              "56    manufacturing chief to manage all manufacturin...\n",
              "64    administrative assistant secretary to welcome ...\n",
              "67    salesman trade agent to distribute and display...\n",
              "Name: title, dtype: object"
            ]
          },
          "metadata": {},
          "execution_count": 65
        }
      ]
    },
    {
      "metadata": {
        "trusted": true,
        "id": "jDjGb6xKkYwl"
      },
      "cell_type": "code",
      "source": [
        "#stop word removal\n",
        "class_df_1 = class_df_1.apply(lambda x : ' '.join(x for x in x.split() if x not in stop))"
      ],
      "execution_count": 66,
      "outputs": []
    },
    {
      "metadata": {
        "trusted": true,
        "colab": {
          "base_uri": "https://localhost:8080/"
        },
        "id": "paqml8C4kYwm",
        "outputId": "c14fe84a-123e-41eb-be11-d3ae3c9f41dc"
      },
      "cell_type": "code",
      "source": [
        "class_df_1.head()"
      ],
      "execution_count": 67,
      "outputs": [
        {
          "output_type": "execute_result",
          "data": {
            "text/plain": [
              "2     country coordinator working country director p...\n",
              "22    marketing advisor lead effort identify target ...\n",
              "56    manufacturing chief manage manufacturing funct...\n",
              "64    administrative assistant secretary welcome vis...\n",
              "67    salesman trade agent distribute display import...\n",
              "Name: title, dtype: object"
            ]
          },
          "metadata": {},
          "execution_count": 67
        }
      ]
    },
    {
      "metadata": {
        "scrolled": true,
        "trusted": true,
        "id": "foyNYLTwkYwm"
      },
      "cell_type": "code",
      "source": [
        "#Tokenization\n",
        "tfidf_vect = TfidfVectorizer(ngram_range=(1,1), min_df = 0.05, max_df=0.95, stop_words='english')\n",
        "x_tdm = tfidf_vect.fit_transform(class_df_1)\n",
        "#print(x_tdm)"
      ],
      "execution_count": 68,
      "outputs": []
    },
    {
      "metadata": {
        "trusted": true,
        "colab": {
          "base_uri": "https://localhost:8080/"
        },
        "id": "pxyT4QStkYwn",
        "outputId": "da4a4c8c-80c3-4e2f-bfd8-9a830668d8a2"
      },
      "cell_type": "code",
      "source": [
        "df_clust = pd.DataFrame(x_tdm.toarray(), columns=tfidf_vect.get_feature_names())"
      ],
      "execution_count": 69,
      "outputs": [
        {
          "output_type": "stream",
          "name": "stderr",
          "text": [
            "/usr/local/lib/python3.7/dist-packages/sklearn/utils/deprecation.py:87: FutureWarning: Function get_feature_names is deprecated; get_feature_names is deprecated in 1.0 and will be removed in 1.2. Please use get_feature_names_out instead.\n",
            "  warnings.warn(msg, category=FutureWarning)\n"
          ]
        }
      ]
    },
    {
      "metadata": {
        "trusted": true,
        "colab": {
          "base_uri": "https://localhost:8080/",
          "height": 300
        },
        "id": "uzhgOYHgkYwn",
        "outputId": "d059b13d-8671-4f93-edc7-9e38b0dbd40a"
      },
      "cell_type": "code",
      "source": [
        "df_clust.head()"
      ],
      "execution_count": 70,
      "outputs": [
        {
          "output_type": "execute_result",
          "data": {
            "text/plain": [
              "    ability  access  accordance  according  account  accountant  accounting  \\\n",
              "0  0.000000     0.0         0.0        0.0      0.0         0.0         0.0   \n",
              "1  0.014893     0.0         0.0        0.0      0.0         0.0         0.0   \n",
              "2  0.032816     0.0         0.0        0.0      0.0         0.0         0.0   \n",
              "3  0.000000     0.0         0.0        0.0      0.0         0.0         0.0   \n",
              "4  0.000000     0.0         0.0        0.0      0.0         0.0         0.0   \n",
              "\n",
              "   accuracy  accurate   achieve  ...    window      word      work   working  \\\n",
              "0       0.0       0.0  0.000000  ...  0.000000  0.000000  0.000000  0.117356   \n",
              "1       0.0       0.0  0.000000  ...  0.038855  0.031132  0.012671  0.000000   \n",
              "2       0.0       0.0  0.000000  ...  0.000000  0.000000  0.111679  0.000000   \n",
              "3       0.0       0.0  0.000000  ...  0.000000  0.122111  0.000000  0.000000   \n",
              "4       0.0       0.0  0.293523  ...  0.000000  0.000000  0.000000  0.158408   \n",
              "\n",
              "   world  write  writing   written      year   yerevan  \n",
              "0    0.0    0.0      0.0  0.059906  0.038047  0.000000  \n",
              "1    0.0    0.0      0.0  0.000000  0.043375  0.000000  \n",
              "2    0.0    0.0      0.0  0.050161  0.031857  0.000000  \n",
              "3    0.0    0.0      0.0  0.089294  0.056711  0.116185  \n",
              "4    0.0    0.0      0.0  0.000000  0.205424  0.000000  \n",
              "\n",
              "[5 rows x 505 columns]"
            ],
            "text/html": [
              "\n",
              "  <div id=\"df-d6c3598b-100a-47d9-923c-308d0258aecf\">\n",
              "    <div class=\"colab-df-container\">\n",
              "      <div>\n",
              "<style scoped>\n",
              "    .dataframe tbody tr th:only-of-type {\n",
              "        vertical-align: middle;\n",
              "    }\n",
              "\n",
              "    .dataframe tbody tr th {\n",
              "        vertical-align: top;\n",
              "    }\n",
              "\n",
              "    .dataframe thead th {\n",
              "        text-align: right;\n",
              "    }\n",
              "</style>\n",
              "<table border=\"1\" class=\"dataframe\">\n",
              "  <thead>\n",
              "    <tr style=\"text-align: right;\">\n",
              "      <th></th>\n",
              "      <th>ability</th>\n",
              "      <th>access</th>\n",
              "      <th>accordance</th>\n",
              "      <th>according</th>\n",
              "      <th>account</th>\n",
              "      <th>accountant</th>\n",
              "      <th>accounting</th>\n",
              "      <th>accuracy</th>\n",
              "      <th>accurate</th>\n",
              "      <th>achieve</th>\n",
              "      <th>...</th>\n",
              "      <th>window</th>\n",
              "      <th>word</th>\n",
              "      <th>work</th>\n",
              "      <th>working</th>\n",
              "      <th>world</th>\n",
              "      <th>write</th>\n",
              "      <th>writing</th>\n",
              "      <th>written</th>\n",
              "      <th>year</th>\n",
              "      <th>yerevan</th>\n",
              "    </tr>\n",
              "  </thead>\n",
              "  <tbody>\n",
              "    <tr>\n",
              "      <th>0</th>\n",
              "      <td>0.000000</td>\n",
              "      <td>0.0</td>\n",
              "      <td>0.0</td>\n",
              "      <td>0.0</td>\n",
              "      <td>0.0</td>\n",
              "      <td>0.0</td>\n",
              "      <td>0.0</td>\n",
              "      <td>0.0</td>\n",
              "      <td>0.0</td>\n",
              "      <td>0.000000</td>\n",
              "      <td>...</td>\n",
              "      <td>0.000000</td>\n",
              "      <td>0.000000</td>\n",
              "      <td>0.000000</td>\n",
              "      <td>0.117356</td>\n",
              "      <td>0.0</td>\n",
              "      <td>0.0</td>\n",
              "      <td>0.0</td>\n",
              "      <td>0.059906</td>\n",
              "      <td>0.038047</td>\n",
              "      <td>0.000000</td>\n",
              "    </tr>\n",
              "    <tr>\n",
              "      <th>1</th>\n",
              "      <td>0.014893</td>\n",
              "      <td>0.0</td>\n",
              "      <td>0.0</td>\n",
              "      <td>0.0</td>\n",
              "      <td>0.0</td>\n",
              "      <td>0.0</td>\n",
              "      <td>0.0</td>\n",
              "      <td>0.0</td>\n",
              "      <td>0.0</td>\n",
              "      <td>0.000000</td>\n",
              "      <td>...</td>\n",
              "      <td>0.038855</td>\n",
              "      <td>0.031132</td>\n",
              "      <td>0.012671</td>\n",
              "      <td>0.000000</td>\n",
              "      <td>0.0</td>\n",
              "      <td>0.0</td>\n",
              "      <td>0.0</td>\n",
              "      <td>0.000000</td>\n",
              "      <td>0.043375</td>\n",
              "      <td>0.000000</td>\n",
              "    </tr>\n",
              "    <tr>\n",
              "      <th>2</th>\n",
              "      <td>0.032816</td>\n",
              "      <td>0.0</td>\n",
              "      <td>0.0</td>\n",
              "      <td>0.0</td>\n",
              "      <td>0.0</td>\n",
              "      <td>0.0</td>\n",
              "      <td>0.0</td>\n",
              "      <td>0.0</td>\n",
              "      <td>0.0</td>\n",
              "      <td>0.000000</td>\n",
              "      <td>...</td>\n",
              "      <td>0.000000</td>\n",
              "      <td>0.000000</td>\n",
              "      <td>0.111679</td>\n",
              "      <td>0.000000</td>\n",
              "      <td>0.0</td>\n",
              "      <td>0.0</td>\n",
              "      <td>0.0</td>\n",
              "      <td>0.050161</td>\n",
              "      <td>0.031857</td>\n",
              "      <td>0.000000</td>\n",
              "    </tr>\n",
              "    <tr>\n",
              "      <th>3</th>\n",
              "      <td>0.000000</td>\n",
              "      <td>0.0</td>\n",
              "      <td>0.0</td>\n",
              "      <td>0.0</td>\n",
              "      <td>0.0</td>\n",
              "      <td>0.0</td>\n",
              "      <td>0.0</td>\n",
              "      <td>0.0</td>\n",
              "      <td>0.0</td>\n",
              "      <td>0.000000</td>\n",
              "      <td>...</td>\n",
              "      <td>0.000000</td>\n",
              "      <td>0.122111</td>\n",
              "      <td>0.000000</td>\n",
              "      <td>0.000000</td>\n",
              "      <td>0.0</td>\n",
              "      <td>0.0</td>\n",
              "      <td>0.0</td>\n",
              "      <td>0.089294</td>\n",
              "      <td>0.056711</td>\n",
              "      <td>0.116185</td>\n",
              "    </tr>\n",
              "    <tr>\n",
              "      <th>4</th>\n",
              "      <td>0.000000</td>\n",
              "      <td>0.0</td>\n",
              "      <td>0.0</td>\n",
              "      <td>0.0</td>\n",
              "      <td>0.0</td>\n",
              "      <td>0.0</td>\n",
              "      <td>0.0</td>\n",
              "      <td>0.0</td>\n",
              "      <td>0.0</td>\n",
              "      <td>0.293523</td>\n",
              "      <td>...</td>\n",
              "      <td>0.000000</td>\n",
              "      <td>0.000000</td>\n",
              "      <td>0.000000</td>\n",
              "      <td>0.158408</td>\n",
              "      <td>0.0</td>\n",
              "      <td>0.0</td>\n",
              "      <td>0.0</td>\n",
              "      <td>0.000000</td>\n",
              "      <td>0.205424</td>\n",
              "      <td>0.000000</td>\n",
              "    </tr>\n",
              "  </tbody>\n",
              "</table>\n",
              "<p>5 rows × 505 columns</p>\n",
              "</div>\n",
              "      <button class=\"colab-df-convert\" onclick=\"convertToInteractive('df-d6c3598b-100a-47d9-923c-308d0258aecf')\"\n",
              "              title=\"Convert this dataframe to an interactive table.\"\n",
              "              style=\"display:none;\">\n",
              "        \n",
              "  <svg xmlns=\"http://www.w3.org/2000/svg\" height=\"24px\"viewBox=\"0 0 24 24\"\n",
              "       width=\"24px\">\n",
              "    <path d=\"M0 0h24v24H0V0z\" fill=\"none\"/>\n",
              "    <path d=\"M18.56 5.44l.94 2.06.94-2.06 2.06-.94-2.06-.94-.94-2.06-.94 2.06-2.06.94zm-11 1L8.5 8.5l.94-2.06 2.06-.94-2.06-.94L8.5 2.5l-.94 2.06-2.06.94zm10 10l.94 2.06.94-2.06 2.06-.94-2.06-.94-.94-2.06-.94 2.06-2.06.94z\"/><path d=\"M17.41 7.96l-1.37-1.37c-.4-.4-.92-.59-1.43-.59-.52 0-1.04.2-1.43.59L10.3 9.45l-7.72 7.72c-.78.78-.78 2.05 0 2.83L4 21.41c.39.39.9.59 1.41.59.51 0 1.02-.2 1.41-.59l7.78-7.78 2.81-2.81c.8-.78.8-2.07 0-2.86zM5.41 20L4 18.59l7.72-7.72 1.47 1.35L5.41 20z\"/>\n",
              "  </svg>\n",
              "      </button>\n",
              "      \n",
              "  <style>\n",
              "    .colab-df-container {\n",
              "      display:flex;\n",
              "      flex-wrap:wrap;\n",
              "      gap: 12px;\n",
              "    }\n",
              "\n",
              "    .colab-df-convert {\n",
              "      background-color: #E8F0FE;\n",
              "      border: none;\n",
              "      border-radius: 50%;\n",
              "      cursor: pointer;\n",
              "      display: none;\n",
              "      fill: #1967D2;\n",
              "      height: 32px;\n",
              "      padding: 0 0 0 0;\n",
              "      width: 32px;\n",
              "    }\n",
              "\n",
              "    .colab-df-convert:hover {\n",
              "      background-color: #E2EBFA;\n",
              "      box-shadow: 0px 1px 2px rgba(60, 64, 67, 0.3), 0px 1px 3px 1px rgba(60, 64, 67, 0.15);\n",
              "      fill: #174EA6;\n",
              "    }\n",
              "\n",
              "    [theme=dark] .colab-df-convert {\n",
              "      background-color: #3B4455;\n",
              "      fill: #D2E3FC;\n",
              "    }\n",
              "\n",
              "    [theme=dark] .colab-df-convert:hover {\n",
              "      background-color: #434B5C;\n",
              "      box-shadow: 0px 1px 3px 1px rgba(0, 0, 0, 0.15);\n",
              "      filter: drop-shadow(0px 1px 2px rgba(0, 0, 0, 0.3));\n",
              "      fill: #FFFFFF;\n",
              "    }\n",
              "  </style>\n",
              "\n",
              "      <script>\n",
              "        const buttonEl =\n",
              "          document.querySelector('#df-d6c3598b-100a-47d9-923c-308d0258aecf button.colab-df-convert');\n",
              "        buttonEl.style.display =\n",
              "          google.colab.kernel.accessAllowed ? 'block' : 'none';\n",
              "\n",
              "        async function convertToInteractive(key) {\n",
              "          const element = document.querySelector('#df-d6c3598b-100a-47d9-923c-308d0258aecf');\n",
              "          const dataTable =\n",
              "            await google.colab.kernel.invokeFunction('convertToInteractive',\n",
              "                                                     [key], {});\n",
              "          if (!dataTable) return;\n",
              "\n",
              "          const docLinkHtml = 'Like what you see? Visit the ' +\n",
              "            '<a target=\"_blank\" href=https://colab.research.google.com/notebooks/data_table.ipynb>data table notebook</a>'\n",
              "            + ' to learn more about interactive tables.';\n",
              "          element.innerHTML = '';\n",
              "          dataTable['output_type'] = 'display_data';\n",
              "          await google.colab.output.renderOutput(dataTable, element);\n",
              "          const docLink = document.createElement('div');\n",
              "          docLink.innerHTML = docLinkHtml;\n",
              "          element.appendChild(docLink);\n",
              "        }\n",
              "      </script>\n",
              "    </div>\n",
              "  </div>\n",
              "  "
            ]
          },
          "metadata": {},
          "execution_count": 70
        }
      ]
    },
    {
      "metadata": {
        "id": "Kz78Lke9kYwo"
      },
      "cell_type": "markdown",
      "source": [
        "## Building a Random Forest Model"
      ]
    },
    {
      "metadata": {
        "id": "YFl4bxRLkYwo"
      },
      "cell_type": "markdown",
      "source": [
        "#### Divide the data into train and test"
      ]
    },
    {
      "metadata": {
        "trusted": true,
        "colab": {
          "base_uri": "https://localhost:8080/"
        },
        "id": "4edHTf8okYwo",
        "outputId": "4ec02879-b86d-49a0-cab0-2b30c43fe973"
      },
      "cell_type": "code",
      "source": [
        "df_clust.shape"
      ],
      "execution_count": 71,
      "outputs": [
        {
          "output_type": "execute_result",
          "data": {
            "text/plain": [
              "(8993, 505)"
            ]
          },
          "metadata": {},
          "execution_count": 71
        }
      ]
    },
    {
      "metadata": {
        "trusted": true,
        "colab": {
          "base_uri": "https://localhost:8080/"
        },
        "id": "JOU0U9rukYwp",
        "outputId": "f71e8173-351e-4265-d525-5cc66d3b3356"
      },
      "cell_type": "code",
      "source": [
        "from sklearn.model_selection import train_test_split\n",
        "\n",
        "train_x, test_x,train_y, test_y = train_test_split(df_clust,y, test_size = 0.2, random_state = 5)\n",
        "print(train_x.shape, test_x.shape)"
      ],
      "execution_count": 72,
      "outputs": [
        {
          "output_type": "stream",
          "name": "stdout",
          "text": [
            "(7194, 505) (1799, 505)\n"
          ]
        }
      ]
    },
    {
      "metadata": {
        "trusted": true,
        "id": "YYioqKLskYwp"
      },
      "cell_type": "code",
      "source": [
        "from sklearn.ensemble import RandomForestClassifier\n",
        "from sklearn.model_selection import GridSearchCV"
      ],
      "execution_count": 73,
      "outputs": []
    },
    {
      "metadata": {
        "trusted": true,
        "colab": {
          "base_uri": "https://localhost:8080/"
        },
        "id": "LTihip0ckYwp",
        "outputId": "808a6aa3-37d7-497b-9dac-2f5f8fab299b"
      },
      "cell_type": "code",
      "source": [
        "param_grid = {'n_estimators':[130,150,160,180,200],\n",
        "              'max_features':[13,15,17,19]}\n",
        "\n",
        "grid_rf = GridSearchCV(estimator= RandomForestClassifier(),\n",
        "                      param_grid=param_grid,\n",
        "                      cv = 10,\n",
        "                      n_jobs=-1, verbose=True)\n",
        "\n",
        "grid_rf.fit(train_x,train_y)"
      ],
      "execution_count": 74,
      "outputs": [
        {
          "output_type": "stream",
          "name": "stdout",
          "text": [
            "Fitting 10 folds for each of 20 candidates, totalling 200 fits\n"
          ]
        },
        {
          "output_type": "execute_result",
          "data": {
            "text/plain": [
              "GridSearchCV(cv=10, estimator=RandomForestClassifier(), n_jobs=-1,\n",
              "             param_grid={'max_features': [13, 15, 17, 19],\n",
              "                         'n_estimators': [130, 150, 160, 180, 200]},\n",
              "             verbose=True)"
            ]
          },
          "metadata": {},
          "execution_count": 74
        }
      ]
    },
    {
      "metadata": {
        "trusted": true,
        "colab": {
          "base_uri": "https://localhost:8080/"
        },
        "id": "r4z2eQIzkYwp",
        "outputId": "1dc7112c-d107-4278-fb35-7220f5496319"
      },
      "cell_type": "code",
      "source": [
        "grid_rf.best_score_"
      ],
      "execution_count": 75,
      "outputs": [
        {
          "output_type": "execute_result",
          "data": {
            "text/plain": [
              "0.949676827383712"
            ]
          },
          "metadata": {},
          "execution_count": 75
        }
      ]
    },
    {
      "metadata": {
        "trusted": true,
        "colab": {
          "base_uri": "https://localhost:8080/"
        },
        "id": "gtLWS0kVkYwp",
        "outputId": "f01172ba-5d36-481b-daef-88f2b17b70bb"
      },
      "cell_type": "code",
      "source": [
        "grid_rf.best_params_"
      ],
      "execution_count": 76,
      "outputs": [
        {
          "output_type": "execute_result",
          "data": {
            "text/plain": [
              "{'max_features': 13, 'n_estimators': 150}"
            ]
          },
          "metadata": {},
          "execution_count": 76
        }
      ]
    },
    {
      "metadata": {
        "trusted": true,
        "colab": {
          "base_uri": "https://localhost:8080/"
        },
        "id": "BcETlRGbkYwq",
        "outputId": "e9c5610d-c02d-4310-e87b-6f648c4d8254"
      },
      "cell_type": "code",
      "source": [
        "grid_rf.best_estimator_"
      ],
      "execution_count": 77,
      "outputs": [
        {
          "output_type": "execute_result",
          "data": {
            "text/plain": [
              "RandomForestClassifier(max_features=13, n_estimators=150)"
            ]
          },
          "metadata": {},
          "execution_count": 77
        }
      ]
    },
    {
      "metadata": {
        "trusted": true,
        "colab": {
          "base_uri": "https://localhost:8080/"
        },
        "id": "lVIWzHUbkYwq",
        "outputId": "60dfddc9-1058-4613-b31e-1816a4cc5ed5"
      },
      "cell_type": "code",
      "source": [
        "#Fit the model\n",
        "rf_model = grid_rf.best_estimator_\n",
        "rf_model.fit(train_x, train_y)"
      ],
      "execution_count": 78,
      "outputs": [
        {
          "output_type": "execute_result",
          "data": {
            "text/plain": [
              "RandomForestClassifier(max_features=13, n_estimators=150)"
            ]
          },
          "metadata": {},
          "execution_count": 78
        }
      ]
    },
    {
      "metadata": {
        "id": "2XKMSO3xkYws"
      },
      "cell_type": "markdown",
      "source": [
        "#### Predict the output for train and validation set"
      ]
    },
    {
      "metadata": {
        "trusted": true,
        "colab": {
          "base_uri": "https://localhost:8080/",
          "height": 206
        },
        "id": "liNh0-hdkYws",
        "outputId": "8dec1092-200b-42c6-ce6d-96081f8b94a2"
      },
      "cell_type": "code",
      "source": [
        "rf_train_predict = pd.DataFrame({'actual' : train_y,\n",
        "                                 'predicted' : rf_model.predict(train_x)})\n",
        "rf_train_predict.head()"
      ],
      "execution_count": 79,
      "outputs": [
        {
          "output_type": "execute_result",
          "data": {
            "text/plain": [
              "       actual  predicted\n",
              "18595       1          1\n",
              "14290       1          1\n",
              "12772       1          1\n",
              "13946       0          0\n",
              "9745        0          0"
            ],
            "text/html": [
              "\n",
              "  <div id=\"df-160148e1-e19b-4782-b7a1-b264b0a141f1\">\n",
              "    <div class=\"colab-df-container\">\n",
              "      <div>\n",
              "<style scoped>\n",
              "    .dataframe tbody tr th:only-of-type {\n",
              "        vertical-align: middle;\n",
              "    }\n",
              "\n",
              "    .dataframe tbody tr th {\n",
              "        vertical-align: top;\n",
              "    }\n",
              "\n",
              "    .dataframe thead th {\n",
              "        text-align: right;\n",
              "    }\n",
              "</style>\n",
              "<table border=\"1\" class=\"dataframe\">\n",
              "  <thead>\n",
              "    <tr style=\"text-align: right;\">\n",
              "      <th></th>\n",
              "      <th>actual</th>\n",
              "      <th>predicted</th>\n",
              "    </tr>\n",
              "  </thead>\n",
              "  <tbody>\n",
              "    <tr>\n",
              "      <th>18595</th>\n",
              "      <td>1</td>\n",
              "      <td>1</td>\n",
              "    </tr>\n",
              "    <tr>\n",
              "      <th>14290</th>\n",
              "      <td>1</td>\n",
              "      <td>1</td>\n",
              "    </tr>\n",
              "    <tr>\n",
              "      <th>12772</th>\n",
              "      <td>1</td>\n",
              "      <td>1</td>\n",
              "    </tr>\n",
              "    <tr>\n",
              "      <th>13946</th>\n",
              "      <td>0</td>\n",
              "      <td>0</td>\n",
              "    </tr>\n",
              "    <tr>\n",
              "      <th>9745</th>\n",
              "      <td>0</td>\n",
              "      <td>0</td>\n",
              "    </tr>\n",
              "  </tbody>\n",
              "</table>\n",
              "</div>\n",
              "      <button class=\"colab-df-convert\" onclick=\"convertToInteractive('df-160148e1-e19b-4782-b7a1-b264b0a141f1')\"\n",
              "              title=\"Convert this dataframe to an interactive table.\"\n",
              "              style=\"display:none;\">\n",
              "        \n",
              "  <svg xmlns=\"http://www.w3.org/2000/svg\" height=\"24px\"viewBox=\"0 0 24 24\"\n",
              "       width=\"24px\">\n",
              "    <path d=\"M0 0h24v24H0V0z\" fill=\"none\"/>\n",
              "    <path d=\"M18.56 5.44l.94 2.06.94-2.06 2.06-.94-2.06-.94-.94-2.06-.94 2.06-2.06.94zm-11 1L8.5 8.5l.94-2.06 2.06-.94-2.06-.94L8.5 2.5l-.94 2.06-2.06.94zm10 10l.94 2.06.94-2.06 2.06-.94-2.06-.94-.94-2.06-.94 2.06-2.06.94z\"/><path d=\"M17.41 7.96l-1.37-1.37c-.4-.4-.92-.59-1.43-.59-.52 0-1.04.2-1.43.59L10.3 9.45l-7.72 7.72c-.78.78-.78 2.05 0 2.83L4 21.41c.39.39.9.59 1.41.59.51 0 1.02-.2 1.41-.59l7.78-7.78 2.81-2.81c.8-.78.8-2.07 0-2.86zM5.41 20L4 18.59l7.72-7.72 1.47 1.35L5.41 20z\"/>\n",
              "  </svg>\n",
              "      </button>\n",
              "      \n",
              "  <style>\n",
              "    .colab-df-container {\n",
              "      display:flex;\n",
              "      flex-wrap:wrap;\n",
              "      gap: 12px;\n",
              "    }\n",
              "\n",
              "    .colab-df-convert {\n",
              "      background-color: #E8F0FE;\n",
              "      border: none;\n",
              "      border-radius: 50%;\n",
              "      cursor: pointer;\n",
              "      display: none;\n",
              "      fill: #1967D2;\n",
              "      height: 32px;\n",
              "      padding: 0 0 0 0;\n",
              "      width: 32px;\n",
              "    }\n",
              "\n",
              "    .colab-df-convert:hover {\n",
              "      background-color: #E2EBFA;\n",
              "      box-shadow: 0px 1px 2px rgba(60, 64, 67, 0.3), 0px 1px 3px 1px rgba(60, 64, 67, 0.15);\n",
              "      fill: #174EA6;\n",
              "    }\n",
              "\n",
              "    [theme=dark] .colab-df-convert {\n",
              "      background-color: #3B4455;\n",
              "      fill: #D2E3FC;\n",
              "    }\n",
              "\n",
              "    [theme=dark] .colab-df-convert:hover {\n",
              "      background-color: #434B5C;\n",
              "      box-shadow: 0px 1px 3px 1px rgba(0, 0, 0, 0.15);\n",
              "      filter: drop-shadow(0px 1px 2px rgba(0, 0, 0, 0.3));\n",
              "      fill: #FFFFFF;\n",
              "    }\n",
              "  </style>\n",
              "\n",
              "      <script>\n",
              "        const buttonEl =\n",
              "          document.querySelector('#df-160148e1-e19b-4782-b7a1-b264b0a141f1 button.colab-df-convert');\n",
              "        buttonEl.style.display =\n",
              "          google.colab.kernel.accessAllowed ? 'block' : 'none';\n",
              "\n",
              "        async function convertToInteractive(key) {\n",
              "          const element = document.querySelector('#df-160148e1-e19b-4782-b7a1-b264b0a141f1');\n",
              "          const dataTable =\n",
              "            await google.colab.kernel.invokeFunction('convertToInteractive',\n",
              "                                                     [key], {});\n",
              "          if (!dataTable) return;\n",
              "\n",
              "          const docLinkHtml = 'Like what you see? Visit the ' +\n",
              "            '<a target=\"_blank\" href=https://colab.research.google.com/notebooks/data_table.ipynb>data table notebook</a>'\n",
              "            + ' to learn more about interactive tables.';\n",
              "          element.innerHTML = '';\n",
              "          dataTable['output_type'] = 'display_data';\n",
              "          await google.colab.output.renderOutput(dataTable, element);\n",
              "          const docLink = document.createElement('div');\n",
              "          docLink.innerHTML = docLinkHtml;\n",
              "          element.appendChild(docLink);\n",
              "        }\n",
              "      </script>\n",
              "    </div>\n",
              "  </div>\n",
              "  "
            ]
          },
          "metadata": {},
          "execution_count": 79
        }
      ]
    },
    {
      "metadata": {
        "trusted": true,
        "colab": {
          "base_uri": "https://localhost:8080/",
          "height": 206
        },
        "id": "wBB7eDrfkYws",
        "outputId": "4304876f-dc13-4d8a-8f6a-d2392daff013"
      },
      "cell_type": "code",
      "source": [
        "rf_test_predict = pd.DataFrame({'actual' : test_y,\n",
        "                                 'predicted' : rf_model.predict(test_x)})\n",
        "rf_test_predict.head()"
      ],
      "execution_count": 80,
      "outputs": [
        {
          "output_type": "execute_result",
          "data": {
            "text/plain": [
              "      actual  predicted\n",
              "8007       0          0\n",
              "6159       0          0\n",
              "9782       0          0\n",
              "6132       0          0\n",
              "6649       0          0"
            ],
            "text/html": [
              "\n",
              "  <div id=\"df-8188a78f-fcc4-4854-a252-80eea33dc6a1\">\n",
              "    <div class=\"colab-df-container\">\n",
              "      <div>\n",
              "<style scoped>\n",
              "    .dataframe tbody tr th:only-of-type {\n",
              "        vertical-align: middle;\n",
              "    }\n",
              "\n",
              "    .dataframe tbody tr th {\n",
              "        vertical-align: top;\n",
              "    }\n",
              "\n",
              "    .dataframe thead th {\n",
              "        text-align: right;\n",
              "    }\n",
              "</style>\n",
              "<table border=\"1\" class=\"dataframe\">\n",
              "  <thead>\n",
              "    <tr style=\"text-align: right;\">\n",
              "      <th></th>\n",
              "      <th>actual</th>\n",
              "      <th>predicted</th>\n",
              "    </tr>\n",
              "  </thead>\n",
              "  <tbody>\n",
              "    <tr>\n",
              "      <th>8007</th>\n",
              "      <td>0</td>\n",
              "      <td>0</td>\n",
              "    </tr>\n",
              "    <tr>\n",
              "      <th>6159</th>\n",
              "      <td>0</td>\n",
              "      <td>0</td>\n",
              "    </tr>\n",
              "    <tr>\n",
              "      <th>9782</th>\n",
              "      <td>0</td>\n",
              "      <td>0</td>\n",
              "    </tr>\n",
              "    <tr>\n",
              "      <th>6132</th>\n",
              "      <td>0</td>\n",
              "      <td>0</td>\n",
              "    </tr>\n",
              "    <tr>\n",
              "      <th>6649</th>\n",
              "      <td>0</td>\n",
              "      <td>0</td>\n",
              "    </tr>\n",
              "  </tbody>\n",
              "</table>\n",
              "</div>\n",
              "      <button class=\"colab-df-convert\" onclick=\"convertToInteractive('df-8188a78f-fcc4-4854-a252-80eea33dc6a1')\"\n",
              "              title=\"Convert this dataframe to an interactive table.\"\n",
              "              style=\"display:none;\">\n",
              "        \n",
              "  <svg xmlns=\"http://www.w3.org/2000/svg\" height=\"24px\"viewBox=\"0 0 24 24\"\n",
              "       width=\"24px\">\n",
              "    <path d=\"M0 0h24v24H0V0z\" fill=\"none\"/>\n",
              "    <path d=\"M18.56 5.44l.94 2.06.94-2.06 2.06-.94-2.06-.94-.94-2.06-.94 2.06-2.06.94zm-11 1L8.5 8.5l.94-2.06 2.06-.94-2.06-.94L8.5 2.5l-.94 2.06-2.06.94zm10 10l.94 2.06.94-2.06 2.06-.94-2.06-.94-.94-2.06-.94 2.06-2.06.94z\"/><path d=\"M17.41 7.96l-1.37-1.37c-.4-.4-.92-.59-1.43-.59-.52 0-1.04.2-1.43.59L10.3 9.45l-7.72 7.72c-.78.78-.78 2.05 0 2.83L4 21.41c.39.39.9.59 1.41.59.51 0 1.02-.2 1.41-.59l7.78-7.78 2.81-2.81c.8-.78.8-2.07 0-2.86zM5.41 20L4 18.59l7.72-7.72 1.47 1.35L5.41 20z\"/>\n",
              "  </svg>\n",
              "      </button>\n",
              "      \n",
              "  <style>\n",
              "    .colab-df-container {\n",
              "      display:flex;\n",
              "      flex-wrap:wrap;\n",
              "      gap: 12px;\n",
              "    }\n",
              "\n",
              "    .colab-df-convert {\n",
              "      background-color: #E8F0FE;\n",
              "      border: none;\n",
              "      border-radius: 50%;\n",
              "      cursor: pointer;\n",
              "      display: none;\n",
              "      fill: #1967D2;\n",
              "      height: 32px;\n",
              "      padding: 0 0 0 0;\n",
              "      width: 32px;\n",
              "    }\n",
              "\n",
              "    .colab-df-convert:hover {\n",
              "      background-color: #E2EBFA;\n",
              "      box-shadow: 0px 1px 2px rgba(60, 64, 67, 0.3), 0px 1px 3px 1px rgba(60, 64, 67, 0.15);\n",
              "      fill: #174EA6;\n",
              "    }\n",
              "\n",
              "    [theme=dark] .colab-df-convert {\n",
              "      background-color: #3B4455;\n",
              "      fill: #D2E3FC;\n",
              "    }\n",
              "\n",
              "    [theme=dark] .colab-df-convert:hover {\n",
              "      background-color: #434B5C;\n",
              "      box-shadow: 0px 1px 3px 1px rgba(0, 0, 0, 0.15);\n",
              "      filter: drop-shadow(0px 1px 2px rgba(0, 0, 0, 0.3));\n",
              "      fill: #FFFFFF;\n",
              "    }\n",
              "  </style>\n",
              "\n",
              "      <script>\n",
              "        const buttonEl =\n",
              "          document.querySelector('#df-8188a78f-fcc4-4854-a252-80eea33dc6a1 button.colab-df-convert');\n",
              "        buttonEl.style.display =\n",
              "          google.colab.kernel.accessAllowed ? 'block' : 'none';\n",
              "\n",
              "        async function convertToInteractive(key) {\n",
              "          const element = document.querySelector('#df-8188a78f-fcc4-4854-a252-80eea33dc6a1');\n",
              "          const dataTable =\n",
              "            await google.colab.kernel.invokeFunction('convertToInteractive',\n",
              "                                                     [key], {});\n",
              "          if (!dataTable) return;\n",
              "\n",
              "          const docLinkHtml = 'Like what you see? Visit the ' +\n",
              "            '<a target=\"_blank\" href=https://colab.research.google.com/notebooks/data_table.ipynb>data table notebook</a>'\n",
              "            + ' to learn more about interactive tables.';\n",
              "          element.innerHTML = '';\n",
              "          dataTable['output_type'] = 'display_data';\n",
              "          await google.colab.output.renderOutput(dataTable, element);\n",
              "          const docLink = document.createElement('div');\n",
              "          docLink.innerHTML = docLinkHtml;\n",
              "          element.appendChild(docLink);\n",
              "        }\n",
              "      </script>\n",
              "    </div>\n",
              "  </div>\n",
              "  "
            ]
          },
          "metadata": {},
          "execution_count": 80
        }
      ]
    },
    {
      "metadata": {
        "id": "_eJ4JHJykYwt"
      },
      "cell_type": "markdown",
      "source": [
        "# Model Evaluation"
      ]
    },
    {
      "metadata": {
        "trusted": true,
        "colab": {
          "base_uri": "https://localhost:8080/"
        },
        "id": "xr8udt9hkYwt",
        "outputId": "76143432-1f7c-4922-d3c8-c179828d765d"
      },
      "cell_type": "code",
      "source": [
        "#1. Check accuracy score on train and test\n",
        "\n",
        "print('Accuracy Score for train dataset : ' , metrics.accuracy_score(rf_train_predict.actual, rf_train_predict.predicted))\n",
        "print('Accuracy Score for test dataset : ' , metrics.accuracy_score(rf_test_predict.actual, rf_test_predict.predicted))"
      ],
      "execution_count": 81,
      "outputs": [
        {
          "output_type": "stream",
          "name": "stdout",
          "text": [
            "Accuracy Score for train dataset :  0.9998609952738393\n",
            "Accuracy Score for test dataset :  0.942745969983324\n"
          ]
        }
      ]
    },
    {
      "metadata": {
        "trusted": true,
        "colab": {
          "base_uri": "https://localhost:8080/"
        },
        "id": "DJmUKFc0kYwu",
        "outputId": "544aa563-1337-461c-fd1c-0ed5b5760d00"
      },
      "cell_type": "code",
      "source": [
        "#2. Check roc_auc score on train and test\n",
        "\n",
        "print('ROC-AUC Score for train dataset : ' , metrics.roc_auc_score(rf_train_predict.actual, rf_train_predict.predicted))\n",
        "print('ROC-AUC Score for validation dataset : ' , metrics.roc_auc_score(rf_test_predict.actual, rf_test_predict.predicted))"
      ],
      "execution_count": 82,
      "outputs": [
        {
          "output_type": "stream",
          "name": "stdout",
          "text": [
            "ROC-AUC Score for train dataset :  0.9997209821428572\n",
            "ROC-AUC Score for validation dataset :  0.9007667141266389\n"
          ]
        }
      ]
    },
    {
      "metadata": {
        "trusted": true,
        "colab": {
          "base_uri": "https://localhost:8080/",
          "height": 283
        },
        "id": "YE4eOG_MkYwu",
        "outputId": "a04b2432-7b05-4332-961b-d53c91a7631f"
      },
      "cell_type": "code",
      "source": [
        "#3. Create confusion matrix\n",
        "#for test\n",
        "\n",
        "conn_cm_test = metrics.confusion_matrix(rf_test_predict.actual, rf_test_predict.predicted)\n",
        "sns.heatmap(conn_cm_test, fmt= '.2f', annot=True,  xticklabels=['IT', 'NOT IT'], yticklabels=['IT', 'NOT IT'])"
      ],
      "execution_count": 84,
      "outputs": [
        {
          "output_type": "execute_result",
          "data": {
            "text/plain": [
              "<matplotlib.axes._subplots.AxesSubplot at 0x7f8be18ba710>"
            ]
          },
          "metadata": {},
          "execution_count": 84
        },
        {
          "output_type": "display_data",
          "data": {
            "text/plain": [
              "<Figure size 432x288 with 2 Axes>"
            ],
            "image/png": "[encoded data removed]"
          },
          "metadata": {
            "needs_background": "light"
          }
        }
      ]
    },
    {
      "metadata": {
        "trusted": true,
        "colab": {
          "base_uri": "https://localhost:8080/"
        },
        "id": "SH4ZSX8gkYwu",
        "outputId": "8c202376-88e9-42aa-9929-6e70309b49c4"
      },
      "cell_type": "code",
      "source": [
        "#4. Create classification report\n",
        "print(metrics.classification_report(rf_test_predict.actual, rf_test_predict.predicted))"
      ],
      "execution_count": 85,
      "outputs": [
        {
          "output_type": "stream",
          "name": "stdout",
          "text": [
            "              precision    recall  f1-score   support\n",
            "\n",
            "           0       0.95      0.98      0.96      1378\n",
            "           1       0.93      0.82      0.87       421\n",
            "\n",
            "    accuracy                           0.94      1799\n",
            "   macro avg       0.94      0.90      0.92      1799\n",
            "weighted avg       0.94      0.94      0.94      1799\n",
            "\n"
          ]
        }
      ]
    },
    {
      "metadata": {
        "scrolled": true,
        "trusted": true,
        "colab": {
          "base_uri": "https://localhost:8080/",
          "height": 424
        },
        "id": "-6j1gPVJkYwu",
        "outputId": "7dd04038-46c4-45b1-b6fe-d6d0db8f8580"
      },
      "cell_type": "code",
      "source": [
        "indices = np.argsort(rf_model.feature_importances_)[::-1]\n",
        "feature_rank = pd.DataFrame(columns = ['rank', 'feature', 'importance'])\n",
        "for f in range(train_x.shape[1]):\n",
        "    feature_rank.loc[f] = [f+1,\n",
        "                          train_x.columns[indices[f]],\n",
        "                          rf_model.feature_importances_[indices[f]]]\n",
        "feature_rank.round(3)"
      ],
      "execution_count": 86,
      "outputs": [
        {
          "output_type": "execute_result",
          "data": {
            "text/plain": [
              "    rank      feature  importance\n",
              "0      1     software       0.063\n",
              "1      2    developer       0.059\n",
              "2      3  application       0.036\n",
              "3      4       design       0.021\n",
              "4      5          sql       0.021\n",
              "..   ...          ...         ...\n",
              "500  501          ngo       0.000\n",
              "501  502        chief       0.000\n",
              "502  503  coordinator       0.000\n",
              "503  504      oversee       0.000\n",
              "504  505         fund       0.000\n",
              "\n",
              "[505 rows x 3 columns]"
            ],
            "text/html": [
              "\n",
              "  <div id=\"df-3d23f312-f5db-4da5-8c55-918714936982\">\n",
              "    <div class=\"colab-df-container\">\n",
              "      <div>\n",
              "<style scoped>\n",
              "    .dataframe tbody tr th:only-of-type {\n",
              "        vertical-align: middle;\n",
              "    }\n",
              "\n",
              "    .dataframe tbody tr th {\n",
              "        vertical-align: top;\n",
              "    }\n",
              "\n",
              "    .dataframe thead th {\n",
              "        text-align: right;\n",
              "    }\n",
              "</style>\n",
              "<table border=\"1\" class=\"dataframe\">\n",
              "  <thead>\n",
              "    <tr style=\"text-align: right;\">\n",
              "      <th></th>\n",
              "      <th>rank</th>\n",
              "      <th>feature</th>\n",
              "      <th>importance</th>\n",
              "    </tr>\n",
              "  </thead>\n",
              "  <tbody>\n",
              "    <tr>\n",
              "      <th>0</th>\n",
              "      <td>1</td>\n",
              "      <td>software</td>\n",
              "      <td>0.063</td>\n",
              "    </tr>\n",
              "    <tr>\n",
              "      <th>1</th>\n",
              "      <td>2</td>\n",
              "      <td>developer</td>\n",
              "      <td>0.059</td>\n",
              "    </tr>\n",
              "    <tr>\n",
              "      <th>2</th>\n",
              "      <td>3</td>\n",
              "      <td>application</td>\n",
              "      <td>0.036</td>\n",
              "    </tr>\n",
              "    <tr>\n",
              "      <th>3</th>\n",
              "      <td>4</td>\n",
              "      <td>design</td>\n",
              "      <td>0.021</td>\n",
              "    </tr>\n",
              "    <tr>\n",
              "      <th>4</th>\n",
              "      <td>5</td>\n",
              "      <td>sql</td>\n",
              "      <td>0.021</td>\n",
              "    </tr>\n",
              "    <tr>\n",
              "      <th>...</th>\n",
              "      <td>...</td>\n",
              "      <td>...</td>\n",
              "      <td>...</td>\n",
              "    </tr>\n",
              "    <tr>\n",
              "      <th>500</th>\n",
              "      <td>501</td>\n",
              "      <td>ngo</td>\n",
              "      <td>0.000</td>\n",
              "    </tr>\n",
              "    <tr>\n",
              "      <th>501</th>\n",
              "      <td>502</td>\n",
              "      <td>chief</td>\n",
              "      <td>0.000</td>\n",
              "    </tr>\n",
              "    <tr>\n",
              "      <th>502</th>\n",
              "      <td>503</td>\n",
              "      <td>coordinator</td>\n",
              "      <td>0.000</td>\n",
              "    </tr>\n",
              "    <tr>\n",
              "      <th>503</th>\n",
              "      <td>504</td>\n",
              "      <td>oversee</td>\n",
              "      <td>0.000</td>\n",
              "    </tr>\n",
              "    <tr>\n",
              "      <th>504</th>\n",
              "      <td>505</td>\n",
              "      <td>fund</td>\n",
              "      <td>0.000</td>\n",
              "    </tr>\n",
              "  </tbody>\n",
              "</table>\n",
              "<p>505 rows × 3 columns</p>\n",
              "</div>\n",
              "      <button class=\"colab-df-convert\" onclick=\"convertToInteractive('df-3d23f312-f5db-4da5-8c55-918714936982')\"\n",
              "              title=\"Convert this dataframe to an interactive table.\"\n",
              "              style=\"display:none;\">\n",
              "        \n",
              "  <svg xmlns=\"http://www.w3.org/2000/svg\" height=\"24px\"viewBox=\"0 0 24 24\"\n",
              "       width=\"24px\">\n",
              "    <path d=\"M0 0h24v24H0V0z\" fill=\"none\"/>\n",
              "    <path d=\"M18.56 5.44l.94 2.06.94-2.06 2.06-.94-2.06-.94-.94-2.06-.94 2.06-2.06.94zm-11 1L8.5 8.5l.94-2.06 2.06-.94-2.06-.94L8.5 2.5l-.94 2.06-2.06.94zm10 10l.94 2.06.94-2.06 2.06-.94-2.06-.94-.94-2.06-.94 2.06-2.06.94z\"/><path d=\"M17.41 7.96l-1.37-1.37c-.4-.4-.92-.59-1.43-.59-.52 0-1.04.2-1.43.59L10.3 9.45l-7.72 7.72c-.78.78-.78 2.05 0 2.83L4 21.41c.39.39.9.59 1.41.59.51 0 1.02-.2 1.41-.59l7.78-7.78 2.81-2.81c.8-.78.8-2.07 0-2.86zM5.41 20L4 18.59l7.72-7.72 1.47 1.35L5.41 20z\"/>\n",
              "  </svg>\n",
              "      </button>\n",
              "      \n",
              "  <style>\n",
              "    .colab-df-container {\n",
              "      display:flex;\n",
              "      flex-wrap:wrap;\n",
              "      gap: 12px;\n",
              "    }\n",
              "\n",
              "    .colab-df-convert {\n",
              "      background-color: #E8F0FE;\n",
              "      border: none;\n",
              "      border-radius: 50%;\n",
              "      cursor: pointer;\n",
              "      display: none;\n",
              "      fill: #1967D2;\n",
              "      height: 32px;\n",
              "      padding: 0 0 0 0;\n",
              "      width: 32px;\n",
              "    }\n",
              "\n",
              "    .colab-df-convert:hover {\n",
              "      background-color: #E2EBFA;\n",
              "      box-shadow: 0px 1px 2px rgba(60, 64, 67, 0.3), 0px 1px 3px 1px rgba(60, 64, 67, 0.15);\n",
              "      fill: #174EA6;\n",
              "    }\n",
              "\n",
              "    [theme=dark] .colab-df-convert {\n",
              "      background-color: #3B4455;\n",
              "      fill: #D2E3FC;\n",
              "    }\n",
              "\n",
              "    [theme=dark] .colab-df-convert:hover {\n",
              "      background-color: #434B5C;\n",
              "      box-shadow: 0px 1px 3px 1px rgba(0, 0, 0, 0.15);\n",
              "      filter: drop-shadow(0px 1px 2px rgba(0, 0, 0, 0.3));\n",
              "      fill: #FFFFFF;\n",
              "    }\n",
              "  </style>\n",
              "\n",
              "      <script>\n",
              "        const buttonEl =\n",
              "          document.querySelector('#df-3d23f312-f5db-4da5-8c55-918714936982 button.colab-df-convert');\n",
              "        buttonEl.style.display =\n",
              "          google.colab.kernel.accessAllowed ? 'block' : 'none';\n",
              "\n",
              "        async function convertToInteractive(key) {\n",
              "          const element = document.querySelector('#df-3d23f312-f5db-4da5-8c55-918714936982');\n",
              "          const dataTable =\n",
              "            await google.colab.kernel.invokeFunction('convertToInteractive',\n",
              "                                                     [key], {});\n",
              "          if (!dataTable) return;\n",
              "\n",
              "          const docLinkHtml = 'Like what you see? Visit the ' +\n",
              "            '<a target=\"_blank\" href=https://colab.research.google.com/notebooks/data_table.ipynb>data table notebook</a>'\n",
              "            + ' to learn more about interactive tables.';\n",
              "          element.innerHTML = '';\n",
              "          dataTable['output_type'] = 'display_data';\n",
              "          await google.colab.output.renderOutput(dataTable, element);\n",
              "          const docLink = document.createElement('div');\n",
              "          docLink.innerHTML = docLinkHtml;\n",
              "          element.appendChild(docLink);\n",
              "        }\n",
              "      </script>\n",
              "    </div>\n",
              "  </div>\n",
              "  "
            ]
          },
          "metadata": {},
          "execution_count": 86
        }
      ]
    },
    {
      "metadata": {
        "scrolled": true,
        "trusted": true,
        "colab": {
          "base_uri": "https://localhost:8080/",
          "height": 583
        },
        "id": "7GPCiuSpkYwv",
        "outputId": "ce2a3103-e09c-414b-9394-3dcf3eba9700"
      },
      "cell_type": "code",
      "source": [
        "feature_rank[:17]"
      ],
      "execution_count": 87,
      "outputs": [
        {
          "output_type": "execute_result",
          "data": {
            "text/plain": [
              "   rank      feature  importance\n",
              "0     1     software    0.062674\n",
              "1     2    developer    0.058501\n",
              "2     3  application    0.036283\n",
              "3     4       design    0.020606\n",
              "4     5          sql    0.020530\n",
              "5     6  development    0.020268\n",
              "6     7          oop    0.019558\n",
              "7     8         html    0.019416\n",
              "8     9   experience    0.019327\n",
              "9    10         java    0.019086\n",
              "10   11   technology    0.017899\n",
              "11   12     armenian    0.017655\n",
              "12   13          web    0.017003\n",
              "13   14   javascript    0.015738\n",
              "14   15  programming    0.015081\n",
              "15   16       server    0.014531\n",
              "16   17     database    0.011410"
            ],
            "text/html": [
              "\n",
              "  <div id=\"df-929d766e-a81a-4a36-b488-625ce56392a6\">\n",
              "    <div class=\"colab-df-container\">\n",
              "      <div>\n",
              "<style scoped>\n",
              "    .dataframe tbody tr th:only-of-type {\n",
              "        vertical-align: middle;\n",
              "    }\n",
              "\n",
              "    .dataframe tbody tr th {\n",
              "        vertical-align: top;\n",
              "    }\n",
              "\n",
              "    .dataframe thead th {\n",
              "        text-align: right;\n",
              "    }\n",
              "</style>\n",
              "<table border=\"1\" class=\"dataframe\">\n",
              "  <thead>\n",
              "    <tr style=\"text-align: right;\">\n",
              "      <th></th>\n",
              "      <th>rank</th>\n",
              "      <th>feature</th>\n",
              "      <th>importance</th>\n",
              "    </tr>\n",
              "  </thead>\n",
              "  <tbody>\n",
              "    <tr>\n",
              "      <th>0</th>\n",
              "      <td>1</td>\n",
              "      <td>software</td>\n",
              "      <td>0.062674</td>\n",
              "    </tr>\n",
              "    <tr>\n",
              "      <th>1</th>\n",
              "      <td>2</td>\n",
              "      <td>developer</td>\n",
              "      <td>0.058501</td>\n",
              "    </tr>\n",
              "    <tr>\n",
              "      <th>2</th>\n",
              "      <td>3</td>\n",
              "      <td>application</td>\n",
              "      <td>0.036283</td>\n",
              "    </tr>\n",
              "    <tr>\n",
              "      <th>3</th>\n",
              "      <td>4</td>\n",
              "      <td>design</td>\n",
              "      <td>0.020606</td>\n",
              "    </tr>\n",
              "    <tr>\n",
              "      <th>4</th>\n",
              "      <td>5</td>\n",
              "      <td>sql</td>\n",
              "      <td>0.020530</td>\n",
              "    </tr>\n",
              "    <tr>\n",
              "      <th>5</th>\n",
              "      <td>6</td>\n",
              "      <td>development</td>\n",
              "      <td>0.020268</td>\n",
              "    </tr>\n",
              "    <tr>\n",
              "      <th>6</th>\n",
              "      <td>7</td>\n",
              "      <td>oop</td>\n",
              "      <td>0.019558</td>\n",
              "    </tr>\n",
              "    <tr>\n",
              "      <th>7</th>\n",
              "      <td>8</td>\n",
              "      <td>html</td>\n",
              "      <td>0.019416</td>\n",
              "    </tr>\n",
              "    <tr>\n",
              "      <th>8</th>\n",
              "      <td>9</td>\n",
              "      <td>experience</td>\n",
              "      <td>0.019327</td>\n",
              "    </tr>\n",
              "    <tr>\n",
              "      <th>9</th>\n",
              "      <td>10</td>\n",
              "      <td>java</td>\n",
              "      <td>0.019086</td>\n",
              "    </tr>\n",
              "    <tr>\n",
              "      <th>10</th>\n",
              "      <td>11</td>\n",
              "      <td>technology</td>\n",
              "      <td>0.017899</td>\n",
              "    </tr>\n",
              "    <tr>\n",
              "      <th>11</th>\n",
              "      <td>12</td>\n",
              "      <td>armenian</td>\n",
              "      <td>0.017655</td>\n",
              "    </tr>\n",
              "    <tr>\n",
              "      <th>12</th>\n",
              "      <td>13</td>\n",
              "      <td>web</td>\n",
              "      <td>0.017003</td>\n",
              "    </tr>\n",
              "    <tr>\n",
              "      <th>13</th>\n",
              "      <td>14</td>\n",
              "      <td>javascript</td>\n",
              "      <td>0.015738</td>\n",
              "    </tr>\n",
              "    <tr>\n",
              "      <th>14</th>\n",
              "      <td>15</td>\n",
              "      <td>programming</td>\n",
              "      <td>0.015081</td>\n",
              "    </tr>\n",
              "    <tr>\n",
              "      <th>15</th>\n",
              "      <td>16</td>\n",
              "      <td>server</td>\n",
              "      <td>0.014531</td>\n",
              "    </tr>\n",
              "    <tr>\n",
              "      <th>16</th>\n",
              "      <td>17</td>\n",
              "      <td>database</td>\n",
              "      <td>0.011410</td>\n",
              "    </tr>\n",
              "  </tbody>\n",
              "</table>\n",
              "</div>\n",
              "      <button class=\"colab-df-convert\" onclick=\"convertToInteractive('df-929d766e-a81a-4a36-b488-625ce56392a6')\"\n",
              "              title=\"Convert this dataframe to an interactive table.\"\n",
              "              style=\"display:none;\">\n",
              "        \n",
              "  <svg xmlns=\"http://www.w3.org/2000/svg\" height=\"24px\"viewBox=\"0 0 24 24\"\n",
              "       width=\"24px\">\n",
              "    <path d=\"M0 0h24v24H0V0z\" fill=\"none\"/>\n",
              "    <path d=\"M18.56 5.44l.94 2.06.94-2.06 2.06-.94-2.06-.94-.94-2.06-.94 2.06-2.06.94zm-11 1L8.5 8.5l.94-2.06 2.06-.94-2.06-.94L8.5 2.5l-.94 2.06-2.06.94zm10 10l.94 2.06.94-2.06 2.06-.94-2.06-.94-.94-2.06-.94 2.06-2.06.94z\"/><path d=\"M17.41 7.96l-1.37-1.37c-.4-.4-.92-.59-1.43-.59-.52 0-1.04.2-1.43.59L10.3 9.45l-7.72 7.72c-.78.78-.78 2.05 0 2.83L4 21.41c.39.39.9.59 1.41.59.51 0 1.02-.2 1.41-.59l7.78-7.78 2.81-2.81c.8-.78.8-2.07 0-2.86zM5.41 20L4 18.59l7.72-7.72 1.47 1.35L5.41 20z\"/>\n",
              "  </svg>\n",
              "      </button>\n",
              "      \n",
              "  <style>\n",
              "    .colab-df-container {\n",
              "      display:flex;\n",
              "      flex-wrap:wrap;\n",
              "      gap: 12px;\n",
              "    }\n",
              "\n",
              "    .colab-df-convert {\n",
              "      background-color: #E8F0FE;\n",
              "      border: none;\n",
              "      border-radius: 50%;\n",
              "      cursor: pointer;\n",
              "      display: none;\n",
              "      fill: #1967D2;\n",
              "      height: 32px;\n",
              "      padding: 0 0 0 0;\n",
              "      width: 32px;\n",
              "    }\n",
              "\n",
              "    .colab-df-convert:hover {\n",
              "      background-color: #E2EBFA;\n",
              "      box-shadow: 0px 1px 2px rgba(60, 64, 67, 0.3), 0px 1px 3px 1px rgba(60, 64, 67, 0.15);\n",
              "      fill: #174EA6;\n",
              "    }\n",
              "\n",
              "    [theme=dark] .colab-df-convert {\n",
              "      background-color: #3B4455;\n",
              "      fill: #D2E3FC;\n",
              "    }\n",
              "\n",
              "    [theme=dark] .colab-df-convert:hover {\n",
              "      background-color: #434B5C;\n",
              "      box-shadow: 0px 1px 3px 1px rgba(0, 0, 0, 0.15);\n",
              "      filter: drop-shadow(0px 1px 2px rgba(0, 0, 0, 0.3));\n",
              "      fill: #FFFFFF;\n",
              "    }\n",
              "  </style>\n",
              "\n",
              "      <script>\n",
              "        const buttonEl =\n",
              "          document.querySelector('#df-929d766e-a81a-4a36-b488-625ce56392a6 button.colab-df-convert');\n",
              "        buttonEl.style.display =\n",
              "          google.colab.kernel.accessAllowed ? 'block' : 'none';\n",
              "\n",
              "        async function convertToInteractive(key) {\n",
              "          const element = document.querySelector('#df-929d766e-a81a-4a36-b488-625ce56392a6');\n",
              "          const dataTable =\n",
              "            await google.colab.kernel.invokeFunction('convertToInteractive',\n",
              "                                                     [key], {});\n",
              "          if (!dataTable) return;\n",
              "\n",
              "          const docLinkHtml = 'Like what you see? Visit the ' +\n",
              "            '<a target=\"_blank\" href=https://colab.research.google.com/notebooks/data_table.ipynb>data table notebook</a>'\n",
              "            + ' to learn more about interactive tables.';\n",
              "          element.innerHTML = '';\n",
              "          dataTable['output_type'] = 'display_data';\n",
              "          await google.colab.output.renderOutput(dataTable, element);\n",
              "          const docLink = document.createElement('div');\n",
              "          docLink.innerHTML = docLinkHtml;\n",
              "          element.appendChild(docLink);\n",
              "        }\n",
              "      </script>\n",
              "    </div>\n",
              "  </div>\n",
              "  "
            ]
          },
          "metadata": {},
          "execution_count": 87
        }
      ]
    },
    {
      "metadata": {
        "id": "3ZN6bhxNkYwv"
      },
      "cell_type": "markdown",
      "source": [
        "Presence of keywords like software, developer, web, design, cs are the important feautures while clasifying any job as **IT or NON-IT**"
      ]
    }
  ],
  "metadata": {
    "kernelspec": {
      "name": "python3",
      "display_name": "Python 3",
      "language": "python"
    },
    "language_info": {
      "name": "python",
      "version": "3.7.9",
      "mimetype": "text/x-python",
      "codemirror_mode": {
        "name": "ipython",
        "version": 3
      },
      "pygments_lexer": "ipython3",
      "nbconvert_exporter": "python",
      "file_extension": ".py"
    },
    "colab": {
      "provenance": []
    }
  },
  "nbformat": 4,
  "nbformat_minor": 0
}