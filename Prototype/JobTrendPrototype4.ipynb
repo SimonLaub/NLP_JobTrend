{
  "nbformat": 4,
  "nbformat_minor": 0,
  "metadata": {
    "colab": {
      "provenance": []
    },
    "kernelspec": {
      "name": "python3",
      "display_name": "Python 3"
    },
    "language_info": {
      "name": "python"
    },
    "gpuClass": "standard",
    "accelerator": "GPU"
  },
  "cells": [
    {
      "cell_type": "code",
      "execution_count": 1,
      "metadata": {
        "id": "ttImKTCKnYsB"
      },
      "outputs": [],
      "source": [
        "# JobTrend prototype 4\n",
        "# \n",
        "# Sila. January 24, 2020"
      ]
    },
    {
      "cell_type": "code",
      "source": [
        "from google.colab import files\n",
        "uploaded = files.upload()"
      ],
      "metadata": {
        "colab": {
          "base_uri": "https://localhost:8080/",
          "height": 74
        },
        "id": "8FI2HAkxnrwB",
        "outputId": "aee42a0d-109a-417c-c9a3-43aec32cb2b3"
      },
      "execution_count": 123,
      "outputs": [
        {
          "output_type": "display_data",
          "data": {
            "text/plain": [
              "<IPython.core.display.HTML object>"
            ],
            "text/html": [
              "\n",
              "     <input type=\"file\" id=\"files-4b0c801b-7432-4670-bff6-c2973f37757f\" name=\"files[]\" multiple disabled\n",
              "        style=\"border:none\" />\n",
              "     <output id=\"result-4b0c801b-7432-4670-bff6-c2973f37757f\">\n",
              "      Upload widget is only available when the cell has been executed in the\n",
              "      current browser session. Please rerun this cell to enable.\n",
              "      </output>\n",
              "      <script>// Copyright 2017 Google LLC\n",
              "//\n",
              "// Licensed under the Apache License, Version 2.0 (the \"License\");\n",
              "// you may not use this file except in compliance with the License.\n",
              "// You may obtain a copy of the License at\n",
              "//\n",
              "//      http://www.apache.org/licenses/LICENSE-2.0\n",
              "//\n",
              "// Unless required by applicable law or agreed to in writing, software\n",
              "// distributed under the License is distributed on an \"AS IS\" BASIS,\n",
              "// WITHOUT WARRANTIES OR CONDITIONS OF ANY KIND, either express or implied.\n",
              "// See the License for the specific language governing permissions and\n",
              "// limitations under the License.\n",
              "\n",
              "/**\n",
              " * @fileoverview Helpers for google.colab Python module.\n",
              " */\n",
              "(function(scope) {\n",
              "function span(text, styleAttributes = {}) {\n",
              "  const element = document.createElement('span');\n",
              "  element.textContent = text;\n",
              "  for (const key of Object.keys(styleAttributes)) {\n",
              "    element.style[key] = styleAttributes[key];\n",
              "  }\n",
              "  return element;\n",
              "}\n",
              "\n",
              "// Max number of bytes which will be uploaded at a time.\n",
              "const MAX_PAYLOAD_SIZE = 100 * 1024;\n",
              "\n",
              "function _uploadFiles(inputId, outputId) {\n",
              "  const steps = uploadFilesStep(inputId, outputId);\n",
              "  const outputElement = document.getElementById(outputId);\n",
              "  // Cache steps on the outputElement to make it available for the next call\n",
              "  // to uploadFilesContinue from Python.\n",
              "  outputElement.steps = steps;\n",
              "\n",
              "  return _uploadFilesContinue(outputId);\n",
              "}\n",
              "\n",
              "// This is roughly an async generator (not supported in the browser yet),\n",
              "// where there are multiple asynchronous steps and the Python side is going\n",
              "// to poll for completion of each step.\n",
              "// This uses a Promise to block the python side on completion of each step,\n",
              "// then passes the result of the previous step as the input to the next step.\n",
              "function _uploadFilesContinue(outputId) {\n",
              "  const outputElement = document.getElementById(outputId);\n",
              "  const steps = outputElement.steps;\n",
              "\n",
              "  const next = steps.next(outputElement.lastPromiseValue);\n",
              "  return Promise.resolve(next.value.promise).then((value) => {\n",
              "    // Cache the last promise value to make it available to the next\n",
              "    // step of the generator.\n",
              "    outputElement.lastPromiseValue = value;\n",
              "    return next.value.response;\n",
              "  });\n",
              "}\n",
              "\n",
              "/**\n",
              " * Generator function which is called between each async step of the upload\n",
              " * process.\n",
              " * @param {string} inputId Element ID of the input file picker element.\n",
              " * @param {string} outputId Element ID of the output display.\n",
              " * @return {!Iterable<!Object>} Iterable of next steps.\n",
              " */\n",
              "function* uploadFilesStep(inputId, outputId) {\n",
              "  const inputElement = document.getElementById(inputId);\n",
              "  inputElement.disabled = false;\n",
              "\n",
              "  const outputElement = document.getElementById(outputId);\n",
              "  outputElement.innerHTML = '';\n",
              "\n",
              "  const pickedPromise = new Promise((resolve) => {\n",
              "    inputElement.addEventListener('change', (e) => {\n",
              "      resolve(e.target.files);\n",
              "    });\n",
              "  });\n",
              "\n",
              "  const cancel = document.createElement('button');\n",
              "  inputElement.parentElement.appendChild(cancel);\n",
              "  cancel.textContent = 'Cancel upload';\n",
              "  const cancelPromise = new Promise((resolve) => {\n",
              "    cancel.onclick = () => {\n",
              "      resolve(null);\n",
              "    };\n",
              "  });\n",
              "\n",
              "  // Wait for the user to pick the files.\n",
              "  const files = yield {\n",
              "    promise: Promise.race([pickedPromise, cancelPromise]),\n",
              "    response: {\n",
              "      action: 'starting',\n",
              "    }\n",
              "  };\n",
              "\n",
              "  cancel.remove();\n",
              "\n",
              "  // Disable the input element since further picks are not allowed.\n",
              "  inputElement.disabled = true;\n",
              "\n",
              "  if (!files) {\n",
              "    return {\n",
              "      response: {\n",
              "        action: 'complete',\n",
              "      }\n",
              "    };\n",
              "  }\n",
              "\n",
              "  for (const file of files) {\n",
              "    const li = document.createElement('li');\n",
              "    li.append(span(file.name, {fontWeight: 'bold'}));\n",
              "    li.append(span(\n",
              "        `(${file.type || 'n/a'}) - ${file.size} bytes, ` +\n",
              "        `last modified: ${\n",
              "            file.lastModifiedDate ? file.lastModifiedDate.toLocaleDateString() :\n",
              "                                    'n/a'} - `));\n",
              "    const percent = span('0% done');\n",
              "    li.appendChild(percent);\n",
              "\n",
              "    outputElement.appendChild(li);\n",
              "\n",
              "    const fileDataPromise = new Promise((resolve) => {\n",
              "      const reader = new FileReader();\n",
              "      reader.onload = (e) => {\n",
              "        resolve(e.target.result);\n",
              "      };\n",
              "      reader.readAsArrayBuffer(file);\n",
              "    });\n",
              "    // Wait for the data to be ready.\n",
              "    let fileData = yield {\n",
              "      promise: fileDataPromise,\n",
              "      response: {\n",
              "        action: 'continue',\n",
              "      }\n",
              "    };\n",
              "\n",
              "    // Use a chunked sending to avoid message size limits. See b/62115660.\n",
              "    let position = 0;\n",
              "    do {\n",
              "      const length = Math.min(fileData.byteLength - position, MAX_PAYLOAD_SIZE);\n",
              "      const chunk = new Uint8Array(fileData, position, length);\n",
              "      position += length;\n",
              "\n",
              "      const base64 = btoa(String.fromCharCode.apply(null, chunk));\n",
              "      yield {\n",
              "        response: {\n",
              "          action: 'append',\n",
              "          file: file.name,\n",
              "          data: base64,\n",
              "        },\n",
              "      };\n",
              "\n",
              "      let percentDone = fileData.byteLength === 0 ?\n",
              "          100 :\n",
              "          Math.round((position / fileData.byteLength) * 100);\n",
              "      percent.textContent = `${percentDone}% done`;\n",
              "\n",
              "    } while (position < fileData.byteLength);\n",
              "  }\n",
              "\n",
              "  // All done.\n",
              "  yield {\n",
              "    response: {\n",
              "      action: 'complete',\n",
              "    }\n",
              "  };\n",
              "}\n",
              "\n",
              "scope.google = scope.google || {};\n",
              "scope.google.colab = scope.google.colab || {};\n",
              "scope.google.colab._files = {\n",
              "  _uploadFiles,\n",
              "  _uploadFilesContinue,\n",
              "};\n",
              "})(self);\n",
              "</script> "
            ]
          },
          "metadata": {}
        },
        {
          "output_type": "stream",
          "name": "stdout",
          "text": [
            "Saving init.csv to init.csv\n"
          ]
        }
      ]
    },
    {
      "cell_type": "code",
      "source": [
        "# Upload the JobTrendAds_Transformer_Search.csv file\n",
        "!ls"
      ],
      "metadata": {
        "colab": {
          "base_uri": "https://localhost:8080/"
        },
        "id": "H0Ot9HWAntiZ",
        "outputId": "6735f211-7ce3-4e4a-b895-f277f61011a4"
      },
      "execution_count": 115,
      "outputs": [
        {
          "output_type": "stream",
          "name": "stdout",
          "text": [
            "JobTrendAds_Transformer_ChangedJobText.csv  sample_data\n"
          ]
        }
      ]
    },
    {
      "cell_type": "code",
      "source": [
        "# Read Jobfile\n",
        "import pandas as pd\n",
        "\n",
        "colnames=['Source.Name','ID', 'Date time', 'Details', 'Region', 'Pers.Komp', 'Pers.Komp.Value','Rest'] \n",
        "df = pd.read_csv(\"JobTrendAds_Transformer_Search.csv\", usecols = colnames, encoding=\"utf-8\", sep=';', header = 0 )\n",
        "\n",
        "# The JobTrend file must saved in utf-8 format"
      ],
      "metadata": {
        "id": "zfEZDlfDvCKZ"
      },
      "execution_count": 124,
      "outputs": []
    },
    {
      "cell_type": "code",
      "source": [
        "df.rename(columns = {'Rest':'JobAdText'}, inplace = True)\n",
        "df.rename(columns = {'Pers.Komp':'PersonligeKompetencer'}, inplace = True)\n",
        "# show the data\n",
        "print ( df .describe( include = 'all' ))\n",
        "#the describe is a great way to get an overview of the data\n",
        "#print ( df .values)"
      ],
      "metadata": {
        "colab": {
          "base_uri": "https://localhost:8080/"
        },
        "id": "2yBg2aTGvbga",
        "outputId": "97b184cc-940f-4750-eea4-ce42e54e3114"
      },
      "execution_count": 125,
      "outputs": [
        {
          "output_type": "stream",
          "name": "stdout",
          "text": [
            "              Source.Name            ID         Date time             Details  \\\n",
            "count                 296  2.960000e+02               296                 296   \n",
            "unique                296           NaN               289                 242   \n",
            "top     00031-1805634.txt           NaN  21-02-2020 22:37  Multimediedesigner   \n",
            "freq                    1           NaN                 2                   8   \n",
            "mean                  NaN  1.053727e+06               NaN                 NaN   \n",
            "std                   NaN  5.156326e+05               NaN                 NaN   \n",
            "min                   NaN  7.153000e+03               NaN                 NaN   \n",
            "25%                   NaN  6.856040e+05               NaN                 NaN   \n",
            "50%                   NaN  1.080747e+06               NaN                 NaN   \n",
            "75%                   NaN  1.446393e+06               NaN                 NaN   \n",
            "max                   NaN  1.960349e+06               NaN                 NaN   \n",
            "\n",
            "                    Region  PersonligeKompetencer  \\\n",
            "count                  296             100.000000   \n",
            "unique                   8                    NaN   \n",
            "top     region-midtjylland                    NaN   \n",
            "freq                    88                    NaN   \n",
            "mean                   NaN               0.400000   \n",
            "std                    NaN               0.492366   \n",
            "min                    NaN               0.000000   \n",
            "25%                    NaN               0.000000   \n",
            "50%                    NaN               0.000000   \n",
            "75%                    NaN               1.000000   \n",
            "max                    NaN               1.000000   \n",
            "\n",
            "                                          Pers.Komp.Value  \\\n",
            "count                                                   9   \n",
            "unique                                                  9   \n",
            "top     Har gode kommunikationsevner. Kan arbejde selv...   \n",
            "freq                                                    1   \n",
            "mean                                                  NaN   \n",
            "std                                                   NaN   \n",
            "min                                                   NaN   \n",
            "25%                                                   NaN   \n",
            "50%                                                   NaN   \n",
            "75%                                                   NaN   \n",
            "max                                                   NaN   \n",
            "\n",
            "                                                JobAdText  \n",
            "count                                                 296  \n",
            "unique                                                295  \n",
            "top                        Menu      Søg              ...  \n",
            "freq                                                    2  \n",
            "mean                                                  NaN  \n",
            "std                                                   NaN  \n",
            "min                                                   NaN  \n",
            "25%                                                   NaN  \n",
            "50%                                                   NaN  \n",
            "75%                                                   NaN  \n",
            "max                                                   NaN  \n"
          ]
        }
      ]
    },
    {
      "cell_type": "code",
      "source": [
        "df.drop('Source.Name' , axis = 1 , inplace = True )\n",
        "df.drop('Date time' , axis = 1 , inplace = True )\n",
        "df.drop('Details' , axis = 1 , inplace = True )\n",
        "df.drop('Region' , axis = 1 , inplace = True )"
      ],
      "metadata": {
        "id": "M3LTjYGpvx5n"
      },
      "execution_count": 126,
      "outputs": []
    },
    {
      "cell_type": "code",
      "source": [
        "# Replace No-value with zero on Pers.Komp column\n",
        "df[\"PersonligeKompetencer\"] = df[\"PersonligeKompetencer\"].fillna(0)"
      ],
      "metadata": {
        "id": "VmzVlfawv6D1"
      },
      "execution_count": 127,
      "outputs": []
    },
    {
      "cell_type": "code",
      "source": [
        "df['JobAdText'] = df['JobAdText'].apply(str)\n",
        "\n",
        "for column in df.columns[3:]:\n",
        "    print(df[column])"
      ],
      "metadata": {
        "colab": {
          "base_uri": "https://localhost:8080/"
        },
        "id": "1InJGjBCwEkM",
        "outputId": "598210b1-3803-4d34-c496-356624ffc5c1"
      },
      "execution_count": 128,
      "outputs": [
        {
          "output_type": "stream",
          "name": "stdout",
          "text": [
            "0                                                    ...\n",
            "1                                                    ...\n",
            "2                     ...eller  |                    ...\n",
            "3                                                    ...\n",
            "4                     ...eller  |                    ...\n",
            "                             ...                        \n",
            "291                   ...eller  |                    ...\n",
            "292                                              Stud...\n",
            "293                    Praktikant i Multimedia design...\n",
            "294              Webmaster til vores nye websiteVil d...\n",
            "295                   ...eller  |                    ...\n",
            "Name: JobAdText, Length: 296, dtype: object\n"
          ]
        }
      ]
    },
    {
      "cell_type": "code",
      "source": [
        "# Could find sentences with regular expressions, SpaCy etc.\n",
        "# (But) Using nltk here."
      ],
      "metadata": {
        "id": "rPRSQ0XYwMeg"
      },
      "execution_count": 111,
      "outputs": []
    },
    {
      "cell_type": "code",
      "source": [
        "from nltk import tokenize"
      ],
      "metadata": {
        "id": "_PHNINf3wN-8"
      },
      "execution_count": 81,
      "outputs": []
    },
    {
      "cell_type": "code",
      "source": [
        "import nltk\n",
        "nltk.download('punkt')"
      ],
      "metadata": {
        "colab": {
          "base_uri": "https://localhost:8080/"
        },
        "id": "46Pv3fJFwSZC",
        "outputId": "d6ae0f26-2454-4b52-9983-35147f4a8aee"
      },
      "execution_count": 82,
      "outputs": [
        {
          "output_type": "stream",
          "name": "stderr",
          "text": [
            "[nltk_data] Downloading package punkt to /root/nltk_data...\n",
            "[nltk_data]   Package punkt is already up-to-date!\n"
          ]
        },
        {
          "output_type": "execute_result",
          "data": {
            "text/plain": [
              "True"
            ]
          },
          "metadata": {},
          "execution_count": 82
        }
      ]
    },
    {
      "cell_type": "code",
      "source": [
        "nb_personal_qualifications = 0\n",
        "\n",
        "# For start, only look at 1 row\n",
        "for row in df.head(1).itertuples():\n",
        "    AdText = row.JobAdText\n",
        "\n",
        "    Sentences = tokenize.sent_tokenize(AdText)\n",
        "    '''doc = nlp(AdText)\n",
        "    Sentences = []\n",
        "    for sent in doc.sents:\n",
        "       Sentences.append(sent.text)'''\n",
        "    \n",
        "    # ToDo - This must read from Excel file\n",
        "    nb_personal_qualifications = int(row[2]) # Pers.Komp"
      ],
      "metadata": {
        "id": "gnQwbzAgwbXf"
      },
      "execution_count": 83,
      "outputs": []
    },
    {
      "cell_type": "code",
      "source": [
        "print(nb_personal_qualifications) #print(Sentences)"
      ],
      "metadata": {
        "colab": {
          "base_uri": "https://localhost:8080/"
        },
        "id": "4sty-0amw_A_",
        "outputId": "1a0c3f28-4359-4eae-8c61-62d403116cfb"
      },
      "execution_count": 84,
      "outputs": [
        {
          "output_type": "stream",
          "name": "stdout",
          "text": [
            "1\n"
          ]
        }
      ]
    },
    {
      "cell_type": "code",
      "source": [
        "!pip install sentence-transformers"
      ],
      "metadata": {
        "colab": {
          "base_uri": "https://localhost:8080/"
        },
        "id": "JIxP-e_gxVbP",
        "outputId": "a34bfbdd-2ba7-47ea-c732-2aa7ed683db5"
      },
      "execution_count": 85,
      "outputs": [
        {
          "output_type": "stream",
          "name": "stdout",
          "text": [
            "Looking in indexes: https://pypi.org/simple, https://us-python.pkg.dev/colab-wheels/public/simple/\n",
            "Requirement already satisfied: sentence-transformers in /usr/local/lib/python3.8/dist-packages (2.2.2)\n",
            "Requirement already satisfied: scikit-learn in /usr/local/lib/python3.8/dist-packages (from sentence-transformers) (1.0.2)\n",
            "Requirement already satisfied: torch>=1.6.0 in /usr/local/lib/python3.8/dist-packages (from sentence-transformers) (1.13.1+cu116)\n",
            "Requirement already satisfied: tqdm in /usr/local/lib/python3.8/dist-packages (from sentence-transformers) (4.64.1)\n",
            "Requirement already satisfied: scipy in /usr/local/lib/python3.8/dist-packages (from sentence-transformers) (1.7.3)\n",
            "Requirement already satisfied: torchvision in /usr/local/lib/python3.8/dist-packages (from sentence-transformers) (0.14.1+cu116)\n",
            "Requirement already satisfied: nltk in /usr/local/lib/python3.8/dist-packages (from sentence-transformers) (3.7)\n",
            "Requirement already satisfied: sentencepiece in /usr/local/lib/python3.8/dist-packages (from sentence-transformers) (0.1.97)\n",
            "Requirement already satisfied: huggingface-hub>=0.4.0 in /usr/local/lib/python3.8/dist-packages (from sentence-transformers) (0.11.1)\n",
            "Requirement already satisfied: transformers<5.0.0,>=4.6.0 in /usr/local/lib/python3.8/dist-packages (from sentence-transformers) (4.25.1)\n",
            "Requirement already satisfied: numpy in /usr/local/lib/python3.8/dist-packages (from sentence-transformers) (1.21.6)\n",
            "Requirement already satisfied: filelock in /usr/local/lib/python3.8/dist-packages (from huggingface-hub>=0.4.0->sentence-transformers) (3.9.0)\n",
            "Requirement already satisfied: requests in /usr/local/lib/python3.8/dist-packages (from huggingface-hub>=0.4.0->sentence-transformers) (2.25.1)\n",
            "Requirement already satisfied: packaging>=20.9 in /usr/local/lib/python3.8/dist-packages (from huggingface-hub>=0.4.0->sentence-transformers) (21.3)\n",
            "Requirement already satisfied: typing-extensions>=3.7.4.3 in /usr/local/lib/python3.8/dist-packages (from huggingface-hub>=0.4.0->sentence-transformers) (4.4.0)\n",
            "Requirement already satisfied: pyyaml>=5.1 in /usr/local/lib/python3.8/dist-packages (from huggingface-hub>=0.4.0->sentence-transformers) (6.0)\n",
            "Requirement already satisfied: tokenizers!=0.11.3,<0.14,>=0.11.1 in /usr/local/lib/python3.8/dist-packages (from transformers<5.0.0,>=4.6.0->sentence-transformers) (0.13.2)\n",
            "Requirement already satisfied: regex!=2019.12.17 in /usr/local/lib/python3.8/dist-packages (from transformers<5.0.0,>=4.6.0->sentence-transformers) (2022.6.2)\n",
            "Requirement already satisfied: click in /usr/local/lib/python3.8/dist-packages (from nltk->sentence-transformers) (7.1.2)\n",
            "Requirement already satisfied: joblib in /usr/local/lib/python3.8/dist-packages (from nltk->sentence-transformers) (1.2.0)\n",
            "Requirement already satisfied: threadpoolctl>=2.0.0 in /usr/local/lib/python3.8/dist-packages (from scikit-learn->sentence-transformers) (3.1.0)\n",
            "Requirement already satisfied: pillow!=8.3.*,>=5.3.0 in /usr/local/lib/python3.8/dist-packages (from torchvision->sentence-transformers) (7.1.2)\n",
            "Requirement already satisfied: pyparsing!=3.0.5,>=2.0.2 in /usr/local/lib/python3.8/dist-packages (from packaging>=20.9->huggingface-hub>=0.4.0->sentence-transformers) (3.0.9)\n",
            "Requirement already satisfied: idna<3,>=2.5 in /usr/local/lib/python3.8/dist-packages (from requests->huggingface-hub>=0.4.0->sentence-transformers) (2.10)\n",
            "Requirement already satisfied: urllib3<1.27,>=1.21.1 in /usr/local/lib/python3.8/dist-packages (from requests->huggingface-hub>=0.4.0->sentence-transformers) (1.24.3)\n",
            "Requirement already satisfied: certifi>=2017.4.17 in /usr/local/lib/python3.8/dist-packages (from requests->huggingface-hub>=0.4.0->sentence-transformers) (2022.12.7)\n",
            "Requirement already satisfied: chardet<5,>=3.0.2 in /usr/local/lib/python3.8/dist-packages (from requests->huggingface-hub>=0.4.0->sentence-transformers) (4.0.0)\n"
          ]
        }
      ]
    },
    {
      "cell_type": "code",
      "source": [
        "from sentence_transformers import SentenceTransformer, util"
      ],
      "metadata": {
        "id": "Ms-wJvYj0PNe"
      },
      "execution_count": 86,
      "outputs": []
    },
    {
      "cell_type": "code",
      "source": [
        "# https://huggingface.co/sentence-transformers/multi-qa-MiniLM-L6-cos-v1\n",
        "\n",
        "model = SentenceTransformer('multi-qa-MiniLM-L6-cos-v1')"
      ],
      "metadata": {
        "id": "oPXot4nY0yRk"
      },
      "execution_count": 87,
      "outputs": []
    },
    {
      "cell_type": "code",
      "source": [
        "import numpy as np"
      ],
      "metadata": {
        "id": "2UCg6ZoD03dP"
      },
      "execution_count": 88,
      "outputs": []
    },
    {
      "cell_type": "code",
      "source": [
        "def FindkHighestkNumbers(scores, k):\n",
        "    return (-scores).argsort()[:k]"
      ],
      "metadata": {
        "id": "kkR0IJso1IEr"
      },
      "execution_count": 89,
      "outputs": []
    },
    {
      "cell_type": "code",
      "source": [
        "def PresentAsSubstring(CurrentSentences, LookupSentence, Verbose):\n",
        "    foundmatch = False\n",
        "    for value in CurrentSentences:\n",
        "       # Find\n",
        "       if (value.find(LookupSentence) != -1):\n",
        "           if (Verbose==True):\n",
        "              print(value, \" Contains \", LookupSentence)\n",
        "           foundmatch = True\n",
        "\n",
        "    return foundmatch "
      ],
      "metadata": {
        "id": "JFxZafJT1P-6"
      },
      "execution_count": 90,
      "outputs": []
    },
    {
      "cell_type": "code",
      "source": [
        "def QualificationPresentAsSubstring(CurrentSentences, qualifications, Verbose):\n",
        "  FoundQualificationAsSubstring = False\n",
        "  for i in range(len(qualifications)):\n",
        "     Lookup_Sentence= qualifications[i]\n",
        "     if (PresentAsSubstring(CurrentSentences, Lookup_Sentence, Verbose) == True):\n",
        "        FoundQualificationAsSubstring = True\n",
        "     \n",
        "  return FoundQualificationAsSubstring      "
      ],
      "metadata": {
        "id": "Siy2bNUi15qC"
      },
      "execution_count": 91,
      "outputs": []
    },
    {
      "cell_type": "code",
      "source": [
        "def FindMostSimilarSentence(Corpus, LookupSentence):\n",
        "    # encode corpus to get corpus embeddings\n",
        "    corpus_embeddings = model.encode(Corpus, convert_to_tensor=True)\n",
        "    # encode sentence to get sentence embeddings\n",
        "    sentence_embedding = model.encode(LookupSentence, convert_to_tensor=True)# top_k results to return\n",
        "    top_k=1# compute similarity scores of the sentence with the corpus\n",
        "    cos_scores = util.pytorch_cos_sim(sentence_embedding, corpus_embeddings)[0]# Sort the results in decreasing order and get the first top_k\n",
        "    # top_results = np.argpartition(-cos_scores, range(top_k))[0:top_k] #CPU\n",
        "    top_results= FindkHighestkNumbers(cos_scores,top_k) #GPU\n",
        "\n",
        "    # print(\"\\n\", \"Sentence:\", LookupSentence, \"\\n\")\n",
        "    # print(\"Top\", top_k, \"most similar sentences in corpus:\")\n",
        "    best_result=0\n",
        "    for idx in top_results[0:top_k]:\n",
        "       #print(Corpus[idx], \"(Score: %.4f)\" % (cos_scores[idx]))\n",
        "       best_result= cos_scores[idx] \n",
        "\n",
        "    return Corpus[top_results[0]], best_result"
      ],
      "metadata": {
        "id": "vcVsIeoO1TGv"
      },
      "execution_count": 92,
      "outputs": []
    },
    {
      "cell_type": "code",
      "source": [
        "target_sentence = \"Har gode kommunikationsevner\""
      ],
      "metadata": {
        "id": "dG1mSY4614B2"
      },
      "execution_count": 93,
      "outputs": []
    },
    {
      "cell_type": "code",
      "source": [
        "# Test\n",
        "# FindMostSimilarSentences(Sentences, target_sentence) \n",
        "FindMostSimilarSentence(Sentences, target_sentence) "
      ],
      "metadata": {
        "colab": {
          "base_uri": "https://localhost:8080/"
        },
        "id": "F0KmVk1s16lK",
        "outputId": "cc695b25-7cf5-42d5-81ae-f583f56847c2"
      },
      "execution_count": 94,
      "outputs": [
        {
          "output_type": "execute_result",
          "data": {
            "text/plain": [
              "('Du giver også virksomheden mulighed for at kontakte dig, hvis de i fremtiden har et job, der matcher dine kompetencer.',\n",
              " tensor(0.4745, device='cuda:0'))"
            ]
          },
          "metadata": {},
          "execution_count": 94
        }
      ]
    },
    {
      "cell_type": "code",
      "source": [
        "personal_qualifications=['Har gode kommunikationsevner',\n",
        "'Kan arbejde selvmotiverende',\n",
        "'Du tager ansvar for dine projekter og følger altid dine opgaver til dørs',\n",
        "'Vi forventer, at du som person er selvledende, kreativ, fleksibel og indstillet på at arbejde i et travlt miljø.',\n",
        "'Du er nysgerrig, kritisk og løsningsorienteret - også når det bliver komplekst',\n",
        "'Du har drive, og passion for kvalitet',\n",
        "'Du er god til at tænke ud af boksen, er ambitiøst og kreativt tænkende',\n",
        "'er engageret, har god energi og er en god kollega',\n",
        "'Som person er du først og fremmest kreativ og du er god til at finde på nye løsninger',\n",
        "'Du er ansvarsfuld, selvstændig og har mod på at udvikle dig'\n",
        "'Være initiativrig og opsøgende',\n",
        "'Ivrig efter af lære Som person forestiller vi os, at du er engageret, kreativ og nysgerrig',\n",
        "'Du er god til at skabe relationer på tværs',\n",
        "'er selvstændig og grundig',\n",
        "'Du har flair for content',\n",
        "'Du er frisk, nede på jorden og klar på en god snak med dine kollegaer',\n",
        "'Du trives med rutineprægede opgaver, og bidrager med masser af godt humør',\n",
        "'Er optimist og ser muligheder fremfor begrænsninger',\n",
        "'Vi forestiller os, at du som person er kreativ, visuel og har god sans for detaljen.Vi forestiller os, at du som person er kreativ, visuel og har god sans for detaljen',\n",
        "'Som menneske er du udadvendt, opsøgende og pædagogisk',\n",
        "'Er kvalitetsbevidst og sætter en stolthed i at udføre et godt stykke arbejde',\n",
        "'Er detaljeorienteret og har en struktureret tilgang til dine arbejdsopgaver',\n",
        "'Er god til at tale med mennesker og sætte sig ind i deres behov',\n",
        "'Du er detaljeorienteret til mindste detalje og stortrives med en bred kontaktflade',\n",
        "'Du er struktureret og har høj selvdisciplin',\n",
        "'Du udviser en høj grad af uafhængighed, er proaktiv og selvstartende',\n",
        "'Vi søger en person, der er detaljeorienteret og analytisk stærk',\n",
        "'Du trives med at være opsøgende Du kan arbejde både selvstændigt og som del af et mindre team',\n",
        "'er ansvarlig, struktureret og målorienteret samt serviceminded, positiv og imødekommende',\n",
        "'Kreativ, nysgerrig, initiativrig og ikke bange for at spørge. Struktureret og detaljeorienteret',\n",
        "'At du har et godt drive, kan arbejde selvstændigt, struktureret og tage ansvar',\n",
        "'Du er god til at styre din tid og trives med at have mange bolde i luften']"
      ],
      "metadata": {
        "id": "X_IfrIBR2Mbm"
      },
      "execution_count": 95,
      "outputs": []
    },
    {
      "cell_type": "code",
      "source": [
        "def FindPersonalQualificationsVerbose(Corpus):\n",
        "  for i in range(len(personal_qualifications)):\n",
        "     Lookup_Sentence=personal_qualifications[i]\n",
        "     bestmatch, bestmatchvalue = FindMostSimilarSentence(Sentences, Lookup_Sentence)\n",
        "     print(Lookup_Sentence)\n",
        "     print(bestmatch, bestmatchvalue)"
      ],
      "metadata": {
        "id": "Ra88dBJS2aTU"
      },
      "execution_count": 96,
      "outputs": []
    },
    {
      "cell_type": "code",
      "source": [
        "# Find best matches, above threshold"
      ],
      "metadata": {
        "id": "WXYiIzEl3foQ"
      },
      "execution_count": 97,
      "outputs": []
    },
    {
      "cell_type": "code",
      "source": [
        "def FindQualifications(Corpus, qualifications):\n",
        "  highvalue=0\n",
        "  highestmatchedsentence=\"\"\n",
        "  highestlookup=\"\"\n",
        "  for i in range(len(qualifications)):\n",
        "     Lookup_Sentence= qualifications[i]\n",
        "     bestmatch, bestmatchvalue = FindMostSimilarSentence(Corpus, Lookup_Sentence)\n",
        "\n",
        "     if bestmatchvalue.cpu().detach().numpy()>highvalue: \n",
        "        highvalue = bestmatchvalue.cpu().detach().numpy() \n",
        "        highestmatchedsentence = bestmatch\n",
        "        highestlookup=Lookup_Sentence\n",
        "  return highestmatchedsentence,highestlookup,highvalue"
      ],
      "metadata": {
        "id": "NCqfw1PO2fVB"
      },
      "execution_count": 98,
      "outputs": []
    },
    {
      "cell_type": "code",
      "source": [
        "def FindTopQualification(Corpus, qualifications, typeofqualification, UseVerbose):\n",
        "    highestmatchedsentence,highestlookup,highvalue = FindQualifications(Corpus, qualifications)\n",
        "\n",
        "    if UseVerbose == True:\n",
        "       print(\"\\n\")\n",
        "       print(typeofqualification,\"qualifications in JobAds.\")\n",
        "    \n",
        "    print(\"Match :\", highestmatchedsentence)\n",
        "    print('Lookup: ', highestlookup)\n",
        "    print('Match: ', \"(Score: %.4f)\" % (highvalue))\n",
        "\n",
        "    return highvalue"
      ],
      "metadata": {
        "id": "f2PssNrf3q6X"
      },
      "execution_count": 99,
      "outputs": []
    },
    {
      "cell_type": "code",
      "source": [
        "FindTopQualification(Sentences, personal_qualifications, \"Personal\", True)"
      ],
      "metadata": {
        "colab": {
          "base_uri": "https://localhost:8080/"
        },
        "id": "BQ2pqL1W33GE",
        "outputId": "d5138730-cf16-4a7f-d901-c3686fc6910a"
      },
      "execution_count": 100,
      "outputs": [
        {
          "output_type": "stream",
          "name": "stdout",
          "text": [
            "\n",
            "\n",
            "Personal qualifications in JobAds.\n",
            "Match : Vi forventer, at du:  Har en relevant professionsbachelor i e-handel, er multimediedesigner, markedsføringsøkonom eller grafisk uddannet Har erfaring i brug af InDesign, Illustrator og Photoshop Har gode kommunikationsevner Kan arbejde selvmotiverende Er fejlfri på skriftlig dansk og engelsk Erfaring med SEO.\n",
            "Lookup:  Vi forventer, at du som person er selvledende, kreativ, fleksibel og indstillet på at arbejde i et travlt miljø.\n",
            "Match:  (Score: 0.6143)\n"
          ]
        },
        {
          "output_type": "execute_result",
          "data": {
            "text/plain": [
              "array(0.6143223, dtype=float32)"
            ]
          },
          "metadata": {},
          "execution_count": 100
        }
      ]
    },
    {
      "cell_type": "code",
      "source": [
        "def FindTopQualificationsForDataSet(threshold):\n",
        "   ad_number=1\n",
        "   # Run Through entire dataset \n",
        "   for row in df.head(100).itertuples():\n",
        "       AdText = row.JobAdText\n",
        "\n",
        "       Sentences = tokenize.sent_tokenize(AdText)\n",
        "\n",
        "       # This must be read from Excel file\n",
        "       nb_personal_qualifications = int(row.PersonligeKompetencer)\n",
        "       y_real.append(row.PersonligeKompetencer)\n",
        "\n",
        "       ad_number += 1\n",
        "       print(\"Ad number: \", ad_number)\n",
        "        \n",
        "       matchingvalue = 0\n",
        "       MatchAsSubString = QualificationPresentAsSubstring(Sentences, personal_qualifications, True)\n",
        "       if (MatchAsSubString== True):\n",
        "           print(\"Exact match. Assume matching value equal to 1\")\n",
        "           matchingvalue = 1 \n",
        "           y_predicted.append(1)\n",
        "       else:\n",
        "           matchingvalue = FindTopQualification(Sentences, personal_qualifications, \"Personal\", False)\n",
        "           if (matchingvalue>threshold):\n",
        "              y_predicted.append(1)\n",
        "           else:\n",
        "              y_predicted.append(0)\n",
        "\n",
        "       if (nb_personal_qualifications==1):\n",
        "          if (matchingvalue<threshold):\n",
        "              print(\"WRONG\")\n",
        "       else:\n",
        "          if (matchingvalue>threshold):\n",
        "              print(\"WRONG\")"
      ],
      "metadata": {
        "id": "awuZYqIGLTkE"
      },
      "execution_count": 101,
      "outputs": []
    },
    {
      "cell_type": "code",
      "source": [
        "y_real=[]\n",
        "y_predicted=[]\n",
        "FindTopQualificationsForDataSet(0.7)"
      ],
      "metadata": {
        "colab": {
          "base_uri": "https://localhost:8080/"
        },
        "id": "q0fJ74H3MQq6",
        "outputId": "3c3f8f9b-9032-4538-fcab-379cddc5a18e"
      },
      "execution_count": 129,
      "outputs": [
        {
          "output_type": "stream",
          "name": "stdout",
          "text": [
            "Ad number:  2\n",
            "Vi forventer, at du:  Har en relevant professionsbachelor i e-handel, er multimediedesigner, markedsføringsøkonom eller grafisk uddannet Har erfaring i brug af InDesign, Illustrator og Photoshop Har gode kommunikationsevner Kan arbejde selvmotiverende Er fejlfri på skriftlig dansk og engelsk Erfaring med SEO.  Contains  Har gode kommunikationsevner\n",
            "Vi forventer, at du:  Har en relevant professionsbachelor i e-handel, er multimediedesigner, markedsføringsøkonom eller grafisk uddannet Har erfaring i brug af InDesign, Illustrator og Photoshop Har gode kommunikationsevner Kan arbejde selvmotiverende Er fejlfri på skriftlig dansk og engelsk Erfaring med SEO.  Contains  Kan arbejde selvmotiverende\n",
            "Exact match. Assume matching value equal to 1\n",
            "Ad number:  3\n",
            "Match : Hvis du er interesseret i stillingen, bedes du sende en personlig ansøgning indeholdende:  • Dit navn, alder, telefonnummer og email-adresse • Beskrivelse af din motivation og dine kompetencer for at være støtteperson/mentor  • Beskrivelse af dit eventuelle kendskab til studiestedet og/eller faget  Din ansøgning videresendes til den studerende  Vi ser helst, at du kan hjælpe den studerende minimum et semester og gerne længere.\n",
            "Lookup:  Du udviser en høj grad af uafhængighed, er proaktiv og selvstartende\n",
            "Match:  (Score: 0.5900)\n",
            "Ad number:  4\n",
            "Match : Det er vores opgave at sørge for, at vores kunder får den rigtige tekniske løsning, som passer til kundens størrelse og krav.\n",
            "Lookup:  Vi søger en person, der er detaljeorienteret og analytisk stærk\n",
            "Match:  (Score: 0.6224)\n",
            "Ad number:  5\n",
            "Du tager ansvar for dine projekter og følger altid dine opgaver til dørs.  Contains  Du tager ansvar for dine projekter og følger altid dine opgaver til dørs\n",
            "Exact match. Assume matching value equal to 1\n",
            "Ad number:  6\n",
            "Vi forventer, at du som person er selvledende, kreativ, fleksibel og indstillet på at arbejde i et travlt miljø.  Contains  Vi forventer, at du som person er selvledende, kreativ, fleksibel og indstillet på at arbejde i et travlt miljø.\n",
            "Exact match. Assume matching value equal to 1\n",
            "Ad number:  7\n",
            "Match : Det er en god idé, at du opdaterer dit CV, så virksomheden let og med det samme får en god forståelse af dig og din profil.\n",
            "Lookup:  Du er god til at styre din tid og trives med at have mange bolde i luften\n",
            "Match:  (Score: 0.5928)\n",
            "Ad number:  8\n",
            "Match : Biblioteket er i gang med at udskifte og udvikle centrale forretningssystemer, og der er derfor tryk på, når det handler om at udforme designløsninger på tværs af mange brugerrejser.\n",
            "Lookup:  Du er nysgerrig, kritisk og løsningsorienteret - også når det bliver komplekst\n",
            "Match:  (Score: 0.5728)\n",
            "Ad number:  9\n",
            "Du har en lyst til at afprøve og videreudvikle dine mange kompetencer - Dette i en opgave hvor du virkelig kan sætte dit præg på det samlede resultat Du er i gang med en relevant uddannelse inden for grafisk design eller kommunikation Du har erfaring med udarbejdelse af grafiske elementer, photoshop mm  Du har drive, og passion for kvalitet Du er god til at tænke ud af boksen, er ambitiøst og kreativt tænkende     Hvad er opgaverne?  Contains  Du har drive, og passion for kvalitet\n",
            "Du har en lyst til at afprøve og videreudvikle dine mange kompetencer - Dette i en opgave hvor du virkelig kan sætte dit præg på det samlede resultat Du er i gang med en relevant uddannelse inden for grafisk design eller kommunikation Du har erfaring med udarbejdelse af grafiske elementer, photoshop mm  Du har drive, og passion for kvalitet Du er god til at tænke ud af boksen, er ambitiøst og kreativt tænkende     Hvad er opgaverne?  Contains  Du er god til at tænke ud af boksen, er ambitiøst og kreativt tænkende\n",
            "Exact match. Assume matching value equal to 1\n",
            "Ad number:  10\n",
            "Match : Vi forventer, at du via dit netværk i erhvervslivet kan være med til at fremtidssikre uddannelserne og skabe vækst og udvikling i lokalområdet.\n",
            "Lookup:  Du er ansvarsfuld, selvstændig og har mod på at udvikle digVære initiativrig og opsøgende\n",
            "Match:  (Score: 0.6326)\n",
            "Ad number:  11\n",
            "Om dig Vi ser gerne, at du:  har en kandidat fra en af landets design- eller arkitektskoler og mindst fire-fem års erfaring fra branchen, hvor du har opbygget en solid faglighed og trives med både drift- og udviklingsopgaver - små som store er stærk i hele designprocessen fra idéudvikling over tilpasning af det stærke, præcise koncept til visuel eksekvering via smukt og klogt design - og gerne erfaring med video, animation og SoMe generelt kan have en faglig stærk dialog i proces og præsentationer for kunder sætter en ære i at levere høj kvalitet inden for aftalte deadline - og ser feedback og sparring som en naturlig del af vejen dertil ser god service som et absolut must i hverdagen - også når der er meget at se til eller forskellige perspektiver på tingene er engageret, har god energi og er en god kollega  Om afdelingen KK Design er del af Økonomiforvaltningens centrale kommunikationsafdeling, som arbejder professionelt og effektivt med mange grene af kommunikationsfaget.  Contains  er engageret, har god energi og er en god kollega\n",
            "Exact match. Assume matching value equal to 1\n",
            "Ad number:  12\n",
            "taktiske kampagner på telenor.dk  Du brænder for grafiske genistreger  Som person er du først og fremmest kreativ og du er god til at finde på nye løsninger.  Contains  Som person er du først og fremmest kreativ og du er god til at finde på nye løsninger\n",
            "Exact match. Assume matching value equal to 1\n",
            "Ad number:  13\n",
            "Match : Din profil Du er ansvarsfuld, selvstændig og har mod på at udvikle dig.\n",
            "Lookup:  Du er ansvarsfuld, selvstændig og har mod på at udvikle digVære initiativrig og opsøgende\n",
            "Match:  (Score: 0.7690)\n",
            "Ad number:  14\n",
            "Match : Så er du måske vores nye kollega i Kompetencer og Læring.\n",
            "Lookup:  Du er frisk, nede på jorden og klar på en god snak med dine kollegaer\n",
            "Match:  (Score: 0.6044)\n",
            "Ad number:  15\n",
            "Du er god til at skabe relationer på tværsStillingen er nyoprettet, og du vil derfor få indflydelse på den måde teamet organiserer sig på og gode rammer for at udvikle dig.  Contains  Du er god til at skabe relationer på tværs\n",
            "Du er serviceminded og sætter en ære i at hjælpe dine kolleger Vi lægger vægt på, at du  er dygtig til at kommunikere og formulere dig på dansk og engelsk har et solidt kendskab til Adobe pakken har kendskab til WordPress eller et andet CMS system er selvstændig og grundig  Hvordan er dine ansættelsesvilkår?  Contains  er selvstændig og grundig\n",
            "Exact match. Assume matching value equal to 1\n",
            "Ad number:  16\n",
            "Match : Hvis du kan se dig selv som vores nye kollega, så ansøg via nedenstående link.\n",
            "Lookup:  Du er frisk, nede på jorden og klar på en god snak med dine kollegaer\n",
            "Match:  (Score: 0.6388)\n",
            "Ad number:  17\n",
            "Primære opgaver:  Produktion og opsætning af content i form af landing pages til vores Proshop sites (.dk, .se, .no, .fi, .de, .at, .pl) Innovation og udvikling af landing pages, fx interne kampagnesider, branduniverser og kategorisider Udvikling af skabeloner og templates til forskellige typer af landing pages  Den tekniske del  Du har solid viden om opsætning af normal CSS Du har god forståelse for Bootstrap 3-5 Du har kendskab til VS-Code Du kan udvikle HTML responsivt Du behersker Adobe Creative Cloud (primært Photoshop og Illustrator) Har du kendskab til Java Script betragtes det som et plus, men det er ikke et krav En grundlæggende forståelse for SEO er også et ekstra plus  Din profil  Du er struktureret og arbejder selvstændigt Du kan arbejde hurtigt i situationer med korte deadlines uden at gå på kompromis med kvaliteten Du er kreativ og kan se dig selv arbejde tæt sammen med kollegaer i udviklingen af landing pages Du er frisk, nede på jorden og klar på en god snak med dine kollegaer Du trives i en virksomhed, hvor tonen er afslappet og tempoet kan være højt Du har en relevant uddannelse fx multimediedesigner, webintegrator eller lignende   Stillingen er fuld tid (37 timer)   Opstart: hurtigst muligt   Arbejdssted:  Proshops hovedkontor på Slet Møllevej 17, 8270 Højbjerg.  Contains  Du er frisk, nede på jorden og klar på en god snak med dine kollegaer\n",
            "Exact match. Assume matching value equal to 1\n",
            "Ad number:  18\n",
            "Match : And do not hesitate to contact us at kasper.vesth@wedio.com, if you want to hear more!\n",
            "Lookup:  Kreativ, nysgerrig, initiativrig og ikke bange for at spørge. Struktureret og detaljeorienteret\n",
            "Match:  (Score: 0.3403)\n",
            "Ad number:  19\n",
            "Du trives med rutineprægede opgaver, og bidrager med masser af godt humør.  Contains  Du trives med rutineprægede opgaver, og bidrager med masser af godt humør\n",
            "Exact match. Assume matching value equal to 1\n",
            "Ad number:  20\n",
            "Match : November 2020 Kan også søges af ikke-dansktalende             Ansøgningsfrist: Hurtigst muligt     Ansættelse: Hurtigst muligt      We are looking for a student worker and (potential an intern later on) for video editing and SoMe works.\n",
            "Lookup:  Vi forventer, at du som person er selvledende, kreativ, fleksibel og indstillet på at arbejde i et travlt miljø.\n",
            "Match:  (Score: 0.4382)\n",
            "Ad number:  21\n",
            "andre sprog i verden)      Kan forklare miljø løsningen let og forståeligt       Er serviceminded, målrettet og drives af at se resultater       Er kvalitetsbevidst og sætter en stolthed i at udføre et godt stykke arbejde       Vil være en del af et nystartet team og prioriterer godt samarbejde       Er lærevillig og søger personlig udvikling       Kan smile gennem telefonen      Er optimist og ser muligheder fremfor begrænsninger.  Contains  Er optimist og ser muligheder fremfor begrænsninger\n",
            "andre sprog i verden)      Kan forklare miljø løsningen let og forståeligt       Er serviceminded, målrettet og drives af at se resultater       Er kvalitetsbevidst og sætter en stolthed i at udføre et godt stykke arbejde       Vil være en del af et nystartet team og prioriterer godt samarbejde       Er lærevillig og søger personlig udvikling       Kan smile gennem telefonen      Er optimist og ser muligheder fremfor begrænsninger.  Contains  Er kvalitetsbevidst og sætter en stolthed i at udføre et godt stykke arbejde\n",
            "Exact match. Assume matching value equal to 1\n",
            "Ad number:  22\n",
            "Match : Uddannelserne har dybe rødder i praksis og et højt fagligt niveau, der gør KEAs dimittender eftertragtede på et globalt orienteret arbejdsmarked.\n",
            "Lookup:  Som menneske er du udadvendt, opsøgende og pædagogisk\n",
            "Match:  (Score: 0.6676)\n",
            "Ad number:  23\n",
            "Match : Arbejdsdagen som multimediedesigner  Du vil blive en del af et dygtigt, dynamisk og travlt team, hvor spændende og kreative arbejdsopgaver i alle mulige facetter præger arbejdsdagen.\n",
            "Lookup:  Du trives med at være opsøgende Du kan arbejde både selvstændigt og som del af et mindre team\n",
            "Match:  (Score: 0.5988)\n",
            "Ad number:  24\n",
            "Match : Du er sprængfyldt med grafisk kreativitet, er detaljeorienteret til mindste detalje – og så stortrives du med en bred kontaktflade.\n",
            "Lookup:  Du er detaljeorienteret til mindste detalje og stortrives med en bred kontaktflade\n",
            "Match:  (Score: 0.8662)\n",
            "Ad number:  25\n",
            "Match : Vi forventer, at du kan starte hurtigst muligt.\n",
            "Lookup:  Vi forventer, at du som person er selvledende, kreativ, fleksibel og indstillet på at arbejde i et travlt miljø.\n",
            "Match:  (Score: 0.6904)\n",
            "Ad number:  26\n",
            "Match : Personlige kvalifikationer Vi forestiller os, at du som person er kreativ, visuel og har god sans for detaljen.\n",
            "Lookup:  Vi forestiller os, at du som person er kreativ, visuel og har god sans for detaljen.Vi forestiller os, at du som person er kreativ, visuel og har god sans for detaljen\n",
            "Match:  (Score: 0.8394)\n",
            "Ad number:  27\n",
            "Match : Det er krav at du behersker perfekt dansk og engelsk på minimum middel niveau.\n",
            "Lookup:  Er detaljeorienteret og har en struktureret tilgang til dine arbejdsopgaver\n",
            "Match:  (Score: 0.5776)\n",
            "Ad number:  28\n",
            "Match : Du får stort ansvar og vi tager dine gode ideer og løsninger meget seriøst.\n",
            "Lookup:  Du tager ansvar for dine projekter og følger altid dine opgaver til dørs\n",
            "Match:  (Score: 0.6442)\n",
            "Ad number:  29\n",
            "Som menneske er du udadvendt, opsøgende og pædagogisk – og kan være med til at sikre fremdrift på indholdsdelen i god dialog med kursusafdelingen og dine kolleger i Kommunikation.  Contains  Som menneske er du udadvendt, opsøgende og pædagogisk\n",
            "Exact match. Assume matching value equal to 1\n",
            "Ad number:  30\n",
            "Match : Vi har mange bolde i luften, så det er vigtigt for os, at du er selvkørende og god til at holde over-blikket, ligesom vi forventer, at du er initiativrig og selv har mod på at byde ind på opgaver.\n",
            "Lookup:  Du er god til at styre din tid og trives med at have mange bolde i luften\n",
            "Match:  (Score: 0.6820)\n",
            "WRONG\n",
            "Ad number:  31\n",
            "Match : Får du en god idé er det helt OK at arbejde med den!\n",
            "Lookup:  Du er god til at styre din tid og trives med at have mange bolde i luften\n",
            "Match:  (Score: 0.6403)\n",
            "Ad number:  32\n",
            "Match : Kunne du tænke dig, at blive del af et ungt, dynamisk team i vores web- og markedsføringsafdeling på gågaden i Aarhus, hvor alle har en vigtig rolle for opnåelse af vores fælles mål, at vedblive med at være danskernes foretrukne sted at købe byggematerialer.\n",
            "Lookup:  Som menneske er du udadvendt, opsøgende og pædagogisk\n",
            "Match:  (Score: 0.6179)\n",
            "Ad number:  33\n",
            "Match : For at søge stillingen kræver det at du er oprettet i vores jobdatabase        Log ind hvis du allerede har en profil                 Skriv venligst din e-mail og adgangskode                                DUOS vægter høj faglighed og tæt dialog med borger og myndighed.\n",
            "Lookup:  Vi søger en person, der er detaljeorienteret og analytisk stærk\n",
            "Match:  (Score: 0.5850)\n",
            "Ad number:  34\n",
            "Match : Vil du være med til at bygge et team op, der primært arbejder virtuelt?\n",
            "Lookup:  Du trives med at være opsøgende Du kan arbejde både selvstændigt og som del af et mindre team\n",
            "Match:  (Score: 0.6282)\n",
            "Ad number:  35\n",
            "Jobbet er for dig der:  Har erfaring med CMS systemer, gerne nogle års erfaring med Sitecore Har en analytisk tilgang til arbejdet med tracking og SEO Har forståelse for designguides og følger den i opbygningen af det visuelle udtryk på vores website Trives med et godt mix af daglig driftsopgaver og udviklingsopgaver Tager fuldt ejerskab for dit område, naturligt opsøger faglig sparring med dine kolleger og er samarbejdsorienteret Er detaljeorienteret og har en struktureret tilgang til dine arbejdsopgaver Er skarp på sprog og budskabsprioritering i siteopbygning  Erfaring med UX design og HTML  kendskab til brug i Marketing Cloud er en fordel.  Contains  Er detaljeorienteret og har en struktureret tilgang til dine arbejdsopgaver\n",
            "Exact match. Assume matching value equal to 1\n",
            "Ad number:  36\n",
            "Match : Du arbejder analytisk, god til at prioritere og strukturere dit arbejde samt have mange bolde i luften.\n",
            "Lookup:  Du er god til at styre din tid og trives med at have mange bolde i luften\n",
            "Match:  (Score: 0.7260)\n",
            "Ad number:  37\n",
            "Match : Vi forventer at afholde ansættelsessamtaler d. 25. og 26. juni.\n",
            "Lookup:  Vi forventer, at du som person er selvledende, kreativ, fleksibel og indstillet på at arbejde i et travlt miljø.\n",
            "Match:  (Score: 0.6234)\n",
            "Ad number:  38\n",
            "multimediedesigner, digital konceptudvikler eller informationsvidenskab - og har dermed kompetencer inden for at teste og tilpasse et produkt til brugere.Har erfaring med programmer som Adobe XD, InVision eller Sketch.Arbejder IT-aktivt.Har en holistisk tilgang til opgaven og til virksomheden.Arbejder testdrevet, hvor brugernes feedback altid er udgangspunktet.Er god til at tale med mennesker og sætte sig ind i deres behov.Er i stand til at navigere imellem, og inkorporere, forskellige perspektiver.Kan se potentialet i vores virksomhed og brænder for at yde dit bidrage til den!Du kan forvente at få:Mulighed for at bidrage til opstarten af en ny virksomhed.Mulighed for at arbejde med din faglighed i praksis i en virksomhed, hvor vi selv formervores opgaver.Mulighed for at blive en del af iværksætter-fællesskabet i The Kitchen.Hvem er vi?SEBELEX er en legal tech startup, der er i opstartsfasen, og hvis formål er at øge retssikkerheden ved at give flere adgang til at kunne tage ansvar for sin egen retsstilling.  Contains  Er god til at tale med mennesker og sætte sig ind i deres behov\n",
            "Exact match. Assume matching value equal to 1\n",
            "Ad number:  39\n",
            "Match : Vær opmærksom på, at linket åbner i et nyt vindue, hvor du kan vedhæfte dokumenter.\n",
            "Lookup:  Du er ansvarsfuld, selvstændig og har mod på at udvikle digVære initiativrig og opsøgende\n",
            "Match:  (Score: 0.6325)\n",
            "Ad number:  40\n",
            "Match : Vær opmærksom på, at linket åbner i et nyt vindue, hvor du kan vedhæfte dokumenter.\n",
            "Lookup:  Du er ansvarsfuld, selvstændig og har mod på at udvikle digVære initiativrig og opsøgende\n",
            "Match:  (Score: 0.6325)\n",
            "Ad number:  41\n",
            "Match : Og trives du med både at arbejde selvstændigt og samtidigt lære fra dig?\n",
            "Lookup:  Du trives med at være opsøgende Du kan arbejde både selvstændigt og som del af et mindre team\n",
            "Match:  (Score: 0.6371)\n",
            "Ad number:  42\n",
            "Match : Så er du måske vores nye kollega i Kompetencer og Læring.\n",
            "Lookup:  Du er frisk, nede på jorden og klar på en god snak med dine kollegaer\n",
            "Match:  (Score: 0.6044)\n",
            "Ad number:  43\n",
            "Du er detaljeorienteret til mindste detalje og stortrives med en bred kontaktflade.  Contains  Du er detaljeorienteret til mindste detalje og stortrives med en bred kontaktflade\n",
            "Exact match. Assume matching value equal to 1\n",
            "Ad number:  44\n",
            "Match :                  Udskriv annonce          Adobe ILL, ID, PS - Ninja    Studiejob   •  Oprettet 9.\n",
            "Lookup:  Som menneske er du udadvendt, opsøgende og pædagogisk\n",
            "Match:  (Score: 0.4289)\n",
            "Ad number:  45\n",
            "Match : in Photoshop)   Rigging and animating characters   Setting up realistic lighting   Tweaking shaders and surface properties   For the right candidate, this position can transition into a paid position.\n",
            "Lookup:  Ivrig efter af lære Som person forestiller vi os, at du er engageret, kreativ og nysgerrig\n",
            "Match:  (Score: 0.2656)\n",
            "Ad number:  46\n",
            "Match : 1Uddannelse    2Dig selv    3Præferencer        Hvad er din højeste uddannelse?\n",
            "Lookup:  Du udviser en høj grad af uafhængighed, er proaktiv og selvstartende\n",
            "Match:  (Score: 0.5778)\n",
            "Ad number:  47\n",
            "Match : Du har stærke kommunikative kompetencer,og kan sagtens bygge en skarp landing page eller et godt nyhedsbrev op fra bunden • Du har en relevant uddannelse indenfor marketing, dette kunne fx være multimediedesigner eller digital konceptudvikler,samt relevant erhvervserfaring indenfor digital markedsføring • Du behersker dansk og engelsk i både skrift og tale, hertil vil det være en fordel hvis du også kan tysk Vi tør godt sige at vi har det største udvalg af julepynt i norden.\n",
            "Lookup:  Du er nysgerrig, kritisk og løsningsorienteret - også når det bliver komplekst\n",
            "Match:  (Score: 0.6282)\n",
            "Ad number:  48\n",
            "Du er struktureret og har høj selvdisciplin.  Contains  Du er struktureret og har høj selvdisciplin\n",
            "Du udviser en høj grad af uafhængighed, er proaktiv og selvstartende.  Contains  Du udviser en høj grad af uafhængighed, er proaktiv og selvstartende\n",
            "Vi søger en person, der er detaljeorienteret og analytisk stærk.  Contains  Vi søger en person, der er detaljeorienteret og analytisk stærk\n",
            "Exact match. Assume matching value equal to 1\n",
            "Ad number:  49\n",
            "Match : Kan du skrive den gode historie og udarbejde dine egne artikler, der gør vores nyhedsbreve relevante for udenlandske talenter?\n",
            "Lookup:  Som menneske er du udadvendt, opsøgende og pædagogisk\n",
            "Match:  (Score: 0.6231)\n",
            "Ad number:  50\n",
            "Match : Semco Maritime A/S     Type:     Studiejob      Lokation:   Esbjerg    Ansøgningsfrist:    17-11-2021    Ansættelse:   Ikke angivet      Stillingstype:    Datamatiker Multimediedesigner Designteknolog Web Development Software Development Finansøkonom Serviceøkonom Markedsføringsøkonom International Sales & Marketing Byggekoordinator Installatør Produktionsteknolog Bygningskonstruktør Teknisk Manager Offshore Driftsteknolog Offshore Design & Business Udvid Sammenfold       Del annoncen\n",
            "Lookup:  er ansvarlig, struktureret og målorienteret samt serviceminded, positiv og imødekommende\n",
            "Match:  (Score: 0.4224)\n",
            "Ad number:  51\n",
            "Match : Du er en stærk udadvendt koordinator, der samarbejder godt med både kollegaer og skolens elever.\n",
            "Lookup:  Du er frisk, nede på jorden og klar på en god snak med dine kollegaer\n",
            "Match:  (Score: 0.6165)\n",
            "Ad number:  52\n",
            "Match : Vi forventer at du: Har en stærk IT-profil med brede kompetencer indenfor webudvikling, softwareudvikling og systemudvikling Kan vejlede de studerende ved projekter Er en holdspiller som forstår at samarbejde med andre dygtige IT-kollegaer i de faglige teams på EASV Er uddannet datalog, cand.scient, bachelor eller tilsvarende indenfor IT området Har relevant erhvervserfaring fra IT branchen Vi tilbyder: En rummelig og foranderlig organisation, der arbejder efter en anerkendende organisationskultur og har et uformelt og ud- viklende miljø, som stiller krav til medarbejdernes lyst og evne til at arbejde i teams og tage medansvar i den daglige drift Et spændende og udviklende job med mange menneskelige relationer En arbejdsplads i konstant bevægelse med plads til kreativitet og engagement Faglig og pædagogisk efteruddannelse Et job med stor frihed under ansvar Tiltrædelse: Tiltrædelse 1. august 2020.\n",
            "Lookup:  Du er ansvarsfuld, selvstændig og har mod på at udvikle digVære initiativrig og opsøgende\n",
            "Match:  (Score: 0.6326)\n",
            "Ad number:  53\n",
            "Match : Og trives du med både at arbejde selvstændigt og samtidigt lære fra dig?\n",
            "Lookup:  Du trives med at være opsøgende Du kan arbejde både selvstændigt og som del af et mindre team\n",
            "Match:  (Score: 0.6371)\n",
            "WRONG\n",
            "Ad number:  54\n",
            "Dansk og engelsk) Du kan øge EEs kontakt og kendskab til de studerende og uddannelsesinstitutionerne Du kan lide at arbejde med forskelligartede opgaver Du trives med at være opsøgende Du kan arbejde både selvstændigt og som del af et mindre team   Om ansættelse, arbejdstid og løn Vi søger 1 eller 2 studiemedhjælpere.  Contains  Du trives med at være opsøgende Du kan arbejde både selvstændigt og som del af et mindre team\n",
            "Exact match. Assume matching value equal to 1\n",
            "Ad number:  55\n",
            "Derudover har du erfaring med at sende ting til tryk og at have dialog med trykkeriet.Du er ekspert i Adobe Creative Cloud, InDesign, Photoshop og IllustratorDu har kendskab til Adobe Premiere Pro (simple animationer og sammenklip af videoer)Du er stærk i master-dokumenter til PowerPoint og WordDu har en stærk æstetisk sans samt er kreativ, selvstændig og detaljeorienteretDu taler og skriver dansk og engelskDu er passioneret og elsker at forbedre dine evnerDu har en naturlig interesse for visuel B2B kommunikation og designDu er ansvarlig, struktureret og målorienteret samt serviceminded, positiv og imødekommendeVi forventer, at du er nysgerrig og selv undersøger mulige løsninger på grafiske og tekniske udfordringer.  Contains  er ansvarlig, struktureret og målorienteret samt serviceminded, positiv og imødekommende\n",
            "Exact match. Assume matching value equal to 1\n",
            "Ad number:  56\n",
            "Match : Vigtigst af alt er, at du er stærk grafisk og forsta r at skabe visuelt indhold pa  et højt niveau, og at du har gode kompetencer i InDesign og Photoshop.\n",
            "Lookup:  Er kvalitetsbevidst og sætter en stolthed i at udføre et godt stykke arbejde\n",
            "Match:  (Score: 0.6023)\n",
            "Ad number:  57\n",
            "Match : Du er god til at planlægge og har en struktureret tilgang til dine opgaver.\n",
            "Lookup:  Er detaljeorienteret og har en struktureret tilgang til dine arbejdsopgaver\n",
            "Match:  (Score: 0.7149)\n",
            "Ad number:  58\n",
            "Match : Dine opgaver kommer til at variere meget, så derfor er det vigtigt, at du kan bevare overblikket, når det går stærkt og altid er klar til at takle nye opgaver med stor gå-på-mod.\n",
            "Lookup:  Er detaljeorienteret og har en struktureret tilgang til dine arbejdsopgaver\n",
            "Match:  (Score: 0.5985)\n",
            "Ad number:  59\n",
            "Match : Kvalifikationsrammen for Livslang Læring kan ligeledes søge.Som person er du udadvendt med en stærk personlighed – du tør sætte dagsordenen og være i stand til at tage beslutninger i komplekse situationer.Du er en handlekraftig person, der er i stand til at navigere blandt stærke personligheder og faglige kompetencer.\n",
            "Lookup:  Er kvalitetsbevidst og sætter en stolthed i at udføre et godt stykke arbejde\n",
            "Match:  (Score: 0.6522)\n",
            "Ad number:  60\n",
            "Match : Som medarbejder er du vores stærkeste ressource, og derfor vi vil gerne give dig muligheden for at have indflydelse og udvikle dig i en faglig og udfordrende arbejdsdag, hvor hver dag tæller.\n",
            "Lookup:  Du er ansvarsfuld, selvstændig og har mod på at udvikle digVære initiativrig og opsøgende\n",
            "Match:  (Score: 0.6184)\n",
            "Ad number:  61\n",
            "Match : Kreativ, nysgerrig, initiativrig og ikke bange for at spørge.\n",
            "Lookup:  Kreativ, nysgerrig, initiativrig og ikke bange for at spørge. Struktureret og detaljeorienteret\n",
            "Match:  (Score: 0.9052)\n",
            "Ad number:  62\n",
            "Vi forventer:  At du har et godt drive, kan arbejde selvstændigt, struktureret og tage ansvar.  Contains  At du har et godt drive, kan arbejde selvstændigt, struktureret og tage ansvar\n",
            "Exact match. Assume matching value equal to 1\n",
            "Ad number:  63\n",
            "tæller en uddannet grafiker (deltidsansat) og en marketingrådgiver.Hvem er det, vi søger?Vi ser gerne, at du kan sætte flueben ved nedenstående punkter, men hører naturligvis også gerne fra dig, selvom du ikke har ”hele pladen fuld”.Du er vant til at arbejde med Adobe Creative Cloud, herunder særligt InDesign og Photoshop.Du er i gang med relevant uddannelse fx som multimediedesigner eller mediegrafiker og har som minimum et år tilbage af din uddannelse.Du er god til at formidle et givent budskab gennem billeder og grafik – og har eventuelt også erfaring med at udarbejde infografikker og animationer.Du er god til at styre din tid og trives med at have mange bolde i luften.Du er kreativ og byder gerne ind med dine kompetencer og idéer, hvor du ser, det kunne give værdi.Og det lille ekstra: Hvis du har erfaring med tekstforfatning eller generelt har en skarp kommunikativ pen med flair for at vinkle budskaber, så får du endnu en stjerne hos os.Hvad kan vi tilbyde dig?Du får et attraktivt job i en virksomhed og en afdeling, hvor du får ansvar og mulighed for at udvikle din egen faglige værktøjskasse.  Contains  Du er god til at styre din tid og trives med at have mange bolde i luften\n",
            "Exact match. Assume matching value equal to 1\n",
            "Ad number:  64\n",
            "Match : Vær opmærksom på, at linket åbner i et nyt vindue, hvor du kan vedhæfte dokumenter.\n",
            "Lookup:  Du er ansvarsfuld, selvstændig og har mod på at udvikle digVære initiativrig og opsøgende\n",
            "Match:  (Score: 0.6325)\n",
            "Ad number:  65\n",
            "Match : Our office is located in Symbion at Østerbro in Copenhagen.In the application message, share a link to any SoMe pages you have helped grow in the past, and please include links to 2-3 post examples of great social media use.We interview candidates on a rolling basis.\n",
            "Lookup:  Som person er du først og fremmest kreativ og du er god til at finde på nye løsninger\n",
            "Match:  (Score: 0.2742)\n",
            "Ad number:  66\n",
            "Derudover forventer vi, at du:  Er kommunikativ stærk på dansk og engelsk i skrift og tale Kan forklare it-begreber let og forståeligt Er serviceminded, målrettet og drives af at se resultater Er kvalitetsbevidst og sætter en stolthed i at udføre et godt stykke arbejde Vil være en del af et team og prioriterer godt samarbejde Er lærevillig og søger personlig udvikling Kan smile gennem telefonen Er optimist og ser muligheder fremfor begrænsninger.  Contains  Er optimist og ser muligheder fremfor begrænsninger\n",
            "Derudover forventer vi, at du:  Er kommunikativ stærk på dansk og engelsk i skrift og tale Kan forklare it-begreber let og forståeligt Er serviceminded, målrettet og drives af at se resultater Er kvalitetsbevidst og sætter en stolthed i at udføre et godt stykke arbejde Vil være en del af et team og prioriterer godt samarbejde Er lærevillig og søger personlig udvikling Kan smile gennem telefonen Er optimist og ser muligheder fremfor begrænsninger.  Contains  Er kvalitetsbevidst og sætter en stolthed i at udføre et godt stykke arbejde\n",
            "Exact match. Assume matching value equal to 1\n",
            "Ad number:  67\n",
            "Jobbet er for dig der:  Har erfaring med CMS systemer, gerne nogle års erfaring med Sitecore Har en analytisk tilgang til arbejdet med tracking og SEO Har forståelse for designguides og følger den i opbygningen af det visuelle udtryk på vores website Trives med et godt mix af daglig driftsopgaver og udviklingsopgaver Tager fuldt ejerskab for dit område, naturligt opsøger faglig sparring med dine kolleger og er samarbejdsorienteret Er detaljeorienteret og har en struktureret tilgang til dine arbejdsopgaver Er skarp på sprog og budskabsprioritering i siteopbygning  Erfaring med UX design og HTML  kendskab til brug i Marketing Cloud er en fordel.  Contains  Er detaljeorienteret og har en struktureret tilgang til dine arbejdsopgaver\n",
            "Jobbet er for dig der:  Har erfaring med CMS systemer, gerne nogle års erfaring med Sitecore Har en analytisk tilgang til arbejdet med tracking og SEO Har forståelse for designguides og følger den i opbygningen af det visuelle udtryk på vores website Trives med et godt mix af daglig driftsopgaver og udviklingsopgaver Tager fuldt ejerskab for dit område, naturligt opsøger faglig sparring med dine kolleger og er samarbejdsorienteret Er detaljeorienteret og har en struktureret tilgang til dine arbejdsopgaver Er skarp på sprog og budskabsprioritering i siteopbygning  Erfaring med UX design og HTML  kendskab til brug i Marketing Cloud er en fordel.  Contains  Er detaljeorienteret og har en struktureret tilgang til dine arbejdsopgaver\n",
            "Exact match. Assume matching value equal to 1\n",
            "Ad number:  68\n",
            "Match : Det er din opgave at sikre at vores ugentlige kampagner altid er klar online med de rigtige billeder og tekster, og du har således stor indflydelse på det billede af ALDI vores kunder møder på vores hjemmeside.\n",
            "Lookup:  Er detaljeorienteret og har en struktureret tilgang til dine arbejdsopgaver\n",
            "Match:  (Score: 0.6162)\n",
            "Ad number:  69\n",
            "Match : At du har en høj arbejdsmoral og kan lide at have mange bolde i luften.\n",
            "Lookup:  Du er god til at styre din tid og trives med at have mange bolde i luften\n",
            "Match:  (Score: 0.6710)\n",
            "WRONG\n",
            "Ad number:  70\n",
            "Match : Vi forventer at du er fleksibel og ikke er bleg for at arbejde på skæve tidspunkter, da vores kunder handler hele døgnet rundt og vores freelance konsulent er mest tilgængelig efter normal arbejdstid.\n",
            "Lookup:  Vi forventer, at du som person er selvledende, kreativ, fleksibel og indstillet på at arbejde i et travlt miljø.\n",
            "Match:  (Score: 0.6916)\n",
            "WRONG\n",
            "Ad number:  71\n",
            "Vi forventer, at du  Har en uddannelse som multimediedesigner Er ambitiøs og har et godt personligt drive Kan tage initiativ, og sikre at projekterne når i mål Er kreativ og har æstetisk sans Kan samarbejde og overdrage i et team Har gode kommunikationsevner  Der er tale om en nyoprettet funktion, idet vi har ændret i organisationen i barselsperioden.  Contains  Har gode kommunikationsevner\n",
            "Exact match. Assume matching value equal to 1\n",
            "Ad number:  72\n",
            "Match : God til at kommunikere i skrift og tale Selvkørende, grundig og engageret    Vi tilbyder:  En spændende stilling i en sund og resultatorienteret virksomhed Der gives en grunding oplæring i både virksomhedens produkter og arbejdsområderne Du vil få ansvar samt indflydelse i en organisation med en flad struktur Du vil indgå i en engageret virksomhed, hvor tonen er humoristisk og uformel For den rette person, vil der være gode udviklingsmuligheder    Sådan ansøger du Send din ansøgning i dag til Gitte Kronbøge gk@westdiesel.dk    Antal ledige stillinger:  1       Lignende jobannoncer     Vigtige datoer  Offentliggjort den:  28. august 2018   Ansøgningsfrist:  28. september 2018   Ansættelsesdato:  1. november 2018    Virksomheden tilbyder  Ansættelsesform:   Fastansættelse   Ugentlig arbejdstid:   Heltid  Vilkår:   Almindeligt job  Kontaktpersoner  Gitte Kronbøge  Hovednummer: 75127044   Arbejdsgiver  West Diesel Engineering A/S  H.E.\n",
            "Lookup:  Har gode kommunikationsevner\n",
            "Match:  (Score: 0.6134)\n",
            "Ad number:  73\n",
            "Match : Du trives i et miljø præget af højt tempo, samarbejde og højt humør.\n",
            "Lookup:  Du trives med at være opsøgende Du kan arbejde både selvstændigt og som del af et mindre team\n",
            "Match:  (Score: 0.6669)\n",
            "Ad number:  74\n",
            "Match : Du tager ejerskab for egne områder og opgaver og bliver stolt når du opnår de mål vi i fællesskab sætter.\n",
            "Lookup:  Du tager ansvar for dine projekter og følger altid dine opgaver til dørs\n",
            "Match:  (Score: 0.6431)\n",
            "Ad number:  75\n",
            "Match : Kvalifikationer: Du er enten selvlært eller igang med en relevant uddannelse som grafisk designer, multimediedesigner, markedsføringsøkonom eller lignende.\n",
            "Lookup:  Er kvalitetsbevidst og sætter en stolthed i at udføre et godt stykke arbejde\n",
            "Match:  (Score: 0.6007)\n",
            "Ad number:  76\n",
            "Match : Du skal have erfaring med videoproduktion Du er bekendt med at arbejde i CMS – gerne Prestashop Du er velstruktureret, selvstændig og idéskabende Du er god til at have flere bolde i luften  Vi forventer, at du sætter dig ind i vores produktsortiment - vi er eksperterne i markedet!\n",
            "Lookup:  Du er god til at styre din tid og trives med at have mange bolde i luften\n",
            "Match:  (Score: 0.5702)\n",
            "Ad number:  77\n",
            "Match : Dette kræver, at du har en høj detaljegrad samt forståelse for brugervenlighed, men også at du er handlekraftig så opgaverne bliver færdiggjort.\n",
            "Lookup:  Du er nysgerrig, kritisk og løsningsorienteret - også når det bliver komplekst\n",
            "Match:  (Score: 0.6756)\n",
            "Ad number:  78\n",
            "Match : Du skal desuden køre min bil, når jeg skal fra A til B. NT Falke er en virksomhed med dybe rødder i det handicap- og sundhedsfaglige miljø, der leverer praktisk hjælp til borgere med fysisk eller psykisk funktionsnedsættelse.\n",
            "Lookup:  Du er nysgerrig, kritisk og løsningsorienteret - også når det bliver komplekst\n",
            "Match:  (Score: 0.6139)\n",
            "Ad number:  79\n",
            "Match : Hvis du er interesseret i stillingen, bedes du sende en personlig ansøgning indeholdende:  • Dit navn, alder, telefonnummer og email-adresse • Beskrivelse af din motivation og dine kompetencer for at være støtteperson/mentor  • Beskrivelse af dit eventuelle kendskab til studiestedet og/eller faget Din ansøgning videresendes til den studerende.\n",
            "Lookup:  Du udviser en høj grad af uafhængighed, er proaktiv og selvstartende\n",
            "Match:  (Score: 0.6201)\n",
            "Ad number:  80\n",
            "Match : Vi forestiller os, at du er nyuddannet eksempelvis som grafiker eller multimediedesigner, men din uddannelse er ikke afgørende, så længe du er vant til at arbejde med en bred vifte af grafiske opgaver og kan tænke kreativt.\n",
            "Lookup:  Ivrig efter af lære Som person forestiller vi os, at du er engageret, kreativ og nysgerrig\n",
            "Match:  (Score: 0.6703)\n",
            "Ad number:  81\n",
            "Match : Vi forventer, at du er nysgerrig og selv undersøger mulige løsninger på grafiske og tekniske udfordringer.\n",
            "Lookup:  Vi forventer, at du som person er selvledende, kreativ, fleksibel og indstillet på at arbejde i et travlt miljø.\n",
            "Match:  (Score: 0.7296)\n",
            "Ad number:  82\n",
            "Match : Kunne du tænke dig, at blive del af et ungt, dynamisk team i vores web- og markedsføringsafdeling på gågaden i Aarhus, hvor alle har en vigtig rolle for opnåelse af vores fælles mål, at vedblive med at være danskernes foretrukne sted at købe byggematerialer.\n",
            "Lookup:  Som menneske er du udadvendt, opsøgende og pædagogisk\n",
            "Match:  (Score: 0.6179)\n",
            "Ad number:  83\n",
            "Match : Du er projektorienteret, kreativ, nytænkende og har et godt overblik og ser det spændende i at styre projekter fra A-Z.\n",
            "Lookup:  Kreativ, nysgerrig, initiativrig og ikke bange for at spørge. Struktureret og detaljeorienteret\n",
            "Match:  (Score: 0.6687)\n",
            "WRONG\n",
            "Ad number:  84\n",
            "Match : Dette kræver ikke kun, at du har en høj detaljegrad samt forståelse for brugervenlighed, men også at du er handlekraftig så opgaverne bliver færdiggjort.\n",
            "Lookup:  Du er nysgerrig, kritisk og løsningsorienteret - også når det bliver komplekst\n",
            "Match:  (Score: 0.6387)\n",
            "Ad number:  85\n",
            "Jobbet er for dig der:  Har erfaring med CMS systemer, gerne nogle års erfaring med Sitecore Har en analytisk tilgang til arbejdet med tracking og SEO Har forståelse for designguides og følger den i opbygningen af det visuelle udtryk på vores website Trives med et godt mix af daglig driftsopgaver og udviklingsopgaver Tager fuldt ejerskab for dit område, naturligt opsøger faglig sparring med dine kolleger og er samarbejdsorienteret Er detaljeorienteret og har en struktureret tilgang til dine arbejdsopgaver Er skarp på sprog og budskabsprioritering i siteopbygning  Erfaring med UX design og HTML  kendskab til brug i Marketing Cloud er en fordel.  Contains  Er detaljeorienteret og har en struktureret tilgang til dine arbejdsopgaver\n",
            "Exact match. Assume matching value equal to 1\n",
            "Ad number:  86\n",
            "Derudover forventer vi, at du:  Er kommunikativ stærk på dansk og engelsk i skrift og tale  Kan forklare it-begreber let og forståeligt  Er serviceminded, målrettet og drives af at se resultater  Er kvalitetsbevidst og sætter en stolthed i at udføre et godt stykke arbejde  Vil være en del af et team og prioriterer godt samarbejde  Er lærevillig og søger personlig udvikling  Kan smile gennem telefonen  Er optimist og ser muligheder fremfor begrænsninger.  Contains  Er optimist og ser muligheder fremfor begrænsninger\n",
            "Derudover forventer vi, at du:  Er kommunikativ stærk på dansk og engelsk i skrift og tale  Kan forklare it-begreber let og forståeligt  Er serviceminded, målrettet og drives af at se resultater  Er kvalitetsbevidst og sætter en stolthed i at udføre et godt stykke arbejde  Vil være en del af et team og prioriterer godt samarbejde  Er lærevillig og søger personlig udvikling  Kan smile gennem telefonen  Er optimist og ser muligheder fremfor begrænsninger.  Contains  Er kvalitetsbevidst og sætter en stolthed i at udføre et godt stykke arbejde\n",
            "Exact match. Assume matching value equal to 1\n",
            "Ad number:  87\n",
            "Match :                  Udskriv annonce          SoMe-studentermedhjælper    Studiejob   •  Oprettet 4. marts 2020             Ansøgningsfrist: 11-03-2020     Ansættelse: Efter aftale      Søger du hele tiden den gode historie, og har du et godt øje for, hvad der virker visuelt på de sociale medier, er denne stilling måske lige dig?\n",
            "Lookup:  Har gode kommunikationsevner\n",
            "Match:  (Score: 0.5468)\n",
            "Ad number:  88\n",
            "Match : På SoMe området forventer vi, at du kan udvikle strategi og halvårlige planer for vores aktiviteter på sociale medier og selv føre dem ud i livet lige fra fotografering helt ned til billedbehandling i Photoshop, tekstforfatning af opslag, Facebook annoncering og kontakt til influencers.\n",
            "Lookup:  Vi forventer, at du som person er selvledende, kreativ, fleksibel og indstillet på at arbejde i et travlt miljø.\n",
            "Match:  (Score: 0.6664)\n",
            "Ad number:  89\n",
            "Match : Vi er bevidste om, at du som praktikant er her for at lære, og vi forsøger at sikre, at dit faglige udbytte bliver så stort som muligt.\n",
            "Lookup:  Vi forventer, at du som person er selvledende, kreativ, fleksibel og indstillet på at arbejde i et travlt miljø.\n",
            "Match:  (Score: 0.6455)\n",
            "Ad number:  90\n",
            "Match : Du er hurtig, struktureret og samtidigt kvalitetsbevidst.\n",
            "Lookup:  Er kvalitetsbevidst og sætter en stolthed i at udføre et godt stykke arbejde\n",
            "Match:  (Score: 0.6564)\n",
            "Ad number:  91\n",
            "Match : For at søge stillingen kræver det at du er oprettet i vores jobdatabase        Log ind hvis du allerede har en profil                 Skriv venligst din e-mail og adgangskode                                 DUOS vægter høj faglighed og tæt dialog med borger og myndighed.\n",
            "Lookup:  Vi søger en person, der er detaljeorienteret og analytisk stærk\n",
            "Match:  (Score: 0.5850)\n",
            "Ad number:  92\n",
            "Match : Har du sans for detaljerne og gode IT-kundskaber?\n",
            "Lookup:  Vi forestiller os, at du som person er kreativ, visuel og har god sans for detaljen.Vi forestiller os, at du som person er kreativ, visuel og har god sans for detaljen\n",
            "Match:  (Score: 0.7145)\n",
            "Ad number:  93\n",
            "Match : CEE uddanner energi-ingeniører og forsker i en effektiv grøn omstilling af energisystemet så det kan indlemmer store mængder vedvarende energi fra grønne teknologier som elbiler, vindkraft og solceller.\n",
            "Lookup:  Du udviser en høj grad af uafhængighed, er proaktiv og selvstartende\n",
            "Match:  (Score: 0.6368)\n",
            "Ad number:  94\n",
            "Match : Du er selvstændig, struktureret og meget detaljeorienteret i løsningen af opgaver.\n",
            "Lookup:  Er detaljeorienteret og har en struktureret tilgang til dine arbejdsopgaver\n",
            "Match:  (Score: 0.7754)\n",
            "Ad number:  95\n",
            "Match : I vores butik udføres mange forskellige opgaver.\n",
            "Lookup:  Som menneske er du udadvendt, opsøgende og pædagogisk\n",
            "Match:  (Score: 0.6673)\n",
            "Ad number:  96\n",
            "Match : Kulturen er præget af lyst og mod til i fællesskab at søge og afprøve nye veje og måder at løse vores opgaver på.\n",
            "Lookup:  Du er ansvarsfuld, selvstændig og har mod på at udvikle digVære initiativrig og opsøgende\n",
            "Match:  (Score: 0.6376)\n",
            "Ad number:  97\n",
            "Match : Du er som person selvstændigt og kreativ, at arbejde i et travlt miljø er lige dig.\n",
            "Lookup:  Vi forventer, at du som person er selvledende, kreativ, fleksibel og indstillet på at arbejde i et travlt miljø.\n",
            "Match:  (Score: 0.7213)\n",
            "Ad number:  98\n",
            "Match : Har du spørgsmål til stillingen, eller vil du høre flere gode grunde til, at du skal være vores nye underviser?\n",
            "Lookup:  Du er god til at skabe relationer på tværs\n",
            "Match:  (Score: 0.6298)\n",
            "Ad number:  99\n",
            "Match : Du er god til at holde mange bolde i luften og går praktisk, selvkørende og løsningsorienteret til værks.\n",
            "Lookup:  Du er god til at styre din tid og trives med at have mange bolde i luften\n",
            "Match:  (Score: 0.7100)\n",
            "Ad number:  100\n",
            "Match : Vi er en forholdsvis ung arbejdsplads på afdelingen i Esbjerg, og er altid gode til snak og hygge i mellem det ellers seriøse arbejde vi udfører.\n",
            "Lookup:  Er kvalitetsbevidst og sætter en stolthed i at udføre et godt stykke arbejde\n",
            "Match:  (Score: 0.6235)\n",
            "Ad number:  101\n",
            "Match : Du er opsøgende og ikke bange for nye udfordringer og at stille spørgsmål.\n",
            "Lookup:  Som menneske er du udadvendt, opsøgende og pædagogisk\n",
            "Match:  (Score: 0.6615)\n"
          ]
        }
      ]
    },
    {
      "cell_type": "code",
      "source": [
        "# For the JobTrendAds_Transformer_Search.csc file we get:\n",
        "cm = confusion_matrix(y_real, y_predicted)\n",
        "disp = ConfusionMatrixDisplay(confusion_matrix=cm)\n",
        "disp.plot()\n",
        "plt.show()"
      ],
      "metadata": {
        "colab": {
          "base_uri": "https://localhost:8080/",
          "height": 283
        },
        "id": "BQac8jkMT3t6",
        "outputId": "2deaf3be-d302-4cb0-b9f2-735fc14b9456"
      },
      "execution_count": 122,
      "outputs": [
        {
          "output_type": "display_data",
          "data": {
            "text/plain": [
              "<Figure size 432x288 with 2 Axes>"
            ],
            "image/png": "[encoded data removed]"
          },
          "metadata": {
            "needs_background": "light"
          }
        }
      ]
    },
    {
      "cell_type": "code",
      "source": [
        "import matplotlib.pyplot as plt\n",
        "from sklearn.datasets import make_classification\n",
        "from sklearn.metrics import confusion_matrix, ConfusionMatrixDisplay"
      ],
      "metadata": {
        "id": "o5JstrkKG4KP"
      },
      "execution_count": 70,
      "outputs": []
    },
    {
      "cell_type": "code",
      "source": [
        "# For the JobTrendAds_Transformer_ChangedJobText file we get exact similar.\n",
        "cm = confusion_matrix(y_real, y_predicted)\n",
        "disp = ConfusionMatrixDisplay(confusion_matrix=cm)\n",
        "disp.plot()\n",
        "plt.show()"
      ],
      "metadata": {
        "colab": {
          "base_uri": "https://localhost:8080/",
          "height": 283
        },
        "id": "92V96_v6G54c",
        "outputId": "74d5e988-6bfb-4581-f7d0-7deefc6db651"
      },
      "execution_count": 130,
      "outputs": [
        {
          "output_type": "display_data",
          "data": {
            "text/plain": [
              "<Figure size 432x288 with 2 Axes>"
            ],
            "image/png": "[encoded data removed]"
          },
          "metadata": {
            "needs_background": "light"
          }
        }
      ]
    },
    {
      "cell_type": "markdown",
      "source": [],
      "metadata": {
        "id": "nX-udtm7bF-l"
      }
    },
    {
      "cell_type": "code",
      "source": [
        "''' There are some misclassifications in the model \n",
        "E.g. with threshold 0.7:\n",
        "Ad 53 gets misclassified.\n",
        "Match : Og trives du med både at arbejde selvstændigt og samtidigt lære fra dig?\n",
        "Lookup:  Du trives med at være opsøgende Du kan arbejde både selvstændigt og som del af et mindre team\n",
        "Match:  (Score: 0.6371)\n",
        "\n",
        "\n",
        "But it is a robust model: \n",
        "E.g. \n",
        "We get the same results when the ad text is changed in a number of ways.\n",
        "See the file JobTrendAds_Transformer_Search.csv with changes in JobTrendAds_Transformer_ChangedJobText.csv:\n",
        "\n",
        "5\n",
        "Ad number:  5\n",
        "Du tager ansvar for dine projekter og følger altid dine opgaver til dørs.  Contains  Du tager ansvar for dine projekter og følger altid dine opgaver til dørs\n",
        "Exact match. Assume matching value equal to 1\n",
        "\n",
        "Rettet til.\n",
        "Ad number:  5\n",
        "Match : Du er ansvarlig og gør dine opgaver færdige.\n",
        "Lookup:  Du tager ansvar for dine projekter og følger altid dine opgaver til dørs\n",
        "Match:  (Score: 0.7079)\n",
        "\n",
        "48\n",
        "Du er struktureret og har høj selvdisciplin.  Contains  Du er struktureret og har høj selvdisciplin\n",
        "Du udviser en høj grad af uafhængighed, er proaktiv og selvstartende.  Contains  Du udviser en høj grad af uafhængighed, er proaktiv og selvstartende\n",
        "Vi søger en person, der er detaljeorienteret og analytisk stærk.  Contains  Vi søger en person, der er detaljeorienteret og analytisk stærk\n",
        "Exact match. Assume matching value equal to 1\n",
        "\n",
        "Flere exact matches. Så finder resultat uden at se på rettelsen.\n",
        "\n",
        "62\n",
        "Oprindelig:\n",
        "Exact match på.\n",
        "Du er god til at styre din tid og trives med at have mange bolde i luften\n",
        "\n",
        "Nu, sætningen er vendt om.\n",
        "Match : Du har mange bolde i luften og er god til at få noget ud af tiden.\n",
        "Lookup:  Du er god til at styre din tid og trives med at have mange bolde i luften\n",
        "Match:  (Score: 0.7758)\n",
        "\n",
        "\n",
        "81\n",
        "Ad number:  81\n",
        "Match : Vi forventer, at du er nysgerrig og selv undersøger mulige løsninger på grafiske og tekniske udfordringer.\n",
        "Lookup:  Vi forventer, at du som person er selvledende, kreativ, fleksibel og indstillet på at arbejde i et travlt miljø.\n",
        "Match:  (Score: 0.7296)\n",
        "\n",
        "Med relativ lav threshold, flere forskellige kandidat sætninger accepteret.\n",
        "Ad number:  81\n",
        "Match : Du er fleksibel, arbejder selvstændigt  og er indstillet på at arbejde i et travlt miljø.\n",
        "Lookup:  Vi forventer, at du som person er selvledende, kreativ, fleksibel og indstillet på at arbejde i et travlt miljø.\n",
        "Match:  (Score: 0.7471)\n",
        "\n",
        "97.\n",
        "Ad number:  97\n",
        "Vi forventer, at du som person er selvledende, kreativ, fleksibel og indstillet på at arbejde i et travlt miljø. \n",
        " Contains  Vi forventer, at du som person er selvledende, kreativ, fleksibel og indstillet på at arbejde i et travlt miljø.\n",
        "Exact match. Assume matching value equal to 1\n",
        "\n",
        "Mindre omskivninger af sætningen accepteres stadig.\n",
        "Match : Du er som person selvstændigt og kreativ, at arbejde i et travlt miljø er lige dig.\n",
        "Lookup:  Vi forventer, at du som person er selvledende, kreativ, fleksibel og indstillet på at arbejde i et travlt miljø.\n",
        "Match:  (Score: 0.7213)'''"
      ],
      "metadata": {
        "colab": {
          "base_uri": "https://localhost:8080/",
          "height": 141
        },
        "id": "ueu9BETTbGcy",
        "outputId": "a9516eb8-bd94-429c-c367-06e4f63034c2"
      },
      "execution_count": 131,
      "outputs": [
        {
          "output_type": "execute_result",
          "data": {
            "text/plain": [
              "' There are some misclassifications in the model \\nE.g. with threshold 0.7:\\nAd 53 gets misclassified.\\nMatch : Og trives du med både at arbejde selvstændigt og samtidigt lære fra dig?\\nLookup:  Du trives med at være opsøgende Du kan arbejde både selvstændigt og som del af et mindre team\\nMatch:  (Score: 0.6371)\\n\\n\\nBut it is a robust model: \\nE.g. \\nWe get the same results when the ad text is changed in a number of ways.\\nSee the file JobTrendAds_Transformer_Search.csv with changes in JobTrendAds_Transformer_ChangedJobText.csv:\\n\\n5\\nAd number:  5\\nDu tager ansvar for dine projekter og følger altid dine opgaver til dørs.  Contains  Du tager ansvar for dine projekter og følger altid dine opgaver til dørs\\nExact match. Assume matching value equal to 1\\n\\nRettet til.\\nAd number:  5\\nMatch : Du er ansvarlig og gør dine opgaver færdige.\\nLookup:  Du tager ansvar for dine projekter og følger altid dine opgaver til dørs\\nMatch:  (Score: 0.7079)\\n\\n48\\nDu er struktureret og har høj selvdisciplin.  Contains  Du er struktureret og har høj selvdisciplin\\nDu udviser en høj grad af uafhængighed, er proaktiv og selvstartende.  Contains  Du udviser en høj grad af uafhængighed, er proaktiv og selvstartende\\nVi søger en person, der er detaljeorienteret og analytisk stærk.  Contains  Vi søger en person, der er detaljeorienteret og analytisk stærk\\nExact match. Assume matching value equal to 1\\n\\nFlere exact matches. Så finder resultat uden at se på rettelsen.\\n\\n62\\nOprindelig:\\nExact match på.\\nDu er god til at styre din tid og trives med at have mange bolde i luften\\n\\nNu, sætningen er vendt om.\\nMatch : Du har mange bolde i luften og er god til at få noget ud af tiden.\\nLookup:  Du er god til at styre din tid og trives med at have mange bolde i luften\\nMatch:  (Score: 0.7758)\\n\\n\\n81\\nAd number:  81\\nMatch : Vi forventer, at du er nysgerrig og selv undersøger mulige løsninger på grafiske og tekniske udfordringer.\\nLookup:  Vi forventer, at du som person er selvledende, kreativ, fleksibel og indstillet på at arbejde i et travlt miljø.\\nMatch:  (Score: 0.7296)\\n\\nMed relativ lav threshold, flere forskellige kandidat sætninger accepteret.\\nAd number:  81\\nMatch : Du er fleksibel, arbejder selvstændigt  og er indstillet på at arbejde i et travlt miljø.\\nLookup:  Vi forventer, at du som person er selvledende, kreativ, fleksibel og indstillet på at arbejde i et travlt miljø.\\nMatch:  (Score: 0.7471)\\n\\n97.\\nAd number:  97\\nVi forventer, at du som person er selvledende, kreativ, fleksibel og indstillet på at arbejde i et travlt miljø. \\n Contains  Vi forventer, at du som person er selvledende, kreativ, fleksibel og indstillet på at arbejde i et travlt miljø.\\nExact match. Assume matching value equal to 1\\n\\nMindre omskivninger af sætningen accepteres stadig.\\nMatch : Du er som person selvstændigt og kreativ, at arbejde i et travlt miljø er lige dig.\\nLookup:  Vi forventer, at du som person er selvledende, kreativ, fleksibel og indstillet på at arbejde i et travlt miljø.\\nMatch:  (Score: 0.7213)'"
            ],
            "application/vnd.google.colaboratory.intrinsic+json": {
              "type": "string"
            }
          },
          "metadata": {},
          "execution_count": 131
        }
      ]
    }
  ]
}