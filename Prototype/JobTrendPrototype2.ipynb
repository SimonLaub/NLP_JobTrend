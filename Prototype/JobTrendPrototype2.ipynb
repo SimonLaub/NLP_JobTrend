{
  "cells": [
    {
      "cell_type": "code",
      "execution_count": 1,
      "id": "0732864c",
      "metadata": {
        "id": "0732864c"
      },
      "outputs": [],
      "source": [
        "# JobTrend prototype 2\n",
        "# \n",
        "# Sila. December 22, 2022"
      ]
    },
    {
      "cell_type": "code",
      "source": [
        "from google.colab import files\n",
        "uploaded = files.upload()"
      ],
      "metadata": {
        "colab": {
          "base_uri": "https://localhost:8080/",
          "height": 73
        },
        "id": "KSf9PpI5Jg1r",
        "outputId": "d24886bc-c68d-48dc-a4ab-1bf6e9795a1f"
      },
      "id": "KSf9PpI5Jg1r",
      "execution_count": 2,
      "outputs": [
        {
          "output_type": "display_data",
          "data": {
            "text/plain": [
              "<IPython.core.display.HTML object>"
            ],
            "text/html": [
              "\n",
              "     <input type=\"file\" id=\"files-6447d907-59a0-42c8-a3a9-ee6882619e32\" name=\"files[]\" multiple disabled\n",
              "        style=\"border:none\" />\n",
              "     <output id=\"result-6447d907-59a0-42c8-a3a9-ee6882619e32\">\n",
              "      Upload widget is only available when the cell has been executed in the\n",
              "      current browser session. Please rerun this cell to enable.\n",
              "      </output>\n",
              "      <script>// Copyright 2017 Google LLC\n",
              "//\n",
              "// Licensed under the Apache License, Version 2.0 (the \"License\");\n",
              "// you may not use this file except in compliance with the License.\n",
              "// You may obtain a copy of the License at\n",
              "//\n",
              "//      http://www.apache.org/licenses/LICENSE-2.0\n",
              "//\n",
              "// Unless required by applicable law or agreed to in writing, software\n",
              "// distributed under the License is distributed on an \"AS IS\" BASIS,\n",
              "// WITHOUT WARRANTIES OR CONDITIONS OF ANY KIND, either express or implied.\n",
              "// See the License for the specific language governing permissions and\n",
              "// limitations under the License.\n",
              "\n",
              "/**\n",
              " * @fileoverview Helpers for google.colab Python module.\n",
              " */\n",
              "(function(scope) {\n",
              "function span(text, styleAttributes = {}) {\n",
              "  const element = document.createElement('span');\n",
              "  element.textContent = text;\n",
              "  for (const key of Object.keys(styleAttributes)) {\n",
              "    element.style[key] = styleAttributes[key];\n",
              "  }\n",
              "  return element;\n",
              "}\n",
              "\n",
              "// Max number of bytes which will be uploaded at a time.\n",
              "const MAX_PAYLOAD_SIZE = 100 * 1024;\n",
              "\n",
              "function _uploadFiles(inputId, outputId) {\n",
              "  const steps = uploadFilesStep(inputId, outputId);\n",
              "  const outputElement = document.getElementById(outputId);\n",
              "  // Cache steps on the outputElement to make it available for the next call\n",
              "  // to uploadFilesContinue from Python.\n",
              "  outputElement.steps = steps;\n",
              "\n",
              "  return _uploadFilesContinue(outputId);\n",
              "}\n",
              "\n",
              "// This is roughly an async generator (not supported in the browser yet),\n",
              "// where there are multiple asynchronous steps and the Python side is going\n",
              "// to poll for completion of each step.\n",
              "// This uses a Promise to block the python side on completion of each step,\n",
              "// then passes the result of the previous step as the input to the next step.\n",
              "function _uploadFilesContinue(outputId) {\n",
              "  const outputElement = document.getElementById(outputId);\n",
              "  const steps = outputElement.steps;\n",
              "\n",
              "  const next = steps.next(outputElement.lastPromiseValue);\n",
              "  return Promise.resolve(next.value.promise).then((value) => {\n",
              "    // Cache the last promise value to make it available to the next\n",
              "    // step of the generator.\n",
              "    outputElement.lastPromiseValue = value;\n",
              "    return next.value.response;\n",
              "  });\n",
              "}\n",
              "\n",
              "/**\n",
              " * Generator function which is called between each async step of the upload\n",
              " * process.\n",
              " * @param {string} inputId Element ID of the input file picker element.\n",
              " * @param {string} outputId Element ID of the output display.\n",
              " * @return {!Iterable<!Object>} Iterable of next steps.\n",
              " */\n",
              "function* uploadFilesStep(inputId, outputId) {\n",
              "  const inputElement = document.getElementById(inputId);\n",
              "  inputElement.disabled = false;\n",
              "\n",
              "  const outputElement = document.getElementById(outputId);\n",
              "  outputElement.innerHTML = '';\n",
              "\n",
              "  const pickedPromise = new Promise((resolve) => {\n",
              "    inputElement.addEventListener('change', (e) => {\n",
              "      resolve(e.target.files);\n",
              "    });\n",
              "  });\n",
              "\n",
              "  const cancel = document.createElement('button');\n",
              "  inputElement.parentElement.appendChild(cancel);\n",
              "  cancel.textContent = 'Cancel upload';\n",
              "  const cancelPromise = new Promise((resolve) => {\n",
              "    cancel.onclick = () => {\n",
              "      resolve(null);\n",
              "    };\n",
              "  });\n",
              "\n",
              "  // Wait for the user to pick the files.\n",
              "  const files = yield {\n",
              "    promise: Promise.race([pickedPromise, cancelPromise]),\n",
              "    response: {\n",
              "      action: 'starting',\n",
              "    }\n",
              "  };\n",
              "\n",
              "  cancel.remove();\n",
              "\n",
              "  // Disable the input element since further picks are not allowed.\n",
              "  inputElement.disabled = true;\n",
              "\n",
              "  if (!files) {\n",
              "    return {\n",
              "      response: {\n",
              "        action: 'complete',\n",
              "      }\n",
              "    };\n",
              "  }\n",
              "\n",
              "  for (const file of files) {\n",
              "    const li = document.createElement('li');\n",
              "    li.append(span(file.name, {fontWeight: 'bold'}));\n",
              "    li.append(span(\n",
              "        `(${file.type || 'n/a'}) - ${file.size} bytes, ` +\n",
              "        `last modified: ${\n",
              "            file.lastModifiedDate ? file.lastModifiedDate.toLocaleDateString() :\n",
              "                                    'n/a'} - `));\n",
              "    const percent = span('0% done');\n",
              "    li.appendChild(percent);\n",
              "\n",
              "    outputElement.appendChild(li);\n",
              "\n",
              "    const fileDataPromise = new Promise((resolve) => {\n",
              "      const reader = new FileReader();\n",
              "      reader.onload = (e) => {\n",
              "        resolve(e.target.result);\n",
              "      };\n",
              "      reader.readAsArrayBuffer(file);\n",
              "    });\n",
              "    // Wait for the data to be ready.\n",
              "    let fileData = yield {\n",
              "      promise: fileDataPromise,\n",
              "      response: {\n",
              "        action: 'continue',\n",
              "      }\n",
              "    };\n",
              "\n",
              "    // Use a chunked sending to avoid message size limits. See b/62115660.\n",
              "    let position = 0;\n",
              "    do {\n",
              "      const length = Math.min(fileData.byteLength - position, MAX_PAYLOAD_SIZE);\n",
              "      const chunk = new Uint8Array(fileData, position, length);\n",
              "      position += length;\n",
              "\n",
              "      const base64 = btoa(String.fromCharCode.apply(null, chunk));\n",
              "      yield {\n",
              "        response: {\n",
              "          action: 'append',\n",
              "          file: file.name,\n",
              "          data: base64,\n",
              "        },\n",
              "      };\n",
              "\n",
              "      let percentDone = fileData.byteLength === 0 ?\n",
              "          100 :\n",
              "          Math.round((position / fileData.byteLength) * 100);\n",
              "      percent.textContent = `${percentDone}% done`;\n",
              "\n",
              "    } while (position < fileData.byteLength);\n",
              "  }\n",
              "\n",
              "  // All done.\n",
              "  yield {\n",
              "    response: {\n",
              "      action: 'complete',\n",
              "    }\n",
              "  };\n",
              "}\n",
              "\n",
              "scope.google = scope.google || {};\n",
              "scope.google.colab = scope.google.colab || {};\n",
              "scope.google.colab._files = {\n",
              "  _uploadFiles,\n",
              "  _uploadFilesContinue,\n",
              "};\n",
              "})(self);\n",
              "</script> "
            ]
          },
          "metadata": {}
        },
        {
          "output_type": "stream",
          "name": "stdout",
          "text": [
            "Saving JobTrendAds.csv to JobTrendAds (1).csv\n"
          ]
        }
      ]
    },
    {
      "cell_type": "code",
      "source": [
        "# Upload the JobTrendAds.csv file\n",
        "!ls"
      ],
      "metadata": {
        "colab": {
          "base_uri": "https://localhost:8080/"
        },
        "id": "u2pV_TpvKXSC",
        "outputId": "740cb680-e0ee-42b1-b56d-80d9620b0802"
      },
      "id": "u2pV_TpvKXSC",
      "execution_count": 3,
      "outputs": [
        {
          "output_type": "stream",
          "name": "stdout",
          "text": [
            "'JobTrendAds (1).csv'   JobTrendAds.csv   sample_data\n"
          ]
        }
      ]
    },
    {
      "cell_type": "code",
      "execution_count": 4,
      "id": "ce363a8f",
      "metadata": {
        "id": "ce363a8f"
      },
      "outputs": [],
      "source": [
        "# Read Jobfile\n",
        "import pandas as pd\n",
        "\n",
        "colnames=['Source.Name','ID', 'Date time', 'Details', 'Region', 'Rest'] \n",
        "df = pd.read_csv(\"JobTrendAds.csv\", usecols = colnames, encoding=\"utf-8\", sep=';', header = 0 )\n",
        "\n",
        "# The JobTrend file must saved in utf-8 format"
      ]
    },
    {
      "cell_type": "code",
      "execution_count": 5,
      "id": "a4f06ba6",
      "metadata": {
        "colab": {
          "base_uri": "https://localhost:8080/"
        },
        "id": "a4f06ba6",
        "outputId": "f74b39b4-9a79-42fc-82b3-2ef70ef0f147"
      },
      "outputs": [
        {
          "output_type": "stream",
          "name": "stdout",
          "text": [
            "              Source.Name            ID            Date time  \\\n",
            "count                 296  2.960000e+02                  296   \n",
            "unique                296           NaN                  295   \n",
            "top     00031-1805634.txt           NaN  2020-02-21 22:37:21   \n",
            "freq                    1           NaN                    2   \n",
            "mean                  NaN  1.053727e+06                  NaN   \n",
            "std                   NaN  5.156326e+05                  NaN   \n",
            "min                   NaN  7.153000e+03                  NaN   \n",
            "25%                   NaN  6.856040e+05                  NaN   \n",
            "50%                   NaN  1.080747e+06                  NaN   \n",
            "75%                   NaN  1.446393e+06                  NaN   \n",
            "max                   NaN  1.960349e+06                  NaN   \n",
            "\n",
            "                   Details              Region  \\\n",
            "count                  296                 296   \n",
            "unique                 242                   8   \n",
            "top     Multimediedesigner  region-midtjylland   \n",
            "freq                     8                  88   \n",
            "mean                   NaN                 NaN   \n",
            "std                    NaN                 NaN   \n",
            "min                    NaN                 NaN   \n",
            "25%                    NaN                 NaN   \n",
            "50%                    NaN                 NaN   \n",
            "75%                    NaN                 NaN   \n",
            "max                    NaN                 NaN   \n",
            "\n",
            "                                                JobAdText  \n",
            "count                                                 296  \n",
            "unique                                                295  \n",
            "top                        Menu      Søg              ...  \n",
            "freq                                                    2  \n",
            "mean                                                  NaN  \n",
            "std                                                   NaN  \n",
            "min                                                   NaN  \n",
            "25%                                                   NaN  \n",
            "50%                                                   NaN  \n",
            "75%                                                   NaN  \n",
            "max                                                   NaN  \n",
            "[['00031-1805634.txt' 1805634 '2021-11-12 15:52:54'\n",
            "  'Digital Marketing Koordinator' 'sydjylland'\n",
            "  '                                                                                                                                                                                                                                                                              Digital Marketing Koordinator  A/S Vestfrost  Esbjerg  Indrykket\\xa029.\\xa0oktober\\xa02021    Vil du være med til at opbygge et marketingsunivers for en mellemstor B2B-virksomhed?   I en nyoprettet stilling får du i høj grad mulighed for at sætte dit præg på, hvordan Vestfrost opfattes af kunder og partnere gennem udarbejdelsen af virksomhedens marketingmateriale. Så brænder du for online marketing? Kan du skabe digitale kampagner med målbar effekt og konverteringer? Har du flair for at arbejde med content og sociale medier? Så har vi jobbet til dig!   Du skal være med til at løfte vores digitale salgs- og marketingaktiviteter for vores forskellige brands, samt tiltrække nye kunder.  Dine primære opgaver vil være:  Udbygge og vedligeholde content på Vestfrost-hjemmesiden Content til SoMe Opdatering og vedligeholdelse af datablade samt brochure Content til cases Relevant markedsføringsmateriale såsom billede, video, messemateriale m.m.   Med en ny og moderniseret hjemmeside føler vi, at alt vores content på hjemmesiden, samt fysisk materiale også skal følge med.  Vi forventer, at du:  Har en relevant professionsbachelor i e-handel, er multimediedesigner, markedsføringsøkonom eller grafisk uddannet Har erfaring i brug af InDesign, Illustrator og Photoshop Har gode kommunikationsevner Kan arbejde selvmotiverende Er fejlfri på skriftlig dansk og engelsk Erfaring med SEO. Det er ikke et krav, men en fordel   Til koncernfunktionen i Esbjerg søger A/S Vestfrost en dygtig og serviceminded Digital Marketing Koordinator. Du vil indgå i vores salgsafdeling med i alt 14 ansatte.  Vi tilbyder:  Ansættelse i en innovativ virksomhed Et spændende og varieret job i en 100 % danskejet international vækstvirksomhed En uhøjtidelig og uformel organisation med stor frihed under ansvar Gode personaleforhold   Tiltrædelse: Efter aftale.  Kontakt:  Har du uddybende spørgsmål til ovenstående, er du velkommen til at kontakte Jessica Ortiz Rosenkilde på  eller på telefon 7914 2272.   Er stillingen noget for dig, så send din ansøgning via nedenstående link \"Søg jobbet online\".   Vi holder løbende samtaler med relevante kandidater.    A/S Vestfrost er en danskejet virksomhed. Med udgangspunkt i stor knowhow omkring køl og frys sælges værdiskabende B2B-løsninger internationalt til forretningsområderne: Bio Medical, Cold Chain Equipment, Merchandising & Wine.   Virksomheden er førende inden for innovative, kundespecifikke løsninger samt energi- og miljøoptimeret køleudstyr.   A/S Vestfrost, som har hovedkontor i Esbjerg, omsætter i dag for knap kr. 500 millioner og har 500 ansatte, heraf mere end halvdelen i den 100 % ejede dattervirksomhed Vestfrost Zrt. i Ungarn.                         13 evalueringer  Jobannoncer                Vil du også følge virksomheden? Vil du følge virksomheden?    Når du følger en virksomhed, får du tilsendt opdateringer om nye stillinger, nyheder og anden relevant information. Virksomheden får adgang til dine personlige oplysninger samt CV, så de kan kontakte dig, hvis de i fremtiden har et job, der matcher dine kompetencer. Du giver også virksomheden mulighed for at kontakte dig, hvis de i fremtiden har et job, der matcher dine kompetencer.  Det er en god idé, at du opretter et CV, så virksomheden let og med det samme får en god forståelse af dig og din profil.   Det er en god idé, at du sætter dit CV online, så virksomheden let og med det samme får en god forståelse af dig og din profil.   Det er en god idé, at du opdaterer dit CV, så virksomheden let og med det samme får en god forståelse af dig og din profil.                    Vil du vise interesse for dette job?      Det er en god idé, at du opretter et CV, så virksomheden let og med det samme får en god forståelse af dig og din profil.   Det er en god idé, at du sætter dit CV online, så virksomheden let og med det samme får en god forståelse af dig og din profil.   Det er en god idé, at du opdaterer dit CV, så virksomheden let og med det samme får en god forståelse af dig og din profil.                         Vis interesse for job    For at vise interesse skal du have et online CV. Klik på knappen nedenfor og opret dit CV - det tager kun 5 minutter. For at vise interesse skal du have et online CV. Klik på knappen nedenfor og sæt dit CV online.  Læs mere om interessevisning .                   For jobsøgere           For arbejdsgivere           Om Jobindex          Modtag nyheder     Hent job-apps     Følg os             Jobindex A/S, Carl Jacobsens Vej 29-31, 2500 Valby, Tlf. , CVR-nr. 21367087       ()                         Ansvarlig brug af dine oplysninger                                              ']\n",
            " ['00032-756524.txt' 756524 '2019-08-31 22:26:28' 'Støtteperson / Mentor'\n",
            "  'fyn'\n",
            "  '                                   \\xa0    \\xa0                 Stilling: Støtteperson / Mentor   Oprettet: 30-08-2019     Job start: Snarest muligt   Annoncenr: 93705 JobId: 106655   \\xa0      Arbejdssted: 5000\\xa0Odense C   Køn:   MK              \\xa0      \\xa0    Jobbeskrivelse Støtteperson/mentor søges til 37-årig kvindelig studerende.   Hun studerer multimediedesigner på Prof. højskolen - Odense C, 2. semester.   Hun har brug for:  • Planlægning - fx ugeplan og læseplan • Støtte til at få skabt struktur omkring hverdagen på studiet • Vejledning – fx i forhold til opgaveskrivning og studieteknik • Støtte til at opnå overblik over deadlines, afleveringer, undervisning m.m.   Der er bevilliget i alt 20 timer til og med den 31. december 2019. I mødes ca. en gang om ugen efter aftale og behov.   Hvis du er interesseret i stillingen, bedes du sende en personlig ansøgning indeholdende:  • Dit navn, alder, telefonnummer og email-adresse • Beskrivelse af din motivation og dine kompetencer for at være støtteperson/mentor  • Beskrivelse af dit eventuelle kendskab til studiestedet og/eller faget  Din ansøgning videresendes til den studerende  Vi ser helst, at du kan hjælpe den studerende minimum et semester og gerne længere.   I forbindelse med din ansættelse vil vi evt. kontakte dig med henblik på en samtale.  Stillingen aflønnes efter gældende takster med 124-131 kr./timen     Bemærk:  Din ansøgning formidles gennem DUOS.     For at søge stillingen kræver det at du er oprettet i vores jobdatabase        Log ind hvis du allerede har en profil                 Skriv venligst din e-mail og adgangskode                        \\xa0     \\xa0  DUOS vægter høj faglighed og tæt dialog med borger og myndighed. Vi er mennesker, der hjælper andre mennesker med handicap.Flere sider:Få vores nyhedsbrevMere end 11.000 e-abonnenter modtager hver måned vores nyhedsbrev. Her får du vores syn på personlig støtte til borgere med handicap, sygdom eller sociale vanskeligheder.Tilmeld nyhedsbrev © 2017 duos.dk | Ellebjergvej 52 | 2450 København SV | T: 3634 7900 | E:  | CVR: 25477154 \\xa0              Vil du modtage vores nyhedsbrev?                                  \\xa0\\xa0Ok   ']\n",
            " ['00033-321357.txt' 321357 '2018-12-21 02:45:03'\n",
            "  'WordPress og online markedsføring' 'region-midtjylland'\n",
            "  '               ...eller  |                                                                                                                             Følg virksomheder som du vil være en del af  Det får du ud af det:          Virksomheden kan se dit CV på personlig form  - også selvom du har et anonymt CV      Hvad er et personligt CV? Et personligt CV viser dine kontaktoplysninger og tidligere arbejdsplads - som ellers er skjult, hvis du er anonym.     Du kommer på hot-liste til udvalgte stillinger      Hvad er en hot-liste? Når virksomhederne har en stilling på Jobindex, får de en liste over kandidater, der passer til stillingen og har vist interesse for virksomheden.     Derfor er det en god idé at have et opdateret CV:     \\xa0                WordPress og online markedsføring    Vi har rigtig travlt med at hjælpe vores kunder og har derfor brug for en fuldtidsansat til WordPress og online markedsføring som tilføjelse i vores team. Stillingen er nyoprettet. \\xa0 Dine arbejdsopgaver:   WordPress installationer og plugins – Nye sider og vedligeholdelse  Kendskab til CSS, og IKKE nødvendigvis webdesign, vi er dækket godt ind med dygtige designere Onpage SEO optimering i WordPress Teknikken i forhold til Facebook og LinkedIn annonceringskampagner Teknikken i Adwords kampagner - Remarketing osv Domæner, DNS, hosting, SSL og alt det rigtig sjove. Kundekontakt Support  \\xa0 \\xa0 Hvem er du: Du skal kunne se det spændende i, at blive en del af et lille team og med muligheden for at arbejde tæt på beslutningerne. I dagligdagen vil du skulle arbejde tæt sammen med en WordPress/SEO ekspert, en Branding/markedsførings strateg, en Mediegrafiker, en multimediedesigner/konceptudvikler og en tekstforfatter. Desuden vil du have direkte kundekontakt. Du skal brænde for at lave gode og simple løsninger for vores kunder. Vi leder efter en glad kollega med humor, der brænder for tekniske udfordringer og værdsætter, at blive en del af et team hvor vi sammen skaber smarte løsninger i et lækkert design, som er tilpasset vores kunder og deres målgrupper. \\xa0 Din profil:   Du skal kunne se dig selv som en del af et ungt team, hvor vi hver især bidrager med vores kompetencer og løser opgaverne i fællesskab Du sætter pris på og sørger for, at de tekniske opgaver bliver produceret til tiden Hvis ikke du allerede er Adwords certificeret, skal du have lysten til at blive det Du brænder for at arbejde med tekniske problemløsninger i WordPress og kode Ser det som en selvfølge at yde høj service og kvalitet til kunderne nyuddannet eller selvlært  \\xa0 For at komme i betragtning til stillingen, skal du kunne opfylde følgende:  Superbruger i WordPress Interesse i den tekniske del af online markedsføring (SoMe og Adwords) Begynderniveau i CSS, PHP og JavaScript  \\xa0 Det er bestemt en fordel, hvis du også har evner indenfor:  Adwords kampagne teknik Facebook kampagne teknik Onpage SEO Er kundeopsøgende  \\xa0 Hvem er vi: MiniMarketing er et brandingbureau, som arbejder engageret og målrettet på at nå kundernes markedsføringsmål. MiniMarketing laver online markedsføring samt branding og grafisk identitet, både på tryk og web. Vi brænder for at højne kvaliteten, udtrykket og skabe den røde tråd i kundernes marketingsmateriale og kommunikation. Det er vores opgave at sørge for, at vores kunder får den rigtige tekniske løsning, som passer til kundens størrelse og krav. Vores kundeopgaver spænder meget bredt, både på opgavens størrelse og branche. Vi servicerer både mindre og mellemstore virksomheder, som henvender sig til BtB. Vores kontor ligger i Hadsten, på BANEGAARDEN, som er et attraktivt og aktivt kontorfællesskab på 10 mindre virksomheder. Vi har et godt fællesskab, vi spiser altid frokost og holder også julefrokost sammen. \\xa0 Interesseret? Kan du se dig selv i vores rammer, så send din ansøgning, CV og portefølje til job@minimarketing.dk og fortæl os hvorfor – Vi ønsker at modtage det hele i ét samlet PDF dokument. \\xa0 Samtaler og tiltrædelse:  Ansøgningsfrist d. 11. januar 2019 og tiltrædelse snarest \\xa0 Hvis du har spørgsmål til stillingen, er du velkommen til at kontakte indehaver Jesper Brixen på tlf. 29 64 35 28 Vi glæder os til at høre fra dig!   Antal ledige stillinger:  1       Lignende jobannoncer     Vigtige datoer  Offentliggjort den:  20.\\xa0december\\xa02018   Ansøgningsfrist:  11.\\xa0januar\\xa02019   Ansættelsesdato:  Snarest muligt   Virksomheden tilbyder  Ansættelsesform:\\xa0  Fastansættelse   Ugentlig arbejdstid:\\xa0  Heltid  Vilkår:\\xa0  Almindeligt job  Kontaktpersoner  Indehaver  Jesper Brixen  Mobil: 29643528   Arbejdsgiver  MiniMarketing  Østergade 4 2 8370 Hadsten   (Arbejdspladsen ligger i Favrskov)   Ansøgning  Søg via e-mail:\\xa0  Annonce ID  4921875         Indrykket\\xa020.\\xa0december        Følg virksomheder som du vil være en del af  Det får du ud af det:          Virksomheden kan se dit CV på personlig form  - også selvom du har et anonymt CV      Hvad er et personligt CV? Et personligt CV viser dine kontaktoplysninger og tidligere arbejdsplads - som ellers er skjult, hvis du er anonym.     Du kommer på hot-liste til udvalgte stillinger      Hvad er en hot-liste? Når virksomhederne har en stilling på Jobindex, får de en liste over kandidater, der passer til stillingen og har vist interesse for virksomheden.     Derfor er det en god idé at have et opdateret CV:     \\xa0                     Jobindex A/S  Holger Danskes Vej 91  2000 Frederiksberg  Tlf.   CVR-nr. 21367087           Info              Se Jobindex i:      Besøg også:                            ']\n",
            " ...\n",
            " ['792826.txt' 792826 '2019-09-20 23:57:31'\n",
            "  'Praktikant i Multimedia design and Marketing - Forår' 'storkoebenhavn'\n",
            "  '                Praktikant i Multimedia design and Marketing - Forår TrainAway     Salary Unpaid  TrainAway er et tech start-up, som gør det lettere for rejsende at træner når de er væk hjemmefra. Vi har på nuværende tidspunkt partnerskaber med over 1.300 fitness klubber i +40 lande og har allerede hjulpet flere tusind rejsende allerede. Vi gør meget ud af at sikre et godt arbejdsmiljø, hvor det er både sjovt og lærerigt at gå på arbejde. For at sikre, at vi som virksomhed hele tiden udvikler os, har vi stort fokus på alles faglige udvikling. Det vil du opleve fra dag ét!  Internship as multimedia designer - Praktikant som multimedie designerIf you are independent and thrive with responsibility and find it interesting to be part of a new and fast-growing company, TrainAway is for you. Since we depend heavily on our platform development skills are much appreciated but not a must.Hvis du er selvstænding, trives med ansvar og finder det interessant at arbejde i et hurtigt voksende firma, så er TrainAway noget for dig! Siden vi er meget afhængige af udvikling på vores platform, er evner indenfor dette område meget værdsat men ikke et krav.Your educational backgroundWe imagine that you are in the last part of your studies at KEA, CPH business or another relevant university. If you are not studying one of the above mentioned, but are in to working with design and multimedia and have a relevant profile we would be happy to hear from you.Vi forestiller også at du er i din sidste del af dine studier på KEA, CPH business eller et andet relevant universitet. Hvis ikke du studere nogle af de ovenstående universiteter, men brænder for at arbejde med design, multimedie og samtidig har en relevant profil, er vi meget interesserede i at høre fra dig. Du vil få kendskab indenfor følgende områderDesign omkring vores app og hjemmesideSkabe grafisk materiale til marketing og kommunikationHåndtere vores hjemmeside og appLæring omkring hvordan en international tech virksomhed arbejderProjektledelseKommercielle videoerPossibly development tasks in - Højst sandsynligvis opgaver indenforBackend/frontend alt efter kvalifikationerNode.jsSwagger/OpenAPIYour competencesDu er stærk i det engelske sprog både mundtligt og skriftligtDu kan arbejde selvstændigt og skabe dine egne idéerDu har erfaring indenfor Photoshop, Illustrator, InDesign eller lignendeErfaring indenfor videoredigeringDu har erfaring indenfor UX-designViden omkring udvikling både backend og frontendKnowledge of Google s Material Design and Apple s iOS Human Interface Guidelines is a plusViden omkring Google s Material Design og Apple s IOS Human Interface Guidelines er et plus men ikke et kravBrænder for at arbejde med forskellige opgaverOm TrainAwayTrainAway er startet i 2017 af tre partnere med en baggrund i Management Consulting og Private Equity. Siden da er vi vokset betydeligt, og er nu 11 medarbejdere, som sidder I København, Islamabad og Athen. Vi har hovedkontor på Copenhagen School of Entrepreneurship (CSE) nær Frederiksberghave. Vi sidder i et stort kontorfællesskab med en mange andre spændende start-ups.Vi fokuserer rigtig meget på arbejdsklimaet, og på at bygge en stærk kultur, som kan gavne TrainAway i mange år frem. Derfor ser vi alle i øjenhøjde, og har to gange månedligt ”mus” samtale, hvor vi forsøger at fremme den enkle til at gøre sit bedste under de bedste vilkår. Kort sagt så har vi et værdisæt, som alle skal leve op til, og her bliver ingen sat til at printe eller lave kaffe! Desuden er vi ret fleksible, så giver det mening at arbejde hjemme eller har du travlt med studiet, giver vi dig selvfølge plads til det. Svarfristen for ansøgninger er 1 December 2019, men kandidater vil løbende blive kaldt ind til samtale. Der er chance for at vi har fundet en kandidat inden svarfristen. Du vil starte i Januar 2020 og vil vare minimum 3 måneder.Har du nogen spørgsmål til stillingen er du velkommen til at kontakte Kristian Toft på +45 20 40 32 37 i løbet af arbejdstimerne, eller skrive en email til kt@trainaway.fit. Vi ser frem til at modtage dit CV snarest muligt gennem The Hub. Perks and benefits  This job comes with several perks and benefits   Flexible working hours Time is precious. Make it count. Morning person or night owl, this job is for you. Free coffee / tea Get your caffeine fix to get you started and keep you going. Near public transit Easy access and treehugger friendly workplace. Social gatherings Social gatherings and games']\n",
            " ['937004.txt' 937004 '2019-12-27 23:51:36'\n",
            "  'Webmaster til vores nye website' 'region-midtjylland'\n",
            "  '         \\xa0Webmaster til vores nye websiteVil du stå i spidsen for at implementere vores nye CMS-system, som også bliver support til lead management og vores community? Og vil du arbejde tæt med ledelsen, mens du sætter dit præg på vores nye og forbedrede online tilstedeværelse?Du er verdensmester i at være webmaster Som webmaster har du det første år fokus på at implementere og udvikle vores nye CMS og styre os sikkert igennem den proces. Derudover sørger du for, at vores sider fungerer, er optimerede og støtter vores lead management og forretningen generelt. En vigtig del af dit job er også at sikre, at vores system altid kan generere den nødvendige data til analyser, og du bliver omdrejningspunktet for det visuelle på sitet.Som webmaster i verdensklasse er din udfordring at sætte dig ind flere forretningsområder. Dem skal du kunne forstå for at kunne lave det rigtige setup og generere brugbart data. Og så har du en vigtig opgave i få vores community i gang – godt hjulpet på vej af dine kolleger i teamet. Du skal også: sikre og udvikle informationsarkitekturen omsætte data fra relevante analyseværktøjer til fx udviklingsmuligheder, styrket brugeroplevelse mv. være redaktør for Systematics corporate site samt håndtere domæner, aliasser og URL’er samarbejde med og håndtere eksterne samarbejdspartnere, fx webbureauer og grafikere tilpasse kode (styling og tilpasning i HTML og CSS) og opsætte integrationer mellem systemer – begge dele i mindre omfang.Høj faglighed og god sparring Du bliver en del af Marketing og Kommunikation i Århus, hvor vi er 9 fuldtidskolleger samt en række studentermedhjælpere og praktikanter. Sammen har vi stærke kompetencer inden for marketing og kommunikation, som du kan læne dig op ad i dit nye job.Hos os kan du mærke, at vi er seriøse omkring det, vi laver. Vores mål er høje – og det er vores faglighed også. Samtidig har vi en god, uformel atmosfære med masser af sparring, så du kommer ikke til at stå alene. Og så har vi en karismatisk ejer, som har stor interesse for netop dit område.Webmaster med erfaring fra global virksomhed Du er sikkert uddannet multimediedesigner eller lignende og har 5-10 års erfaring som webmaster fra en international virksomhed. Desuden har du et kommercielt mindset og erfaringen til at argumentere for dine holdninger i en organisation med mange ønsker og holdninger til vores online tilstedeværelse. Og så er du fleksibel, hvis vi i perioder skal give den en ekstra skalle.Vi forestiller os, at du: har stor erfaring med CMS – erfaring med Umbraco og Hubspot er en fordel har kendskab til e-mailmarketing, sociale medier samt inbound-marketing er en rutineret bruger af IT-værktøjer og har kendskab til HTML og CSS kan lede implementeringen af CMS-systemet som bindeleddet til IT, forretningen, UX-designere, marketing, kommunikation, vores procesafdeling mv. taler flydende engelsk og dansk.Vi arbejder med sikkerhedsklassificerede projekter, og derfor skal du som medarbejder i Systematic sikkerhedsgodkendes. Læs mere på .Har du ikke fået svar på alle dine spørgsmål?Du er altid velkommen til at kontakte os på tlf. +45 8943 2000 og spørge efter Mille Just Nielsen, Digital Marketing Director, eller sende en mail til mille.just.nielsen@systematic.com Vi behandler ansøgninger løbende, da vi ønsker at besætte stillingen hurtigst muligt. Arbejdsstedet er i Aarhus. Vi glæder os til at høre fra dig.Siden vi skrev vores første linje kode i 1985, er det privatejede Systematic A/S vokset til et internationalt softwarehus med over 1000 kollegaer med 27 forskellige nationaliteter, fordelt på kontorer i 11 lande og med kunder verden over. Vores mål er enkelt: At forbedre verden med exceptionel software. Vi leverer software og systemløsninger til kunder inden for den offentlige sektor, sundhedssektoren, forsvaret, politiet, finanssektoren og serviceerhverv, og der er over 1.000.000 brugere rundt om i verden. Vi arbejder på et fundament af tillid, hvor vi har frihed og ansvar til at træffe beslutninger i vores hverdag. Vi brænder for at gøre en forskel, og vi tør udfordre teknologien, hinanden og os selv. Som nyansat i Systematic bliver du budt velkommen af hjælpsomme kolleger, og du kan se frem til både mentorordning og al den støtte, du har brug for. Det er sammen, vi kan udvikle og indfri dit potentiale og gøre Systematic endnu bedre. \\xa0FÅ ET GLIMT AF LIVET I SYSTEMATIC\\xa0FÅ MERE AT VIDE OM OSLeveret af     Relateret indhold        I Systematic tror vi på, at godt teamwork er fundamentet for at udvikle it-løsninger, der skaber værdi for vores kunder         Vi har et motto, der siger  Det er bedre at uddanne folk og risikere at de rejser, end ikke at gøre noget og de bliver .         Systematic Defence har leveret software og ydelser af høj kvalitet til forsvarssektoren siden 1985.           Healthcare                   Intelligence & National Security                Defence                      Digitalisation                Library & Learning                                  Systematic                  FOLLOW US                                                           Oprindelig tekstForeslå en bedre oversættelse ']\n",
            " ['95540.txt' 95540 '2018-07-08 03:08:30' 'Web & App Koordinator'\n",
            "  'storkoebenhavn'\n",
            "  '               ...eller  |                                                                                                                             Følg virksomheder som du vil være en del af    Når du følger virksomheden så vil du modtage relevant information fra virksomheden angående job i virksomheden. Virksomheden kan se dine personlige data som navn, adresse mm. Derved er du synlig når virksomheden skal rekruttere nye medarbejdere.               Web & App Koordinator    Brænder du for at følge med i sidste nyt\\xa0omkring digital udvikling, trends, gadgets mm? Og vil du være med til drive\\xa0videreudviklingen\\xa0af\\xa0en af danskernes foretrukne apps? Du har ikke nødvendigvis mange års erfaring, men du er talentfuld og et energibundt med et godt øje for kundeoplevelsen og de digitale muligheder. Du bliver en del af et erfarent team, hvor du skal bistå med alt fra idegenerering, kravspecificering, leverandørstyring og test til release. \\xa0 Rejseplanen har kickstartet en spændende, strategisk udviklingsrejse, hvor dagene sjældent er ens. Rejseplanen, der har mere end 1 mio. daglige visninger af rejser til kunderne, er digital frontløber, når det drejer sig om at gøre det nemt, hurtigt og smart at rejse med den kollektive trafik i Danmark. Det er planen, at flere nye mobilitetsformer som fx\\xa0bybiler, delebiler, indenrigsfly, samkørsel, taxa og bycykler skal være en del af Rejseplanen. Vi tilbyder Et selvstændigt job med\\xa0ansvar for at drive udviklingsprojekter, optimeringer og fejlretninger af vores app og website i tæt samarbejde med vores produkt manager og eksterne udviklingsleverandører. Din rolle bliver at afstemme behov for ændringer og koordinere\\xa0opgaveløsningen med eksterne leverandører. Jobbet stiller krav til din\\xa0digitale forståelse og evner til at kravspecificere, koordinere, teste og følge op. Du får stor indflydelse på den fremtidige retning for området. Gode ansættelsesvilkår i en professionel og teambaseret virksomhed på Vesterbrogade i København med dygtige kolleger, der alle brænder for at levere gode løsninger til kunder, der skal fra A til B med kollektive trafik og øvrige mobilitetsformer. Om Stilingen Dit arbejde vil bestå af varierende opgaver som:  Løbende optimeringer af websites og apps Visualisere ændringsforslag og afstemme med interessenter Markedsanalyse og rapportering om findings mht. hvad andre digitale aktører gør Koordinere udvikling af ændringer, teste og release Fejlhåndtering (vurdering, prioritering og koordination af indsats med vores leverandører)  Om dig Vi forventer, at du har en relevant digital uddannelse som fx\\xa0multimediedesigner, webudvikler eller datamatiker og et par års praktisk erfaring fra bureau eller digital marketing afdeling.\\xa0  Erfaring med frontend design af apps/websites Kreativ og konstruktiv - kommer proaktivt med forslag til forbedringer af app/website Følger med i den digitale udvikling, trends, gadgets, do s and don ts Udadvendt – god kommunikator på dansk og engelsk Tager selvstændigt\\xa0ansvar og ejerskab for dine opgaver Godt overblik og styr på detaljer Løsningsorienteret, eksekverende/afsluttende (sikrer fremdrift)  Ansøgning og kontakt Hvis du vil med ombord hos Rejseplanen, så send os gerne din ansøgning og dit CV snarest muligt. Vi behandler ansøgningerne løbende, og vi lukker processen, når vi har fundet de rigtige kandidater. Så jo før du søger, jo bedre er dine muligheder. Vil du vide mere om stillingen, så kan du kontakte Michael Kock fra EasySearch ApS, som står for rekrutteringen, på tel. 42 78 42 78 eller mko@easysearch.dk.\\xa0Tiltrædelse snarest muligt efter sommerferien. Om os Rejseplanen A/S samler data og viser køreplaner, realtid og priser for alle rejser i den kollektive trafik. Rejseplanen har mere end 1 mio. daglige visninger af rejser til kunderne. Rejseplanens app er den fjerde mest populære app i Danmark, hvilket gør Rejseplanen til digital frontløber, når det drejer sig om at gøre det nemt, hurtigt og smart at rejse med den kollektive trafik i Danmark. Rejseplanens åbne data anvendes af 500 virksomheder og organisationer, herunder Google, Apple og kinesiske Baidu. Rejseplanen har netop kickstartet en strategisk udviklingsrejse, der peger flere år ud i fremtiden. Over de næste par år skal bybiler, delebiler, indenrigsfly, samkørsel, taxa, bycykler og andre mobilitetsformer integreres digitalt i Rejseplanen og indgå i rejseforslaget sammen med den kollektive trafik: bus, tog, metro, S-tog, letbane og færger.   Antal ledige stillinger:  1           Lignende jobannoncer        Vigtige datoer  Offentliggjort den:  6.\\xa0juli\\xa02018   Sidste dag annoncen er aktiv:  31.\\xa0august\\xa02018   Ansøgningsfrist:  31.\\xa0august\\xa02018   Ansættelsesdato:  Snarest muligt   Virksomheden tilbyder  Ansættelsesform:\\xa0  Fastansættelse   Ugentlig arbejdstid:\\xa0  Heltid  Vilkår:\\xa0  Almindeligt job  Kontaktpersoner  Konsulent  Michael Kock  Hovednummer: 42784278 Arbejde direkte: 42784278 Mobil: 42784278   Arbejdsgiver  EasySearch ApS  Strandesplanaden 110 2665 Vallensbæk Strand   (Arbejdspladsen ligger i København)   Ansøgning  Søg via   Annonce ID  4851401             Indrykket\\xa06.\\xa0juli             Følg virksomheder som du vil være en del af    Når du følger virksomheden så vil du modtage relevant information fra virksomheden angående job i virksomheden. Virksomheden kan se dine personlige data som navn, adresse mm. Derved er du synlig når virksomheden skal rekruttere nye medarbejdere.                    Jobindex A/S  Holger Danskes Vej 91  2000 Frederiksberg  Tlf.   CVR-nr. 21367087           Info              Se Jobindex i:      Besøg også:                             ']]\n"
          ]
        }
      ],
      "source": [
        "df.rename(columns = {'Rest':'JobAdText'}, inplace = True)\n",
        "# show the data\n",
        "print ( df .describe( include = 'all' ))\n",
        "#the describe is a great way to get an overview of the data\n",
        "print ( df .values)"
      ]
    },
    {
      "cell_type": "code",
      "execution_count": 6,
      "id": "7911bfb9",
      "metadata": {
        "colab": {
          "base_uri": "https://localhost:8080/"
        },
        "id": "7911bfb9",
        "outputId": "b67bfd49-c0ce-495e-a87e-9cf2dba1ba38"
      },
      "outputs": [
        {
          "output_type": "stream",
          "name": "stdout",
          "text": [
            "                  ID                                          JobAdText\n",
            "count   2.960000e+02                                                296\n",
            "unique           NaN                                                295\n",
            "top              NaN                     Menu      Søg              ...\n",
            "freq             NaN                                                  2\n",
            "mean    1.053727e+06                                                NaN\n",
            "std     5.156326e+05                                                NaN\n",
            "min     7.153000e+03                                                NaN\n",
            "25%     6.856040e+05                                                NaN\n",
            "50%     1.080747e+06                                                NaN\n",
            "75%     1.446393e+06                                                NaN\n",
            "max     1.960349e+06                                                NaN\n"
          ]
        }
      ],
      "source": [
        "df.drop('Source.Name' , axis = 1 , inplace = True )\n",
        "df.drop('Date time' , axis = 1 , inplace = True )\n",
        "df.drop('Details' , axis = 1 , inplace = True )\n",
        "df.drop('Region' , axis = 1 , inplace = True )\n",
        "\n",
        "# show the data\n",
        "print ( df.describe( include = 'all' ))"
      ]
    },
    {
      "cell_type": "code",
      "execution_count": 7,
      "id": "5a892ea2",
      "metadata": {
        "colab": {
          "base_uri": "https://localhost:8080/"
        },
        "id": "5a892ea2",
        "outputId": "52fc6002-46fc-46e5-ac0f-aa6a794ebf27"
      },
      "outputs": [
        {
          "output_type": "stream",
          "name": "stdout",
          "text": [
            "                                               ...\n",
            "                                               ...\n",
            "               ...eller  |                     ...\n",
            "                                               ...\n",
            "               ...eller  |                     ...\n",
            "                                               ...\n",
            "                                               ...\n",
            "Your files are currently being uploaded, this m...\n",
            "                                               ...\n",
            "                                               ...\n",
            "           Din aktuelle tilstand: Sælg ikke min...\n",
            "                Multimediedesigner Praktikant R...\n",
            "                                               ...\n",
            "                                   Log ind     ...\n",
            "             Digital marketeer  Zealand Care A/...\n",
            "                                               ...\n",
            "                Frontend Developer Intern Wedio...\n",
            "                                               ...\n",
            "                 Udskriv annonce          Video...\n",
            "                                               ...\n",
            "        Uddannelseschef til KEA DigitalPå KEA u...\n",
            "             Genopslag - Skarp multimediedesign...\n",
            "                                               ...\n",
            "          Log ind                              ...\n",
            "          Jobsøgende                   Seneste ...\n",
            "               ...eller  |                     ...\n",
            "          Jobsøgende                   Seneste ...\n",
            "          Din aktuelle tilstand: Sælg ikke mine...\n",
            "          Jobsøgende                   Seneste ...\n",
            "                                               ...\n",
            "          Jobsøgende                   Seneste ...\n",
            "                                               ...\n",
            "Du kan altid ændre dit samtykke ved at klikke p...\n",
            "     Vis detaljer Skjul detaljer     .         ...\n",
            "                                               ...\n",
            "                                               ...\n",
            "            UX-haj med et holistisk mind-set SE...\n",
            "               ...eller  |                     ...\n",
            "          Jobsøgende                   Seneste ...\n",
            "                                        Grafike...\n",
            "                                               ...\n",
            "                                               ...\n",
            "                 Udskriv annonce          Adobe...\n",
            "                3D/2D graphic artist for Unity ...\n",
            "          Log ind                  Opret karrie...\n",
            "                                               ...\n",
            "                                               ...\n",
            "                                               ...\n",
            "                    Udskriv annonce          St...\n",
            "               ...eller  |                     ...\n",
            "       Erhvervsakademi SydVest er lukket indtil...\n",
            "                                               ...\n",
            "                 Udskriv annonce          Stude...\n",
            "Grafisk designer til Colliers, København eller ...\n",
            "                                               ...\n",
            "                                               ...\n",
            "         Jobsøgende  /        |                ...\n",
            "     powered by:    Du bestemmer over dine data...\n",
            "                                               ...\n",
            "             Grafisk Designer  X-Mile       Vi ...\n",
            "          Jobsøgende                   Seneste ...\n",
            "                                               ...\n",
            "          Jobsøgende                   Seneste ...\n",
            "              Junior SoMe Coordinator (Student ...\n",
            "                                               ...\n",
            "     Vis detaljer Skjul detaljer     .         ...\n",
            "             Digital marketingkoordinator med g...\n",
            "                                               ...\n",
            "                                               ...\n",
            "                                               ...\n",
            "               ...eller  |                     ...\n",
            "                                               ...\n",
            "                                               ...\n",
            "                                               ...\n",
            "          Jobsøgende                   Seneste ...\n",
            "                                               ...\n",
            "          Jobsøgende   /        |              ...\n",
            "                                               ...\n",
            "                                               ...\n",
            "          Jobsøgende                   Seneste ...\n",
            "          Jobsøgende                   Seneste ...\n",
            "                      Selskab:Arkil Holding A/S...\n",
            "                                               ...\n",
            "                                            Web...\n",
            "                                               ...\n",
            "                 Udskriv annonce          SoMe-...\n",
            "          Jobsøgende                   Seneste ...\n",
            "  GRAFISK DESIGN-PRAKTIKANT TIL MEYERS     Drøm...\n",
            "          Log ind                  Opret karrie...\n",
            "                                               ...\n",
            "               ...eller  |                     ...\n",
            "          Jobsøgende                   Seneste ...\n",
            "Du kan altid ændre dit samtykke ved at klikke p...\n",
            "                                               ...\n",
            "                                               ...\n",
            "               ...eller  |                     ...\n",
            "        Adjunkt/lektor søges til multimediedesi...\n",
            "             Marketingkoordinator  DANA - Arbej...\n",
            "                 Udskriv annonce          Marke...\n",
            "          Jobsøgende                   Seneste ...\n",
            "          Jobsøgende   /        |              ...\n",
            "               ...eller  |                     ...\n",
            "                                               ...\n",
            "          Jobsøgende                   Seneste ...\n",
            "          Jobsøgende                   Seneste ...\n",
            "                                               ...\n",
            "        Innovativ frontend-udvikler til multime...\n",
            "                                               ...\n",
            "                                               ...\n",
            "                                               ...\n",
            "                                               ...\n",
            "          Jobsøgende                   Seneste ...\n",
            "                                               ...\n",
            "                                               ...\n",
            "                                               ...\n",
            "                                               ...\n",
            "                                               ...\n",
            "                                               ...\n",
            "          Jobsøgende                   Seneste ...\n",
            "                                               ...\n",
            "                                      Digital k...\n",
            "                                               ...\n",
            "                                               ...\n",
            "                                               ...\n",
            "  COOKIE INFORMATION  og                       ...\n",
            "Junior multimediedesigner - deltid/studenterjob...\n",
            "          Jobsøgende                   Seneste ...\n",
            "                                               ...\n",
            "                      Bonnier søger multimedied...\n",
            "                                               ...\n",
            "                             Medarbejder  Kandi...\n",
            "              Udskriv annonce          Telesels...\n",
            "                                               ...\n",
            "              GRAFISK DESIGNER TIL INTERNATIONA...\n",
            "                                               ...\n",
            "                UX Researcher Memorix     Salar...\n",
            "              Multimediedesigner       Salary U...\n",
            "                                               ...\n",
            "               ...eller  |                     ...\n",
            "               ...eller  |                     ...\n",
            "        Job hos BR OffsetVil du være en del af ...\n",
            "                                               ...\n",
            "              SOME-praktikant       Salary Unpa...\n",
            "                                               ...\n",
            "                                               ...\n",
            "                                               ...\n",
            "          Jobsøgende                   Seneste ...\n",
            "                                               ...\n",
            "                         Institutter & Centre  ...\n",
            "          Jobsøgende                   Seneste ...\n",
            "               ...eller  |                     ...\n",
            "                                               ...\n",
            "                                               ...\n",
            "                   Menu      Søg               ...\n",
            "                                               ...\n",
            "                                               ...\n",
            "                                               ...\n",
            "                Front-end developer IGENTA     ...\n",
            "             SoMe ansvarlig     home Kolding - ...\n",
            "                                               ...\n",
            "                  Log ind                      ...\n",
            "                                               ...\n",
            "                                               ...\n",
            "     powered by:                 powered by:   ...\n",
            "                                               ...\n",
            "             Marketingassistent til e-commerce ...\n",
            "                                               ...\n",
            "                                               ...\n",
            "               ...eller  |                     ...\n",
            "                                               ...\n",
            "                                               ...\n",
            "                                               ...\n",
            "                                               ...\n",
            "          Jobsøgende                   Seneste ...\n",
            "           Log ind                             ...\n",
            "                                               ...\n",
            "                                               ...\n",
            "      CORONA, COVID-19 I Curia følger vi selvfø...\n",
            "               ...eller  |                     ...\n",
            "               ...eller  |                     ...\n",
            "                 Udskriv annonce          avXpe...\n",
            "               ...eller  |                     ...\n",
            "        WebmasterAarhus Publiceret 23. oktober ...\n",
            "                                               ...\n",
            "                   Menu      Søg               ...\n",
            "                                               ...\n",
            "Du kan altid ændre dit samtykke ved at klikke p...\n",
            "          Jobsøgende                   Seneste ...\n",
            "          Jobsøgende   /        |              ...\n",
            "                                               ...\n",
            "Your files are currently being uploaded, this m...\n",
            "               ...eller  |                     ...\n",
            "          Jobsøgende                   Seneste ...\n",
            "                                               ...\n",
            "          Jobsøgende                   Seneste ...\n",
            "                                               ...\n",
            "                             Medarbejder  Kandi...\n",
            "                                               ...\n",
            "                                               ...\n",
            "               ...eller  |                     ...\n",
            "          Jobsøgende                   Seneste ...\n",
            "Få mere at vide om, hvem vi er, hvordan du kan ...\n",
            "                                               ...\n",
            "                                               ...\n",
            "                                               ...\n",
            "                                               ...\n",
            "             Content- og grafisk medarbejder ti...\n",
            "               ...eller  |                     ...\n",
            "               ...eller  |                     ...\n",
            "          Jobsøgende                   Seneste ...\n",
            "                                              B...\n",
            "          Jobsøgende                   Seneste ...\n",
            "                                               ...\n",
            "                 Udskriv annonce          Stude...\n",
            "                                               ...\n",
            "                                     GRAPHIC HO...\n",
            "                                               ...\n",
            "          Jobsøgende                   Seneste ...\n",
            "          Log ind                              ...\n",
            "                                               ...\n",
            "              Multimedie/Grafisk Design praktik...\n",
            "          Jobsøgende                   Seneste ...\n",
            "          Jobsøgende                   Seneste ...\n",
            "               ...eller  |                     ...\n",
            "                   Menu      Søg               ...\n",
            "             Digital koordinator hos KIA (Barse...\n",
            "             AspIT Storkøbenhavn søger ny kolle...\n",
            "                                               ...\n",
            "                Her er koncernen Bonnier Public...\n",
            "                                               ...\n",
            "           Digital Marketing Koordinator til Me...\n",
            "          Jobsøgende   /        |              ...\n",
            "                                            Stu...\n",
            "                Creative Craft Executive: (2 Po...\n",
            "                                               ...\n",
            "               ...eller  |                     ...\n",
            "                    Mediegrafiker/Multimediedes...\n",
            "               ...eller  |                     ...\n",
            "               ...eller  |                     ...\n",
            "                CNC Technical Director CRETVO  ...\n",
            "                                               ...\n",
            "                                               ...\n",
            "             Digital marketingkoordinator  Zeal...\n",
            "                                               ...\n",
            "                                               ...\n",
            "                                               ...\n",
            "          Jobsøgende                   Seneste ...\n",
            "             Marketingassistent med grafiske ev...\n",
            "         Jobsøgende  /        |                ...\n",
            "          Jobsøgende                   Seneste ...\n",
            "                                             {1...\n",
            "          Jobsøgende                   Seneste ...\n",
            "                                               ...\n",
            "                                               ...\n",
            "              Frontend-udvikler til fintech, de...\n",
            "          Jobsøgende                   Seneste ...\n",
            "                                               ...\n",
            "            Web- og multimediedesigner - Prakti...\n",
            "          Jobsøgende                   Seneste ...\n",
            "                                               ...\n",
            "               ...eller  |                     ...\n",
            "          Jobsøgende                   Seneste ...\n",
            "                                            Stu...\n",
            "     Du bestemmer over dine data   Funktionalit...\n",
            "          Jobsøgende                   Seneste ...\n",
            "                                               ...\n",
            "                                               ...\n",
            "          Jobsøgende                   Seneste ...\n",
            "          Jobsøgende                   Seneste ...\n",
            "                                               ...\n",
            "                   Menu      Søg               ...\n",
            "                                               ...\n",
            "          Jobsøgende                   Seneste ...\n",
            "              Udskriv annonce          Studiejo...\n",
            "                                               ...\n",
            "                                           Mult...\n",
            "    Engageret og kreativ digital ninjasøges til...\n",
            "                                               ...\n",
            "                                               ...\n",
            "                                               ...\n",
            "                                               ...\n",
            "                                               ...\n",
            "                                               ...\n",
            "                                               ...\n",
            "                                               ...\n",
            "         Jobsøgende  /        |                ...\n",
            "Få mere at vide om, hvem vi er, hvordan du kan ...\n",
            "             Studiemedhjælper til marketing  Da...\n",
            "                                               ...\n",
            "               ...eller  |                     ...\n",
            "          Log ind                              ...\n",
            "               ...eller  |                     ...\n",
            "                                          Stude...\n",
            "                Praktikant i Multimedia design ...\n",
            "          Webmaster til vores nye websiteVil du...\n",
            "               ...eller  |                     ...\n"
          ]
        }
      ],
      "source": [
        "print(df['JobAdText'].to_string(index=False))"
      ]
    },
    {
      "cell_type": "code",
      "execution_count": 8,
      "id": "648822f0",
      "metadata": {
        "colab": {
          "base_uri": "https://localhost:8080/"
        },
        "id": "648822f0",
        "outputId": "1e52e22b-5755-4aac-f6a4-3945b514d475"
      },
      "outputs": [
        {
          "output_type": "stream",
          "name": "stdout",
          "text": [
            "0                                                    ...\n",
            "1                                                    ...\n",
            "2                     ...eller  |                    ...\n",
            "3                                                    ...\n",
            "4                     ...eller  |                    ...\n",
            "                             ...                        \n",
            "291                   ...eller  |                    ...\n",
            "292                                              Stud...\n",
            "293                    Praktikant i Multimedia design...\n",
            "294              Webmaster til vores nye websiteVil d...\n",
            "295                   ...eller  |                    ...\n",
            "Name: JobAdText, Length: 296, dtype: object\n"
          ]
        }
      ],
      "source": [
        "df['JobAdText'] = df['JobAdText'].apply(str)\n",
        "\n",
        "for column in df.columns[1:]:\n",
        "    print(df[column])"
      ]
    },
    {
      "cell_type": "code",
      "execution_count": 9,
      "id": "1e0b3490",
      "metadata": {
        "id": "1e0b3490"
      },
      "outputs": [],
      "source": [
        "# Could find sentences with regular expressions, SpaCy etc.\n",
        "# (But) Using nltk here."
      ]
    },
    {
      "cell_type": "code",
      "source": [
        "from nltk import tokenize"
      ],
      "metadata": {
        "id": "fdn4C1DTN-Ca"
      },
      "id": "fdn4C1DTN-Ca",
      "execution_count": 10,
      "outputs": []
    },
    {
      "cell_type": "code",
      "source": [
        "import nltk\n",
        "nltk.download('punkt')"
      ],
      "metadata": {
        "colab": {
          "base_uri": "https://localhost:8080/"
        },
        "id": "FN4jkD0sMohc",
        "outputId": "6334eda3-f67b-4dad-d292-dabc3c771ce3"
      },
      "id": "FN4jkD0sMohc",
      "execution_count": 11,
      "outputs": [
        {
          "output_type": "stream",
          "name": "stderr",
          "text": [
            "[nltk_data] Downloading package punkt to /root/nltk_data...\n",
            "[nltk_data]   Package punkt is already up-to-date!\n"
          ]
        },
        {
          "output_type": "execute_result",
          "data": {
            "text/plain": [
              "True"
            ]
          },
          "metadata": {},
          "execution_count": 11
        }
      ]
    },
    {
      "cell_type": "code",
      "execution_count": 12,
      "id": "a8186500",
      "metadata": {
        "id": "a8186500"
      },
      "outputs": [],
      "source": [
        "nb_personal_qualifications = 0\n",
        "nb_understanding_qualifications = 0\n",
        "nb_analyze_qualifications = 0\n",
        "nb_evaluation_qualifications = 0\n",
        "nb_create_qualifications = 0\n",
        "nb_technical_qualifications = 0\n",
        "\n",
        "# For start, only look at 1 row\n",
        "for row in df.head(1).itertuples():\n",
        "    AdText = row.JobAdText\n",
        "\n",
        "    Sentences = tokenize.sent_tokenize(AdText)\n",
        "\n",
        "    # ToDO - This must read from Excel file\n",
        "    nb_personal_qualifications = 1\n",
        "    nb_understanding_qualifications = 1\n",
        "    nb_analyze_qualifications = 0\n",
        "    nb_evaluation_qualifications = 0\n",
        "    nb_create_qualifications = 1\n",
        "    nb_technical_qualifications = 0"
      ]
    },
    {
      "cell_type": "code",
      "execution_count": 13,
      "id": "7c4f8bec",
      "metadata": {
        "colab": {
          "base_uri": "https://localhost:8080/"
        },
        "id": "7c4f8bec",
        "outputId": "92e21e89-5e6b-4f0d-817b-3db2e9acc68d"
      },
      "outputs": [
        {
          "output_type": "stream",
          "name": "stdout",
          "text": [
            "['                                                                                                                                                                                                                                                                              Digital Marketing Koordinator  A/S Vestfrost  Esbjerg  Indrykket\\xa029.\\xa0oktober\\xa02021    Vil du være med til at opbygge et marketingsunivers for en mellemstor B2B-virksomhed?', 'I en nyoprettet stilling får du i høj grad mulighed for at sætte dit præg på, hvordan Vestfrost opfattes af kunder og partnere gennem udarbejdelsen af virksomhedens marketingmateriale.', 'Så brænder du for online marketing?', 'Kan du skabe digitale kampagner med målbar effekt og konverteringer?', 'Har du flair for at arbejde med content og sociale medier?', 'Så har vi jobbet til dig!', 'Du skal være med til at løfte vores digitale salgs- og marketingaktiviteter for vores forskellige brands, samt tiltrække nye kunder.', 'Dine primære opgaver vil være:  Udbygge og vedligeholde content på Vestfrost-hjemmesiden Content til SoMe Opdatering og vedligeholdelse af datablade samt brochure Content til cases Relevant markedsføringsmateriale såsom billede, video, messemateriale m.m.', 'Med en ny og moderniseret hjemmeside føler vi, at alt vores content på hjemmesiden, samt fysisk materiale også skal følge med.', 'Vi forventer, at du:  Har en relevant professionsbachelor i e-handel, er multimediedesigner, markedsføringsøkonom eller grafisk uddannet Har erfaring i brug af InDesign, Illustrator og Photoshop Har gode kommunikationsevner Kan arbejde selvmotiverende Er fejlfri på skriftlig dansk og engelsk Erfaring med SEO.', 'Det er ikke et krav, men en fordel   Til koncernfunktionen i Esbjerg søger A/S Vestfrost en dygtig og serviceminded Digital Marketing Koordinator.', 'Du vil indgå i vores salgsafdeling med i alt 14 ansatte.', 'Vi tilbyder:  Ansættelse i en innovativ virksomhed Et spændende og varieret job i en 100 % danskejet international vækstvirksomhed En uhøjtidelig og uformel organisation med stor frihed under ansvar Gode personaleforhold   Tiltrædelse: Efter aftale.', 'Kontakt:  Har du uddybende spørgsmål til ovenstående, er du velkommen til at kontakte Jessica Ortiz Rosenkilde på  eller på telefon 7914 2272.', 'Er stillingen noget for dig, så send din ansøgning via nedenstående link \"Søg jobbet online\".', 'Vi holder løbende samtaler med relevante kandidater.', 'A/S Vestfrost er en danskejet virksomhed.', 'Med udgangspunkt i stor knowhow omkring køl og frys sælges værdiskabende B2B-løsninger internationalt til forretningsområderne: Bio Medical, Cold Chain Equipment, Merchandising & Wine.', 'Virksomheden er førende inden for innovative, kundespecifikke løsninger samt energi- og miljøoptimeret køleudstyr.', 'A/S Vestfrost, som har hovedkontor i Esbjerg, omsætter i dag for knap kr.', '500 millioner og har 500 ansatte, heraf mere end halvdelen i den 100 % ejede dattervirksomhed Vestfrost Zrt.', 'i Ungarn.', '13 evalueringer  Jobannoncer                Vil du også følge virksomheden?', 'Vil du følge virksomheden?', 'Når du følger en virksomhed, får du tilsendt opdateringer om nye stillinger, nyheder og anden relevant information.', 'Virksomheden får adgang til dine personlige oplysninger samt CV, så de kan kontakte dig, hvis de i fremtiden har et job, der matcher dine kompetencer.', 'Du giver også virksomheden mulighed for at kontakte dig, hvis de i fremtiden har et job, der matcher dine kompetencer.', 'Det er en god idé, at du opretter et CV, så virksomheden let og med det samme får en god forståelse af dig og din profil.', 'Det er en god idé, at du sætter dit CV online, så virksomheden let og med det samme får en god forståelse af dig og din profil.', 'Det er en god idé, at du opdaterer dit CV, så virksomheden let og med det samme får en god forståelse af dig og din profil.', 'Vil du vise interesse for dette job?', 'Det er en god idé, at du opretter et CV, så virksomheden let og med det samme får en god forståelse af dig og din profil.', 'Det er en god idé, at du sætter dit CV online, så virksomheden let og med det samme får en god forståelse af dig og din profil.', 'Det er en god idé, at du opdaterer dit CV, så virksomheden let og med det samme får en god forståelse af dig og din profil.', 'Vis interesse for job    For at vise interesse skal du have et online CV.', 'Klik på knappen nedenfor og opret dit CV - det tager kun 5 minutter.', 'For at vise interesse skal du have et online CV.', 'Klik på knappen nedenfor og sæt dit CV online.', 'Læs mere om interessevisning .', 'For jobsøgere           For arbejdsgivere           Om Jobindex          Modtag nyheder     Hent job-apps     Følg os             Jobindex A/S, Carl Jacobsens Vej 29-31, 2500 Valby, Tlf.', ', CVR-nr.', '21367087       ()                         Ansvarlig brug af dine oplysninger']\n"
          ]
        }
      ],
      "source": [
        "print(Sentences)"
      ]
    },
    {
      "cell_type": "code",
      "source": [
        "!pip install sentence-transformers"
      ],
      "metadata": {
        "colab": {
          "base_uri": "https://localhost:8080/"
        },
        "id": "2rNwipZURe7g",
        "outputId": "974b1b61-c790-4423-d615-343ba017f240"
      },
      "id": "2rNwipZURe7g",
      "execution_count": 14,
      "outputs": [
        {
          "output_type": "stream",
          "name": "stdout",
          "text": [
            "Looking in indexes: https://pypi.org/simple, https://us-python.pkg.dev/colab-wheels/public/simple/\n",
            "Requirement already satisfied: sentence-transformers in /usr/local/lib/python3.8/dist-packages (2.2.2)\n",
            "Requirement already satisfied: numpy in /usr/local/lib/python3.8/dist-packages (from sentence-transformers) (1.21.6)\n",
            "Requirement already satisfied: sentencepiece in /usr/local/lib/python3.8/dist-packages (from sentence-transformers) (0.1.97)\n",
            "Requirement already satisfied: scipy in /usr/local/lib/python3.8/dist-packages (from sentence-transformers) (1.7.3)\n",
            "Requirement already satisfied: scikit-learn in /usr/local/lib/python3.8/dist-packages (from sentence-transformers) (1.0.2)\n",
            "Requirement already satisfied: torchvision in /usr/local/lib/python3.8/dist-packages (from sentence-transformers) (0.14.0+cu116)\n",
            "Requirement already satisfied: torch>=1.6.0 in /usr/local/lib/python3.8/dist-packages (from sentence-transformers) (1.13.0+cu116)\n",
            "Requirement already satisfied: tqdm in /usr/local/lib/python3.8/dist-packages (from sentence-transformers) (4.64.1)\n",
            "Requirement already satisfied: huggingface-hub>=0.4.0 in /usr/local/lib/python3.8/dist-packages (from sentence-transformers) (0.11.1)\n",
            "Requirement already satisfied: transformers<5.0.0,>=4.6.0 in /usr/local/lib/python3.8/dist-packages (from sentence-transformers) (4.25.1)\n",
            "Requirement already satisfied: nltk in /usr/local/lib/python3.8/dist-packages (from sentence-transformers) (3.7)\n",
            "Requirement already satisfied: packaging>=20.9 in /usr/local/lib/python3.8/dist-packages (from huggingface-hub>=0.4.0->sentence-transformers) (21.3)\n",
            "Requirement already satisfied: filelock in /usr/local/lib/python3.8/dist-packages (from huggingface-hub>=0.4.0->sentence-transformers) (3.8.2)\n",
            "Requirement already satisfied: requests in /usr/local/lib/python3.8/dist-packages (from huggingface-hub>=0.4.0->sentence-transformers) (2.23.0)\n",
            "Requirement already satisfied: pyyaml>=5.1 in /usr/local/lib/python3.8/dist-packages (from huggingface-hub>=0.4.0->sentence-transformers) (6.0)\n",
            "Requirement already satisfied: typing-extensions>=3.7.4.3 in /usr/local/lib/python3.8/dist-packages (from huggingface-hub>=0.4.0->sentence-transformers) (4.4.0)\n",
            "Requirement already satisfied: pyparsing!=3.0.5,>=2.0.2 in /usr/local/lib/python3.8/dist-packages (from packaging>=20.9->huggingface-hub>=0.4.0->sentence-transformers) (3.0.9)\n",
            "Requirement already satisfied: tokenizers!=0.11.3,<0.14,>=0.11.1 in /usr/local/lib/python3.8/dist-packages (from transformers<5.0.0,>=4.6.0->sentence-transformers) (0.13.2)\n",
            "Requirement already satisfied: regex!=2019.12.17 in /usr/local/lib/python3.8/dist-packages (from transformers<5.0.0,>=4.6.0->sentence-transformers) (2022.6.2)\n",
            "Requirement already satisfied: click in /usr/local/lib/python3.8/dist-packages (from nltk->sentence-transformers) (7.1.2)\n",
            "Requirement already satisfied: joblib in /usr/local/lib/python3.8/dist-packages (from nltk->sentence-transformers) (1.2.0)\n",
            "Requirement already satisfied: urllib3!=1.25.0,!=1.25.1,<1.26,>=1.21.1 in /usr/local/lib/python3.8/dist-packages (from requests->huggingface-hub>=0.4.0->sentence-transformers) (1.24.3)\n",
            "Requirement already satisfied: idna<3,>=2.5 in /usr/local/lib/python3.8/dist-packages (from requests->huggingface-hub>=0.4.0->sentence-transformers) (2.10)\n",
            "Requirement already satisfied: chardet<4,>=3.0.2 in /usr/local/lib/python3.8/dist-packages (from requests->huggingface-hub>=0.4.0->sentence-transformers) (3.0.4)\n",
            "Requirement already satisfied: certifi>=2017.4.17 in /usr/local/lib/python3.8/dist-packages (from requests->huggingface-hub>=0.4.0->sentence-transformers) (2022.12.7)\n",
            "Requirement already satisfied: threadpoolctl>=2.0.0 in /usr/local/lib/python3.8/dist-packages (from scikit-learn->sentence-transformers) (3.1.0)\n",
            "Requirement already satisfied: pillow!=8.3.*,>=5.3.0 in /usr/local/lib/python3.8/dist-packages (from torchvision->sentence-transformers) (7.1.2)\n"
          ]
        }
      ]
    },
    {
      "cell_type": "code",
      "source": [
        "from sentence_transformers import SentenceTransformer, util"
      ],
      "metadata": {
        "id": "RC2s-G-3RsOF"
      },
      "id": "RC2s-G-3RsOF",
      "execution_count": 15,
      "outputs": []
    },
    {
      "cell_type": "code",
      "source": [
        "# https://huggingface.co/sentence-transformers/multi-qa-MiniLM-L6-cos-v1\n",
        "\n",
        "model = SentenceTransformer('multi-qa-MiniLM-L6-cos-v1')"
      ],
      "metadata": {
        "id": "dX5XUXV_SNaH"
      },
      "id": "dX5XUXV_SNaH",
      "execution_count": 16,
      "outputs": []
    },
    {
      "cell_type": "code",
      "source": [
        "import numpy as np"
      ],
      "metadata": {
        "id": "X8y5jTidbtrq"
      },
      "id": "X8y5jTidbtrq",
      "execution_count": 17,
      "outputs": []
    },
    {
      "cell_type": "code",
      "source": [
        "def FindkHighestkNumbers(scores, k):\n",
        "    return (-scores).argsort()[:k]"
      ],
      "metadata": {
        "id": "aGGTKIGQccdl"
      },
      "id": "aGGTKIGQccdl",
      "execution_count": 18,
      "outputs": []
    },
    {
      "cell_type": "code",
      "source": [
        "def FindMostSimilarSentences(Corpus, LookupSentence):\n",
        "    # encode corpus to get corpus embeddings\n",
        "    corpus_embeddings = model.encode(Corpus, convert_to_tensor=True)\n",
        "    # encode sentence to get sentence embeddings\n",
        "    sentence_embedding = model.encode(LookupSentence, convert_to_tensor=True)# top_k results to return\n",
        "    top_k=2# compute similarity scores of the sentence with the corpus\n",
        "    cos_scores = util.pytorch_cos_sim(sentence_embedding, corpus_embeddings)[0]# Sort the results in decreasing order and get the first top_k\n",
        "    # top_results = np.argpartition(-cos_scores, range(top_k))[0:top_k] #CPU\n",
        "    top_results= FindkHighestkNumbers(cos_scores,top_k) #GPU\n",
        "    print(\"\\n\", \"Sentence:\", LookupSentence, \"\\n\")\n",
        "    print(\"Top\", top_k, \"most similar sentences in corpus:\")\n",
        "    for idx in top_results[0:top_k]:\n",
        "       print(Corpus[idx], \"(Score: %.4f)\" % (cos_scores[idx]))\n",
        "\n",
        "    return top_results"
      ],
      "metadata": {
        "id": "VmKXtzY6-36Z"
      },
      "id": "VmKXtzY6-36Z",
      "execution_count": 19,
      "outputs": []
    },
    {
      "cell_type": "code",
      "source": [
        "def FindMostSimilarSentence(Corpus, LookupSentence):\n",
        "    # encode corpus to get corpus embeddings\n",
        "    corpus_embeddings = model.encode(Corpus, convert_to_tensor=True)\n",
        "    # encode sentence to get sentence embeddings\n",
        "    sentence_embedding = model.encode(LookupSentence, convert_to_tensor=True)# top_k results to return\n",
        "    top_k=1# compute similarity scores of the sentence with the corpus\n",
        "    cos_scores = util.pytorch_cos_sim(sentence_embedding, corpus_embeddings)[0]# Sort the results in decreasing order and get the first top_k\n",
        "    # top_results = np.argpartition(-cos_scores, range(top_k))[0:top_k] #CPU\n",
        "    top_results= FindkHighestkNumbers(cos_scores,top_k) #GPU\n",
        "\n",
        "    # print(\"\\n\", \"Sentence:\", LookupSentence, \"\\n\")\n",
        "    # print(\"Top\", top_k, \"most similar sentences in corpus:\")\n",
        "    best_result=0\n",
        "    for idx in top_results[0:top_k]:\n",
        "       #print(Corpus[idx], \"(Score: %.4f)\" % (cos_scores[idx]))\n",
        "       best_result= cos_scores[idx] \n",
        "\n",
        "    return Corpus[top_results[0]], best_result"
      ],
      "metadata": {
        "id": "2KSUT6cWh2WY"
      },
      "id": "2KSUT6cWh2WY",
      "execution_count": 20,
      "outputs": []
    },
    {
      "cell_type": "code",
      "source": [
        "target_sentence = \"Har gode kommunikationsevner\""
      ],
      "metadata": {
        "id": "7-7Z4palAEz0"
      },
      "id": "7-7Z4palAEz0",
      "execution_count": 21,
      "outputs": []
    },
    {
      "cell_type": "code",
      "source": [
        "# Test\n",
        "# FindMostSimilarSentences(Sentences, target_sentence) \n",
        "FindMostSimilarSentence(Sentences, target_sentence) "
      ],
      "metadata": {
        "colab": {
          "base_uri": "https://localhost:8080/"
        },
        "id": "5YOCW-iiAL8l",
        "outputId": "a3565415-58bf-4855-a408-93021b6714a7"
      },
      "id": "5YOCW-iiAL8l",
      "execution_count": 22,
      "outputs": [
        {
          "output_type": "execute_result",
          "data": {
            "text/plain": [
              "('Du giver også virksomheden mulighed for at kontakte dig, hvis de i fremtiden har et job, der matcher dine kompetencer.',\n",
              " tensor(0.4745, device='cuda:0'))"
            ]
          },
          "metadata": {},
          "execution_count": 22
        }
      ]
    },
    {
      "cell_type": "code",
      "source": [
        "personal_qualifications=['Har gode kommunikationsevner',\n",
        "'Kan arbejde selvmotiverende',\n",
        "'Du tager ansvar for dine projekter og følger altid dine opgaver til dørs',\n",
        "'Vi forventer, at du som person er selvledende, kreativ, fleksibel og indstillet på at arbejde i et travlt miljø.',\n",
        "'Du er nysgerrig, kritisk og løsningsorienteret - også når det bliver komplekst',\n",
        "'Du har drive, og passion for kvalitet',\n",
        "'Du er god til at tænke ud af boksen, er ambitiøst og kreativt tænkende',\n",
        "'er engageret, har god energi og er en god kollega',\n",
        "'Som person er du først og fremmest kreativ og du er god til at finde på nye løsninger',\n",
        "'Du er ansvarsfuld, selvstændig og har mod på at udvikle dig'\n",
        "'Være initiativrig og opsøgende',\n",
        "'Ivrig efter af lære Som person forestiller vi os, at du er engageret, kreativ og nysgerrig',\n",
        "'Du er god til at skabe relationer på tværs',\n",
        "'er selvstændig og grundig',\n",
        "'Du har flair for content',\n",
        "'Du er frisk, nede på jorden og klar på en god snak med dine kollegaer',\n",
        "'Du trives med rutineprægede opgaver, og bidrager med masser af godt humør',\n",
        "'Er optimist og ser muligheder fremfor begrænsninger',\n",
        "'Vi forestiller os, at du som person er kreativ, visuel og har god sans for detaljen.Vi forestiller os, at du som person er kreativ, visuel og har god sans for detaljen',\n",
        "'Som menneske er du udadvendt, opsøgende og pædagogisk',\n",
        "'Er kvalitetsbevidst og sætter en stolthed i at udføre et godt stykke arbejde',\n",
        "'Er detaljeorienteret og har en struktureret tilgang til dine arbejdsopgaver',\n",
        "'Er god til at tale med mennesker og sætte sig ind i deres behov',\n",
        "'Du er detaljeorienteret til mindste detalje og stortrives med en bred kontaktflade',\n",
        "'Du er struktureret og har høj selvdisciplin',\n",
        "'Du udviser en høj grad af uafhængighed, er proaktiv og selvstartende',\n",
        "'Vi søger en person, der er detaljeorienteret og analytisk stærk',\n",
        "'Du trives med at være opsøgende Du kan arbejde både selvstændigt og som del af et mindre team',\n",
        "'er ansvarlig, struktureret og målorienteret samt serviceminded, positiv og imødekommende',\n",
        "'Kreativ, nysgerrig, initiativrig og ikke bange for at spørge. Struktureret og detaljeorienteret',\n",
        "'At du har et godt drive, kan arbejde selvstændigt, struktureret og tage ansvar',\n",
        "'Du er god til at styre din tid og trives med at have mange bolde i luften']"
      ],
      "metadata": {
        "id": "r2RvIrE6IWe4"
      },
      "id": "r2RvIrE6IWe4",
      "execution_count": 23,
      "outputs": []
    },
    {
      "cell_type": "code",
      "source": [
        "understanding_qualifications = ['du har en grundlæggende viden om e-commerce, web og B2C-marketing med fokus på den gode brugeroplevelse',\n",
        "'Design og udvikling af multimediale produkter IT-didaktik og læringsteori User Experience og interaktionsdesign Designpsykologi og adfærdsdesign',\n",
        "'Har forståelse for designguides og følger den i opbygningen af det visuelle udtryk på vores website', \n",
        "'Samtidigt har du forståelse for hvordan dine designs kan omsættes til færdigt implementerede løsninger i udviklingsafdelingen som du kommer til at sparre med dagligt',\n",
        "'Du har god forståelse for brugervenlighed, UX og typografi',\n",
        "'kendskab til platformsøkonomi',\n",
        "'Du har en solid viden om sociale medier og kender Facebook og Instagram',\n",
        "'God forståelse for UX-design og digitale brugeroplevelser']  "
      ],
      "metadata": {
        "id": "s_XCkigwdKId"
      },
      "id": "s_XCkigwdKId",
      "execution_count": 24,
      "outputs": []
    },
    {
      "cell_type": "code",
      "source": [
        "use_qualifications = ['Udbygge og vedligeholde content på Vestfrost-hjemmesiden',\n",
        "'Content til SoMe',\n",
        "'Opdatering og vedligeholdelse af datablade samt brochure',\n",
        "'Content til cases',\n",
        "'Relevant markedsføringsmateriale såsom billede, video, messemateriale m.m.',\n",
        "'WordPress installationer og plugins',\n",
        "'Onpage SEO optimering i WordPress']"
      ],
      "metadata": {
        "id": "VBsGPoDlglr6"
      },
      "id": "VBsGPoDlglr6",
      "execution_count": 25,
      "outputs": []
    },
    {
      "cell_type": "code",
      "source": [
        "analyze_qualifications = ['At hjælpe vores kunder med grafisk input til deres spil',\n",
        "'Forbedre vores kunders grafiske oplevelse af Scratcher',\n",
        "'Du ser mulighederne i at analysere kundedata – blandt andet GA - og på den baggrund kan du designe funnels',\n",
        "'Du har solid viden om opsætning af normal CSS Du har god forståelse for Bootstrap 3-5 Du har kendskab til VS-Code Du kan udvikle HTML responsivt Du behersker Adobe Creative Cloud (primært Photoshop og Illustrator) Har du kendskab til Java Script betragtes det som et plus',\n",
        "'Du kan analysere og finde trends med fokus på optimering',\n",
        "'På baggrund af brugerdata skal du formidle indholdet, så det matcher målgrupperne og kampagnestrategien, og det er vigtigt, at du har tæft for og måske oven i købet erfaring med god webkommunikation.',\n",
        "'har en analytisk sans og forstår at videreformidle data om målgrupper']"
      ],
      "metadata": {
        "id": "SH08JqxJhosj"
      },
      "id": "SH08JqxJhosj",
      "execution_count": 26,
      "outputs": []
    },
    {
      "cell_type": "code",
      "source": [
        "evaluation_qualifications = ['Ansvar for opbygning af bibliotekets nye designsystem, herunder interaktionsdesign på kb.dk',\n",
        "'generelt kan have en faglig stærk dialog i proces og præsentationer',\n",
        "'Evaluering og test af e-læring',\n",
        "'Strategisk sparring med samarbejdspartnere om brugen af e-læring',\n",
        "'Vejledning til skatteforvaltningens medarbejdere om egen udvikling af e-læring']"
      ],
      "metadata": {
        "id": "i07VmUsgietT"
      },
      "id": "i07VmUsgietT",
      "execution_count": 27,
      "outputs": []
    },
    {
      "cell_type": "code",
      "source": [
        "create_qualifications = ['Udvikle og producere grafisk indhold til vores digitale medier herunder SoMe og bannerannoncer',\n",
        "'Med udgangspunkt i din faglighed vil du få ansvaret for at omsætte kundens krav til motiverende og effektskabende digitale produktioner, som understøtter de fastsatte læringsmål',\n",
        "'Du vil blive omdrejningspunktet for vores digitale udvikling, og du vil være med til at sætte dagordenen for årene, der kommer',\n",
        "'Og så skal du udvikle lækre grafiske løsninger, der bidrager til at nå de rette målgrupper effektivt',\n",
        "'udtænke og skabe iøjnefaldende visuelt indhold til sociale medier, hjemmeside mv.']"
      ],
      "metadata": {
        "id": "d9jX8z2LjN11"
      },
      "id": "d9jX8z2LjN11",
      "execution_count": 28,
      "outputs": []
    },
    {
      "cell_type": "code",
      "source": [
        "technical_qualifications = ['Har erfaring i brug af InDesign, Illustrator og Photoshop',\n",
        "'Erfaring med SEO',\n",
        "'Kendskab til CSS',\n",
        "'Superbruger i WordPress Interesse i den tekniske del af online markedsføring (SoMe og Adwords)',\n",
        "'Begynderniveau i CSS, PHP og JavaScript', \n",
        "'Du er en erfaren bruger af Creative Suite og har styr på Adobe Photoshop']"
      ],
      "metadata": {
        "id": "g2_wZhWBkp4G"
      },
      "id": "g2_wZhWBkp4G",
      "execution_count": 29,
      "outputs": []
    },
    {
      "cell_type": "code",
      "source": [
        "def FindPersonalQualificationsVerbose(Corpus):\n",
        "  for i in range(len(personal_qualifications)):\n",
        "     Lookup_Sentence=personal_qualifications[i]\n",
        "     FindMostSimilarSentences(Sentences, Lookup_Sentence)"
      ],
      "metadata": {
        "id": "o44OUuMdKIc7"
      },
      "id": "o44OUuMdKIc7",
      "execution_count": 30,
      "outputs": []
    },
    {
      "cell_type": "code",
      "source": [
        "FindPersonalQualificationsVerbose(Sentences)"
      ],
      "metadata": {
        "colab": {
          "base_uri": "https://localhost:8080/"
        },
        "id": "ArM6d7MMLrKT",
        "outputId": "7a1f4392-5ffc-4bb5-a033-2cb6cc460251"
      },
      "id": "ArM6d7MMLrKT",
      "execution_count": 31,
      "outputs": [
        {
          "output_type": "stream",
          "name": "stdout",
          "text": [
            "\n",
            " Sentence: Har gode kommunikationsevner \n",
            "\n",
            "Top 2 most similar sentences in corpus:\n",
            "Du giver også virksomheden mulighed for at kontakte dig, hvis de i fremtiden har et job, der matcher dine kompetencer. (Score: 0.4745)\n",
            "Vi holder løbende samtaler med relevante kandidater. (Score: 0.4510)\n",
            "\n",
            " Sentence: Kan arbejde selvmotiverende \n",
            "\n",
            "Top 2 most similar sentences in corpus:\n",
            "For at vise interesse skal du have et online CV. (Score: 0.3963)\n",
            "Vis interesse for job    For at vise interesse skal du have et online CV. (Score: 0.3854)\n",
            "\n",
            " Sentence: Du tager ansvar for dine projekter og følger altid dine opgaver til dørs \n",
            "\n",
            "Top 2 most similar sentences in corpus:\n",
            "Klik på knappen nedenfor og opret dit CV - det tager kun 5 minutter. (Score: 0.5301)\n",
            "21367087       ()                         Ansvarlig brug af dine oplysninger (Score: 0.5284)\n",
            "\n",
            " Sentence: Vi forventer, at du som person er selvledende, kreativ, fleksibel og indstillet på at arbejde i et travlt miljø. \n",
            "\n",
            "Top 2 most similar sentences in corpus:\n",
            "Vi forventer, at du:  Har en relevant professionsbachelor i e-handel, er multimediedesigner, markedsføringsøkonom eller grafisk uddannet Har erfaring i brug af InDesign, Illustrator og Photoshop Har gode kommunikationsevner Kan arbejde selvmotiverende Er fejlfri på skriftlig dansk og engelsk Erfaring med SEO. (Score: 0.6143)\n",
            "Det er ikke et krav, men en fordel   Til koncernfunktionen i Esbjerg søger A/S Vestfrost en dygtig og serviceminded Digital Marketing Koordinator. (Score: 0.5829)\n",
            "\n",
            " Sentence: Du er nysgerrig, kritisk og løsningsorienteret - også når det bliver komplekst \n",
            "\n",
            "Top 2 most similar sentences in corpus:\n",
            "Kan du skabe digitale kampagner med målbar effekt og konverteringer? (Score: 0.5050)\n",
            "I en nyoprettet stilling får du i høj grad mulighed for at sætte dit præg på, hvordan Vestfrost opfattes af kunder og partnere gennem udarbejdelsen af virksomhedens marketingmateriale. (Score: 0.4876)\n",
            "\n",
            " Sentence: Du har drive, og passion for kvalitet \n",
            "\n",
            "Top 2 most similar sentences in corpus:\n",
            "Du giver også virksomheden mulighed for at kontakte dig, hvis de i fremtiden har et job, der matcher dine kompetencer. (Score: 0.3896)\n",
            "Kan du skabe digitale kampagner med målbar effekt og konverteringer? (Score: 0.3617)\n",
            "\n",
            " Sentence: Du er god til at tænke ud af boksen, er ambitiøst og kreativt tænkende \n",
            "\n",
            "Top 2 most similar sentences in corpus:\n",
            "Det er en god idé, at du sætter dit CV online, så virksomheden let og med det samme får en god forståelse af dig og din profil. (Score: 0.4883)\n",
            "Det er en god idé, at du sætter dit CV online, så virksomheden let og med det samme får en god forståelse af dig og din profil. (Score: 0.4883)\n",
            "\n",
            " Sentence: er engageret, har god energi og er en god kollega \n",
            "\n",
            "Top 2 most similar sentences in corpus:\n",
            "Det er en god idé, at du opretter et CV, så virksomheden let og med det samme får en god forståelse af dig og din profil. (Score: 0.4365)\n",
            "Det er en god idé, at du opretter et CV, så virksomheden let og med det samme får en god forståelse af dig og din profil. (Score: 0.4365)\n",
            "\n",
            " Sentence: Som person er du først og fremmest kreativ og du er god til at finde på nye løsninger \n",
            "\n",
            "Top 2 most similar sentences in corpus:\n",
            "Det er en god idé, at du sætter dit CV online, så virksomheden let og med det samme får en god forståelse af dig og din profil. (Score: 0.4814)\n",
            "Det er en god idé, at du sætter dit CV online, så virksomheden let og med det samme får en god forståelse af dig og din profil. (Score: 0.4814)\n",
            "\n",
            " Sentence: Du er ansvarsfuld, selvstændig og har mod på at udvikle digVære initiativrig og opsøgende \n",
            "\n",
            "Top 2 most similar sentences in corpus:\n",
            "Vi tilbyder:  Ansættelse i en innovativ virksomhed Et spændende og varieret job i en 100 % danskejet international vækstvirksomhed En uhøjtidelig og uformel organisation med stor frihed under ansvar Gode personaleforhold   Tiltrædelse: Efter aftale. (Score: 0.5074)\n",
            "I en nyoprettet stilling får du i høj grad mulighed for at sætte dit præg på, hvordan Vestfrost opfattes af kunder og partnere gennem udarbejdelsen af virksomhedens marketingmateriale. (Score: 0.5033)\n",
            "\n",
            " Sentence: Ivrig efter af lære Som person forestiller vi os, at du er engageret, kreativ og nysgerrig \n",
            "\n",
            "Top 2 most similar sentences in corpus:\n",
            "Vi forventer, at du:  Har en relevant professionsbachelor i e-handel, er multimediedesigner, markedsføringsøkonom eller grafisk uddannet Har erfaring i brug af InDesign, Illustrator og Photoshop Har gode kommunikationsevner Kan arbejde selvmotiverende Er fejlfri på skriftlig dansk og engelsk Erfaring med SEO. (Score: 0.4832)\n",
            "I en nyoprettet stilling får du i høj grad mulighed for at sætte dit præg på, hvordan Vestfrost opfattes af kunder og partnere gennem udarbejdelsen af virksomhedens marketingmateriale. (Score: 0.4754)\n",
            "\n",
            " Sentence: Du er god til at skabe relationer på tværs \n",
            "\n",
            "Top 2 most similar sentences in corpus:\n",
            "Det er en god idé, at du sætter dit CV online, så virksomheden let og med det samme får en god forståelse af dig og din profil. (Score: 0.5640)\n",
            "Det er en god idé, at du sætter dit CV online, så virksomheden let og med det samme får en god forståelse af dig og din profil. (Score: 0.5640)\n",
            "\n",
            " Sentence: er selvstændig og grundig \n",
            "\n",
            "Top 2 most similar sentences in corpus:\n",
            "Vi tilbyder:  Ansættelse i en innovativ virksomhed Et spændende og varieret job i en 100 % danskejet international vækstvirksomhed En uhøjtidelig og uformel organisation med stor frihed under ansvar Gode personaleforhold   Tiltrædelse: Efter aftale. (Score: 0.4221)\n",
            "Læs mere om interessevisning . (Score: 0.4217)\n",
            "\n",
            " Sentence: Du har flair for content \n",
            "\n",
            "Top 2 most similar sentences in corpus:\n",
            "Har du flair for at arbejde med content og sociale medier? (Score: 0.6140)\n",
            "Så brænder du for online marketing? (Score: 0.3766)\n",
            "\n",
            " Sentence: Du er frisk, nede på jorden og klar på en god snak med dine kollegaer \n",
            "\n",
            "Top 2 most similar sentences in corpus:\n",
            "Det er en god idé, at du sætter dit CV online, så virksomheden let og med det samme får en god forståelse af dig og din profil. (Score: 0.5449)\n",
            "Det er en god idé, at du sætter dit CV online, så virksomheden let og med det samme får en god forståelse af dig og din profil. (Score: 0.5449)\n",
            "\n",
            " Sentence: Du trives med rutineprægede opgaver, og bidrager med masser af godt humør \n",
            "\n",
            "Top 2 most similar sentences in corpus:\n",
            "Du skal være med til at løfte vores digitale salgs- og marketingaktiviteter for vores forskellige brands, samt tiltrække nye kunder. (Score: 0.4722)\n",
            "Det er en god idé, at du opretter et CV, så virksomheden let og med det samme får en god forståelse af dig og din profil. (Score: 0.4695)\n",
            "\n",
            " Sentence: Er optimist og ser muligheder fremfor begrænsninger \n",
            "\n",
            "Top 2 most similar sentences in corpus:\n",
            "Vi forventer, at du:  Har en relevant professionsbachelor i e-handel, er multimediedesigner, markedsføringsøkonom eller grafisk uddannet Har erfaring i brug af InDesign, Illustrator og Photoshop Har gode kommunikationsevner Kan arbejde selvmotiverende Er fejlfri på skriftlig dansk og engelsk Erfaring med SEO. (Score: 0.4168)\n",
            "Virksomheden får adgang til dine personlige oplysninger samt CV, så de kan kontakte dig, hvis de i fremtiden har et job, der matcher dine kompetencer. (Score: 0.3995)\n",
            "\n",
            " Sentence: Vi forestiller os, at du som person er kreativ, visuel og har god sans for detaljen.Vi forestiller os, at du som person er kreativ, visuel og har god sans for detaljen \n",
            "\n",
            "Top 2 most similar sentences in corpus:\n",
            "Det er en god idé, at du sætter dit CV online, så virksomheden let og med det samme får en god forståelse af dig og din profil. (Score: 0.5833)\n",
            "Det er en god idé, at du sætter dit CV online, så virksomheden let og med det samme får en god forståelse af dig og din profil. (Score: 0.5833)\n",
            "\n",
            " Sentence: Som menneske er du udadvendt, opsøgende og pædagogisk \n",
            "\n",
            "Top 2 most similar sentences in corpus:\n",
            "I en nyoprettet stilling får du i høj grad mulighed for at sætte dit præg på, hvordan Vestfrost opfattes af kunder og partnere gennem udarbejdelsen af virksomhedens marketingmateriale. (Score: 0.4983)\n",
            "Virksomheden er førende inden for innovative, kundespecifikke løsninger samt energi- og miljøoptimeret køleudstyr. (Score: 0.4809)\n",
            "\n",
            " Sentence: Er kvalitetsbevidst og sætter en stolthed i at udføre et godt stykke arbejde \n",
            "\n",
            "Top 2 most similar sentences in corpus:\n",
            "I en nyoprettet stilling får du i høj grad mulighed for at sætte dit præg på, hvordan Vestfrost opfattes af kunder og partnere gennem udarbejdelsen af virksomhedens marketingmateriale. (Score: 0.4853)\n",
            "Du giver også virksomheden mulighed for at kontakte dig, hvis de i fremtiden har et job, der matcher dine kompetencer. (Score: 0.4722)\n",
            "\n",
            " Sentence: Er detaljeorienteret og har en struktureret tilgang til dine arbejdsopgaver \n",
            "\n",
            "Top 2 most similar sentences in corpus:\n",
            "Det er en god idé, at du opdaterer dit CV, så virksomheden let og med det samme får en god forståelse af dig og din profil. (Score: 0.5213)\n",
            "Det er en god idé, at du opdaterer dit CV, så virksomheden let og med det samme får en god forståelse af dig og din profil. (Score: 0.5213)\n",
            "\n",
            " Sentence: Er god til at tale med mennesker og sætte sig ind i deres behov \n",
            "\n",
            "Top 2 most similar sentences in corpus:\n",
            "Det er en god idé, at du sætter dit CV online, så virksomheden let og med det samme får en god forståelse af dig og din profil. (Score: 0.4966)\n",
            "Det er en god idé, at du sætter dit CV online, så virksomheden let og med det samme får en god forståelse af dig og din profil. (Score: 0.4966)\n",
            "\n",
            " Sentence: Du er detaljeorienteret til mindste detalje og stortrives med en bred kontaktflade \n",
            "\n",
            "Top 2 most similar sentences in corpus:\n",
            "Det er en god idé, at du opdaterer dit CV, så virksomheden let og med det samme får en god forståelse af dig og din profil. (Score: 0.5442)\n",
            "Det er en god idé, at du opdaterer dit CV, så virksomheden let og med det samme får en god forståelse af dig og din profil. (Score: 0.5442)\n",
            "\n",
            " Sentence: Du er struktureret og har høj selvdisciplin \n",
            "\n",
            "Top 2 most similar sentences in corpus:\n",
            "Vi forventer, at du:  Har en relevant professionsbachelor i e-handel, er multimediedesigner, markedsføringsøkonom eller grafisk uddannet Har erfaring i brug af InDesign, Illustrator og Photoshop Har gode kommunikationsevner Kan arbejde selvmotiverende Er fejlfri på skriftlig dansk og engelsk Erfaring med SEO. (Score: 0.4200)\n",
            "Virksomheden får adgang til dine personlige oplysninger samt CV, så de kan kontakte dig, hvis de i fremtiden har et job, der matcher dine kompetencer. (Score: 0.4156)\n",
            "\n",
            " Sentence: Du udviser en høj grad af uafhængighed, er proaktiv og selvstartende \n",
            "\n",
            "Top 2 most similar sentences in corpus:\n",
            "Vi forventer, at du:  Har en relevant professionsbachelor i e-handel, er multimediedesigner, markedsføringsøkonom eller grafisk uddannet Har erfaring i brug af InDesign, Illustrator og Photoshop Har gode kommunikationsevner Kan arbejde selvmotiverende Er fejlfri på skriftlig dansk og engelsk Erfaring med SEO. (Score: 0.4997)\n",
            "I en nyoprettet stilling får du i høj grad mulighed for at sætte dit præg på, hvordan Vestfrost opfattes af kunder og partnere gennem udarbejdelsen af virksomhedens marketingmateriale. (Score: 0.4798)\n",
            "\n",
            " Sentence: Vi søger en person, der er detaljeorienteret og analytisk stærk \n",
            "\n",
            "Top 2 most similar sentences in corpus:\n",
            "Det er en god idé, at du sætter dit CV online, så virksomheden let og med det samme får en god forståelse af dig og din profil. (Score: 0.4768)\n",
            "Det er en god idé, at du sætter dit CV online, så virksomheden let og med det samme får en god forståelse af dig og din profil. (Score: 0.4768)\n",
            "\n",
            " Sentence: Du trives med at være opsøgende Du kan arbejde både selvstændigt og som del af et mindre team \n",
            "\n",
            "Top 2 most similar sentences in corpus:\n",
            "Du skal være med til at løfte vores digitale salgs- og marketingaktiviteter for vores forskellige brands, samt tiltrække nye kunder. (Score: 0.5328)\n",
            "I en nyoprettet stilling får du i høj grad mulighed for at sætte dit præg på, hvordan Vestfrost opfattes af kunder og partnere gennem udarbejdelsen af virksomhedens marketingmateriale. (Score: 0.4965)\n",
            "\n",
            " Sentence: er ansvarlig, struktureret og målorienteret samt serviceminded, positiv og imødekommende \n",
            "\n",
            "Top 2 most similar sentences in corpus:\n",
            "Kan du skabe digitale kampagner med målbar effekt og konverteringer? (Score: 0.5063)\n",
            "Vi tilbyder:  Ansættelse i en innovativ virksomhed Et spændende og varieret job i en 100 % danskejet international vækstvirksomhed En uhøjtidelig og uformel organisation med stor frihed under ansvar Gode personaleforhold   Tiltrædelse: Efter aftale. (Score: 0.5017)\n",
            "\n",
            " Sentence: Kreativ, nysgerrig, initiativrig og ikke bange for at spørge. Struktureret og detaljeorienteret \n",
            "\n",
            "Top 2 most similar sentences in corpus:\n",
            "Det er ikke et krav, men en fordel   Til koncernfunktionen i Esbjerg søger A/S Vestfrost en dygtig og serviceminded Digital Marketing Koordinator. (Score: 0.5350)\n",
            "Kan du skabe digitale kampagner med målbar effekt og konverteringer? (Score: 0.4524)\n",
            "\n",
            " Sentence: At du har et godt drive, kan arbejde selvstændigt, struktureret og tage ansvar \n",
            "\n",
            "Top 2 most similar sentences in corpus:\n",
            "Det er en god idé, at du sætter dit CV online, så virksomheden let og med det samme får en god forståelse af dig og din profil. (Score: 0.4619)\n",
            "Det er en god idé, at du sætter dit CV online, så virksomheden let og med det samme får en god forståelse af dig og din profil. (Score: 0.4619)\n",
            "\n",
            " Sentence: Du er god til at styre din tid og trives med at have mange bolde i luften \n",
            "\n",
            "Top 2 most similar sentences in corpus:\n",
            "Det er en god idé, at du opdaterer dit CV, så virksomheden let og med det samme får en god forståelse af dig og din profil. (Score: 0.5928)\n",
            "Det er en god idé, at du opdaterer dit CV, så virksomheden let og med det samme får en god forståelse af dig og din profil. (Score: 0.5928)\n"
          ]
        }
      ]
    },
    {
      "cell_type": "code",
      "source": [
        "def FindPersonalQualificationsVerbose(Corpus):\n",
        "  for i in range(len(personal_qualifications)):\n",
        "     Lookup_Sentence=personal_qualifications[i]\n",
        "     bestmatch, bestmatchvalue = FindMostSimilarSentence(Sentences, Lookup_Sentence)\n",
        "     print(Lookup_Sentence)\n",
        "     print(bestmatch, bestmatchvalue)"
      ],
      "metadata": {
        "id": "5UkMOGtcjW7S"
      },
      "id": "5UkMOGtcjW7S",
      "execution_count": 32,
      "outputs": []
    },
    {
      "cell_type": "code",
      "source": [
        "FindPersonalQualificationsVerbose(Sentences)"
      ],
      "metadata": {
        "colab": {
          "base_uri": "https://localhost:8080/"
        },
        "id": "i6bEFX0Gj8py",
        "outputId": "fd5f36b6-28a1-4e0f-ab42-a2a422eacb90"
      },
      "id": "i6bEFX0Gj8py",
      "execution_count": 33,
      "outputs": [
        {
          "output_type": "stream",
          "name": "stdout",
          "text": [
            "Har gode kommunikationsevner\n",
            "Du giver også virksomheden mulighed for at kontakte dig, hvis de i fremtiden har et job, der matcher dine kompetencer. tensor(0.4745, device='cuda:0')\n",
            "Kan arbejde selvmotiverende\n",
            "For at vise interesse skal du have et online CV. tensor(0.3963, device='cuda:0')\n",
            "Du tager ansvar for dine projekter og følger altid dine opgaver til dørs\n",
            "Klik på knappen nedenfor og opret dit CV - det tager kun 5 minutter. tensor(0.5301, device='cuda:0')\n",
            "Vi forventer, at du som person er selvledende, kreativ, fleksibel og indstillet på at arbejde i et travlt miljø.\n",
            "Vi forventer, at du:  Har en relevant professionsbachelor i e-handel, er multimediedesigner, markedsføringsøkonom eller grafisk uddannet Har erfaring i brug af InDesign, Illustrator og Photoshop Har gode kommunikationsevner Kan arbejde selvmotiverende Er fejlfri på skriftlig dansk og engelsk Erfaring med SEO. tensor(0.6143, device='cuda:0')\n",
            "Du er nysgerrig, kritisk og løsningsorienteret - også når det bliver komplekst\n",
            "Kan du skabe digitale kampagner med målbar effekt og konverteringer? tensor(0.5050, device='cuda:0')\n",
            "Du har drive, og passion for kvalitet\n",
            "Du giver også virksomheden mulighed for at kontakte dig, hvis de i fremtiden har et job, der matcher dine kompetencer. tensor(0.3896, device='cuda:0')\n",
            "Du er god til at tænke ud af boksen, er ambitiøst og kreativt tænkende\n",
            "Det er en god idé, at du sætter dit CV online, så virksomheden let og med det samme får en god forståelse af dig og din profil. tensor(0.4883, device='cuda:0')\n",
            "er engageret, har god energi og er en god kollega\n",
            "Det er en god idé, at du opretter et CV, så virksomheden let og med det samme får en god forståelse af dig og din profil. tensor(0.4365, device='cuda:0')\n",
            "Som person er du først og fremmest kreativ og du er god til at finde på nye løsninger\n",
            "Det er en god idé, at du sætter dit CV online, så virksomheden let og med det samme får en god forståelse af dig og din profil. tensor(0.4814, device='cuda:0')\n",
            "Du er ansvarsfuld, selvstændig og har mod på at udvikle digVære initiativrig og opsøgende\n",
            "Vi tilbyder:  Ansættelse i en innovativ virksomhed Et spændende og varieret job i en 100 % danskejet international vækstvirksomhed En uhøjtidelig og uformel organisation med stor frihed under ansvar Gode personaleforhold   Tiltrædelse: Efter aftale. tensor(0.5074, device='cuda:0')\n",
            "Ivrig efter af lære Som person forestiller vi os, at du er engageret, kreativ og nysgerrig\n",
            "Vi forventer, at du:  Har en relevant professionsbachelor i e-handel, er multimediedesigner, markedsføringsøkonom eller grafisk uddannet Har erfaring i brug af InDesign, Illustrator og Photoshop Har gode kommunikationsevner Kan arbejde selvmotiverende Er fejlfri på skriftlig dansk og engelsk Erfaring med SEO. tensor(0.4832, device='cuda:0')\n",
            "Du er god til at skabe relationer på tværs\n",
            "Det er en god idé, at du sætter dit CV online, så virksomheden let og med det samme får en god forståelse af dig og din profil. tensor(0.5640, device='cuda:0')\n",
            "er selvstændig og grundig\n",
            "Vi tilbyder:  Ansættelse i en innovativ virksomhed Et spændende og varieret job i en 100 % danskejet international vækstvirksomhed En uhøjtidelig og uformel organisation med stor frihed under ansvar Gode personaleforhold   Tiltrædelse: Efter aftale. tensor(0.4221, device='cuda:0')\n",
            "Du har flair for content\n",
            "Har du flair for at arbejde med content og sociale medier? tensor(0.6140, device='cuda:0')\n",
            "Du er frisk, nede på jorden og klar på en god snak med dine kollegaer\n",
            "Det er en god idé, at du sætter dit CV online, så virksomheden let og med det samme får en god forståelse af dig og din profil. tensor(0.5449, device='cuda:0')\n",
            "Du trives med rutineprægede opgaver, og bidrager med masser af godt humør\n",
            "Du skal være med til at løfte vores digitale salgs- og marketingaktiviteter for vores forskellige brands, samt tiltrække nye kunder. tensor(0.4722, device='cuda:0')\n",
            "Er optimist og ser muligheder fremfor begrænsninger\n",
            "Vi forventer, at du:  Har en relevant professionsbachelor i e-handel, er multimediedesigner, markedsføringsøkonom eller grafisk uddannet Har erfaring i brug af InDesign, Illustrator og Photoshop Har gode kommunikationsevner Kan arbejde selvmotiverende Er fejlfri på skriftlig dansk og engelsk Erfaring med SEO. tensor(0.4168, device='cuda:0')\n",
            "Vi forestiller os, at du som person er kreativ, visuel og har god sans for detaljen.Vi forestiller os, at du som person er kreativ, visuel og har god sans for detaljen\n",
            "Det er en god idé, at du sætter dit CV online, så virksomheden let og med det samme får en god forståelse af dig og din profil. tensor(0.5833, device='cuda:0')\n",
            "Som menneske er du udadvendt, opsøgende og pædagogisk\n",
            "I en nyoprettet stilling får du i høj grad mulighed for at sætte dit præg på, hvordan Vestfrost opfattes af kunder og partnere gennem udarbejdelsen af virksomhedens marketingmateriale. tensor(0.4983, device='cuda:0')\n",
            "Er kvalitetsbevidst og sætter en stolthed i at udføre et godt stykke arbejde\n",
            "I en nyoprettet stilling får du i høj grad mulighed for at sætte dit præg på, hvordan Vestfrost opfattes af kunder og partnere gennem udarbejdelsen af virksomhedens marketingmateriale. tensor(0.4853, device='cuda:0')\n",
            "Er detaljeorienteret og har en struktureret tilgang til dine arbejdsopgaver\n",
            "Det er en god idé, at du opdaterer dit CV, så virksomheden let og med det samme får en god forståelse af dig og din profil. tensor(0.5213, device='cuda:0')\n",
            "Er god til at tale med mennesker og sætte sig ind i deres behov\n",
            "Det er en god idé, at du sætter dit CV online, så virksomheden let og med det samme får en god forståelse af dig og din profil. tensor(0.4966, device='cuda:0')\n",
            "Du er detaljeorienteret til mindste detalje og stortrives med en bred kontaktflade\n",
            "Det er en god idé, at du opdaterer dit CV, så virksomheden let og med det samme får en god forståelse af dig og din profil. tensor(0.5442, device='cuda:0')\n",
            "Du er struktureret og har høj selvdisciplin\n",
            "Vi forventer, at du:  Har en relevant professionsbachelor i e-handel, er multimediedesigner, markedsføringsøkonom eller grafisk uddannet Har erfaring i brug af InDesign, Illustrator og Photoshop Har gode kommunikationsevner Kan arbejde selvmotiverende Er fejlfri på skriftlig dansk og engelsk Erfaring med SEO. tensor(0.4200, device='cuda:0')\n",
            "Du udviser en høj grad af uafhængighed, er proaktiv og selvstartende\n",
            "Vi forventer, at du:  Har en relevant professionsbachelor i e-handel, er multimediedesigner, markedsføringsøkonom eller grafisk uddannet Har erfaring i brug af InDesign, Illustrator og Photoshop Har gode kommunikationsevner Kan arbejde selvmotiverende Er fejlfri på skriftlig dansk og engelsk Erfaring med SEO. tensor(0.4997, device='cuda:0')\n",
            "Vi søger en person, der er detaljeorienteret og analytisk stærk\n",
            "Det er en god idé, at du sætter dit CV online, så virksomheden let og med det samme får en god forståelse af dig og din profil. tensor(0.4768, device='cuda:0')\n",
            "Du trives med at være opsøgende Du kan arbejde både selvstændigt og som del af et mindre team\n",
            "Du skal være med til at løfte vores digitale salgs- og marketingaktiviteter for vores forskellige brands, samt tiltrække nye kunder. tensor(0.5328, device='cuda:0')\n",
            "er ansvarlig, struktureret og målorienteret samt serviceminded, positiv og imødekommende\n",
            "Kan du skabe digitale kampagner med målbar effekt og konverteringer? tensor(0.5063, device='cuda:0')\n",
            "Kreativ, nysgerrig, initiativrig og ikke bange for at spørge. Struktureret og detaljeorienteret\n",
            "Det er ikke et krav, men en fordel   Til koncernfunktionen i Esbjerg søger A/S Vestfrost en dygtig og serviceminded Digital Marketing Koordinator. tensor(0.5350, device='cuda:0')\n",
            "At du har et godt drive, kan arbejde selvstændigt, struktureret og tage ansvar\n",
            "Det er en god idé, at du sætter dit CV online, så virksomheden let og med det samme får en god forståelse af dig og din profil. tensor(0.4619, device='cuda:0')\n",
            "Du er god til at styre din tid og trives med at have mange bolde i luften\n",
            "Det er en god idé, at du opdaterer dit CV, så virksomheden let og med det samme får en god forståelse af dig og din profil. tensor(0.5928, device='cuda:0')\n"
          ]
        }
      ]
    },
    {
      "cell_type": "code",
      "source": [
        "# Find best matches, above threshold"
      ],
      "metadata": {
        "id": "TRCpGqsxpMOl"
      },
      "id": "TRCpGqsxpMOl",
      "execution_count": 34,
      "outputs": []
    },
    {
      "cell_type": "code",
      "source": [
        "def FindQualifications(Corpus, qualifications, threshold):\n",
        "  Lookup_Sentences = []\n",
        "  BestMatches = []\n",
        "  BestMatchValues = []\n",
        "  for i in range(len(qualifications)):\n",
        "     Lookup_Sentence= qualifications[i]\n",
        "     bestmatch, bestmatchvalue = FindMostSimilarSentence(Corpus, Lookup_Sentence)\n",
        "     # print(Lookup_Sentence)\n",
        "     # print(bestmatch)\n",
        "     # print(bestmatchvalue)\n",
        "     # print(bestmatchvalue.cpu().detach().numpy())\n",
        "     if bestmatchvalue.cpu().detach().numpy()>threshold:     \n",
        "        Lookup_Sentences.append(Lookup_Sentence)\n",
        "        BestMatches.append(bestmatch)\n",
        "        BestMatchValues.append(bestmatchvalue.cpu().detach().numpy())\n",
        "  return Lookup_Sentences, BestMatches, BestMatchValues"
      ],
      "metadata": {
        "id": "c82SZeTyo0u0"
      },
      "id": "c82SZeTyo0u0",
      "execution_count": 43,
      "outputs": []
    },
    {
      "cell_type": "code",
      "source": [
        "def FindTopKQualifications(Corpus, qualifications, typeofqualification, threshold, UseVerbose):\n",
        "    Lookup_Sentences, BestMatches, BestMatchValues = FindQualifications(Corpus, qualifications, threshold)\n",
        "\n",
        "    if UseVerbose == True:\n",
        "       print(\"\\n\")\n",
        "       print(typeofqualification,\"qualifications in JobAds.\")\n",
        "       print(\"For threshold: \", threshold)\n",
        "    found_matches = 0\n",
        "    for idx in range(len(Lookup_Sentences)):\n",
        "       found_matches = 1\n",
        "       if UseVerbose == True:\n",
        "           print(\"Match :\", idx+1)\n",
        "           print('Lookup: ', Lookup_Sentences[idx])\n",
        "           print('Match: ', BestMatches[idx], \"(Score: %.4f)\" % (BestMatchValues[idx]))\n",
        "    return found_matches"
      ],
      "metadata": {
        "id": "IRo3bw_Rqr9b"
      },
      "id": "IRo3bw_Rqr9b",
      "execution_count": 46,
      "outputs": []
    },
    {
      "cell_type": "code",
      "source": [
        "import time"
      ],
      "metadata": {
        "id": "6NOi324S_25l"
      },
      "id": "6NOi324S_25l",
      "execution_count": 37,
      "outputs": []
    },
    {
      "cell_type": "code",
      "source": [
        "t1 = time.perf_counter()\n",
        "threshold=0.6\n",
        "Found_personal_qualifications = FindTopKQualifications(Sentences, personal_qualifications, \"Personal\", threshold, True)\n",
        "Found_understanding_qualifications = FindTopKQualifications(Sentences, understanding_qualifications, \"Understanding\", threshold, True)\n",
        "Found_analyze_qualifications = FindTopKQualifications(Sentences, analyze_qualifications, \"Anlyze\", threshold, True)\n",
        "Found_evaluation_qualifications = FindTopKQualifications(Sentences, evaluation_qualifications, \"Evaluation\", threshold, True)\n",
        "Found_create_qualifications = FindTopKQualifications(Sentences, create_qualifications, \"Create\", threshold, True)\n",
        "Found_technical_qualifications = FindTopKQualifications(Sentences, technical_qualifications, \"Technical\", threshold, True)\n",
        "t2 = time.perf_counter()\n",
        "print('time taken to run:',t2-t1)\n"
      ],
      "metadata": {
        "colab": {
          "base_uri": "https://localhost:8080/"
        },
        "id": "EOd8FzSxr6n1",
        "outputId": "f35db59d-8c28-489a-c8b0-27ea5ce5c4a9"
      },
      "id": "EOd8FzSxr6n1",
      "execution_count": 47,
      "outputs": [
        {
          "output_type": "stream",
          "name": "stdout",
          "text": [
            "\n",
            "\n",
            "Personal qualifications in JobAds.\n",
            "For threshold:  0.6\n",
            "Match : 1\n",
            "Lookup:  Vi forventer, at du som person er selvledende, kreativ, fleksibel og indstillet på at arbejde i et travlt miljø.\n",
            "Match:  Vi forventer, at du:  Har en relevant professionsbachelor i e-handel, er multimediedesigner, markedsføringsøkonom eller grafisk uddannet Har erfaring i brug af InDesign, Illustrator og Photoshop Har gode kommunikationsevner Kan arbejde selvmotiverende Er fejlfri på skriftlig dansk og engelsk Erfaring med SEO. (Score: 0.6143)\n",
            "Match : 2\n",
            "Lookup:  Du har flair for content\n",
            "Match:  Har du flair for at arbejde med content og sociale medier? (Score: 0.6140)\n",
            "\n",
            "\n",
            "Understanding qualifications in JobAds.\n",
            "For threshold:  0.6\n",
            "Match : 1\n",
            "Lookup:  Du har en solid viden om sociale medier og kender Facebook og Instagram\n",
            "Match:  Har du flair for at arbejde med content og sociale medier? (Score: 0.6899)\n",
            "\n",
            "\n",
            "Anlyze qualifications in JobAds.\n",
            "For threshold:  0.6\n",
            "\n",
            "\n",
            "Evaluation qualifications in JobAds.\n",
            "For threshold:  0.6\n",
            "\n",
            "\n",
            "Create qualifications in JobAds.\n",
            "For threshold:  0.6\n",
            "Match : 1\n",
            "Lookup:  Du vil blive omdrejningspunktet for vores digitale udvikling, og du vil være med til at sætte dagordenen for årene, der kommer\n",
            "Match:  Du skal være med til at løfte vores digitale salgs- og marketingaktiviteter for vores forskellige brands, samt tiltrække nye kunder. (Score: 0.6488)\n",
            "\n",
            "\n",
            "Technical qualifications in JobAds.\n",
            "For threshold:  0.6\n",
            "time taken to run: 2.8067096080003466\n"
          ]
        }
      ]
    },
    {
      "cell_type": "code",
      "source": [
        "def FindPositveAndNegativeExamplesForQualifications(threshold, UsingVerbose):\n",
        "   true_positives = 0\n",
        "   false_negatives = 0\n",
        "   false_positives = 0\n",
        "   true_negatives =0\n",
        "   nb_rows = 0\n",
        "   # Run Through entire dataset \n",
        "   for row in df.head(10).itertuples():\n",
        "       AdText = row.JobAdText\n",
        "\n",
        "       Sentences = tokenize.sent_tokenize(AdText)\n",
        "\n",
        "       # ToDO - This must read from Excel file\n",
        "       # nb_personal_qualifications = np.random.choice([0,1])\n",
        "       qualificationsreadfromexcel = np.array([1, 0, 1, 1, 1, 0, 0, 1, 1, 1])\n",
        "       nb_personal_qualifications =  qualificationsreadfromexcel[nb_rows]\n",
        "\n",
        "       nb_rows += 1\n",
        "\n",
        "       Found_personal_qualifications = FindTopKQualifications(Sentences, personal_qualifications, \"Personal\", threshold, UsingVerbose)\n",
        "       if nb_personal_qualifications == 1:\n",
        "           if Found_personal_qualifications == 1: \n",
        "              true_positives += 1\n",
        "           else:\n",
        "              false_negatives += 1\n",
        "       else:\n",
        "           if Found_personal_qualifications == 1: \n",
        "              false_positives += 1\n",
        "           else:\n",
        "              true_negatives += 1\n",
        "    \n",
        "   return true_positives, false_negatives, false_positives, true_negatives, nb_rows"
      ],
      "metadata": {
        "id": "4G-UgV1Jv9Po"
      },
      "id": "4G-UgV1Jv9Po",
      "execution_count": 112,
      "outputs": []
    },
    {
      "cell_type": "code",
      "source": [
        "true_positives, false_negatives, false_positives, true_negatives, nb_rows = FindPositveAndNegativeExamplesForQualifications(0.6, True)"
      ],
      "metadata": {
        "colab": {
          "base_uri": "https://localhost:8080/"
        },
        "id": "0PlwgFeXyssx",
        "outputId": "8e993206-efd7-4d8f-baf3-196bf5cb8ccf"
      },
      "id": "0PlwgFeXyssx",
      "execution_count": 113,
      "outputs": [
        {
          "output_type": "stream",
          "name": "stdout",
          "text": [
            "\n",
            "\n",
            "Personal qualifications in JobAds.\n",
            "For threshold:  0.6\n",
            "Match : 1\n",
            "Lookup:  Vi forventer, at du som person er selvledende, kreativ, fleksibel og indstillet på at arbejde i et travlt miljø.\n",
            "Match:  Vi forventer, at du:  Har en relevant professionsbachelor i e-handel, er multimediedesigner, markedsføringsøkonom eller grafisk uddannet Har erfaring i brug af InDesign, Illustrator og Photoshop Har gode kommunikationsevner Kan arbejde selvmotiverende Er fejlfri på skriftlig dansk og engelsk Erfaring med SEO. (Score: 0.6143)\n",
            "Match : 2\n",
            "Lookup:  Du har flair for content\n",
            "Match:  Har du flair for at arbejde med content og sociale medier? (Score: 0.6140)\n",
            "\n",
            "\n",
            "Personal qualifications in JobAds.\n",
            "For threshold:  0.6\n",
            "\n",
            "\n",
            "Personal qualifications in JobAds.\n",
            "For threshold:  0.6\n",
            "Match : 1\n",
            "Lookup:  Du er nysgerrig, kritisk og løsningsorienteret - også når det bliver komplekst\n",
            "Match:  Det er vores opgave at sørge for, at vores kunder får den rigtige tekniske løsning, som passer til kundens størrelse og krav. (Score: 0.6171)\n",
            "Match : 2\n",
            "Lookup:  Er kvalitetsbevidst og sætter en stolthed i at udføre et godt stykke arbejde\n",
            "Match:  Vi brænder for at højne kvaliteten, udtrykket og skabe den røde tråd i kundernes marketingsmateriale og kommunikation. (Score: 0.6221)\n",
            "Match : 3\n",
            "Lookup:  Vi søger en person, der er detaljeorienteret og analytisk stærk\n",
            "Match:  Det er vores opgave at sørge for, at vores kunder får den rigtige tekniske løsning, som passer til kundens størrelse og krav. (Score: 0.6224)\n",
            "\n",
            "\n",
            "Personal qualifications in JobAds.\n",
            "For threshold:  0.6\n",
            "Match : 1\n",
            "Lookup:  Du tager ansvar for dine projekter og følger altid dine opgaver til dørs\n",
            "Match:  Du tager ansvar for dine projekter og følger altid dine opgaver til dørs. (Score: 0.9891)\n",
            "Match : 2\n",
            "Lookup:  Du er nysgerrig, kritisk og løsningsorienteret - også når det bliver komplekst\n",
            "Match:                                                                                                                                                                                                                                                                              Erfaren og initiativrig multimediedesigner søges  Det Danske Klasselotteri A/S  København  Indrykket 9. august 2021    Har du fingeren på den æstetiske, kreative og kommercielle puls? (Score: 0.6086)\n",
            "Match : 3\n",
            "Lookup:  Du er god til at tænke ud af boksen, er ambitiøst og kreativt tænkende\n",
            "Match:  Hvem er du…  Det er vigtigt, at du er kreativt stærk, kan tænke konceptuelt og er god til at opdage og udnytte nye, digitale platforme og værktøjer – og at du er en stærk holdspiller fra start til mål. (Score: 0.6399)\n",
            "Match : 4\n",
            "Lookup:  Som person er du først og fremmest kreativ og du er god til at finde på nye løsninger\n",
            "Match:  Hvem er du…  Det er vigtigt, at du er kreativt stærk, kan tænke konceptuelt og er god til at opdage og udnytte nye, digitale platforme og værktøjer – og at du er en stærk holdspiller fra start til mål. (Score: 0.6296)\n",
            "Match : 5\n",
            "Lookup:  Du er god til at skabe relationer på tværs\n",
            "Match:  Hvem er du…  Det er vigtigt, at du er kreativt stærk, kan tænke konceptuelt og er god til at opdage og udnytte nye, digitale platforme og værktøjer – og at du er en stærk holdspiller fra start til mål. (Score: 0.6217)\n",
            "Match : 6\n",
            "Lookup:  Du er frisk, nede på jorden og klar på en god snak med dine kollegaer\n",
            "Match:  Til gengæld får du nogle dygtige og glade kolleger. (Score: 0.6164)\n",
            "Match : 7\n",
            "Lookup:  Kreativ, nysgerrig, initiativrig og ikke bange for at spørge. Struktureret og detaljeorienteret\n",
            "Match:                                                                                                                                                                                                                                                                              Erfaren og initiativrig multimediedesigner søges  Det Danske Klasselotteri A/S  København  Indrykket 9. august 2021    Har du fingeren på den æstetiske, kreative og kommercielle puls? (Score: 0.6143)\n",
            "\n",
            "\n",
            "Personal qualifications in JobAds.\n",
            "For threshold:  0.6\n",
            "Match : 1\n",
            "Lookup:  Vi forventer, at du som person er selvledende, kreativ, fleksibel og indstillet på at arbejde i et travlt miljø.\n",
            "Match:  Vi forventer, at du som person er selvledende, kreativ, fleksibel og indstillet på at arbejde i et travlt miljø. (Score: 1.0000)\n",
            "Match : 2\n",
            "Lookup:  Som person er du først og fremmest kreativ og du er god til at finde på nye løsninger\n",
            "Match:  Vi forventer, at du som person er selvledende, kreativ, fleksibel og indstillet på at arbejde i et travlt miljø. (Score: 0.6313)\n",
            "Match : 3\n",
            "Lookup:  Du trives med at være opsøgende Du kan arbejde både selvstændigt og som del af et mindre team\n",
            "Match:  Trives du i et ambitiøst og tværfagligt miljø? (Score: 0.6306)\n",
            "Match : 4\n",
            "Lookup:  Kreativ, nysgerrig, initiativrig og ikke bange for at spørge. Struktureret og detaljeorienteret\n",
            "Match:  Vi forventer, at du som person er selvledende, kreativ, fleksibel og indstillet på at arbejde i et travlt miljø. (Score: 0.6334)\n",
            "\n",
            "\n",
            "Personal qualifications in JobAds.\n",
            "For threshold:  0.6\n",
            "\n",
            "\n",
            "Personal qualifications in JobAds.\n",
            "For threshold:  0.6\n",
            "\n",
            "\n",
            "Personal qualifications in JobAds.\n",
            "For threshold:  0.6\n",
            "Match : 1\n",
            "Lookup:  Du er nysgerrig, kritisk og løsningsorienteret - også når det bliver komplekst\n",
            "Match:  Du har en lyst til at afprøve og videreudvikle dine mange kompetencer - Dette i en opgave hvor du virkelig kan sætte dit præg på det samlede resultat Du er i gang med en relevant uddannelse inden for grafisk design eller kommunikation Du har erfaring med udarbejdelse af grafiske elementer, photoshop mm  Du har drive, og passion for kvalitet Du er god til at tænke ud af boksen, er ambitiøst og kreativt tænkende     Hvad er opgaverne? (Score: 0.6531)\n",
            "Match : 2\n",
            "Lookup:  Du er ansvarsfuld, selvstændig og har mod på at udvikle digVære initiativrig og opsøgende\n",
            "Match:  Du har en lyst til at afprøve og videreudvikle dine mange kompetencer - Dette i en opgave hvor du virkelig kan sætte dit præg på det samlede resultat Du er i gang med en relevant uddannelse inden for grafisk design eller kommunikation Du har erfaring med udarbejdelse af grafiske elementer, photoshop mm  Du har drive, og passion for kvalitet Du er god til at tænke ud af boksen, er ambitiøst og kreativt tænkende     Hvad er opgaverne? (Score: 0.6489)\n",
            "Match : 3\n",
            "Lookup:  Er detaljeorienteret og har en struktureret tilgang til dine arbejdsopgaver\n",
            "Match:  Som praktikant hos Scratcher vil du få indblik i, hvordan det er at arbejde med grafisk design i en uformel virksomhed med højt til loftet. (Score: 0.6294)\n",
            "Match : 4\n",
            "Lookup:  Du udviser en høj grad af uafhængighed, er proaktiv og selvstartende\n",
            "Match:  Du har en lyst til at afprøve og videreudvikle dine mange kompetencer - Dette i en opgave hvor du virkelig kan sætte dit præg på det samlede resultat Du er i gang med en relevant uddannelse inden for grafisk design eller kommunikation Du har erfaring med udarbejdelse af grafiske elementer, photoshop mm  Du har drive, og passion for kvalitet Du er god til at tænke ud af boksen, er ambitiøst og kreativt tænkende     Hvad er opgaverne? (Score: 0.6376)\n",
            "Match : 5\n",
            "Lookup:  Du trives med at være opsøgende Du kan arbejde både selvstændigt og som del af et mindre team\n",
            "Match:  Brænder du for at skabe og fremstille ny grafik, kan finde på kreative løsninger, har en stærk strategisk sans og kan samtidig arbejde selvstændigt, er du den, vi har brug for i vores team i Scratcher! (Score: 0.6126)\n",
            "\n",
            "\n",
            "Personal qualifications in JobAds.\n",
            "For threshold:  0.6\n",
            "Match : 1\n",
            "Lookup:  Vi forventer, at du som person er selvledende, kreativ, fleksibel og indstillet på at arbejde i et travlt miljø.\n",
            "Match:  Du vil indgå i et team med kompetente kollegaer, hvor I samarbejder om læringsaktiviteter og sikrer rammerne for et godt studiemiljø. (Score: 0.6192)\n",
            "Match : 2\n",
            "Lookup:  Du er ansvarsfuld, selvstændig og har mod på at udvikle digVære initiativrig og opsøgende\n",
            "Match:  Vi forventer, at du via dit netværk i erhvervslivet kan være med til at fremtidssikre uddannelserne og skabe vækst og udvikling i lokalområdet. (Score: 0.6326)\n",
            "Match : 3\n",
            "Lookup:  Som menneske er du udadvendt, opsøgende og pædagogisk\n",
            "Match:  Et adjunktforløb er på maksimalt 4 år. (Score: 0.6061)\n",
            "Match : 4\n",
            "Lookup:  Du udviser en høj grad af uafhængighed, er proaktiv og selvstartende\n",
            "Match:  Hvis du har en bacheloruddannelse, skal du forvente at læse en masteruddannelse. (Score: 0.6003)\n",
            "Match : 5\n",
            "Lookup:  Du trives med at være opsøgende Du kan arbejde både selvstændigt og som del af et mindre team\n",
            "Match:  Det er derfor vigtigt, at du er en teamplayer, og at du medvirker og tager initiativer til pædagogisk og faglig fornyelse. (Score: 0.6053)\n",
            "\n",
            "\n",
            "Personal qualifications in JobAds.\n",
            "For threshold:  0.6\n",
            "Match : 1\n",
            "Lookup:  Vi forventer, at du som person er selvledende, kreativ, fleksibel og indstillet på at arbejde i et travlt miljø.\n",
            "Match:  Vores mål er at fastholde og udvikle København som en af verdens bedste byer at bo i - og skabe øget vækst gennem viden, innovation og beskæftigelse. (Score: 0.6183)\n",
            "Match : 2\n",
            "Lookup:  Vi forestiller os, at du som person er kreativ, visuel og har god sans for detaljen.Vi forestiller os, at du som person er kreativ, visuel og har god sans for detaljen\n",
            "Match:  Og så er det selvfølgelig vigtigt for os at have et godt og respektfuldt arbejdsmiljø, hvor man hjælper hinanden, har en god omgangstone, og hvor der er plads til også at have det sjovt, mens vi arbejder. (Score: 0.6432)\n",
            "Match : 3\n",
            "Lookup:  Er detaljeorienteret og har en struktureret tilgang til dine arbejdsopgaver\n",
            "Match:  Som en del af teamet er du med til at udvikle essentielle produkter til københavnernes dagligdag, fordi vi laver visuel kommunikation om alt fra folkeskoler og demens til corona, kommuneplaner og Tour de France. (Score: 0.6101)\n",
            "Match : 4\n",
            "Lookup:  Du trives med at være opsøgende Du kan arbejde både selvstændigt og som del af et mindre team\n",
            "Match:  Som en del af teamet er du med til at udvikle essentielle produkter til københavnernes dagligdag, fordi vi laver visuel kommunikation om alt fra folkeskoler og demens til corona, kommuneplaner og Tour de France. (Score: 0.6004)\n"
          ]
        }
      ]
    },
    {
      "cell_type": "code",
      "source": [
        "print(true_positives, false_negatives, false_positives, true_negatives, nb_rows)"
      ],
      "metadata": {
        "colab": {
          "base_uri": "https://localhost:8080/"
        },
        "id": "X6PnIAsF5Nru",
        "outputId": "d99184c9-8381-4963-9018-e3b0aa8478f5"
      },
      "id": "X6PnIAsF5Nru",
      "execution_count": 114,
      "outputs": [
        {
          "output_type": "stream",
          "name": "stdout",
          "text": [
            "7 0 0 3 10\n"
          ]
        }
      ]
    },
    {
      "cell_type": "code",
      "source": [
        "import matplotlib.pyplot as plt\n",
        "import numpy as np\n",
        "\n",
        "\n",
        "def PlotRocCurve():\n",
        "\n",
        "   # false positive rate\n",
        "   fpr = []\n",
        "   # true positive rate\n",
        "   tpr = []\n",
        "   # Iterate thresholds from 0.0, 0.1, ... 1.0\n",
        "   thresholds = np.arange(0.0, 1.01, .2)\n",
        "\n",
        "   # iterate through all thresholds and determine fraction of true positives\n",
        "   # and false positives found at this threshold\n",
        "   for thresh in thresholds:       \n",
        "       true_positives, false_negatives, false_positives, true_negatives, nb_rows = FindPositveAndNegativeExamplesForQualifications(thresh, False)\n",
        "\n",
        "       if (false_positives + true_negatives) != 0:   \n",
        "         if (true_positives + false_negatives) != 0:  \n",
        "            fpr.append(false_positives / float(false_positives + true_negatives))\n",
        "            tpr.append(true_positives / float(true_positives + false_negatives))\n",
        "     \n",
        "   plt.scatter(fpr, tpr)\n",
        "\n",
        "   ypoints = np.array([0, 1])\n",
        "   plt.plot(ypoints, linestyle = 'dotted')\n",
        "\n",
        "   plt.show()"
      ],
      "metadata": {
        "id": "uvnWVp0fGlOq"
      },
      "id": "uvnWVp0fGlOq",
      "execution_count": 115,
      "outputs": []
    },
    {
      "cell_type": "code",
      "source": [
        "PlotRocCurve()"
      ],
      "metadata": {
        "colab": {
          "base_uri": "https://localhost:8080/",
          "height": 265
        },
        "id": "nnESWXFVI9j9",
        "outputId": "14086a56-dc69-4496-c539-942d009b235f"
      },
      "id": "nnESWXFVI9j9",
      "execution_count": 116,
      "outputs": [
        {
          "output_type": "display_data",
          "data": {
            "text/plain": [
              "<Figure size 432x288 with 1 Axes>"
            ],
            "image/png": "[encoded data removed]"
          },
          "metadata": {
            "needs_background": "light"
          }
        }
      ]
    },
    {
      "cell_type": "code",
      "source": [
        "t1 = time.perf_counter()\n",
        "PlotRocCurve()\n",
        "t2 = time.perf_counter()\n",
        "print('Search through 10 ads. Time taken to run:',t2-t1)"
      ],
      "metadata": {
        "colab": {
          "base_uri": "https://localhost:8080/",
          "height": 282
        },
        "id": "_uGtk_kpItLA",
        "outputId": "97113417-a2a0-4883-bc2c-9198586c740a"
      },
      "id": "_uGtk_kpItLA",
      "execution_count": 117,
      "outputs": [
        {
          "output_type": "display_data",
          "data": {
            "text/plain": [
              "<Figure size 432x288 with 1 Axes>"
            ],
            "image/png": "[encoded data removed]"
          },
          "metadata": {
            "needs_background": "light"
          }
        },
        {
          "output_type": "stream",
          "name": "stdout",
          "text": [
            "Search through 10 ads. Time taken to run: 139.49233896999976\n"
          ]
        }
      ]
    },
    {
      "cell_type": "code",
      "source": [
        "!nvidia-smi -L"
      ],
      "metadata": {
        "colab": {
          "base_uri": "https://localhost:8080/"
        },
        "id": "AzrFmb-9d5ot",
        "outputId": "b132676a-3e96-41bb-99d6-ec972a4c6106"
      },
      "id": "AzrFmb-9d5ot",
      "execution_count": 118,
      "outputs": [
        {
          "output_type": "stream",
          "name": "stdout",
          "text": [
            "GPU 0: Tesla T4 (UUID: GPU-a142dd1c-569f-c42b-be29-17aaef4e7f7d)\n"
          ]
        }
      ]
    },
    {
      "cell_type": "code",
      "source": [
        "!nvidia-smi "
      ],
      "metadata": {
        "colab": {
          "base_uri": "https://localhost:8080/"
        },
        "id": "ZII3fXcoeFaC",
        "outputId": "5bbade0f-c893-44d6-dd3c-059dcf444b5d"
      },
      "id": "ZII3fXcoeFaC",
      "execution_count": 119,
      "outputs": [
        {
          "output_type": "stream",
          "name": "stdout",
          "text": [
            "Fri Dec 23 19:31:54 2022       \n",
            "+-----------------------------------------------------------------------------+\n",
            "| NVIDIA-SMI 460.32.03    Driver Version: 460.32.03    CUDA Version: 11.2     |\n",
            "|-------------------------------+----------------------+----------------------+\n",
            "| GPU  Name        Persistence-M| Bus-Id        Disp.A | Volatile Uncorr. ECC |\n",
            "| Fan  Temp  Perf  Pwr:Usage/Cap|         Memory-Usage | GPU-Util  Compute M. |\n",
            "|                               |                      |               MIG M. |\n",
            "|===============================+======================+======================|\n",
            "|   0  Tesla T4            Off  | 00000000:00:04.0 Off |                    0 |\n",
            "| N/A   71C    P0    32W /  70W |   2286MiB / 15109MiB |      0%      Default |\n",
            "|                               |                      |                  N/A |\n",
            "+-------------------------------+----------------------+----------------------+\n",
            "                                                                               \n",
            "+-----------------------------------------------------------------------------+\n",
            "| Processes:                                                                  |\n",
            "|  GPU   GI   CI        PID   Type   Process name                  GPU Memory |\n",
            "|        ID   ID                                                   Usage      |\n",
            "|=============================================================================|\n",
            "+-----------------------------------------------------------------------------+\n"
          ]
        }
      ]
    }
  ],
  "metadata": {
    "kernelspec": {
      "display_name": "Python 3 (ipykernel)",
      "language": "python",
      "name": "python3"
    },
    "language_info": {
      "codemirror_mode": {
        "name": "ipython",
        "version": 3
      },
      "file_extension": ".py",
      "mimetype": "text/x-python",
      "name": "python",
      "nbconvert_exporter": "python",
      "pygments_lexer": "ipython3",
      "version": "3.7.7"
    },
    "colab": {
      "provenance": []
    },
    "gpuClass": "standard",
    "accelerator": "GPU"
  },
  "nbformat": 4,
  "nbformat_minor": 5
}