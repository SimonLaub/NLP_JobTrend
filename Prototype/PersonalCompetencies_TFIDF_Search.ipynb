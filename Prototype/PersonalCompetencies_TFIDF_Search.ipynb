{
  "nbformat": 4,
  "nbformat_minor": 0,
  "metadata": {
    "colab": {
      "provenance": []
    },
    "kernelspec": {
      "name": "python3",
      "display_name": "Python 3"
    },
    "language_info": {
      "name": "python"
    }
  },
  "cells": [
    {
      "cell_type": "code",
      "execution_count": null,
      "metadata": {
        "id": "18RlRvxBOgyn"
      },
      "outputs": [],
      "source": [
        "# Basic text analytics. Personal Competence classification based on tfidf\n",
        "# Sila 9 January 2023\n",
        "#"
      ]
    },
    {
      "cell_type": "code",
      "source": [
        "# Use files:\n",
        "# JobTrendAds_TFIDF_Search.csv, JobTrendAds_TFIDF_ChangedJobTexts.csv\n",
        "# on Github.\n",
        "# Change code below, accordingly. "
      ],
      "metadata": {
        "id": "YFNHJfnFfGkw"
      },
      "execution_count": null,
      "outputs": []
    },
    {
      "cell_type": "code",
      "source": [
        "from google.colab import files\n",
        "uploaded = files.upload()"
      ],
      "metadata": {
        "colab": {
          "base_uri": "https://localhost:8080/",
          "height": 73
        },
        "id": "KaRchuazPVxo",
        "outputId": "7afc4d26-3192-4187-b2ea-3e1cb2aa3bd7"
      },
      "execution_count": null,
      "outputs": [
        {
          "output_type": "display_data",
          "data": {
            "text/plain": [
              "<IPython.core.display.HTML object>"
            ],
            "text/html": [
              "\n",
              "     <input type=\"file\" id=\"files-268841a4-5705-430c-b34a-6435b3914202\" name=\"files[]\" multiple disabled\n",
              "        style=\"border:none\" />\n",
              "     <output id=\"result-268841a4-5705-430c-b34a-6435b3914202\">\n",
              "      Upload widget is only available when the cell has been executed in the\n",
              "      current browser session. Please rerun this cell to enable.\n",
              "      </output>\n",
              "      <script>// Copyright 2017 Google LLC\n",
              "//\n",
              "// Licensed under the Apache License, Version 2.0 (the \"License\");\n",
              "// you may not use this file except in compliance with the License.\n",
              "// You may obtain a copy of the License at\n",
              "//\n",
              "//      http://www.apache.org/licenses/LICENSE-2.0\n",
              "//\n",
              "// Unless required by applicable law or agreed to in writing, software\n",
              "// distributed under the License is distributed on an \"AS IS\" BASIS,\n",
              "// WITHOUT WARRANTIES OR CONDITIONS OF ANY KIND, either express or implied.\n",
              "// See the License for the specific language governing permissions and\n",
              "// limitations under the License.\n",
              "\n",
              "/**\n",
              " * @fileoverview Helpers for google.colab Python module.\n",
              " */\n",
              "(function(scope) {\n",
              "function span(text, styleAttributes = {}) {\n",
              "  const element = document.createElement('span');\n",
              "  element.textContent = text;\n",
              "  for (const key of Object.keys(styleAttributes)) {\n",
              "    element.style[key] = styleAttributes[key];\n",
              "  }\n",
              "  return element;\n",
              "}\n",
              "\n",
              "// Max number of bytes which will be uploaded at a time.\n",
              "const MAX_PAYLOAD_SIZE = 100 * 1024;\n",
              "\n",
              "function _uploadFiles(inputId, outputId) {\n",
              "  const steps = uploadFilesStep(inputId, outputId);\n",
              "  const outputElement = document.getElementById(outputId);\n",
              "  // Cache steps on the outputElement to make it available for the next call\n",
              "  // to uploadFilesContinue from Python.\n",
              "  outputElement.steps = steps;\n",
              "\n",
              "  return _uploadFilesContinue(outputId);\n",
              "}\n",
              "\n",
              "// This is roughly an async generator (not supported in the browser yet),\n",
              "// where there are multiple asynchronous steps and the Python side is going\n",
              "// to poll for completion of each step.\n",
              "// This uses a Promise to block the python side on completion of each step,\n",
              "// then passes the result of the previous step as the input to the next step.\n",
              "function _uploadFilesContinue(outputId) {\n",
              "  const outputElement = document.getElementById(outputId);\n",
              "  const steps = outputElement.steps;\n",
              "\n",
              "  const next = steps.next(outputElement.lastPromiseValue);\n",
              "  return Promise.resolve(next.value.promise).then((value) => {\n",
              "    // Cache the last promise value to make it available to the next\n",
              "    // step of the generator.\n",
              "    outputElement.lastPromiseValue = value;\n",
              "    return next.value.response;\n",
              "  });\n",
              "}\n",
              "\n",
              "/**\n",
              " * Generator function which is called between each async step of the upload\n",
              " * process.\n",
              " * @param {string} inputId Element ID of the input file picker element.\n",
              " * @param {string} outputId Element ID of the output display.\n",
              " * @return {!Iterable<!Object>} Iterable of next steps.\n",
              " */\n",
              "function* uploadFilesStep(inputId, outputId) {\n",
              "  const inputElement = document.getElementById(inputId);\n",
              "  inputElement.disabled = false;\n",
              "\n",
              "  const outputElement = document.getElementById(outputId);\n",
              "  outputElement.innerHTML = '';\n",
              "\n",
              "  const pickedPromise = new Promise((resolve) => {\n",
              "    inputElement.addEventListener('change', (e) => {\n",
              "      resolve(e.target.files);\n",
              "    });\n",
              "  });\n",
              "\n",
              "  const cancel = document.createElement('button');\n",
              "  inputElement.parentElement.appendChild(cancel);\n",
              "  cancel.textContent = 'Cancel upload';\n",
              "  const cancelPromise = new Promise((resolve) => {\n",
              "    cancel.onclick = () => {\n",
              "      resolve(null);\n",
              "    };\n",
              "  });\n",
              "\n",
              "  // Wait for the user to pick the files.\n",
              "  const files = yield {\n",
              "    promise: Promise.race([pickedPromise, cancelPromise]),\n",
              "    response: {\n",
              "      action: 'starting',\n",
              "    }\n",
              "  };\n",
              "\n",
              "  cancel.remove();\n",
              "\n",
              "  // Disable the input element since further picks are not allowed.\n",
              "  inputElement.disabled = true;\n",
              "\n",
              "  if (!files) {\n",
              "    return {\n",
              "      response: {\n",
              "        action: 'complete',\n",
              "      }\n",
              "    };\n",
              "  }\n",
              "\n",
              "  for (const file of files) {\n",
              "    const li = document.createElement('li');\n",
              "    li.append(span(file.name, {fontWeight: 'bold'}));\n",
              "    li.append(span(\n",
              "        `(${file.type || 'n/a'}) - ${file.size} bytes, ` +\n",
              "        `last modified: ${\n",
              "            file.lastModifiedDate ? file.lastModifiedDate.toLocaleDateString() :\n",
              "                                    'n/a'} - `));\n",
              "    const percent = span('0% done');\n",
              "    li.appendChild(percent);\n",
              "\n",
              "    outputElement.appendChild(li);\n",
              "\n",
              "    const fileDataPromise = new Promise((resolve) => {\n",
              "      const reader = new FileReader();\n",
              "      reader.onload = (e) => {\n",
              "        resolve(e.target.result);\n",
              "      };\n",
              "      reader.readAsArrayBuffer(file);\n",
              "    });\n",
              "    // Wait for the data to be ready.\n",
              "    let fileData = yield {\n",
              "      promise: fileDataPromise,\n",
              "      response: {\n",
              "        action: 'continue',\n",
              "      }\n",
              "    };\n",
              "\n",
              "    // Use a chunked sending to avoid message size limits. See b/62115660.\n",
              "    let position = 0;\n",
              "    do {\n",
              "      const length = Math.min(fileData.byteLength - position, MAX_PAYLOAD_SIZE);\n",
              "      const chunk = new Uint8Array(fileData, position, length);\n",
              "      position += length;\n",
              "\n",
              "      const base64 = btoa(String.fromCharCode.apply(null, chunk));\n",
              "      yield {\n",
              "        response: {\n",
              "          action: 'append',\n",
              "          file: file.name,\n",
              "          data: base64,\n",
              "        },\n",
              "      };\n",
              "\n",
              "      let percentDone = fileData.byteLength === 0 ?\n",
              "          100 :\n",
              "          Math.round((position / fileData.byteLength) * 100);\n",
              "      percent.textContent = `${percentDone}% done`;\n",
              "\n",
              "    } while (position < fileData.byteLength);\n",
              "  }\n",
              "\n",
              "  // All done.\n",
              "  yield {\n",
              "    response: {\n",
              "      action: 'complete',\n",
              "    }\n",
              "  };\n",
              "}\n",
              "\n",
              "scope.google = scope.google || {};\n",
              "scope.google.colab = scope.google.colab || {};\n",
              "scope.google.colab._files = {\n",
              "  _uploadFiles,\n",
              "  _uploadFilesContinue,\n",
              "};\n",
              "})(self);\n",
              "</script> "
            ]
          },
          "metadata": {}
        },
        {
          "output_type": "stream",
          "name": "stdout",
          "text": [
            "Saving JobTrendAdsTFIDF_ChangedJobTexts.csv to JobTrendAdsTFIDF_ChangedJobTexts.csv\n"
          ]
        }
      ]
    },
    {
      "cell_type": "code",
      "source": [
        "!ls"
      ],
      "metadata": {
        "colab": {
          "base_uri": "https://localhost:8080/"
        },
        "id": "dYa2GVyLPkL3",
        "outputId": "a2ed904a-8f31-4af9-88e5-d6e0d9841ce4"
      },
      "execution_count": null,
      "outputs": [
        {
          "output_type": "stream",
          "name": "stdout",
          "text": [
            "JobTrendAdsTFIDF_ChangedJobTexts.csv  JobTrendAdsTFIDF.csv  sample_data\n"
          ]
        }
      ]
    },
    {
      "cell_type": "code",
      "source": [
        "# Read Jobfile\n",
        "import pandas as pd\n",
        "\n",
        "colnames=['Source.Name','ID', 'Date time', 'Details', 'Region', 'Pers.Komp', 'Pers.Komp.Value','Rest'] \n",
        "df = pd.read_csv(\"JobTrendAdsTFIDF.csv\", usecols = colnames, encoding=\"utf-8\", sep=';', header = 0 )\n",
        "\n",
        "# The JobTrend file must saved in utf-8 format"
      ],
      "metadata": {
        "id": "LiBmrMpjPmpb"
      },
      "execution_count": null,
      "outputs": []
    },
    {
      "cell_type": "code",
      "source": [
        "df.rename(columns = {'Rest':'JobAdText'}, inplace = True)\n",
        "df.rename(columns = {'Pers.Komp':'PersonligeKompetencer'}, inplace = True)"
      ],
      "metadata": {
        "id": "Ye0MRV8_QKHs"
      },
      "execution_count": null,
      "outputs": []
    },
    {
      "cell_type": "code",
      "source": [
        "df.drop('Source.Name' , axis = 1 , inplace = True )\n",
        "df.drop('Date time' , axis = 1 , inplace = True )\n",
        "df.drop('Details' , axis = 1 , inplace = True )\n",
        "df.drop('Region' , axis = 1 , inplace = True )"
      ],
      "metadata": {
        "id": "2U5n1bW8QXEf"
      },
      "execution_count": null,
      "outputs": []
    },
    {
      "cell_type": "code",
      "source": [
        "# Replace No-value with zero on Pers.Komp column\n",
        "df[\"PersonligeKompetencer\"] = df[\"PersonligeKompetencer\"].fillna(0)"
      ],
      "metadata": {
        "id": "kZrmuPI-QgEm"
      },
      "execution_count": null,
      "outputs": []
    },
    {
      "cell_type": "code",
      "source": [
        "from nltk import tokenize"
      ],
      "metadata": {
        "id": "6CE8R0csRIBe"
      },
      "execution_count": null,
      "outputs": []
    },
    {
      "cell_type": "code",
      "source": [
        "import nltk\n",
        "nltk.download('punkt')"
      ],
      "metadata": {
        "colab": {
          "base_uri": "https://localhost:8080/"
        },
        "id": "jQz15S5wRKFf",
        "outputId": "26041e94-b4b4-45cf-81b5-82c0528cde70"
      },
      "execution_count": null,
      "outputs": [
        {
          "output_type": "stream",
          "name": "stderr",
          "text": [
            "[nltk_data] Downloading package punkt to /root/nltk_data...\n",
            "[nltk_data]   Package punkt is already up-to-date!\n"
          ]
        },
        {
          "output_type": "execute_result",
          "data": {
            "text/plain": [
              "True"
            ]
          },
          "metadata": {},
          "execution_count": 221
        }
      ]
    },
    {
      "cell_type": "code",
      "source": [
        "# For start, only look at 1 row\n",
        "AllSentences = []\n",
        "for row in df.head(2).itertuples():\n",
        "    AdText = row.JobAdText\n",
        "\n",
        "    Sentences = tokenize.sent_tokenize(AdText)\n",
        "    \n",
        "    for sent in Sentences:\n",
        "       AllSentences.append(sent)"
      ],
      "metadata": {
        "id": "acFiVvt7Q9Pe"
      },
      "execution_count": null,
      "outputs": []
    },
    {
      "cell_type": "code",
      "source": [
        "print(AllSentences)"
      ],
      "metadata": {
        "colab": {
          "base_uri": "https://localhost:8080/"
        },
        "id": "7NR35J1vRZWU",
        "outputId": "4c7ac640-72f8-44eb-a95f-9a5bacb207ed"
      },
      "execution_count": null,
      "outputs": [
        {
          "output_type": "stream",
          "name": "stdout",
          "text": [
            "['                                                                                                                                                                                                                                                                              Digital Marketing Koordinator  A/S Vestfrost  Esbjerg  Indrykket\\xa029.\\xa0oktober\\xa02021    Vil du være med til at opbygge et marketingsunivers for en mellemstor B2B-virksomhed?', 'I en nyoprettet stilling får du i høj grad mulighed for at sætte dit præg på, hvordan Vestfrost opfattes af kunder og partnere gennem udarbejdelsen af virksomhedens marketingmateriale.', 'Så brænder du for online marketing?', 'Kan du skabe digitale kampagner med målbar effekt og konverteringer?', 'Har du flair for at arbejde med content og sociale medier?', 'Så har vi jobbet til dig!', 'Du skal være med til at løfte vores digitale salgs- og marketingaktiviteter for vores forskellige brands, samt tiltrække nye kunder.', 'Dine primære opgaver vil være:  Udbygge og vedligeholde content på Vestfrost-hjemmesiden Content til SoMe Opdatering og vedligeholdelse af datablade samt brochure Content til cases Relevant markedsføringsmateriale såsom billede, video, messemateriale m.m.', 'Med en ny og moderniseret hjemmeside føler vi, at alt vores content på hjemmesiden, samt fysisk materiale også skal følge med.', 'Vi forventer, at du:  Har en relevant professionsbachelor i e-handel, er multimediedesigner, markedsføringsøkonom eller grafisk uddannet Har erfaring i brug af InDesign, Illustrator og Photoshop Har gode kommunikationsevner Kan arbejde selvmotiverende Er fejlfri på skriftlig dansk og engelsk Erfaring med SEO.', 'Det er ikke et krav, men en fordel   Til koncernfunktionen i Esbjerg søger A/S Vestfrost en dygtig og serviceminded Digital Marketing Koordinator.', 'Du vil indgå i vores salgsafdeling med i alt 14 ansatte.', 'Vi tilbyder:  Ansættelse i en innovativ virksomhed Et spændende og varieret job i en 100 % danskejet international vækstvirksomhed En uhøjtidelig og uformel organisation med stor frihed under ansvar Gode personaleforhold   Tiltrædelse: Efter aftale.', 'Kontakt:  Har du uddybende spørgsmål til ovenstående, er du velkommen til at kontakte Jessica Ortiz Rosenkilde på  eller på telefon 7914 2272.', 'Er stillingen noget for dig, så send din ansøgning via nedenstående link \"Søg jobbet online\".', 'Vi holder løbende samtaler med relevante kandidater.', 'A/S Vestfrost er en danskejet virksomhed.', 'Med udgangspunkt i stor knowhow omkring køl og frys sælges værdiskabende B2B-løsninger internationalt til forretningsområderne: Bio Medical, Cold Chain Equipment, Merchandising & Wine.', 'Virksomheden er førende inden for innovative, kundespecifikke løsninger samt energi- og miljøoptimeret køleudstyr.', 'A/S Vestfrost, som har hovedkontor i Esbjerg, omsætter i dag for knap kr.', '500 millioner og har 500 ansatte, heraf mere end halvdelen i den 100 % ejede dattervirksomhed Vestfrost Zrt.', 'i Ungarn.', '13 evalueringer  Jobannoncer                Vil du også følge virksomheden?', 'Vil du følge virksomheden?', 'Når du følger en virksomhed, får du tilsendt opdateringer om nye stillinger, nyheder og anden relevant information.', 'Virksomheden får adgang til dine personlige oplysninger samt CV, så de kan kontakte dig, hvis de i fremtiden har et job, der matcher dine kompetencer.', 'Du giver også virksomheden mulighed for at kontakte dig, hvis de i fremtiden har et job, der matcher dine kompetencer.', 'Det er en god idé, at du opretter et CV, så virksomheden let og med det samme får en god forståelse af dig og din profil.', 'Det er en god idé, at du sætter dit CV online, så virksomheden let og med det samme får en god forståelse af dig og din profil.', 'Det er en god idé, at du opdaterer dit CV, så virksomheden let og med det samme får en god forståelse af dig og din profil.', 'Vil du vise interesse for dette job?', 'Det er en god idé, at du opretter et CV, så virksomheden let og med det samme får en god forståelse af dig og din profil.', 'Det er en god idé, at du sætter dit CV online, så virksomheden let og med det samme får en god forståelse af dig og din profil.', 'Det er en god idé, at du opdaterer dit CV, så virksomheden let og med det samme får en god forståelse af dig og din profil.', 'Vis interesse for job    For at vise interesse skal du have et online CV.', 'Klik på knappen nedenfor og opret dit CV - det tager kun 5 minutter.', 'For at vise interesse skal du have et online CV.', 'Klik på knappen nedenfor og sæt dit CV online.', 'Læs mere om interessevisning .', 'For jobsøgere           For arbejdsgivere           Om Jobindex          Modtag nyheder     Hent job-apps     Følg os             Jobindex A/S, Carl Jacobsens Vej 29-31, 2500 Valby, Tlf.', ', CVR-nr.', '21367087       ()                         Ansvarlig brug af dine oplysninger', '                                   \\xa0    \\xa0                 Stilling: Støtteperson / Mentor   Oprettet: 30-08-2019     Job start: Snarest muligt   Annoncenr: 93705 JobId: 106655   \\xa0      Arbejdssted: 5000\\xa0Odense C   Køn:   MK              \\xa0      \\xa0    Jobbeskrivelse Støtteperson/mentor søges til 37-årig kvindelig studerende.', 'Hun studerer multimediedesigner på Prof. højskolen - Odense C, 2. semester.', 'Hun har brug for:  • Planlægning - fx ugeplan og læseplan • Støtte til at få skabt struktur omkring hverdagen på studiet • Vejledning – fx i forhold til opgaveskrivning og studieteknik • Støtte til at opnå overblik over deadlines, afleveringer, undervisning m.m.', 'Der er bevilliget i alt 20 timer til og med den 31. december 2019.', 'I mødes ca.', 'en gang om ugen efter aftale og behov.', 'Hvis du er interesseret i stillingen, bedes du sende en personlig ansøgning indeholdende:  • Dit navn, alder, telefonnummer og email-adresse • Beskrivelse af din motivation og dine kompetencer for at være støtteperson/mentor  • Beskrivelse af dit eventuelle kendskab til studiestedet og/eller faget  Din ansøgning videresendes til den studerende  Vi ser helst, at du kan hjælpe den studerende minimum et semester og gerne længere.', 'I forbindelse med din ansættelse vil vi evt.', 'kontakte dig med henblik på en samtale.', 'Stillingen aflønnes efter gældende takster med 124-131 kr./timen     Bemærk:  Din ansøgning formidles gennem DUOS.', 'For at søge stillingen kræver det at du er oprettet i vores jobdatabase        Log ind hvis du allerede har en profil                 Skriv venligst din e-mail og adgangskode                        \\xa0     \\xa0  DUOS vægter høj faglighed og tæt dialog med borger og myndighed.', 'Vi er mennesker, der hjælper andre mennesker med handicap.Flere sider:Få vores nyhedsbrevMere end 11.000 e-abonnenter modtager hver måned vores nyhedsbrev.', 'Her får du vores syn på personlig støtte til borgere med handicap, sygdom eller sociale vanskeligheder.Tilmeld nyhedsbrev © 2017 duos.dk | Ellebjergvej 52 | 2450 København SV | T: 3634 7900 | E:  | CVR: 25477154 \\xa0              Vil du modtage vores nyhedsbrev?', 'Ok']\n"
          ]
        }
      ]
    },
    {
      "cell_type": "code",
      "source": [
        "# Using Gensim to make Predictions.\n",
        "#\n",
        "# Text similiarity scores"
      ],
      "metadata": {
        "id": "5Yri_-2gTGvn"
      },
      "execution_count": null,
      "outputs": []
    },
    {
      "cell_type": "code",
      "source": [
        "from gensim import corpora, models, similarities\n",
        "import jieba"
      ],
      "metadata": {
        "id": "6r5UvcqdTppz"
      },
      "execution_count": null,
      "outputs": []
    },
    {
      "cell_type": "code",
      "source": [
        "# jieba is a text segmentation Python module for cutting the words \n",
        "# into segmentations for easier analysis of text similarity in the future.)"
      ],
      "metadata": {
        "id": "MRO0DIPLTsiS"
      },
      "execution_count": null,
      "outputs": []
    },
    {
      "cell_type": "code",
      "source": [
        "texts = [jieba.lcut(text) for text in AllSentences]\n",
        "dictionary = corpora.Dictionary(texts)\n",
        "feature_cnt = len(dictionary.token2id)"
      ],
      "metadata": {
        "id": "WzKrhpe-UFBX"
      },
      "execution_count": null,
      "outputs": []
    },
    {
      "cell_type": "code",
      "source": [
        "corpus = [dictionary.doc2bow(text) for text in texts]"
      ],
      "metadata": {
        "id": "9aR-pvRSUz1L"
      },
      "execution_count": null,
      "outputs": []
    },
    {
      "cell_type": "code",
      "source": [
        "tfidf = models.TfidfModel(corpus) "
      ],
      "metadata": {
        "id": "aqAADiGmU9wE"
      },
      "execution_count": null,
      "outputs": []
    },
    {
      "cell_type": "code",
      "source": [
        "personal_qualifications=['Har gode kommunikationsevner',\n",
        "'Kan arbejde selvmotiverende',\n",
        "'Du tager ansvar for dine projekter og følger altid dine opgaver til dørs',\n",
        "'Vi forventer, at du som person er selvledende, kreativ, fleksibel og indstillet på at arbejde i et travlt miljø.',\n",
        "'Du er nysgerrig, kritisk og løsningsorienteret - også når det bliver komplekst',\n",
        "'Du har drive, og passion for kvalitet',\n",
        "'Du er god til at tænke ud af boksen, er ambitiøst og kreativt tænkende',\n",
        "'er engageret, har god energi og er en god kollega',\n",
        "'Som person er du først og fremmest kreativ og du er god til at finde på nye løsninger',\n",
        "'Du er ansvarsfuld, selvstændig og har mod på at udvikle dig'\n",
        "'Være initiativrig og opsøgende',\n",
        "'Ivrig efter af lære Som person forestiller vi os, at du er engageret, kreativ og nysgerrig',\n",
        "'Du er god til at skabe relationer på tværs',\n",
        "'er selvstændig og grundig',\n",
        "'Du har flair for content',\n",
        "'Du er frisk, nede på jorden og klar på en god snak med dine kollegaer',\n",
        "'Du trives med rutineprægede opgaver, og bidrager med masser af godt humør',\n",
        "'Er optimist og ser muligheder fremfor begrænsninger',\n",
        "'Vi forestiller os, at du som person er kreativ, visuel og har god sans for detaljen.Vi forestiller os, at du som person er kreativ, visuel og har god sans for detaljen',\n",
        "'Som menneske er du udadvendt, opsøgende og pædagogisk',\n",
        "'Er kvalitetsbevidst og sætter en stolthed i at udføre et godt stykke arbejde',\n",
        "'Er detaljeorienteret og har en struktureret tilgang til dine arbejdsopgaver',\n",
        "'Er god til at tale med mennesker og sætte sig ind i deres behov',\n",
        "'Du er detaljeorienteret til mindste detalje og stortrives med en bred kontaktflade',\n",
        "'Du er struktureret og har høj selvdisciplin',\n",
        "'Du udviser en høj grad af uafhængighed, er proaktiv og selvstartende',\n",
        "'Vi søger en person, der er detaljeorienteret og analytisk stærk',\n",
        "'Du trives med at være opsøgende Du kan arbejde både selvstændigt og som del af et mindre team',\n",
        "'er ansvarlig, struktureret og målorienteret samt serviceminded, positiv og imødekommende',\n",
        "'Kreativ, nysgerrig, initiativrig og ikke bange for at spørge. Struktureret og detaljeorienteret',\n",
        "'At du har et godt drive, kan arbejde selvstændigt, struktureret og tage ansvar',\n",
        "'Du er god til at styre din tid og trives med at have mange bolde i luften']"
      ],
      "metadata": {
        "id": "E3T1q7gwat-n"
      },
      "execution_count": null,
      "outputs": []
    },
    {
      "cell_type": "markdown",
      "source": [],
      "metadata": {
        "id": "GctQzshCnnL-"
      }
    },
    {
      "cell_type": "code",
      "source": [
        "def FindMostSimilarSentence(AdTextCorpus, LookupSentence):\n",
        "   texts = [jieba.lcut(text) for text in AdTextCorpus]\n",
        "   dictionary = corpora.Dictionary(texts)\n",
        "   feature_cnt = len(dictionary.token2id) \n",
        "\n",
        "   corpus = [dictionary.doc2bow(text) for text in texts]\n",
        "     \n",
        "   tfidf = models.TfidfModel(corpus) \n",
        "\n",
        "   kw_vector = dictionary.doc2bow(jieba.lcut(LookupSentence))\n",
        "\n",
        "   index = similarities.SparseMatrixSimilarity(tfidf[corpus], num_features = feature_cnt)\n",
        "\n",
        "   sim = index[tfidf[kw_vector]]\n",
        "  \n",
        "   highvalue=0\n",
        "   kompetence_response=\"\"\n",
        "   sentence_response=\"\"\n",
        "   for i in range(len(sim)):\n",
        "       if (sim[i]>highvalue):\n",
        "          highvalue = sim[i]\n",
        "          kompetence_response = \"Kompetence Lookup:\" + LookupSentence\n",
        "          sentence_response = AdTextCorpus[i] + \" - \" + str(sim[i])\n",
        "\n",
        "   return highvalue, kompetence_response, sentence_response     "
      ],
      "metadata": {
        "id": "oxQg2q6Sbypy"
      },
      "execution_count": null,
      "outputs": []
    },
    {
      "cell_type": "code",
      "source": [
        "# Test of FindMostSimilarSentence\n",
        "AdTextCorpus = ['I love reading Japanese novels. My favorite Japanese writer is Tanizaki Junichiro.',\n",
        "                'Natsume Soseki is a well-known Japanese novelist and his Kokoro is a masterpiece.',\n",
        "                'American modern poetry is good. ']\n",
        "   \n",
        "LookupSentence = 'Japan has some great novelists. Who is your favorite Japanese writer?'"
      ],
      "metadata": {
        "id": "Bur1ut29p_ao"
      },
      "execution_count": null,
      "outputs": []
    },
    {
      "cell_type": "code",
      "source": [
        "highvalue, kompetence_response, sentence_response = FindMostSimilarSentence(AdTextCorpus, LookupSentence)\n",
        "if (highvalue>0):\n",
        "   print(kompetence_response)\n",
        "   print(sentence_response)"
      ],
      "metadata": {
        "colab": {
          "base_uri": "https://localhost:8080/"
        },
        "id": "UfpdCoqqqhLZ",
        "outputId": "3bf5f8d4-0073-4171-cfeb-7034681972d9"
      },
      "execution_count": null,
      "outputs": [
        {
          "output_type": "stream",
          "name": "stdout",
          "text": [
            "Kompetence Lookup:Japan has some great novelists. Who is your favorite Japanese writer?\n",
            "I love reading Japanese novels. My favorite Japanese writer is Tanizaki Junichiro. - 0.5032489\n"
          ]
        }
      ]
    },
    {
      "cell_type": "code",
      "source": [
        "def FindPersonalQualificationsVerbose(AdTextCorpus):\n",
        "   best_match=0\n",
        "   best_kompetence_response=\"\"\n",
        "   best_sentence_response = \"\"\n",
        "   for i in range(len(personal_qualifications)):\n",
        "      Lookup_Sentence=personal_qualifications[i]\n",
        "      highvalue, kompetence_response, sentence_response = FindMostSimilarSentence(AdTextCorpus, Lookup_Sentence)\n",
        "      if (highvalue>best_match):\n",
        "         best_match=highvalue\n",
        "         best_kompetence_response = kompetence_response\n",
        "         best_sentence_response = sentence_response\n",
        "   return best_match, best_kompetence_response, best_sentence_response "
      ],
      "metadata": {
        "id": "8Tlyzuqvbpvd"
      },
      "execution_count": null,
      "outputs": []
    },
    {
      "cell_type": "code",
      "source": [
        "# For each row search find best match\n",
        "y_real=[]\n",
        "y_predicted=[]\n",
        "for row in df.head(20).itertuples():\n",
        "    AdText = row.JobAdText\n",
        "\n",
        "    Sentences = tokenize.sent_tokenize(AdText)\n",
        "    print(\"----\")\n",
        "    print(\"Matches For ad: \",row.ID)\n",
        "    this_ad_highvalue, this_ad_kompetence_response, this_ad_sentence_response = FindPersonalQualificationsVerbose(Sentences)\n",
        "    y_real.append(row.PersonligeKompetencer)\n",
        "    if (this_ad_highvalue>0.5):\n",
        "        y_predicted.append(1)\n",
        "        if (row.PersonligeKompetencer==0):\n",
        "          print(\"WRONG\")\n",
        "    else:\n",
        "        y_predicted.append(0)\n",
        "        if (row.PersonligeKompetencer==1):\n",
        "          print(\"WRONG\")\n",
        "\n",
        "    if (this_ad_highvalue>0):\n",
        "       print(\"Value: \", row.PersonligeKompetencer)\n",
        "       print(this_ad_kompetence_response)\n",
        "       print(this_ad_sentence_response)"
      ],
      "metadata": {
        "id": "prtk6poJVRb3",
        "colab": {
          "base_uri": "https://localhost:8080/"
        },
        "outputId": "12ab49e2-4aec-4694-96c0-c79bf1a7283f"
      },
      "execution_count": null,
      "outputs": [
        {
          "output_type": "stream",
          "name": "stdout",
          "text": [
            "----\n",
            "Matches For ad:  1805634\n",
            "WRONG\n",
            "Value:  1\n",
            "Kompetence Lookup:Du har flair for content\n",
            "Har du flair for at arbejde med content og sociale medier? - 0.4540776\n",
            "----\n",
            "Matches For ad:  756524\n",
            "Value:  0\n",
            "Kompetence Lookup:Har gode kommunikationsevner\n",
            "                                                          Stilling: Støtteperson / Mentor   Oprettet: 30-08-2019     Job start: Snarest muligt   Annoncenr: 93705 JobId: 106655          Arbejdssted: 5000 Odense C   Køn:   MK                          Jobbeskrivelse Støtteperson/mentor søges til 37-årig kvindelig studerende. - 0.4402535\n",
            "----\n",
            "Matches For ad:  321357\n",
            "Value:  0\n",
            "Kompetence Lookup:Har gode kommunikationsevner\n",
            "Du skal brænde for at lave gode og simple løsninger for vores kunder. - 0.37749028\n",
            "----\n",
            "Matches For ad:  1720508\n",
            "Value:  1\n",
            "Kompetence Lookup:Du tager ansvar for dine projekter og følger altid dine opgaver til dørs\n",
            "Du tager ansvar for dine projekter og følger altid dine opgaver til dørs. - 0.9998848\n",
            "----\n",
            "Matches For ad:  519566\n",
            "Value:  1\n",
            "Kompetence Lookup:Vi forventer, at du som person er selvledende, kreativ, fleksibel og indstillet på at arbejde i et travlt miljø.\n",
            "Vi forventer, at du som person er selvledende, kreativ, fleksibel og indstillet på at arbejde i et travlt miljø. - 1.0000001\n",
            "----\n",
            "Matches For ad:  1343961\n",
            "WRONG\n",
            "Value:  0\n",
            "Kompetence Lookup:Har gode kommunikationsevner\n",
            "                                                                                                                                                                                                                                                Vil du også følge virksomheden? - 0.84874266\n",
            "----\n",
            "Matches For ad:  796625\n",
            "Value:  0\n",
            "Kompetence Lookup:Er kvalitetsbevidst og sætter en stolthed i at udføre et godt stykke arbejde\n",
            "Biblioteks nye digitale identitet, så kan vi tilbyde et job, hvor du kommer til at gøre en stor forskel. - 0.44252735\n",
            "----\n",
            "Matches For ad:  533040\n",
            "Value:  1\n",
            "Kompetence Lookup:Du er detaljeorienteret til mindste detalje og stortrives med en bred kontaktflade\n",
            "Du har en lyst til at afprøve og videreudvikle dine mange kompetencer - Dette i en opgave hvor du virkelig kan sætte dit præg på det samlede resultat Du er i gang med en relevant uddannelse inden for grafisk design eller kommunikation Du har erfaring med udarbejdelse af grafiske elementer, photoshop mm  Du har drive, og passion for kvalitet Du er god til at tænke ud af boksen, er ambitiøst og kreativt tænkende     Hvad er opgaverne? - 0.5952475\n",
            "----\n",
            "Matches For ad:  1429905\n",
            "Value:  0\n",
            "Kompetence Lookup:Som menneske er du udadvendt, opsøgende og pædagogisk\n",
            "Det er derfor vigtigt, at du er en teamplayer, og at du medvirker og tager initiativer til pædagogisk og faglig fornyelse. - 0.43500537\n",
            "----\n",
            "Matches For ad:  1748909\n",
            "Value:  0\n",
            "Kompetence Lookup:er selvstændig og grundig\n",
            "Vi har et stærkt fagligt fællesskab, som består af dygtige, engagerede kolleger med bred erfaring fra designbureauer, selvstændig virksomhed og internt fra kommunen. - 0.3332197\n",
            "----\n",
            "Matches For ad:  1648627\n",
            "Value:  1\n",
            "Kompetence Lookup:Som person er du først og fremmest kreativ og du er god til at finde på nye løsninger\n",
            "taktiske kampagner på telenor.dk  Du brænder for grafiske genistreger  Som person er du først og fremmest kreativ og du er god til at finde på nye løsninger. - 0.7912245\n",
            "----\n",
            "Matches For ad:  841530\n",
            "Value:  1\n",
            "Kompetence Lookup:Du er ansvarsfuld, selvstændig og har mod på at udvikle digVære initiativrig og opsøgende\n",
            "Din profil Du er ansvarsfuld, selvstændig og har mod på at udvikle dig. - 0.6683319\n",
            "----\n",
            "Matches For ad:  1150213\n",
            "Value:  0\n",
            "Kompetence Lookup:er ansvarlig, struktureret og målorienteret samt serviceminded, positiv og imødekommende\n",
            "Så er du måske vores nye kollega i Kompetencer og Læring. - 0.35730273\n",
            "----\n",
            "Matches For ad:  272457\n",
            "Value:  1\n",
            "Kompetence Lookup:Ivrig efter af lære Som person forestiller vi os, at du er engageret, kreativ og nysgerrig\n",
            "Kan du genkende dig selv i nedenstående beskrivelser, er du et godt match til stillingen Ivrig efter af læreSom person forestiller vi os, at du er engageret, kreativ og nysgerrig. - 0.5920751\n",
            "----\n",
            "Matches For ad:  215491\n",
            "WRONG\n",
            "Value:  0\n",
            "Kompetence Lookup:Har gode kommunikationsevner\n",
            "Har du et projektledergen? - 0.6303199\n",
            "----\n",
            "Matches For ad:  1682118\n",
            "Value:  0\n",
            "Kompetence Lookup:Du er detaljeorienteret til mindste detalje og stortrives med en bred kontaktflade\n",
            "Primære opgaver:  Produktion og opsætning af content i form af landing pages til vores Proshop sites (.dk, .se, .no, .fi, .de, .at, .pl) Innovation og udvikling af landing pages, fx interne kampagnesider, branduniverser og kategorisider Udvikling af skabeloner og templates til forskellige typer af landing pages  Den tekniske del  Du har solid viden om opsætning af normal CSS Du har god forståelse for Bootstrap 3-5 Du har kendskab til VS-Code Du kan udvikle HTML responsivt Du behersker Adobe Creative Cloud (primært Photoshop og Illustrator) Har du kendskab til Java Script betragtes det som et plus, men det er ikke et krav En grundlæggende forståelse for SEO er også et ekstra plus  Din profil  Du er struktureret og arbejder selvstændigt Du kan arbejde hurtigt i situationer med korte deadlines uden at gå på kompromis med kvaliteten Du er kreativ og kan se dig selv arbejde tæt sammen med kollegaer i udviklingen af landing pages Du er frisk, nede på jorden og klar på en god snak med dine kollegaer Du trives i en virksomhed, hvor tonen er afslappet og tempoet kan være højt Du har en relevant uddannelse fx multimediedesigner, webintegrator eller lignende   Stillingen er fuld tid (37 timer)   Opstart: hurtigst muligt   Arbejdssted:  Proshops hovedkontor på Slet Møllevej 17, 8270 Højbjerg. - 0.46160895\n",
            "----\n",
            "Matches For ad:  838613\n",
            "Value:  0\n",
            "Kompetence Lookup:Vi søger en person, der er detaljeorienteret og analytisk stærk\n",
            "Morning person or night owl, this job is for you. - 0.398586\n",
            "----\n",
            "Matches For ad:  1339731\n",
            "Value:  1\n",
            "Kompetence Lookup:Du trives med rutineprægede opgaver, og bidrager med masser af godt humør\n",
            "Du trives med rutineprægede opgaver, og bidrager med masser af godt humør. - 0.9998528\n",
            "----\n",
            "Matches For ad:  1411062\n",
            "Value:  0\n",
            "Kompetence Lookup:Du trives med rutineprægede opgaver, og bidrager med masser af godt humør\n",
            "November 2020 Kan også søges af ikke-dansktalende             Ansøgningsfrist: Hurtigst muligt     Ansættelse: Hurtigst muligt      We are looking for a student worker and (potential an intern later on) for video editing and SoMe works. - 0.31804556\n",
            "----\n",
            "Matches For ad:  1538230\n",
            "Value:  0\n",
            "Kompetence Lookup:er engageret, har god energi og er en god kollega\n",
            "Det er en god idé, at du opretter et CV, så virksomheden let og med det samme får en god forståelse af dig og din profil. - 0.4408298\n"
          ]
        }
      ]
    },
    {
      "cell_type": "code",
      "source": [
        "import matplotlib.pyplot as plt\n",
        "from sklearn.datasets import make_classification\n",
        "from sklearn.metrics import confusion_matrix, ConfusionMatrixDisplay"
      ],
      "metadata": {
        "id": "BWkAmk6OuwoQ"
      },
      "execution_count": null,
      "outputs": []
    },
    {
      "cell_type": "code",
      "source": [
        "# Result for JobTrendAdsTFIDF - The original, unchanged jobad texts.\n",
        "# For threshold = 0.5 for the Similiarity search."
      ],
      "metadata": {
        "id": "F78oUjXdN7uq"
      },
      "execution_count": null,
      "outputs": []
    },
    {
      "cell_type": "code",
      "source": [
        "cm = confusion_matrix(y_real, y_predicted)\n",
        "disp = ConfusionMatrixDisplay(confusion_matrix=cm)\n",
        "disp.plot()\n",
        "plt.show()"
      ],
      "metadata": {
        "colab": {
          "base_uri": "https://localhost:8080/",
          "height": 283
        },
        "id": "8q5bul1YBibM",
        "outputId": "4af0da30-df76-466f-b391-91a16bab051c"
      },
      "execution_count": null,
      "outputs": [
        {
          "output_type": "display_data",
          "data": {
            "text/plain": [
              "<Figure size 432x288 with 2 Axes>"
            ],
            "image/png": "[encoded data removed]"
          },
          "metadata": {
            "needs_background": "light"
          }
        }
      ]
    },
    {
      "cell_type": "code",
      "source": [
        "# Now if we change the job adtext in 4 ad texts,\n",
        "# The results also change.\n",
        "\n",
        "# Changes:\n",
        "'''Har du flair for at arbejde med content og sociale medier\n",
        "changed to:\n",
        "Du er god til at forstå indholdets betydning på sociale medier?\n",
        "\n",
        "Du tager ansvar for dine projekter og følger altid dine opgaver til dørs\n",
        "changed to:\n",
        "Du udviser stor ansvarlighed i projektarbejdet og gør altid arbejdet færdigt\n",
        "\n",
        "Du er ansvarsfuld, selvstændig og har mod på at udvikle dig\n",
        "changed to:\n",
        "Du er pligtopfylden, kan arbejde alene og ønsker at gro som person.\n",
        "\n",
        "Du trives med rutineprægede opgaver, og bidrager med masser af godt humør\n",
        "changed to:\n",
        "Du synes om at arbejdet består af gentagelser og rutiner, og du er altid i godt humør\n",
        "'''"
      ],
      "metadata": {
        "colab": {
          "base_uri": "https://localhost:8080/",
          "height": 87
        },
        "id": "nm62IKKRQzi-",
        "outputId": "19a9b0f8-a952-4f6a-b4d5-ef873b17fa8b"
      },
      "execution_count": null,
      "outputs": [
        {
          "output_type": "execute_result",
          "data": {
            "text/plain": [
              "'Du er god til at forstå indholdets betydning på sociale medier?\\nchanged to:\\nHar du flair for at arbejde med content og sociale medier\\n\\nDu tager ansvar for dine projekter og følger altid dine opgaver til dørs\\nchanged to:\\nDu udviser stor ansvarlighed i projektarbejdet og gør altid arbejdet færdigt\\n\\nDu er ansvarsfuld, selvstændig og har mod på at udvikle dig\\nchanged to:\\nDu er pligtopfylden, kan arbejde alene og ønsker at gro som person.\\n\\nDu synes om at arbejdet består af gentagelser og rutiner, og du er altid i godt humør\\nchanged to:\\nDu trives med rutineprægede opgaver, og bidrager med masser af godt humør'"
            ],
            "application/vnd.google.colaboratory.intrinsic+json": {
              "type": "string"
            }
          },
          "metadata": {},
          "execution_count": 192
        }
      ]
    },
    {
      "cell_type": "code",
      "source": [
        "cm = confusion_matrix(y_real, y_predicted)\n",
        "disp = ConfusionMatrixDisplay(confusion_matrix=cm)\n",
        "disp.plot()\n",
        "plt.show()"
      ],
      "metadata": {
        "colab": {
          "base_uri": "https://localhost:8080/",
          "height": 283
        },
        "id": "Afv6EyfwhXQq",
        "outputId": "3bf84b22-1e48-478f-cbbd-af9cedaace0a"
      },
      "execution_count": null,
      "outputs": [
        {
          "output_type": "display_data",
          "data": {
            "text/plain": [
              "<Figure size 432x288 with 2 Axes>"
            ],
            "image/png": "[encoded data removed]"
          },
          "metadata": {
            "needs_background": "light"
          }
        }
      ]
    },
    {
      "cell_type": "code",
      "source": [
        "# ANALYSIS- WHAT HAPPENED.\n",
        "\n",
        "# What happened:\n",
        "# Change 4 ad texts.\n",
        "\n",
        "# In 2 cases we get a new classification error:\n",
        "\n",
        "'''Matches For ad:  1720508\n",
        "WRONG\n",
        "Value:  1\n",
        "Kompetence Lookup:Du er god til at tænke ud af boksen, er ambitiøst og kreativt tænkende\n",
        "Hvem er du…  Det er vigtigt, at du er kreativt stærk, kan tænke konceptuelt og er god til at opdage og udnytte nye, digitale platforme og værktøjer – og at du er en stærk holdspiller fra start til mål. - 0.46231025\n",
        "\n",
        "THIS IS A NEW ERROR.\n",
        "\n",
        "Matches For ad:  841530\n",
        "WRONG\n",
        "Value:  1\n",
        "Kompetence Lookup:Er god til at tale med mennesker og sætte sig ind i deres behov\n",
        "Gennem deres praktik udviklede de deres kompetencer og beviste deres dedikation - og gjorde sig selv uundværlige for teamet. - 0.40361828\n",
        "\n",
        "THIS IS A NEW ERROR. '''\n",
        "\n",
        "# In 1 case we get a classification error. \n",
        "# But for another reason.\n",
        "\n",
        "'''Matches For ad:  1805634\n",
        "WRONG\n",
        "Value:  1\n",
        "Kompetence Lookup:Du er god til at tænke ud af boksen, er ambitiøst og kreativt tænkende\n",
        "Klik på knappen nedenfor og sæt dit CV online. - 0.45735312\n",
        "\n",
        "THIS IS STILL AN ERROR'''\n",
        "\n",
        "# In 1 case in again gets classified correctly,\n",
        "# but because of another sentence in the AD.\n",
        "\n",
        "'''Matches For ad:  1339731\n",
        "Value:  1\n",
        "Kompetence Lookup:Har gode kommunikationsevner\n",
        "                                                                                                                                                                                                                                                Vil du også følge virksomheden? - 0.6444874\n",
        "Still gets classified correctly.\n",
        "But because of another sentence in the add'''\n",
        "\n",
        "# Conclusion.\n",
        "# FOR countvectorizer and TFIDF based similarity search in ad text, a change \n",
        "# in the ad text will create new search results.\n",
        "# Here we changed 4 ad texts. Which resulted in changes in the search\n",
        "# results for all of these ads. Which introduced 2 new errors, and\n",
        "# changed the reason for the results in the tow other cases, even though \n",
        "# the result stayed the same. \n"
      ],
      "metadata": {
        "colab": {
          "base_uri": "https://localhost:8080/",
          "height": 52
        },
        "id": "lheuxO2EVhEq",
        "outputId": "ca2b6983-f696-4afc-fad8-a56c39a7add2"
      },
      "execution_count": null,
      "outputs": [
        {
          "output_type": "execute_result",
          "data": {
            "text/plain": [
              "'Matches For ad:  1339731\\nValue:  1\\nKompetence Lookup:Har gode kommunikationsevner\\n                                                                                                                                                                                                                                                Vil du også følge virksomheden? - 0.6444874\\nStill gets classified correctly.\\nBut because of another sentence in the add'"
            ],
            "application/vnd.google.colaboratory.intrinsic+json": {
              "type": "string"
            }
          },
          "metadata": {},
          "execution_count": 235
        }
      ]
    }
  ]
}