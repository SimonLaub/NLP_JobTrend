{
  "nbformat": 4,
  "nbformat_minor": 0,
  "metadata": {
    "colab": {
      "provenance": []
    },
    "kernelspec": {
      "name": "python3",
      "display_name": "Python 3"
    },
    "language_info": {
      "name": "python"
    }
  },
  "cells": [
    {
      "cell_type": "code",
      "execution_count": 46,
      "metadata": {
        "id": "F5HSiEcYLQ0F"
      },
      "outputs": [],
      "source": [
        "# Basic text analytics.\n",
        "# Sila 18 November 2022\n",
        "#\n",
        "# From \"Blueprints for Text Analytics by Albrecht, Ramachandran & Winkler\"\n",
        "# and\n",
        "# Using Gensim for Text similiarity scores"
      ]
    },
    {
      "cell_type": "code",
      "source": [
        "import re"
      ],
      "metadata": {
        "id": "s7-BGyBfMAWN"
      },
      "execution_count": 7,
      "outputs": []
    },
    {
      "cell_type": "code",
      "source": [
        "text = \"\"\"\n",
        "2019-08-10 23:32: @pete/@louis - I don't have a well-designed \n",
        "solution for today's problem. The code of module AC68 should be -1. \n",
        "Have to think a bit... #goodnight ;-) 😩😬\"\"\""
      ],
      "metadata": {
        "id": "6uQYYnroMYDc"
      },
      "execution_count": 8,
      "outputs": []
    },
    {
      "cell_type": "code",
      "source": [
        "tokens = re.findall(r'\\w\\w+', text)\n",
        "print(*tokens, sep='|')"
      ],
      "metadata": {
        "colab": {
          "base_uri": "https://localhost:8080/"
        },
        "id": "JIRadQBhMy7n",
        "outputId": "dfb75748-0bfd-48b3-a29f-5c3e260cf895"
      },
      "execution_count": 9,
      "outputs": [
        {
          "output_type": "stream",
          "name": "stdout",
          "text": [
            "2019|08|10|23|32|pete|louis|don|have|well|designed|solution|for|today|problem|The|code|of|module|AC68|should|be|Have|to|think|bit|goodnight\n"
          ]
        }
      ]
    },
    {
      "cell_type": "code",
      "source": [
        "RE_TOKEN = re.compile(r\"\"\"\n",
        "               ( [#]?[@\\w'’\\.\\-\\:]*\\w     # words, hash tags and email adresses\n",
        "               | [:;<]\\-?[\\)\\(3]          # coarse pattern for basic text emojis\n",
        "               | [\\U0001F100-\\U0001FFFF]  # coarse code range for unicode emojis\n",
        "               )\n",
        "               \"\"\", re.VERBOSE)\n",
        "\n",
        "def tokenize(text):\n",
        "    return RE_TOKEN.findall(text)\n",
        "\n",
        "tokens = tokenize(text)\n",
        "print(*tokens, sep='|')"
      ],
      "metadata": {
        "colab": {
          "base_uri": "https://localhost:8080/"
        },
        "id": "P7GN114UM4Cs",
        "outputId": "2bd6df23-4a5e-499e-83f2-cf7df7325372"
      },
      "execution_count": 10,
      "outputs": [
        {
          "output_type": "stream",
          "name": "stdout",
          "text": [
            "2019-08-10|23:32|@pete|@louis|I|don't|have|a|well-designed|solution|for|today's|problem|The|code|of|module|AC68|should|be|-1|Have|to|think|a|bit|#goodnight|;-)|😩|😬\n"
          ]
        }
      ]
    },
    {
      "cell_type": "code",
      "source": [
        "import nltk\n",
        "\n",
        "nltk.download('punkt') ###\n",
        "tokens = nltk.tokenize.word_tokenize(text)\n",
        "print(*tokens, sep='|')"
      ],
      "metadata": {
        "colab": {
          "base_uri": "https://localhost:8080/"
        },
        "id": "zjHoFyTZNBu6",
        "outputId": "080facb7-b7a7-49e0-9736-a1711e3e1385"
      },
      "execution_count": 11,
      "outputs": [
        {
          "output_type": "stream",
          "name": "stderr",
          "text": [
            "[nltk_data] Downloading package punkt to /root/nltk_data...\n",
            "[nltk_data]   Unzipping tokenizers/punkt.zip.\n"
          ]
        },
        {
          "output_type": "stream",
          "name": "stdout",
          "text": [
            "2019-08-10|23:32|:|@|pete/|@|louis|-|I|do|n't|have|a|well-designed|solution|for|today|'s|problem|.|The|code|of|module|AC68|should|be|-1|.|Have|to|think|a|bit|...|#|goodnight|;|-|)|😩😬\n"
          ]
        }
      ]
    },
    {
      "cell_type": "code",
      "source": [
        "# With SpaCy"
      ],
      "metadata": {
        "id": "Gn_nF42hNKRA"
      },
      "execution_count": 12,
      "outputs": []
    },
    {
      "cell_type": "code",
      "source": [
        "import spacy\n",
        "nlp = spacy.load('en_core_web_sm')"
      ],
      "metadata": {
        "id": "mEoLtAp_NYk-"
      },
      "execution_count": 13,
      "outputs": []
    },
    {
      "cell_type": "code",
      "source": [
        "text = \"My best friend Ryan Peters likes fancy adventure games.\"\n",
        "doc = nlp(text)"
      ],
      "metadata": {
        "id": "_HotGqJHNcjw"
      },
      "execution_count": 14,
      "outputs": []
    },
    {
      "cell_type": "code",
      "source": [
        "for token in doc:\n",
        "    print(token, end=\"|\")"
      ],
      "metadata": {
        "colab": {
          "base_uri": "https://localhost:8080/"
        },
        "id": "liFtqO0ZNr0f",
        "outputId": "09509b8a-8c28-4c28-eb99-37976f17696b"
      },
      "execution_count": 15,
      "outputs": [
        {
          "output_type": "stream",
          "name": "stdout",
          "text": [
            "My|best|friend|Ryan|Peters|likes|fancy|adventure|games|.|"
          ]
        }
      ]
    },
    {
      "cell_type": "code",
      "source": [
        "# Stop words"
      ],
      "metadata": {
        "id": "H5pKkQ5hN0Ab"
      },
      "execution_count": 16,
      "outputs": []
    },
    {
      "cell_type": "code",
      "source": [
        "text = \"Dear Ryan, we need to sit down and talk. Regards, Pete\"\n",
        "doc = nlp(text)\n",
        "\n",
        "non_stop = [t for t in doc if not t.is_stop and not t.is_punct]\n",
        "print(non_stop)"
      ],
      "metadata": {
        "colab": {
          "base_uri": "https://localhost:8080/"
        },
        "id": "ZAx3dtomN2HV",
        "outputId": "8587ed8c-4107-49ba-e46a-48accbc64151"
      },
      "execution_count": 17,
      "outputs": [
        {
          "output_type": "stream",
          "name": "stdout",
          "text": [
            "[Dear, Ryan, need, sit, talk, Regards, Pete]\n"
          ]
        }
      ]
    },
    {
      "cell_type": "code",
      "source": [
        "# Lemmas"
      ],
      "metadata": {
        "id": "a6mdywneOGco"
      },
      "execution_count": 18,
      "outputs": []
    },
    {
      "cell_type": "code",
      "source": [
        "print(*[t.lemma_ for t in doc], sep='|')"
      ],
      "metadata": {
        "colab": {
          "base_uri": "https://localhost:8080/"
        },
        "id": "n5sW_C37OJEZ",
        "outputId": "23a13d83-8011-4608-cc80-f5527d8f2102"
      },
      "execution_count": 19,
      "outputs": [
        {
          "output_type": "stream",
          "name": "stdout",
          "text": [
            "Dear|Ryan|,|we|need|to|sit|down|and|talk|.|regard|,|Pete\n"
          ]
        }
      ]
    },
    {
      "cell_type": "code",
      "source": [
        "# Extracting Named Entities"
      ],
      "metadata": {
        "id": "rx5D-_XcOM0h"
      },
      "execution_count": 20,
      "outputs": []
    },
    {
      "cell_type": "code",
      "source": [
        "text = \"James O'Neill, chairman of World Cargo Inc, lives in San Francisco.\"\n",
        "doc = nlp(text)\n",
        "\n",
        "for ent in doc.ents:\n",
        "    print(f\"({ent.text}, {ent.label_})\", end=\" \")"
      ],
      "metadata": {
        "colab": {
          "base_uri": "https://localhost:8080/"
        },
        "id": "AN_TA3kiOfFc",
        "outputId": "0c44fb2e-07b5-4133-c5b9-9bb43312d1ac"
      },
      "execution_count": 21,
      "outputs": [
        {
          "output_type": "stream",
          "name": "stdout",
          "text": [
            "(James O'Neill, PERSON) (World Cargo Inc, ORG) (San Francisco, GPE) "
          ]
        }
      ]
    },
    {
      "cell_type": "code",
      "source": [
        "# Using Gensim to make Predictions.\n",
        "#\n",
        "# Text similiarity scores"
      ],
      "metadata": {
        "id": "hUiVwI8iPP_C"
      },
      "execution_count": 47,
      "outputs": []
    },
    {
      "cell_type": "code",
      "source": [
        "from gensim import corpora, models, similarities\n",
        "import jieba"
      ],
      "metadata": {
        "id": "EqxCLGjObAD2"
      },
      "execution_count": 81,
      "outputs": []
    },
    {
      "cell_type": "code",
      "source": [
        "texts = ['I love reading Japanese novels. My favorite Japanese writer is Tanizaki Junichiro.',\n",
        "         'Natsume Soseki is a well-known Japanese novelist and his Kokoro is a masterpiece.',\n",
        "         'American modern poetry is good. ']"
      ],
      "metadata": {
        "id": "-kJdpQ1WbMbu"
      },
      "execution_count": 82,
      "outputs": []
    },
    {
      "cell_type": "code",
      "source": [
        "keyword = 'Japan has some great novelists. Who is your favorite Japanese writer?'"
      ],
      "metadata": {
        "id": "rJ9PnsJ6bcWG"
      },
      "execution_count": 83,
      "outputs": []
    },
    {
      "cell_type": "code",
      "source": [
        "# jieba is a text segmentation Python module for cutting the words \n",
        "# into segmentations for easier analysis of text similarity in the future.)"
      ],
      "metadata": {
        "id": "PlfmvRCNeyVU"
      },
      "execution_count": 84,
      "outputs": []
    },
    {
      "cell_type": "code",
      "source": [
        "texts = [jieba.lcut(text) for text in texts]\n",
        "dictionary = corpora.Dictionary(texts)\n",
        "feature_cnt = len(dictionary.token2id)"
      ],
      "metadata": {
        "id": "p1RmKn5ibeAc"
      },
      "execution_count": 85,
      "outputs": []
    },
    {
      "cell_type": "code",
      "source": [
        "corpus = [dictionary.doc2bow(text) for text in texts]"
      ],
      "metadata": {
        "id": "PD1LMTcibyxD"
      },
      "execution_count": 86,
      "outputs": []
    },
    {
      "cell_type": "code",
      "source": [
        "tfidf = models.TfidfModel(corpus) "
      ],
      "metadata": {
        "id": "Dl7Sjhshb4bL"
      },
      "execution_count": 87,
      "outputs": []
    },
    {
      "cell_type": "code",
      "source": [
        "kw_vector = dictionary.doc2bow(jieba.lcut(keyword))"
      ],
      "metadata": {
        "id": "KJNUqAhhb-85"
      },
      "execution_count": 88,
      "outputs": []
    },
    {
      "cell_type": "code",
      "source": [
        "index = similarities.SparseMatrixSimilarity(tfidf[corpus], num_features = feature_cnt)"
      ],
      "metadata": {
        "id": "BdgHbleJcDZG"
      },
      "execution_count": 89,
      "outputs": []
    },
    {
      "cell_type": "code",
      "source": [
        "sim = index[tfidf[kw_vector]]"
      ],
      "metadata": {
        "id": "xQfSSI44cHlE"
      },
      "execution_count": 90,
      "outputs": []
    },
    {
      "cell_type": "code",
      "source": [
        "for i in range(len(sim)):\n",
        "    print('keyword is similar to text%d: %.2f' % (i + 1, sim[i]))"
      ],
      "metadata": {
        "colab": {
          "base_uri": "https://localhost:8080/"
        },
        "id": "HSVtzkCQcMCQ",
        "outputId": "bd8f5cce-753e-43cc-a86b-623f420ffa59"
      },
      "execution_count": 91,
      "outputs": [
        {
          "output_type": "stream",
          "name": "stdout",
          "text": [
            "keyword is similar to text1: 0.50\n",
            "keyword is similar to text2: 0.02\n",
            "keyword is similar to text3: 0.00\n"
          ]
        }
      ]
    },
    {
      "cell_type": "code",
      "source": [
        "texts = ['Du er uddannet i kommunikation', \n",
        "'Du har mindst 3 års erfaring med e-mailmarketing fra et reklamebureau eller en større virksomhed', \n",
        "'Du er vant til at analysere resultaterne af din egen markedsføringsindsats']"
      ],
      "metadata": {
        "id": "_6l47SW_gWT-"
      },
      "execution_count": 148,
      "outputs": []
    },
    {
      "cell_type": "code",
      "source": [
        "keyword = 'Analyse af markedsførings resultater er lige dig'"
      ],
      "metadata": {
        "id": "vW_a8Zzrg1Ah"
      },
      "execution_count": 149,
      "outputs": []
    },
    {
      "cell_type": "code",
      "source": [
        "texts = [jieba.lcut(text) for text in texts]\n",
        "dictionary = corpora.Dictionary(texts)\n",
        "feature_cnt = len(dictionary.token2id)"
      ],
      "metadata": {
        "id": "kBU7NARmhE6z"
      },
      "execution_count": 150,
      "outputs": []
    },
    {
      "cell_type": "code",
      "source": [
        "corpus = [dictionary.doc2bow(text) for text in texts]"
      ],
      "metadata": {
        "id": "JTobL29rhIZr"
      },
      "execution_count": 151,
      "outputs": []
    },
    {
      "cell_type": "code",
      "source": [
        "tfidf = models.TfidfModel(corpus) "
      ],
      "metadata": {
        "id": "wAfRNOhehNQz"
      },
      "execution_count": 152,
      "outputs": []
    },
    {
      "cell_type": "code",
      "source": [
        "kw_vector = dictionary.doc2bow(jieba.lcut(keyword))"
      ],
      "metadata": {
        "id": "bGWUYLkHhROe"
      },
      "execution_count": 153,
      "outputs": []
    },
    {
      "cell_type": "code",
      "source": [
        "index = similarities.SparseMatrixSimilarity(tfidf[corpus], num_features = feature_cnt)"
      ],
      "metadata": {
        "id": "NL67in9UhW2I"
      },
      "execution_count": 154,
      "outputs": []
    },
    {
      "cell_type": "code",
      "source": [
        "sim = index[tfidf[kw_vector]]"
      ],
      "metadata": {
        "id": "l9kgoU0_haYZ"
      },
      "execution_count": 155,
      "outputs": []
    },
    {
      "cell_type": "code",
      "source": [
        "for i in range(len(sim)):\n",
        "    print('keyword is similar to text%d: %.2f' % (i + 1, sim[i]))"
      ],
      "metadata": {
        "colab": {
          "base_uri": "https://localhost:8080/"
        },
        "id": "BGQ1bU7Vhd6O",
        "outputId": "67433afa-eba7-4dcc-e9c6-5f03bae3fec3"
      },
      "execution_count": 156,
      "outputs": [
        {
          "output_type": "stream",
          "name": "stdout",
          "text": [
            "keyword is similar to text1: 0.05\n",
            "keyword is similar to text2: 0.02\n",
            "keyword is similar to text3: 0.47\n"
          ]
        }
      ]
    },
    {
      "cell_type": "code",
      "source": [
        "texts = ['Du er god til konstruktion af modeller', \n",
        "'Er vant til at arbejde selvstændigt og med passion', \n",
        "'Du beskriver dig selv som en der er vant til at knokle og give alt for teamet']"
      ],
      "metadata": {
        "id": "wK2ianYujAiO"
      },
      "execution_count": 166,
      "outputs": []
    },
    {
      "cell_type": "code",
      "source": [
        "keyword = 'du er dygtig til at bygge modeller'"
      ],
      "metadata": {
        "id": "j4bDcrXkjYmg"
      },
      "execution_count": 167,
      "outputs": []
    },
    {
      "cell_type": "code",
      "source": [
        "texts = [jieba.lcut(text) for text in texts]\n",
        "dictionary = corpora.Dictionary(texts)\n",
        "feature_cnt = len(dictionary.token2id)"
      ],
      "metadata": {
        "id": "b9WiFeCyjiGU"
      },
      "execution_count": 168,
      "outputs": []
    },
    {
      "cell_type": "code",
      "source": [
        "corpus = [dictionary.doc2bow(text) for text in texts]"
      ],
      "metadata": {
        "id": "gfvEKSzkjlU5"
      },
      "execution_count": 169,
      "outputs": []
    },
    {
      "cell_type": "code",
      "source": [
        "tfidf = models.TfidfModel(corpus) "
      ],
      "metadata": {
        "id": "pXPrWXV8jn8L"
      },
      "execution_count": 170,
      "outputs": []
    },
    {
      "cell_type": "code",
      "source": [
        "kw_vector = dictionary.doc2bow(jieba.lcut(keyword))"
      ],
      "metadata": {
        "id": "LLNOtKM5jpy6"
      },
      "execution_count": 171,
      "outputs": []
    },
    {
      "cell_type": "code",
      "source": [
        "index = similarities.SparseMatrixSimilarity(tfidf[corpus], num_features = feature_cnt)"
      ],
      "metadata": {
        "id": "cof8DC50ju37"
      },
      "execution_count": 172,
      "outputs": []
    },
    {
      "cell_type": "code",
      "source": [
        "sim = index[tfidf[kw_vector]]"
      ],
      "metadata": {
        "id": "MAeWtaJQjx_Z"
      },
      "execution_count": 173,
      "outputs": []
    },
    {
      "cell_type": "code",
      "source": [
        "for i in range(len(sim)):\n",
        "    print('keyword is similar to text%d: %.2f' % (i + 1, sim[i]))"
      ],
      "metadata": {
        "colab": {
          "base_uri": "https://localhost:8080/"
        },
        "id": "gVrhvNJ3j1YE",
        "outputId": "80a6d607-b273-4a7d-8086-5fa6927907ff"
      },
      "execution_count": 174,
      "outputs": [
        {
          "output_type": "stream",
          "name": "stdout",
          "text": [
            "keyword is similar to text1: 0.49\n",
            "keyword is similar to text2: 0.04\n",
            "keyword is similar to text3: 0.07\n"
          ]
        }
      ]
    }
  ]
}